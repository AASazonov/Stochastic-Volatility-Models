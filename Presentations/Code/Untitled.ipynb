{
 "cells": [
  {
   "cell_type": "code",
   "execution_count": 2,
   "metadata": {},
   "outputs": [],
   "source": [
    "import numpy as np\n",
    "import pandas as pd\n",
    "import matplotlib.pyplot as plt\n",
    "import scipy.stats as sps\n",
    "import math\n",
    "\n",
    "from ipywidgets import interact\n",
    "\n",
    "from ipywidgets import widgets\n",
    "from tqdm.auto import tqdm\n",
    "\n",
    "from dataclasses import dataclass\n",
    "from typing import Union, Callable, Optional\n",
    "from copy import deepcopy\n",
    "from scipy.optimize import root_scalar, brentq\n",
    "from dataclasses import dataclass\n",
    "from scipy.special import iv\n",
    "from scipy.stats import bernoulli\n",
    "from scipy.interpolate import RectBivariateSpline\n",
    "\n",
    "import warnings\n",
    "from  scipy.stats import norm\n",
    "warnings.filterwarnings(\"ignore\")"
   ]
  },
  {
   "cell_type": "markdown",
   "metadata": {},
   "source": [
    "# Heston model"
   ]
  },
  {
   "cell_type": "markdown",
   "metadata": {},
   "source": [
    "Heston model can be written in following way:\n",
    "\n",
    "$$dS_t/S_t  = rdt + \\sqrt{V_t} dW_1$$\n",
    "\n",
    "$$dV_t = \\kappa (\\bar V-V_t)dt + \\gamma \\sqrt V_t dW_2$$\n",
    "\n",
    "$$dW_1 dW_2 = \\rho dt$$"
   ]
  },
  {
   "cell_type": "markdown",
   "metadata": {},
   "source": [
    "## Euler scheme"
   ]
  },
  {
   "cell_type": "markdown",
   "metadata": {},
   "source": [
    "It can be simulated in discrete time using Euler scheme by selecting a time step $∆t$ starting at $S_0, V_0$:\n",
    "\n",
    "$$\\log s_{i} = \\log s_{i-1} + (r - v_{i-1}^+/2)\\Delta t+ \\sqrt{v_{i-1}^+ \\Delta t}(  ρε^1_{i} + \\sqrt{1- ρ^2} ε^2_{i})],$$\n",
    "\n",
    "$$v_{i} =  v_{i-1} + \\kappa (\\bar V-v_{i-1}^+)\\Delta t + \\gamma \\sqrt{ v_{i-1}^+ \\Delta t}ε^1_{i}$$\n",
    "\n",
    "(section 2.3 eq. 6-7 Andersen (2006) )"
   ]
  },
  {
   "cell_type": "code",
   "execution_count": 20,
   "metadata": {},
   "outputs": [],
   "source": [
    "@dataclass\n",
    "class StockOption:\n",
    "    strike_price: Union[float, np.ndarray]\n",
    "    expiration_time: Union[float, np.ndarray]  # in years\n",
    "    is_call: bool\n",
    "\n",
    "@dataclass\n",
    "class CallStockOption(StockOption):\n",
    "    def __init__(self, strike_price, expiration_time):\n",
    "        super().__init__(strike_price, expiration_time, True)\n",
    "        \n",
    "\n",
    "@dataclass\n",
    "class PutStockOption(StockOption):\n",
    "    def __init__(self, strike_price, expiration_time):\n",
    "        super().__init__(strike_price, expiration_time, False)\n",
    "\n",
    "@dataclass\n",
    "class HestonParameters:\n",
    "    kappa:  Union[float, np.ndarray]\n",
    "    gamma:  Union[float, np.ndarray]\n",
    "    rho:  Union[float, np.ndarray]\n",
    "    vbar:  Union[float, np.ndarray]\n",
    "    v0:  Union[float, np.ndarray]\n",
    "        \n",
    "@dataclass\n",
    "class MarketState:\n",
    "    stock_price: Union[float, np.ndarray]\n",
    "    interest_rate: Union[float, np.ndarray]"
   ]
  },
  {
   "cell_type": "code",
   "execution_count": 60,
   "metadata": {},
   "outputs": [],
   "source": [
    "\n",
    "\n",
    "\n",
    "def get_len_conf_interval(data:             np.ndarray, \n",
    "                          confidence_level: float = 0.05):\n",
    "    \"\"\"Get the confidence interval for a given confidence level.\n",
    "    Args:\n",
    "        data:             The data to compute the confidence interval for.\n",
    "        confidence_level: The confidence level to use.\n",
    "    \n",
    "    Returns:\n",
    "        The confidence interval.\n",
    "    \"\"\"\n",
    "\n",
    "    mean = np.mean(data)\n",
    "    l = sps.norm.ppf(confidence_level / 2) * np.sqrt(np.var(data) / len(data))\n",
    "    return [mean - l, mean + l]\n",
    "\n",
    "def get_number_of_simulations(data:             np.ndarray, \n",
    "                              confidence_level: float = 0.05, \n",
    "                              absol_error:      float = 1e-2):\n",
    "    \"\"\"Get the length of the confidence interval for a given confidence level.\n",
    "    Args:\n",
    "        data:             The undersampled data to compute the sample variance.\n",
    "        confidence_level: The confidence level to use.\n",
    "    \n",
    "    Returns:\n",
    "        The number of simulations.\n",
    "    \"\"\"\n",
    "    return int((2*sps.norm.ppf(confidence_level / 2))**2 * np.var(data) / absol_error)\n",
    "\n",
    "def get_number_of_batches(data:             np.ndarray, \n",
    "                          confidence_level: float = 0.05, \n",
    "                          absol_error:      float = 5e-3, \n",
    "                          batch_size:       int = 10000):\n",
    "    \"\"\"Get the number of batches needed to achieve a given absolute error using the MC simulations.\n",
    "    Args:\n",
    "        absol_error: The absolute error to achieve. Defaults to 0.005 (corresponds to 0.5 cents).\n",
    "        batch_size:  The batch size to use. Defaults to 10000.\n",
    "    \n",
    "    Returns:\n",
    "        The number of batches needed to achieve the given absolute error.\n",
    "    \"\"\"\n",
    "    return int(get_number_of_simulations(data, confidence_level, absol_error) / batch_size)+1\n",
    "\n",
    "def controlled_simulation(payoff,\n",
    "                          simulate,\n",
    "                          market_state:     MarketState,\n",
    "                          params:           HestonParameters,\n",
    "                          strike:           float,\n",
    "                          T:                float = 1.,\n",
    "                          dt:               float = 1e-2,\n",
    "                          absolute_error:   float = 0.01,\n",
    "                          confidence_level: float = 0.05,\n",
    "                          batch_size:       int   = 10_000,\n",
    "                          undersample_size: int   = 1000,\n",
    "                          time_batch_size: int = 10_000,\n",
    "                          **kwargs):\n",
    "    \"\"\"Simulate the Heston model using a controlled simulation.\n",
    "    Args:\n",
    "        market_state: The market state.\n",
    "        params:           The Heston parameters.\n",
    "        T:                The time horizon length, measured in years.\n",
    "        dt:               The time step, measured in years.\n",
    "        simulate:         The function to use to simulate the Heston model.\n",
    "        payoff:           The payoff function.\n",
    "        absolute_error:   The absolute error to achieve. Defaults to 0.01.\n",
    "        confidence_level: The confidence level to use. Defaults to 0.05.\n",
    "        batch_size:       The batch size to use. Defaults to 10000.\n",
    "        undersample_size: The size of the undersampled data for sample variance estimation. Defaults to 1000.\n",
    "    Returns:\n",
    "        The simulated data.\n",
    "    \"\"\"\n",
    "    arg1 = {'state': state , 'heston_params': params, 'time':T , 'dt': dt, 'time_batch_size': time_batch_size,\n",
    "                                'n_simulations': batch_size}\n",
    "    arg2 = {'state': state , 'heston_params': params, 'time':T , 'dt': dt, 'time_batch_size': time_batch_size,\n",
    "                                'n_simulations': undersample_size}\n",
    "    args = {**arg1, **kwargs}\n",
    "    args_under = {**arg2, **kwargs}\n",
    "    \n",
    "    \n",
    "    batches = get_number_of_batches(payoff(simulate(**args_under)['price'], T, market_state.interest_rate, strike),\n",
    "                                    confidence_level, absolute_error, batch_size)\n",
    "    \n",
    "    print(\"number of batches: {0} , batch size: {1}, number of simulations: {2}\".format(batches, batch_size,\n",
    "                                                                                        batches*batch_size))\n",
    "    \n",
    "    save = np.zeros(batch_size)\n",
    "    Opt_price = 0.\n",
    "#    data = np.ndarray([[]])\n",
    "    \n",
    "    \n",
    "#     if save_paths:\n",
    "#         for i in tqdm(range(batches)):\n",
    "#             data = np.concatenate((data, simulate(**args)['price']), axis=0)\n",
    "#             Opt_price = np.mean(payoff(data[:,-1], T, market_state.interest_rate, strike))\n",
    "#         return (Opt_price, data)\n",
    "#     else:\n",
    "    n_sim = batches*batch_size\n",
    "    \n",
    "    for i in tqdm(range(batches)):\n",
    "        save = simulate(**args)['price']\n",
    "        Opt_price = Opt_price + np.sum(payoff(save, T, market_state.interest_rate, strike))/float(n_sim) \n",
    "    return Opt_price\n",
    "\n",
    "\n",
    "\n",
    "def european_call(St: np.ndarray, \n",
    "                  time: float,\n",
    "                  interest_rate: float,\n",
    "                  strike: float):\n",
    "    \"\"\"Compute the payoff of a European call option.\n",
    "    Args:\n",
    "        paths:  The simulated paths.\n",
    "        strike: The strike price.\n",
    "    \n",
    "    Returns:\n",
    "        The payoff of the European call option.\n",
    "    \"\"\"\n",
    "    DF = np.exp(-interest_rate * time)\n",
    "    return np.maximum(St - strike, 0)*DF\n",
    "\n",
    "\n",
    "def european_call_with_r_intesity(paths: np.ndarray, \n",
    "                  time: np.ndarray,\n",
    "                  interest_rate_intensity: Union[float, np.ndarray],\n",
    "                  strike: float):\n",
    "    \"\"\"Compute the payoff of a European call option.\n",
    "    Args:\n",
    "        paths:  The simulated paths.\n",
    "        strike: The strike price.\n",
    "    \n",
    "    Returns:\n",
    "        The payoff of the European call option.\n",
    "    \"\"\"\n",
    "    DF = np.exp(-np.cumsum(interest_rate_intensity * np.diff(time)))\n",
    "    return np.maximum(paths[:, -1] - strike, 0)*DF[-1]\n",
    "\n",
    "def european_put_with_r_intesity(paths: np.ndarray, \n",
    "                 time: np.ndarray,\n",
    "                 interest_rate_intensity: Union[float, np.ndarray],\n",
    "                 strike: float):\n",
    "    \"\"\"Compute the payoff of a European put option.\n",
    "    Args:\n",
    "        paths:  The simulated paths.\n",
    "        strike: The strike price.\n",
    "    \n",
    "    Returns:\n",
    "        The payoff of the European put option.\n",
    "    \"\"\"\n",
    "    DF = np.exp(-np.cumsum(interest_rate_intensity * np.diff(time)))\n",
    "    return np.maximum(strike - paths[:, -1], 0)*DF[-1]\n",
    "\n",
    "def asian_call_with_r_intesity(paths: np.ndarray, \n",
    "               time: np.ndarray,\n",
    "               interest_rate_intensity: Union[float, np.ndarray],\n",
    "               strike: float):\n",
    "    \"\"\"Compute the payoff of an Asian call option.\n",
    "    Args:\n",
    "        paths:  The simulated paths.\n",
    "        strike: The strike price.\n",
    "    \n",
    "    Returns:\n",
    "        The payoff of the Asian call option.\n",
    "    \"\"\"\n",
    "    DF = np.exp(-np.cumsum(interest_rate_intensity * np.diff(time)))\n",
    "    return np.maximum(np.mean(paths*DF, axis=1) - strike, 0)\n",
    "\n",
    "def asian_put_with_r_intesity(paths: np.ndarray, \n",
    "              time: np.ndarray,\n",
    "              interest_rate_intensity: Union[float, np.ndarray],\n",
    "              strike: float):\n",
    "    \"\"\"Compute the payoff of an Asian put option.\n",
    "    Args:\n",
    "        paths:  The simulated paths.\n",
    "        strike: The strike price.\n",
    "    \n",
    "    Returns:\n",
    "        The payoff of the Asian put option.\n",
    "    \"\"\"\n",
    "    DF = np.exp(-np.cumsum(interest_rate_intensity * np.diff(time)))\n",
    "    return np.maximum(strike - np.mean(paths*DF, axis=1), 0)"
   ]
  },
  {
   "cell_type": "code",
   "execution_count": 45,
   "metadata": {},
   "outputs": [],
   "source": [
    "def simulate_heston_euler(state: MarketState,\n",
    "                                heston_params: HestonParameters,\n",
    "                                time: float = 1.,\n",
    "                                dt: float = 1e-2,\n",
    "                                time_batch_size: int = 10_000,\n",
    "                                n_simulations: int = 10_000) -> dict:\n",
    "    \n",
    "    if time<=0:\n",
    "        raise Error(\"time must be bigger then 0\")\n",
    "    \n",
    "    # initialize market and model parameters\n",
    "    r, s0 = state.interest_rate, state.stock_price\n",
    "    \n",
    "    v0, rho, kappa, vbar, gamma = heston_params.v0, heston_params.rho, heston_params.kappa, \\\n",
    "                                  heston_params.vbar, heston_params.gamma\n",
    "    \n",
    "    \n",
    "    vt = np.zeros(n_simulations)\n",
    "    vt[:] = v0\n",
    "    log_st = np.zeros(n_simulations)\n",
    "    log_st[:] = np.log(s0)\n",
    "    \n",
    "    N_T = int(time / dt)\n",
    "    num_of_time_batch = int(N_T/time_batch_size)\n",
    "    \n",
    "    for k in range(num_of_time_batch):\n",
    "        Z1 = np.random.normal(size=(n_simulations, time_batch_size))\n",
    "        Z2 = np.random.normal(size=(n_simulations, time_batch_size))\n",
    "        V = np.zeros([n_simulations, time_batch_size])\n",
    "        V[:, 0] = vt\n",
    "\n",
    "        logS = np.zeros([batch_size, time_batch_size])\n",
    "        logS[:, 0] = log_st\n",
    "\n",
    "        for i in range(0, time_batch_size-1):\n",
    "            vmax=np.maximum(V[:, i],0)\n",
    "            S1 = (r - 0.5 * vmax) * (dt)\n",
    "            S2 = np.sqrt(vmax*(dt)) * Z1[:, i]\n",
    "            logS[:, i+1] = logS[:, i] + S1 + S2\n",
    "            V1 = kappa*(vbar - vmax)*(dt)\n",
    "            V2 = gamma*np.sqrt(vmax*(dt))*(rho*Z1[:, i]+np.sqrt(1-rho**2)*Z2[:, i])\n",
    "            V[:, i+1] = V[:, i] + V1 + V2\n",
    "        vt = V[:, time_batch_size-1]\n",
    "        log_st = logS[:, time_batch_size-1]\n",
    "\n",
    "    if N_T > num_of_time_batch*time_batch_size:\n",
    "        add_batch_time = N_T - num_of_time_batch*time_batch_size\n",
    "\n",
    "        Z1 = np.random.normal(size=(n_simulations, add_batch_time))\n",
    "        Z2 = np.random.normal(size=(n_simulations, add_batch_time))\n",
    "        V = np.zeros([n_simulations, add_batch_time])\n",
    "        V[:, 0] = vt\n",
    "\n",
    "        logS = np.zeros([n_simulations, add_batch_time])\n",
    "        logS[:, 0] = log_st\n",
    "\n",
    "        for i in range(0, add_batch_time-1):\n",
    "            vmax=np.maximum(V[:, i],0)\n",
    "            S1 = (r - 0.5 * vmax) * (dt)\n",
    "            S2 = np.sqrt(vmax*(dt)) * Z1[:, i]\n",
    "            logS[:, i+1] = logS[:, i] + S1 + S2\n",
    "            V1 = kappa*(vbar - vmax)*(dt)\n",
    "            V2 = gamma*np.sqrt(vmax*(dt))*(rho*Z1[:, i]+np.sqrt(1-rho**2)*Z2[:, i])\n",
    "            V[:, i+1] = V[:, i] + V1 + V2\n",
    "        vt = V[:, add_batch_time-1]\n",
    "        log_st = logS[:, add_batch_time-1]        \n",
    "    \n",
    "    #put the calculated values into the dictionary\n",
    "    \n",
    "    return {\"price\": np.exp(log_st), \"volatility\": vt}"
   ]
  },
  {
   "cell_type": "markdown",
   "metadata": {},
   "source": [
    "## Broadie - Kaya scheme"
   ]
  },
  {
   "cell_type": "code",
   "execution_count": 25,
   "metadata": {},
   "outputs": [],
   "source": [
    "def cir_chi_sq_sample(heston_params: HestonParameters,\n",
    "                      dt: float,\n",
    "                      v_i: np.array,\n",
    "                      n_simulations: int):\n",
    "    \"\"\"Samples chi_sqqred statistics for v_{i+1} conditional on \n",
    "       v_i and parameters of Hestom model. \n",
    "        \n",
    "    Args:\n",
    "        heston_params (HestonParameters): parameters of Heston model\n",
    "        dt (float): time step \n",
    "        v_i: current volatility value\n",
    "        n_simulations (int): number of simulations.\n",
    "        \n",
    "    Returns:\n",
    "        np.array: sampled chi_squared statistics \n",
    "    \"\"\"\n",
    "    kappa, vbar, gamma = heston_params.kappa, heston_params.vbar, heston_params.gamma\n",
    "    \n",
    "    barkappa=v_i*(4*kappa*np.exp(-kappa*dt))/(gamma**2 * (1 - np.exp(-kappa*dt)))\n",
    "    d=(4*kappa*vbar)/(gamma**2)\n",
    "    c=((gamma**2)/(4*kappa))*(1-np.exp(-kappa*dt))\n",
    "    \n",
    "    return  c*np.random.noncentral_chisquare(size = n_simulations, df   = d, nonc = barkappa)\n",
    "\n",
    "\n",
    "def Phi(a: Union[float, np.ndarray], \n",
    "         V: Union[float, np.ndarray],\n",
    "         time: Union[float, np.ndarray],\n",
    "         heston_params: HestonParameters) -> np.ndarray:\n",
    "    \n",
    "    \n",
    "    v0, rho, kappa, vbar, gamma = heston_params.v0, heston_params.rho, heston_params.kappa, \\\n",
    "                                        heston_params.vbar, heston_params.gamma\n",
    "    dt = time[1::]-time[:-1:]\n",
    "    \n",
    "    A=np.array(a)\n",
    "    gamma_a = np.sqrt(kappa**2 - 2*gamma**2*1j*A).reshape(1,1,len(A)).T\n",
    "    \n",
    "    E1 = np.exp(-kappa*dt)\n",
    "    E2 = np.exp(-gamma_a * dt)\n",
    "        \n",
    "    P1 = ((1.0-E1)*gamma_a/(kappa*(1.0-E2)))*np.exp(-0.5*(gamma_a - kappa)*dt)\n",
    "    \n",
    "    P2_2 = kappa * (1.0 + E1)/(1.0 - E1) - gamma_a*(1.0+E2)/(1-E2)\n",
    "    P2 = np.exp( (V[:,1::]+V[:,:-1:])/(gamma_a**2) * P2_2 )\n",
    "    \n",
    "    P3_1 = np.sqrt(V[:,1::]*V[:,:-1:])*4*gamma_a * np.exp(-0.5*gamma_a*dt) /(gamma**2 * (1.0 - E2))\n",
    "    P3_2 = np.sqrt(V[:,1::]*V[:,:-1:])*4*kappa*np.exp(-0.5*kappa*dt)/(gamma**2 * (1 - E1))\n",
    "    d=(4*kappa*vbar)/(gamma**2)\n",
    "    P3 = iv(0.5*d - 1, P3_1)/iv(0.5*d - 1, P3_2)\n",
    "    \n",
    "    return P1*P2*P3\n",
    "\n",
    "def Pr(V: np.ndarray, time: np.ndarray,\n",
    "       X: Union[np.ndarray, float],\n",
    "       heston_params: HestonParameters,\n",
    "       h: float=1e-2, eps: float=1e-2) -> np.ndarray:\n",
    "    \n",
    "    x=np.array(X)\n",
    "    P=h*x/np.pi\n",
    "    S = 0.0\n",
    "    j = 1\n",
    "    while(True):\n",
    "        Sin=np.sin(h*j*x)/j\n",
    "        Phi_hj=Phi(h*j, V, time, heston_params)\n",
    "        S+=Sin.reshape(1,1,len(x)).T * Phi_hj[0]\n",
    "        if np.all(Phi_hj[0]<np.pi*eps*j/2.0):\n",
    "            break\n",
    "        j=j+1\n",
    "    \n",
    "    S=S*2.0/np.pi\n",
    "    return P+S\n",
    "\n",
    "def IV(V: np.ndarray, time: np.ndarray,\n",
    "       heston_params: HestonParameters,\n",
    "       h: float=1e-2, eps: float=1e-2) -> np.ndarray:\n",
    "    \n",
    "    U=np.random.uniform(size=(V.shape[0], V.shape[1] - 1))\n",
    "    \n",
    "    def f(x,i,j):\n",
    "        P=Pr(V, time, x, heston_params, h, eps)\n",
    "        return (P-U)[0][i,j]\n",
    "    \n",
    "    IVar = np.zeros((V.shape[0], V.shape[1] - 1))\n",
    "    \n",
    "    for i in range(IVar.shape[0]):\n",
    "        for j in range(IVar.shape[1]):     \n",
    "            IVar[i,j]=root_scalar(f, args=(i,j), x0=0.5, method='newton')\n",
    "    return IVar"
   ]
  },
  {
   "cell_type": "markdown",
   "metadata": {},
   "source": [
    "# Andersen scheme"
   ]
  },
  {
   "cell_type": "markdown",
   "metadata": {},
   "source": []
  },
  {
   "cell_type": "code",
   "execution_count": 26,
   "metadata": {},
   "outputs": [],
   "source": [
    "def simulate_heston_andersen(state: MarketState,\n",
    "                                    heston_params: HestonParameters,\n",
    "                                    time: float = 1.,\n",
    "                                    dt: float = 1e-2,\n",
    "                                    n_simulations: int = 10_000,\n",
    "                                    time_batch_size: int = 10_000,\n",
    "                                    Psi_c: float=1.5,\n",
    "                                    gamma_1: float=0.5) -> dict:\n",
    "    \n",
    "    \n",
    "    if Psi_c>2 or Psi_c<1:\n",
    "        raise Error('1<=Psi_c<=2 ')\n",
    "    if gamma_1 >1 or gamma_1<0:\n",
    "        raise Error('0<=gamma_1<=1')\n",
    "        \n",
    "    gamma_2 = 1.0 - gamma_1\n",
    "    \n",
    "    r, s0 = state.interest_rate, state.stock_price\n",
    "    v0, rho, kappa, vbar, gamma = heston_params.v0, heston_params.rho, heston_params.kappa, \\\n",
    "                                  heston_params.vbar, heston_params.gamma\n",
    "    \n",
    "    \n",
    "    E = np.exp(-kappa*dt)\n",
    "    \n",
    "    K_0 = -(rho*kappa*vbar/gamma)*dt\n",
    "    K_1 = gamma_1*dt*(rho*kappa/gamma - 0.5) - rho/gamma\n",
    "    K_2 = gamma_2*dt*(rho*kappa/gamma - 0.5) + rho/gamma\n",
    "    K_3 = gamma_1*dt*(1.0 - rho**2)\n",
    "    K_4 = gamma_2*dt*(1.0 - rho**2)\n",
    "    \n",
    "    N_T = int(time / dt)\n",
    "    num_of_time_batch = int(N_T/time_batch_size)\n",
    "    \n",
    "    \n",
    "    vt = np.zeros(n_simulations)\n",
    "    vt[:] = v0\n",
    "    log_st = np.zeros(n_simulations)\n",
    "    log_st[:] = np.log(s0)\n",
    "    \n",
    "    mean_St = 0.\n",
    "    mean_vt = 0.\n",
    "    \n",
    "        \n",
    "    vt[:] = v0\n",
    "    log_st[:] = np.log(s0)\n",
    "        \n",
    "    for k in range(num_of_time_batch):\n",
    "\n",
    "        V = np.zeros([n_simulations, time_batch_size])\n",
    "        V[:, 0] = vt\n",
    "\n",
    "        logS = np.zeros([n_simulations, time_batch_size])\n",
    "        logS[:, 0] = log_st\n",
    "\n",
    "        Z = np.random.normal(size=(n_simulations, time_batch_size))\n",
    "\n",
    "\n",
    "        for i in range(time_batch_size - 1):\n",
    "            m=vbar+(V[:, i] - vbar)*E\n",
    "            s_2 = (V[:, i]*(gamma**2)*E/kappa)*(1.0 - E) + (vbar*gamma**2)/(2.0*kappa)*((1-E)**2)\n",
    "\n",
    "            Psi = s_2/(m**2) # np.power\n",
    "\n",
    "            cond = np.where(Psi<=Psi_c)\n",
    "            c = 2/Psi[cond]\n",
    "            b = c - 1 + np.sqrt(c*(c - 1))\n",
    "            a = m[cond]/(1+b)\n",
    "            b=np.sqrt(b)\n",
    "            Z_V = np.random.normal(size=cond[0].shape[0])\n",
    "            V[cond, i+1] = a*((b+Z_V)**2)\n",
    "\n",
    "            cond = np.where(Psi>Psi_c)\n",
    "            p = (Psi[cond] - 1)/(Psi[cond] + 1)\n",
    "            beta = (1.0 - p)/m[cond]\n",
    "\n",
    "            ksi = np.random.binomial(1, 1.0-p, size=cond[0].shape[0])\n",
    "            eta = np.random.exponential(scale = 1/beta, size=cond[0].shape[0])\n",
    "            V[cond,i+1]=ksi*eta\n",
    "\n",
    "\n",
    "            logS[:,i+1] = logS[:,i] + r*dt+K_0 + K_1*V[:,i] + K_2*V[:,i+1] \\\n",
    "                            + np.sqrt(K_3*V[:,i]+K_4*V[:,i+1]) * Z[:,i]\n",
    "\n",
    "        vt = V[:, time_batch_size-1]\n",
    "        log_st = logS[:, time_batch_size-1]\n",
    "\n",
    "    if N_T > num_of_time_batch*time_batch_size:\n",
    "\n",
    "        add_batch_time = N_T - num_of_time_batch*time_batch_size\n",
    "\n",
    "        V = np.zeros([n_simulations, add_batch_time])\n",
    "        V[:, 0] = vt\n",
    "        logS = np.zeros([n_simulations, add_batch_time])\n",
    "        logS[:, 0] = log_st\n",
    "        \n",
    "        Z = np.random.normal(size=(n_simulations, add_batch_time))\n",
    "\n",
    "        for i in range(add_batch_time - 1):\n",
    "            m=vbar+(V[:, i] - vbar)*E\n",
    "            s_2 = (V[:, i]*(gamma**2)*E/kappa)*(1.0 - E) + (vbar*gamma**2)/(2.0*kappa)*((1-E)**2)\n",
    "\n",
    "            Psi = s_2/(m**2)\n",
    "\n",
    "            cond = np.where(Psi<=Psi_c)\n",
    "            c = 2/Psi[cond]\n",
    "            b = c - 1 + np.sqrt(c*(c - 1))\n",
    "            a = m[cond]/(1+b)\n",
    "            b=np.sqrt(b)\n",
    "            Z_V = np.random.normal(size=cond[0].shape[0])\n",
    "            V[cond, i+1] = a*((b+Z_V)**2)\n",
    "\n",
    "            cond = np.where(Psi>Psi_c)\n",
    "            p = (Psi[cond] - 1)/(Psi[cond] + 1)\n",
    "            beta = (1.0 - p)/m[cond]\n",
    "\n",
    "            ksi = np.random.binomial(1, 1.0-p, size=cond[0].shape[0])\n",
    "            eta = np.random.exponential(scale = 1/beta, size=cond[0].shape[0])\n",
    "            V[cond,i+1]=ksi*eta\n",
    "\n",
    "\n",
    "            logS[:,i+1] = logS[:,i] + r*dt+K_0 + K_1*V[:,i] + K_2*V[:,i+1] \\\n",
    "                            + np.sqrt(K_3*V[:,i]+K_4*V[:,i+1]) * Z[:,i]\n",
    "\n",
    "        vt = V[:, add_batch_time-1]\n",
    "        log_st = logS[:, add_batch_time-1]\n",
    "            \n",
    "            \n",
    "        \n",
    "    #put the calculated values into the dictionary\n",
    "    simulated_paths = {\"price\": np.exp(log_st), \"volatility\": vt}\n",
    "    return simulated_paths"
   ]
  },
  {
   "cell_type": "code",
   "execution_count": 27,
   "metadata": {},
   "outputs": [],
   "source": [
    "from typing import Union\n",
    "from numpy import float_\n",
    "from numpy.typing import NDArray\n",
    "from numba.types import CPointer, float64, complex128, intc  # type: ignore\n",
    "from dataclasses import dataclass\n",
    "import math\n",
    "import cmath\n",
    "import numpy as np\n",
    "import numba                     # type: ignore\n",
    "import scipy.stats as st         # type: ignore\n",
    "import scipy.optimize as opt     # type: ignore\n",
    "import scipy.integrate as intg   # type: ignore\n",
    "import scipy.special as spec     # type: ignore\n",
    "import scipy.misc as spmisc      # type: ignore\n",
    "from scipy import LowLevelCallable\n",
    "# from . import blackscholes\n",
    "\n",
    "\n",
    "# The following two functions are used to implement Heston's formula with Numba\n",
    "\n",
    "@numba.njit(complex128(\n",
    "    float64, float64, float64, float64, float64, float64, complex128, float64))\n",
    "def _heston_cf(s, v, kappa, theta, sigma, rho, u, t):\n",
    "    \"\"\"Characteristic function of the log-price in the Heston model.\"\"\"\n",
    "    d = cmath.sqrt((rho*sigma*u*1j - kappa)**2 + sigma**2*(u*1j + u**2))\n",
    "    g = ((rho*sigma*u*1j - kappa + d) / (rho*sigma*u*1j - kappa - d))\n",
    "    C = (kappa*theta/sigma**2 * (\n",
    "        t*(kappa - rho*sigma*u*1j - d) -\n",
    "        2*cmath.log((1 - g*cmath.exp(-d*t))/(1-g))))\n",
    "    D = ((kappa - rho*sigma*u*1j - d)/sigma**2 *\n",
    "         ((1 - cmath.exp(-d*t)) / (1 - g*cmath.exp(-d*t))))\n",
    "    return cmath.exp(C + D*v + u*math.log(s)*1j)\n",
    "\n",
    "\n",
    "@numba.cfunc(float64(intc, CPointer(float64)))\n",
    "def _heston_integrand(n, x):\n",
    "    \"\"\"Integrand in Heston's formula.\"\"\"\n",
    "    # x = (u, t, k, s, v, kappa, theta, sigma, rho)\n",
    "    u = x[0]\n",
    "    t = x[1]\n",
    "    k = x[2]\n",
    "    s = x[3]\n",
    "    v = x[4]\n",
    "    kappa = x[5]\n",
    "    theta = x[6]\n",
    "    sigma = x[7]\n",
    "    rho = x[8]\n",
    "    return (cmath.exp(-1j*u*math.log(k))/(1j*u) *\n",
    "            (_heston_cf(s, v, kappa, theta, sigma, rho, u-1j, t) -\n",
    "             k*_heston_cf(s, v, kappa, theta, sigma, rho, u, t))).real\n",
    "\n",
    "\n",
    "@dataclass\n",
    "class Heston:\n",
    "    \"\"\"The Heston model.\n",
    "    The base asset is stock which under the pricing measure follows the SDEs\n",
    "        ```\n",
    "        d(S_t) = r*S_t*dt + sqrt(V_t)*d(W^1_t),\n",
    "        d(V_t) = kappa*(theta - V_t)*dt + sigma*sqrt(V_t)*d(W^2_t)\n",
    "        ```\n",
    "    where `r` is the interest rate, `V_t` is the variance process, `W^1_t` and\n",
    "    `W^2_t` are standard Brownian motions with correlation coefficient `rho`,\n",
    "    and `kappa>0, theta>0, sigma>0, -1 < rho < 1` are the model parameters.\n",
    "    Attributes:\n",
    "        s: Initial price, i.e. S_0.\n",
    "        v: Initial variance, i.e. v_0.\n",
    "        kappa, theta, sigma, rho: Model parameters.\n",
    "        r: Interest rate.\n",
    "    Methods:\n",
    "        call_price: Computes call option price.\n",
    "        iv: Computes implied volatility produced by the model.\n",
    "        calibrate: Calibrates parameters of the model.\n",
    "        simulate_euler: Simulates paths by Euler's scheme.\n",
    "        simulate_qe: Simulates paths by Andersen's QE scheme.\n",
    "        simulate_exact: Simulates paths by Broadie-Kaya's exact scheme.\n",
    "    \"\"\"\n",
    "    s: float\n",
    "    v: float\n",
    "    kappa: float\n",
    "    theta: float\n",
    "    sigma: float\n",
    "    rho: float\n",
    "    r: float = 0\n",
    "\n",
    "    def _call_price_scalar(self, t: float, k: float) -> float:\n",
    "        \"\"\"Computes the price of a call option by Heston's semi-closed formula.\n",
    "        This is an auxiliary function which works with scalar expiration time\n",
    "        and strike. It is called by `call_price`, which allows vectorization.\n",
    "        \"\"\"\n",
    "        return (0.5*(self.s - math.exp(-self.r*t)*k) +\n",
    "                1/math.pi * math.exp(-self.r*t) *\n",
    "                intg.quad(\n",
    "                    LowLevelCallable(_heston_integrand.ctypes),\n",
    "                    0, math.inf,\n",
    "                    args=(t, k, self.s, self.v, self.kappa, self.theta,\n",
    "                          self.sigma, self.rho))[0])\n",
    "\n",
    "    def call_price(\n",
    "        self,\n",
    "        t: Union[float, NDArray[float_]],\n",
    "        k: Union[float, NDArray[float_]]\n",
    "    ) -> Union[float, NDArray[float_]]:\n",
    "        \"\"\"Computes the price of a call option by Heston's semi-closed formula.\n",
    "        Args:\n",
    "            t: Expiration time (float or ndarray).\n",
    "            k: Strike (float or ndarray).\n",
    "        Returns:\n",
    "            If `t` and `k` are scalars, returns the price of a call option as a\n",
    "            scalar value. If `t` and/or `k` are arrays, applies NumPy\n",
    "            broadcasting rules and returns an array of prices.\n",
    "        Notes:\n",
    "            Here we use the stable representation of the characteristic\n",
    "            function, see Albrecher et al. \"The little Heston trap\" (2007).\n",
    "        \"\"\"\n",
    "        b = np.broadcast(t, k)\n",
    "        if b.nd:  # Vector arguments were supplied\n",
    "            return np.fromiter(\n",
    "                (self._call_price_scalar(t_, k_) for (t_, k_) in b),\n",
    "                count=b.size, dtype=float_).reshape(b.shape)\n",
    "        else:\n",
    "            return self._call_price_scalar(t, k)"
   ]
  },
  {
   "cell_type": "code",
   "execution_count": 137,
   "metadata": {},
   "outputs": [],
   "source": [
    "heston_parameters = HestonParameters(kappa = 1.3125, gamma = 0.7125, \n",
    "                                     rho = -0.3937, vbar = 0.0641, \n",
    "                                     v0 = 0.3)\n",
    "\n",
    "state = MarketState(stock_price = 100., interest_rate = 0.)"
   ]
  },
  {
   "cell_type": "markdown",
   "metadata": {},
   "source": [
    "### At the money"
   ]
  },
  {
   "cell_type": "code",
   "execution_count": 138,
   "metadata": {},
   "outputs": [
    {
     "data": {
      "text/plain": [
       "19.27381160707458"
      ]
     },
     "execution_count": 138,
     "metadata": {},
     "output_type": "execute_result"
    }
   ],
   "source": [
    "model = Heston(state.stock_price, heston_parameters.v0, heston_parameters.kappa, \n",
    "                         heston_parameters.vbar, heston_parameters.gamma, heston_parameters.rho, state.interest_rate)\n",
    "model.call_price(2., 100.)"
   ]
  },
  {
   "cell_type": "code",
   "execution_count": 139,
   "metadata": {},
   "outputs": [
    {
     "name": "stdout",
     "output_type": "stream",
     "text": [
      "number of batches: 200 , batch size: 10000, number of simulations: 2000000\n"
     ]
    },
    {
     "data": {
      "application/vnd.jupyter.widget-view+json": {
       "model_id": "4f368b18c953451fb530893d2fa2f084",
       "version_major": 2,
       "version_minor": 0
      },
      "text/plain": [
       "HBox(children=(HTML(value=''), FloatProgress(value=0.0, max=200.0), HTML(value='')))"
      ]
     },
     "metadata": {},
     "output_type": "display_data"
    },
    {
     "name": "stdout",
     "output_type": "stream",
     "text": [
      "\n"
     ]
    },
    {
     "data": {
      "text/plain": [
       "19.237004827392177"
      ]
     },
     "execution_count": 139,
     "metadata": {},
     "output_type": "execute_result"
    }
   ],
   "source": [
    "np.random.seed(42)\n",
    "\n",
    "payoff = european_call\n",
    "simulate = simulate_heston_euler\n",
    "params = heston_parameters\n",
    "strike = 100.\n",
    "T = 2.\n",
    "kwargs = {}\n",
    "market_sate = state\n",
    "\n",
    "\n",
    "controlled_simulation(market_state = state, \n",
    "                      payoff = payoff, simulate = simulate, params = params, strike = strike, T = T, **kwargs)"
   ]
  },
  {
   "cell_type": "code",
   "execution_count": null,
   "metadata": {},
   "outputs": [],
   "source": []
  },
  {
   "cell_type": "code",
   "execution_count": 140,
   "metadata": {},
   "outputs": [
    {
     "name": "stdout",
     "output_type": "stream",
     "text": [
      "number of batches: 231 , batch size: 10000, number of simulations: 2310000\n"
     ]
    },
    {
     "data": {
      "application/vnd.jupyter.widget-view+json": {
       "model_id": "ea6b7c96d92242bda406defde070013a",
       "version_major": 2,
       "version_minor": 0
      },
      "text/plain": [
       "HBox(children=(HTML(value=''), FloatProgress(value=0.0, max=231.0), HTML(value='')))"
      ]
     },
     "metadata": {},
     "output_type": "display_data"
    },
    {
     "name": "stdout",
     "output_type": "stream",
     "text": [
      "\n"
     ]
    },
    {
     "data": {
      "text/plain": [
       "19.23667985474423"
      ]
     },
     "execution_count": 140,
     "metadata": {},
     "output_type": "execute_result"
    }
   ],
   "source": [
    "np.random.seed(42)\n",
    "\n",
    "payoff = european_call\n",
    "simulate = simulate_heston_andersen\n",
    "params = heston_parameters\n",
    "strike = 100.\n",
    "T = 2.\n",
    "kwargs = {}\n",
    "market_sate = state\n",
    "\n",
    "\n",
    "controlled_simulation(market_state = state, \n",
    "                      payoff = payoff, simulate = simulate, params = params, strike = strike, T = T, **kwargs)"
   ]
  },
  {
   "cell_type": "markdown",
   "metadata": {},
   "source": [
    "### Out of the money"
   ]
  },
  {
   "cell_type": "code",
   "execution_count": 94,
   "metadata": {},
   "outputs": [],
   "source": [
    "state = MarketState(stock_price = 100., interest_rate = 0.)\n",
    "model = Heston(state.stock_price, heston_parameters.v0, heston_parameters.kappa, \n",
    "                         heston_parameters.vbar, heston_parameters.gamma, heston_parameters.rho, state.interest_rate)"
   ]
  },
  {
   "cell_type": "code",
   "execution_count": 104,
   "metadata": {},
   "outputs": [
    {
     "data": {
      "text/plain": [
       "0.03882255333795115"
      ]
     },
     "execution_count": 104,
     "metadata": {},
     "output_type": "execute_result"
    }
   ],
   "source": [
    "model.call_price(2., 500.)"
   ]
  },
  {
   "cell_type": "code",
   "execution_count": 135,
   "metadata": {},
   "outputs": [
    {
     "name": "stdout",
     "output_type": "stream",
     "text": [
      "number of batches: 4 , batch size: 10000, number of simulations: 40000\n"
     ]
    },
    {
     "data": {
      "application/vnd.jupyter.widget-view+json": {
       "model_id": "14ca6fee71e54f75b0077cec5e48746c",
       "version_major": 2,
       "version_minor": 0
      },
      "text/plain": [
       "HBox(children=(HTML(value=''), FloatProgress(value=0.0, max=4.0), HTML(value='')))"
      ]
     },
     "metadata": {},
     "output_type": "display_data"
    },
    {
     "name": "stdout",
     "output_type": "stream",
     "text": [
      "\n"
     ]
    },
    {
     "data": {
      "text/plain": [
       "0.0425249396381667"
      ]
     },
     "execution_count": 135,
     "metadata": {},
     "output_type": "execute_result"
    }
   ],
   "source": [
    "np.random.seed(42)\n",
    "\n",
    "payoff = european_call\n",
    "simulate = simulate_heston_andersen\n",
    "params = heston_parameters\n",
    "strike = 500.\n",
    "T = 2.\n",
    "kwargs = {}\n",
    "market_sate = state\n",
    "\n",
    "\n",
    "controlled_simulation(market_state = state, payoff = payoff, simulate = simulate,\n",
    "                      params = params, strike = strike,absolute_error = 5e-3, T = T, undersample_size = 20_000, **kwargs)"
   ]
  },
  {
   "cell_type": "code",
   "execution_count": 136,
   "metadata": {},
   "outputs": [
    {
     "name": "stdout",
     "output_type": "stream",
     "text": [
      "number of batches: 18 , batch size: 10000, number of simulations: 180000\n"
     ]
    },
    {
     "data": {
      "application/vnd.jupyter.widget-view+json": {
       "model_id": "b321ecc4124b4c17838ee7dba1a65ba1",
       "version_major": 2,
       "version_minor": 0
      },
      "text/plain": [
       "HBox(children=(HTML(value=''), FloatProgress(value=0.0, max=18.0), HTML(value='')))"
      ]
     },
     "metadata": {},
     "output_type": "display_data"
    },
    {
     "name": "stdout",
     "output_type": "stream",
     "text": [
      "\n"
     ]
    },
    {
     "data": {
      "text/plain": [
       "0.054534684158127934"
      ]
     },
     "execution_count": 136,
     "metadata": {},
     "output_type": "execute_result"
    }
   ],
   "source": [
    "np.random.seed(42)\n",
    "\n",
    "payoff = european_call\n",
    "simulate = simulate_heston_euler\n",
    "params = heston_parameters\n",
    "strike = 500.\n",
    "T = 2.\n",
    "kwargs = {}\n",
    "market_sate = state\n",
    "\n",
    "\n",
    "controlled_simulation(market_state = state, payoff = payoff, simulate = simulate,\n",
    "                      params = params, strike = strike, T = T, absolute_error = 5e-4, undersample_size = 20_000,**kwargs)"
   ]
  },
  {
   "cell_type": "code",
   "execution_count": null,
   "metadata": {},
   "outputs": [],
   "source": []
  },
  {
   "cell_type": "code",
   "execution_count": 146,
   "metadata": {},
   "outputs": [],
   "source": [
    "def d_1(q,T,S,K,r):\n",
    "    denom=1/(q*np.sqrt(T))\n",
    "    log=np.log(S/K)\n",
    "    s2=T*(r+q*q/2)\n",
    "    return denom*(log+s2)\n",
    "\n",
    "def d_2(q,T,S,K,r):\n",
    "    denom=1/(q*np.sqrt(T))\n",
    "    log=np.log(S/K)\n",
    "    s2=T*(r-q*q/2)\n",
    "    \n",
    "    return denom*(log+s2)\n",
    "\n",
    "def calc_iv(option: CallStockOption, state: MarketState, option_price: float):\n",
    "    \n",
    "    T=option.expiration_time\n",
    "    K=option.strike_price\n",
    "    S=state.stock_price\n",
    "    r=state.interest_rate    \n",
    "    N=sps.norm()\n",
    "    \n",
    "    \n",
    "    def f(q):\n",
    "        d1=d_1(q,T,S,K,r)\n",
    "        d2=d_2(q,T,S,K,r)\n",
    "        return S*N.cdf(d1)-K*(np.exp(-r*T))*N.cdf(d2)-option_price\n",
    "    \n",
    "    def fprime(q):\n",
    "        d1=d_1(q,T,S,K,r)\n",
    "        return S*sps.norm().pdf(d1)*np.sqrt(T)\n",
    "    \n",
    "    sol = root_scalar(f, x0=0.5, fprime=fprime, method='newton')\n",
    "    return sol.root\n",
    "\n"
   ]
  },
  {
   "cell_type": "markdown",
   "metadata": {},
   "source": [
    "### Implied vol"
   ]
  },
  {
   "cell_type": "code",
   "execution_count": 143,
   "metadata": {},
   "outputs": [],
   "source": [
    "heston_parameters = HestonParameters(kappa = 1.3125, gamma = 0.7125, \n",
    "                                     rho = -0.3937, vbar = 0.0641, \n",
    "                                     v0 = 0.3)\n",
    "\n",
    "state = MarketState(stock_price = 100., interest_rate = 0.)\n",
    "\n",
    "payoff = european_call\n",
    "simulate = simulate_heston_euler\n",
    "params = heston_parameters\n",
    "strike = 100.\n",
    "T = 2.\n",
    "kwargs = {}\n",
    "market_sate = state"
   ]
  },
  {
   "cell_type": "code",
   "execution_count": null,
   "metadata": {},
   "outputs": [],
   "source": [
    "\n",
    "\n",
    "\n",
    "controlled_simulation(market_state = state, \n",
    "                      payoff = payoff, simulate = simulate, params = params, strike = strike, T = T, **kwargs)\n",
    "\n"
   ]
  },
  {
   "cell_type": "code",
   "execution_count": 144,
   "metadata": {},
   "outputs": [
    {
     "data": {
      "text/plain": [
       "array([ 80,  82,  84,  86,  88,  90,  92,  94,  96,  98, 100, 102, 104,\n",
       "       106, 108, 110, 112, 114, 116, 118])"
      ]
     },
     "execution_count": 144,
     "metadata": {},
     "output_type": "execute_result"
    }
   ],
   "source": [
    "strikes = np.arange(80, 120, 2)\n",
    "strikes"
   ]
  },
  {
   "cell_type": "code",
   "execution_count": null,
   "metadata": {},
   "outputs": [],
   "source": [
    "\n",
    "    "
   ]
  },
  {
   "cell_type": "code",
   "execution_count": 148,
   "metadata": {},
   "outputs": [],
   "source": [
    "call_price = np.array([30.096826945107107,\n",
    " 28.86569299569351,\n",
    " 27.627749990421822,\n",
    " 26.468755491540694,\n",
    " 25.31876428557471,\n",
    " 24.24782290614315,\n",
    " 23.16942316862601,\n",
    " 22.12935496069162,\n",
    " 21.079816460198398,\n",
    " 20.20119494244462,\n",
    " 19.288858679686502,\n",
    " 18.392107111749084,\n",
    " 17.50127598061397,\n",
    " 16.701957005015792,\n",
    " 15.90122188123928,\n",
    " 15.14196593075513,\n",
    " 14.43621999411162,\n",
    " 13.722786552930495,\n",
    " 13.069519364876335,\n",
    " 12.47747576375882])"
   ]
  },
  {
   "cell_type": "code",
   "execution_count": 150,
   "metadata": {},
   "outputs": [],
   "source": [
    "IV = np.empty_like(call_price)\n",
    "\n",
    "for j in range(len(call_price)):\n",
    "        IV[j] = calc_iv(option=CallStockOption(strikes[j], T), \n",
    "                           state=state, \n",
    "                           option_price=call_price[j])"
   ]
  },
  {
   "cell_type": "code",
   "execution_count": 151,
   "metadata": {},
   "outputs": [
    {
     "data": {
      "image/png": "[encoded data removed]",
      "text/plain": [
       "<Figure size 1080x360 with 1 Axes>"
      ]
     },
     "metadata": {
      "needs_background": "light"
     },
     "output_type": "display_data"
    }
   ],
   "source": [
    "_, ax = plt.subplots(figsize=(15, 5))\n",
    "\n",
    "ax.plot(strikes, IV, \"o-\")\n",
    "# ax.legend()\n",
    "ax.set_xlabel(\"Strike, $\")\n",
    "ax.set_ylabel(\"IV\")\n",
    "ax.set_title(\"Implied Volatility\")\n",
    "plt.show()"
   ]
  },
  {
   "cell_type": "code",
   "execution_count": null,
   "metadata": {},
   "outputs": [],
   "source": [
    "model = Heston(state.stock_price, heston_parameters.v0, heston_parameters.kappa, \n",
    "                         heston_parameters.vbar, heston_parameters.gamma, heston_parameters.rho, state.interest_rate)\n"
   ]
  },
  {
   "cell_type": "code",
   "execution_count": 154,
   "metadata": {},
   "outputs": [],
   "source": [
    "\n",
    "call_price = np.zeros(20)\n",
    "\n",
    "\n",
    "for j in range(20):\n",
    "    call_price[j] = model.call_price(2., strikes[j])"
   ]
  },
  {
   "cell_type": "code",
   "execution_count": 155,
   "metadata": {},
   "outputs": [],
   "source": [
    "IV = np.empty_like(call_price)\n",
    "\n",
    "for j in range(len(call_price)):\n",
    "        IV[j] = calc_iv(option=CallStockOption(strikes[j], T), \n",
    "                           state=state, \n",
    "                           option_price=call_price[j])"
   ]
  },
  {
   "cell_type": "code",
   "execution_count": 156,
   "metadata": {},
   "outputs": [
    {
     "data": {
      "image/png": "[encoded data removed]",
      "text/plain": [
       "<Figure size 1080x360 with 1 Axes>"
      ]
     },
     "metadata": {
      "needs_background": "light"
     },
     "output_type": "display_data"
    }
   ],
   "source": [
    "_, ax = plt.subplots(figsize=(15, 5))\n",
    "\n",
    "ax.plot(strikes, IV, \"o-\")\n",
    "# ax.legend()\n",
    "ax.set_xlabel(\"Strike, $\")\n",
    "ax.set_ylabel(\"IV\")\n",
    "ax.set_title(\"Implied Volatility\")\n",
    "plt.show()"
   ]
  },
  {
   "cell_type": "code",
   "execution_count": null,
   "metadata": {},
   "outputs": [],
   "source": []
  }
 ],
 "metadata": {
  "kernelspec": {
   "display_name": "Python 3",
   "language": "python",
   "name": "python3"
  },
  "language_info": {
   "codemirror_mode": {
    "name": "ipython",
    "version": 3
   },
   "file_extension": ".py",
   "mimetype": "text/x-python",
   "name": "python",
   "nbconvert_exporter": "python",
   "pygments_lexer": "ipython3",
   "version": "3.10.8 (main, Oct 21 2022, 22:22:30) [Clang 14.0.0 (clang-1400.0.29.202)]"
  },
  "vscode": {
   "interpreter": {
    "hash": "b0fa6594d8f4cbf19f97940f81e996739fb7646882a419484c72d19e05852a7e"
   }
  }
 },
 "nbformat": 4,
 "nbformat_minor": 4
}
