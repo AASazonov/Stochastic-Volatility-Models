{
 "cells": [
  {
   "cell_type": "code",
   "execution_count": 1,
   "metadata": {},
   "outputs": [],
   "source": [
    "import numpy as np\n",
    "import pandas as pd\n",
    "import matplotlib.pyplot as plt\n",
    "import scipy.stats as sps\n",
    "import math\n",
    "\n",
    "from ipywidgets import interact\n",
    "\n",
    "from ipywidgets import widgets\n",
    "from tqdm.auto import tqdm\n",
    "\n",
    "from dataclasses import dataclass\n",
    "from typing import Union, Callable, Optional\n",
    "from copy import deepcopy\n",
    "from copy import error\n",
    "from scipy.optimize import root_scalar, brentq\n",
    "from dataclasses import dataclass\n",
    "from scipy.special import iv\n",
    "from scipy.stats import bernoulli\n",
    "from scipy.interpolate import RectBivariateSpline\n",
    "\n",
    "from vol.vol import Heston\n",
    "\n",
    "import warnings\n",
    "from scipy.stats import norm\n",
    "warnings.filterwarnings(\"ignore\")\n",
    "\n",
    "\n",
    "@dataclass\n",
    "class StockOption:\n",
    "    strike_price:    Union[float, np.ndarray]\n",
    "    expiration_time: Union[float, np.ndarray]  # in years\n",
    "    is_call:         bool\n",
    "\n",
    "@dataclass\n",
    "class CallStockOption(StockOption):\n",
    "    def __init__(self, strike_price, expiration_time):\n",
    "        super().__init__(strike_price, expiration_time, True)\n",
    "\n",
    "@dataclass\n",
    "class PutStockOption(StockOption):\n",
    "    def __init__(self, strike_price, expiration_time):\n",
    "        super().__init__(strike_price, expiration_time, False)\n",
    "\n",
    "@dataclass\n",
    "class HestonParameters:\n",
    "    kappa:  Union[float, np.ndarray]\n",
    "    gamma:  Union[float, np.ndarray]\n",
    "    rho:    Union[float, np.ndarray]\n",
    "    vbar:   Union[float, np.ndarray]\n",
    "    v0:     Union[float, np.ndarray]\n",
    "        \n",
    "@dataclass\n",
    "class MarketState:\n",
    "    stock_price:   Union[float, np.ndarray]\n",
    "    interest_rate: Union[float, np.ndarray]"
   ]
  },
  {
   "cell_type": "markdown",
   "metadata": {},
   "source": [
    "# Control Interface"
   ]
  },
  {
   "cell_type": "code",
   "execution_count": 2,
   "metadata": {},
   "outputs": [],
   "source": [
    "def get_len_conf_interval(data:             np.ndarray, \n",
    "                          confidence_level: float = 0.05):\n",
    "    \"\"\"Get the confidence interval length for a given confidence level.\n",
    "    Args:\n",
    "        data:             The data to compute the confidence interval for.\n",
    "        confidence_level: The confidence level to use.\n",
    "    \n",
    "    Returns:\n",
    "        The confidence interval.\n",
    "    \"\"\"\n",
    "    return -2*sps.norm.ppf(confidence_level*0.5) * np.sqrt(np.var(data) / len(data))\n",
    "\n",
    "def mc_price(payoff:                 Callable,\n",
    "             simulate:               Callable,\n",
    "             market_state:           MarketState,\n",
    "             params:                 HestonParameters,\n",
    "             T:                      float    = 1.,\n",
    "             dt:                     float    = 1e-2,\n",
    "             absolute_error:         float    = 0.01,\n",
    "             confidence_level:       float    = 0.05,\n",
    "             batch_size:             int      = 10_0000,\n",
    "             MAX_ITER:               int      = 100_000,\n",
    "             control_variate_payoff: Callable = None,\n",
    "             debug:                  bool     = False,\n",
    "             **kwargs):\n",
    "    \"\"\"A function that performs a Monte-Carlo based pricing of a \n",
    "       derivative with a given payoff (possibly path-dependent)\n",
    "       under the Heston model.\n",
    "\n",
    "    Args:\n",
    "        payoff (Callable):                  payoff function\n",
    "        simulate (Callable):                simulation engine\n",
    "        market_state (MarketState):         market state\n",
    "        params (HestonParameters):          Heston parameters\n",
    "        T (float, optional):                Contract expiration time. Defaults to 1.. \n",
    "        absolute_error (float, optional):   absolute error of the price. Defaults to 0.01 (corresponds to 1 cent). \n",
    "        confidence_level (float, optional): confidence level for the price. Defaults to 0.05.\n",
    "        batch_size (int, optional):         path-batch size. Defaults to 10_000.\n",
    "        MAX_ITER (int, optional):           maximum number of iterations. Defaults to 100_000.  \n",
    "\n",
    "    Returns:    \n",
    "        The price of the derivative.\n",
    "              \n",
    "\"\"\"\n",
    "\n",
    "    arg = {'state':           market_state, #renamed to market_state from state\n",
    "           'heston_params':   params, \n",
    "           'time':            T , \n",
    "           'dt':              dt, \n",
    "           'n_simulations':   batch_size}\n",
    "\n",
    "    args       = {**arg, **kwargs}\n",
    "    iter_count = 0   \n",
    "\n",
    "    length_conf_interval   = 1.\n",
    "    n                      = 0\n",
    "    C                      = -2*sps.norm.ppf(confidence_level*0.5)\n",
    "    derivative_price_array = np.array([], dtype=np.float64)\n",
    "\n",
    "    # np.sqrt(np.var(data) / len(data))\n",
    "\n",
    "    while length_conf_interval > absolute_error and iter_count < MAX_ITER:\n",
    "        derivative_price_array = np.append(derivative_price_array, payoff(simulate(**args)['price']))\n",
    "        iter_count+=1\n",
    "        n+=batch_size\n",
    "        length_conf_interval = C * np.sqrt(np.var(derivative_price_array) / derivative_price_array.size)\n",
    "\n",
    "        if debug:\n",
    "            print(f\"Current price: {np.mean(derivative_price_array):.4f} +/- {get_len_conf_interval(derivative_price_array):.4f}\")\n",
    "\n",
    "    print(f\"Number of iterations:   {iter_count}\\nNumber of simulations:  {n}\\n\")\n",
    "\n",
    "    return np.mean(derivative_price_array)"
   ]
  },
  {
   "cell_type": "markdown",
   "metadata": {},
   "source": [
    "## Euler scheme"
   ]
  },
  {
   "cell_type": "markdown",
   "metadata": {},
   "source": [
    "It can be simulated in discrete time using Euler scheme by selecting a time step $∆t$ starting at $S_0, V_0$:\n",
    "\n",
    "$$\\log s_{i} = \\log s_{i-1} + (r - v_{i-1}^+/2)\\Delta t+ \\sqrt{v_{i-1}^+ \\Delta t}(  ρε^1_{i} + \\sqrt{1- ρ^2} ε^2_{i})],$$\n",
    "\n",
    "$$v_{i} =  v_{i-1} + \\kappa (\\bar V-v_{i-1}^+)\\Delta t + \\gamma \\sqrt{ v_{i-1}^+ \\Delta t}ε^1_{i}$$\n",
    "\n",
    "(section 2.3 eq. 6-7 Andersen (2006) )"
   ]
  },
  {
   "cell_type": "code",
   "execution_count": 3,
   "metadata": {},
   "outputs": [],
   "source": [
    "def simulate_heston_euler(state:           MarketState,\n",
    "                          heston_params:   HestonParameters,\n",
    "                          time:            float = 1.,\n",
    "                          dt:              float = 1e-2,\n",
    "                          n_simulations:   int = 10_000\n",
    "                          ) -> dict:\n",
    "    \"\"\"Simulation engine for the Heston model using the Euler scheme.\n",
    "\n",
    "    Args:\n",
    "        state (MarketState): _description_\n",
    "        heston_params (HestonParameters): _description_\n",
    "        time (float, optional): _description_. Defaults to 1..\n",
    "        dt (float, optional): _description_. Defaults to 1e-2.\n",
    "        time_batch_size (int, optional): _description_. Defaults to 10_000.\n",
    "        n_simulations (int, optional): _description_. Defaults to 10_000.\n",
    "\n",
    "    Raises:\n",
    "        Error: _description_\n",
    "\n",
    "    Returns:\n",
    "        dict: _description_\n",
    "    \"\"\"    \n",
    "    if time<=0:\n",
    "        raise error(\"Time must be bigger than 0\")\n",
    "    \n",
    "    # initialize market and model parameters\n",
    "    r, s0 = state.interest_rate, state.stock_price\n",
    "    \n",
    "    v0, rho, kappa, vbar, gamma = heston_params.v0, heston_params.rho, heston_params.kappa, \\\n",
    "                                  heston_params.vbar, heston_params.gamma\n",
    "    \n",
    "    vt         = np.zeros(n_simulations)\n",
    "    vt[:]      = v0\n",
    "    log_st     = np.zeros(n_simulations)\n",
    "    log_st[:]  = np.log(s0)\n",
    "    N_T        = int(time / dt)\n",
    "    \n",
    "    Z1         = np.random.normal(size=(n_simulations, N_T))\n",
    "    Z2         = np.random.normal(size=(n_simulations, N_T))\n",
    "    V          = np.zeros([n_simulations, N_T])\n",
    "    V[:, 0]    = vt\n",
    "    \n",
    "    logS       = np.zeros([n_simulations, N_T])\n",
    "    logS[:, 0] = log_st\n",
    "\n",
    "    for i in range(0,  N_T-1):\n",
    "        vmax         = np.maximum(V[:, i],0)\n",
    "        S1           = (r - 0.5 * vmax) * (dt)\n",
    "        S2           = np.sqrt(vmax*(dt)) * Z1[:, i]\n",
    "        logS[:, i+1] = logS[:, i] + S1 + S2\n",
    "        V1           = kappa*(vbar - vmax)*(dt)\n",
    "        V2           = gamma*np.sqrt(vmax*(dt))*(rho*Z1[:, i]+np.sqrt(1-rho**2)*Z2[:, i])\n",
    "        V[:, i+1]    = V[:, i] + V1 + V2\n",
    "\n",
    "    vt     = V[:, N_T-1]\n",
    "    log_st = logS[:, N_T-1]\n",
    "        \n",
    "    return {\"price\": np.exp(log_st), \"volatility\": vt}"
   ]
  },
  {
   "cell_type": "markdown",
   "metadata": {},
   "source": [
    "## Andersen scheme"
   ]
  },
  {
   "cell_type": "code",
   "execution_count": 127,
   "metadata": {},
   "outputs": [],
   "source": [
    "def simulate_heston_andersen_qe(state:        MarketState,\n",
    "                               heston_params: HestonParameters,\n",
    "                               time:          float = 1.,\n",
    "                               dt:            float = 1e-2,\n",
    "                               n_simulations: int = 10_000,\n",
    "                               Psi_c:         float=1.5,\n",
    "                               gamma_1:       float=0.0\n",
    "\n",
    "                               \n",
    "                               ) -> dict: \n",
    "    \"\"\"Simulation engine for the Heston model using the Quadratic-Exponential Andersen scheme.\n",
    "\n",
    "    Args:\n",
    "        state (MarketState): _description_\n",
    "        heston_params (HestonParameters): _description_\n",
    "        time (float, optional): _description_. Defaults to 1..\n",
    "        dt (float, optional): _description_. Defaults to 1e-2.\n",
    "        n_simulations (int, optional): _description_. Defaults to 10_000.\n",
    "        Psi_c (float, optional): _description_. Defaults to 1.5.\n",
    "        gamma_1 (float, optional): _description_. Defaults to 0.5.\n",
    "\n",
    "    Raises:\n",
    "        Error: _description_\n",
    "        Error: _description_\n",
    "\n",
    "    Returns:\n",
    "        dict: _description_\n",
    "    \"\"\"    \n",
    "    #st = taime.time()\n",
    "    \n",
    "    if Psi_c>2 or Psi_c<1:\n",
    "        raise error('1<=Psi_c<=2 ')\n",
    "    if gamma_1 >1 or gamma_1<0:\n",
    "        raise error('0<=gamma_1<=1')\n",
    "        \n",
    "    gamma_2 = 1.0 - gamma_1\n",
    "    \n",
    "    r, s0 = state.interest_rate, state.stock_price\n",
    "    v0, rho, kappa, vbar, gamma = heston_params.v0, heston_params.rho, heston_params.kappa, heston_params.vbar, heston_params.gamma\n",
    "    \n",
    "    \n",
    "    E          = np.exp(-kappa*dt)\n",
    "    K_0        = -(rho*kappa*vbar/gamma)*dt\n",
    "    K_1        = gamma_1*dt*(rho*kappa/gamma - 0.5) - rho/gamma\n",
    "    K_2        = gamma_2*dt*(rho*kappa/gamma - 0.5) + rho/gamma\n",
    "    K_3        = gamma_1*dt*(1.0 - rho**2)\n",
    "    K_4        = gamma_2*dt*(1.0 - rho**2)\n",
    "    N_T        = int(time / dt)\n",
    "    \n",
    "    vt         = np.zeros(n_simulations)\n",
    "    vt[:]      = v0\n",
    "    log_st     = np.zeros(n_simulations)\n",
    "    log_st[:]  = np.log(s0)\n",
    "    \n",
    "    mean_St    = 0.\n",
    "    mean_vt    = 0.\n",
    "        \n",
    "    vt[:]      = v0\n",
    "    log_st[:]  = np.log(s0)\n",
    "        \n",
    "    V          = np.zeros([n_simulations, N_T])\n",
    "    V[:, 0]    = vt\n",
    "\n",
    "    logS       = np.zeros([n_simulations, N_T])\n",
    "    logS[:, 0] = log_st\n",
    "\n",
    "    Z          = np.random.normal(size=(n_simulations, N_T))\n",
    "    \n",
    "    #st2 = taime.time()\n",
    "    #print('outer time:', st2 - st, 'seconds')\n",
    "\n",
    "    for i in range(N_T - 1):\n",
    "        m            = vbar+(V[:, i] - vbar)*E\n",
    "        s_2          = (V[:, i]*(gamma**2)*E/kappa)*(1.0 - E) + (vbar*gamma**2)/(2.0*kappa)*((1-E)**2)\n",
    "        Psi          = s_2/(m**2) # np.power\n",
    "\n",
    "        cond         = np.where(Psi<=Psi_c)\n",
    "        c            = 2 / Psi[cond]\n",
    "        b            = c - 1 + np.sqrt(c*(c - 1.))\n",
    "        a            = m[cond]/(1+b)\n",
    "        b            = np.sqrt(b)\n",
    "        Z_V          = np.random.normal(size=cond[0].shape[0])\n",
    "        V[cond, i+1] = a*((b+Z_V)**2)\n",
    "\n",
    "        cond         = np.where(Psi>Psi_c)\n",
    "        p            = (Psi[cond] - 1)/(Psi[cond] + 1)\n",
    "        beta         = (1.0 - p)/m[cond]\n",
    "\n",
    "        # ksi = np.random.binomial(1, 1.0-p, size=cond[0].shape[0])\n",
    "        # eta = np.random.exponential(scale = 1/beta, size=cond[0].shape[0])\n",
    "        U           = np.random.uniform(0., 1. , size=cond[0].shape[0])\n",
    "\n",
    "        V[cond,i+1] = np.where(U < p, 0., np.log((1-p)/(1-U))/beta)\n",
    "\n",
    "\n",
    "        logS[:,i+1] = logS[:,i] + r*dt+K_0 + K_1*V[:,i] + K_2*V[:,i+1] \\\n",
    "                        + np.sqrt(K_3*V[:,i]+K_4*V[:,i+1]) * Z[:,i]\n",
    "\n",
    "    vt     = V[:, N_T-1]\n",
    "    log_st = logS[:, N_T-1]\n",
    "    \n",
    "    #st3 = taime.time()\n",
    "    #print('loop time:', st3 - st2, 'seconds')\n",
    "            \n",
    "    return {\"price\": np.exp(log_st), \"volatility\": vt}"
   ]
  },
  {
   "cell_type": "code",
   "execution_count": 5,
   "metadata": {},
   "outputs": [],
   "source": [
    "from scipy.optimize import newton\n",
    "from scipy.stats import norm"
   ]
  },
  {
   "cell_type": "code",
   "execution_count": 18,
   "metadata": {},
   "outputs": [],
   "source": [
    "def calculate_r_for_andersen_tg(x_:    float,\n",
    "                                maxiter = 2500 , \n",
    "                                tol= 1e-5\n",
    "                               ) -> float:\n",
    "    \n",
    "    def foo(x: float):\n",
    "        \n",
    "        return x*norm.pdf(x) + norm.cdf(x)*(1+x**2) - (1+x_)*(norm.pdf(x) + x*norm.cdf(x))**2\n",
    "\n",
    "    def foo_dif(x:  float):\n",
    "\n",
    "        return norm.pdf(x) - x**2 * norm.pdf(x) + norm.pdf(x)*(1+x**2) + 2*norm.cdf(x)*x - \\\n",
    "                2*(1+x_)*(norm.pdf(x) + x*norm.cdf(x))*(-norm.pdf(x)*x + norm.cdf(x) + x*norm.pdf(x) )\n",
    "\n",
    "    def foo_dif2(x:  float):\n",
    "        return -x*norm.pdf(x) - 2*x* norm.pdf(x) + x**3 * norm.pdf(x) -x*norm.pdf(x)*(1+x**2) + \\\n",
    "                2*norm.cdf(x)*x + 2*norm.pdf(x)*x + 2*norm.cdf(x) + \\\n",
    "                2*(1+x_)*(-norm.pdf(x)*x + norm.cdf(x) + x*norm.pdf(x))**2 + \\\n",
    "                2*(1+x_)*(norm.pdf(x) + x*norm.cdf(x))*(x**2*norm.pdf(x) + norm.pdf(x) + norm.pdf(x) -x*norm.pdf(x) )\n",
    "\n",
    "\n",
    "    return newton(foo,  x0 = 1/x_,fprime = foo_dif, fprime2 = foo_dif2, maxiter = maxiter , tol= tol )"
   ]
  },
  {
   "cell_type": "code",
   "execution_count": 19,
   "metadata": {},
   "outputs": [
    {
     "data": {
      "text/plain": [
       "316.22776601468075"
      ]
     },
     "execution_count": 19,
     "metadata": {},
     "output_type": "execute_result"
    }
   ],
   "source": [
    "calculate_r_for_andersen_tg(0.00001)"
   ]
  },
  {
   "cell_type": "code",
   "execution_count": 20,
   "metadata": {},
   "outputs": [],
   "source": [
    "r_x = np.linspace(1e-6,5, num=400000)\n",
    "r_y = np.array([calculate_r_for_andersen_tg(x) for x in r_x])"
   ]
  },
  {
   "cell_type": "code",
   "execution_count": 106,
   "metadata": {},
   "outputs": [],
   "source": [
    "np.save('r_x', r_x)"
   ]
  },
  {
   "cell_type": "code",
   "execution_count": 107,
   "metadata": {},
   "outputs": [],
   "source": [
    "np.save('r_y', r_y)"
   ]
  },
  {
   "cell_type": "code",
   "execution_count": 108,
   "metadata": {},
   "outputs": [],
   "source": [
    "np.save('f_nu_y', nu_arr)"
   ]
  },
  {
   "cell_type": "code",
   "execution_count": 109,
   "metadata": {},
   "outputs": [],
   "source": [
    "np.save('f_sigma_y', sigma_arr)"
   ]
  },
  {
   "cell_type": "code",
   "execution_count": 30,
   "metadata": {},
   "outputs": [],
   "source": [
    "r_x = np.append(np.load('r_x 1e-6 5 400000.npy')[:-1],np.load('r_x 5 100 400000.npy'))"
   ]
  },
  {
   "cell_type": "code",
   "execution_count": 31,
   "metadata": {},
   "outputs": [],
   "source": [
    "r_y = np.append(np.load('r_y 1e-6 5 400000.npy')[:-1],np.load('r_y 5 100 400000.npy'))"
   ]
  },
  {
   "cell_type": "code",
   "execution_count": null,
   "metadata": {},
   "outputs": [],
   "source": []
  },
  {
   "cell_type": "code",
   "execution_count": 32,
   "metadata": {},
   "outputs": [],
   "source": [
    "def f_nu(x_ , r_x, r_y):\n",
    "    \n",
    "    r_intr = np.interp(x_, r_x, r_y)\n",
    "    \n",
    "    return r_intr/(norm.pdf(r_intr) + r_intr*norm.cdf(r_intr))\n",
    "\n",
    "def f_sigma(x_ , r_x, r_y):\n",
    "    \n",
    "    r_intr = np.interp(x_, r_x, r_y)\n",
    "    \n",
    "    return 1/((norm.pdf(r_intr) + r_intr*norm.cdf(r_intr))*np.sqrt(x_))"
   ]
  },
  {
   "cell_type": "code",
   "execution_count": 33,
   "metadata": {},
   "outputs": [],
   "source": [
    "def f_nu_123(x_ ):\n",
    "    \n",
    "    return f_nu(x_, r_x, r_y)\n",
    "\n",
    "def f_sigma_123(x_):\n",
    "    \n",
    "    return f_sigma(x_, r_x, r_y)"
   ]
  },
  {
   "cell_type": "code",
   "execution_count": 35,
   "metadata": {},
   "outputs": [],
   "source": [
    "x_nu_arr  = r_x"
   ]
  },
  {
   "cell_type": "code",
   "execution_count": 36,
   "metadata": {},
   "outputs": [],
   "source": [
    "nu_arr = np.array([f_nu_123(x) for x in x_nu_arr])"
   ]
  },
  {
   "cell_type": "code",
   "execution_count": 37,
   "metadata": {},
   "outputs": [],
   "source": [
    "x_sigma_arr  = r_x"
   ]
  },
  {
   "cell_type": "code",
   "execution_count": 38,
   "metadata": {},
   "outputs": [],
   "source": [
    "sigma_arr = np.array([f_sigma_123(x) for x in x_sigma_arr])\n"
   ]
  },
  {
   "cell_type": "code",
   "execution_count": 22,
   "metadata": {},
   "outputs": [
    {
     "data": {
      "text/plain": [
       "array([ 1.        ,  1.        ,  1.        , ..., 15.23951338,\n",
       "       15.23973943, 15.23996548])"
      ]
     },
     "execution_count": 22,
     "metadata": {},
     "output_type": "execute_result"
    }
   ],
   "source": [
    "sigma_arr"
   ]
  },
  {
   "cell_type": "code",
   "execution_count": 24,
   "metadata": {},
   "outputs": [],
   "source": [
    "def f_nu_123123123123123(x_ ):\n",
    "    \n",
    "    return np.interp(x_, x_nu_arr, nu_arr)\n",
    "\n",
    "def f_sigma_123123123123123(x_):\n",
    "    \n",
    "    return np.interp(x_, x_sigma_arr, sigma_arr)"
   ]
  },
  {
   "cell_type": "code",
   "execution_count": null,
   "metadata": {},
   "outputs": [],
   "source": []
  },
  {
   "cell_type": "code",
   "execution_count": null,
   "metadata": {},
   "outputs": [],
   "source": []
  },
  {
   "cell_type": "code",
   "execution_count": 165,
   "metadata": {},
   "outputs": [
    {
     "data": {
      "text/plain": [
       "1.1187840736141303"
      ]
     },
     "execution_count": 165,
     "metadata": {},
     "output_type": "execute_result"
    }
   ],
   "source": [
    "f_sigma(0.545665, x_arr, y)"
   ]
  },
  {
   "cell_type": "code",
   "execution_count": 77,
   "metadata": {
    "scrolled": true
   },
   "outputs": [
    {
     "data": {
      "image/png": "[encoded data removed]",
      "text/plain": [
       "<Figure size 1500x500 with 1 Axes>"
      ]
     },
     "metadata": {},
     "output_type": "display_data"
    }
   ],
   "source": [
    "_, ax = plt.subplots(figsize=(15, 5))\n",
    "\n",
    "ax.plot(r_x, sigma_arr, \"o-\")\n",
    "#ax.plot(r_x[0 : 100], 1/r_x[0 : 100], \"o-\")\n",
    "# ax.legend()\n",
    "ax.set_xlabel(\"Strike, $\")\n",
    "ax.set_ylabel(\"IV\")\n",
    "ax.set_title(\"Implied Volatility\")\n",
    "plt.show()"
   ]
  },
  {
   "cell_type": "code",
   "execution_count": 40,
   "metadata": {},
   "outputs": [],
   "source": [
    "import time as taime"
   ]
  },
  {
   "cell_type": "code",
   "execution_count": 124,
   "metadata": {},
   "outputs": [],
   "source": [
    "def simulate_heston_andersen_tg(state:        MarketState,\n",
    "                               heston_params: HestonParameters,\n",
    "                               x_grid:        np.array,\n",
    "                               f_nu_grid:     np.array,\n",
    "                               f_sigma_grid:  np.array,\n",
    "                               time:          float = 1.,\n",
    "                               dt:            float = 1e-2,\n",
    "                               n_simulations: int = 10_000,\n",
    "                               Psi_c:         float=1.5,\n",
    "                               gamma_1:       float=0.0\n",
    "                               \n",
    "                               ) -> dict: \n",
    "    \"\"\"Simulation engine for the Heston model using the Quadratic-Exponential Andersen scheme.\n",
    "\n",
    "    Args:\n",
    "        state (MarketState): _description_\n",
    "        heston_params (HestonParameters): _description_\n",
    "        time (float, optional): _description_. Defaults to 1..\n",
    "        dt (float, optional): _description_. Defaults to 1e-2.\n",
    "        n_simulations (int, optional): _description_. Defaults to 10_000.\n",
    "        Psi_c (float, optional): _description_. Defaults to 1.5.\n",
    "        gamma_1 (float, optional): _description_. Defaults to 0.5.\n",
    "\n",
    "    Raises:\n",
    "        Error: _description_\n",
    "        Error: _description_\n",
    "\n",
    "    Returns:\n",
    "        dict: _description_\n",
    "    \"\"\"     \n",
    "    gamma_2 = 1.0 - gamma_1\n",
    "    \n",
    "    r, s0 = state.interest_rate, state.stock_price\n",
    "    v0, rho, kappa, vbar, gamma = heston_params.v0, heston_params.rho, heston_params.kappa, heston_params.vbar, heston_params.gamma\n",
    "    \n",
    "    \n",
    "    E          = np.exp(-kappa*dt)\n",
    "    K_0        = -(rho*kappa*vbar/gamma)*dt\n",
    "    K_1        = gamma_1*dt*(rho*kappa/gamma - 0.5) - rho/gamma\n",
    "    K_2        = gamma_2*dt*(rho*kappa/gamma - 0.5) + rho/gamma\n",
    "    K_3        = gamma_1*dt*(1.0 - rho**2)\n",
    "    K_4        = gamma_2*dt*(1.0 - rho**2)\n",
    "    N_T        = int(time / dt)\n",
    "    \n",
    "    vt         = np.zeros(n_simulations)\n",
    "    vt[:]      = v0\n",
    "    log_st     = np.zeros(n_simulations)\n",
    "    log_st[:]  = np.log(s0)\n",
    "    \n",
    "    mean_St    = 0.\n",
    "    mean_vt    = 0.\n",
    "        \n",
    "    vt[:]      = v0\n",
    "    log_st[:]  = np.log(s0)\n",
    "        \n",
    "    V          = np.zeros([n_simulations, N_T])\n",
    "    V[:, 0]    = vt\n",
    "\n",
    "    logS       = np.zeros([n_simulations, N_T])\n",
    "    logS[:, 0] = log_st\n",
    "\n",
    "    Z          = np.random.normal(size=(n_simulations, N_T))\n",
    "    Z_V        = np.random.normal(size=(n_simulations, N_T))\n",
    "    \n",
    "    \n",
    "    #x_grid = x_grid[0:400000]\n",
    "    dx = np.diff(r_x[0:2])[0]\n",
    "    #f_nu_grid = f_nu_grid[0:400000]\n",
    "    #f_sigma_grid = f_sigma_grid[0:400000]\n",
    "    \n",
    "    for i in range(N_T - 1):\n",
    "        m            = vbar+(V[:, i] - vbar)*E\n",
    "        s_2          = (V[:, i]*(gamma**2)*E/kappa)*(1.0 - E) + (vbar*gamma**2)/(2.0*kappa)*((1-E)**2)\n",
    "        Psi          = s_2/(m**2) # np.power\n",
    "        \n",
    "        \n",
    "        #inx = np.searchsorted(x_grid, Psi)\n",
    "        \n",
    "        inx = (Psi/dx).astype(int)\n",
    "        \n",
    "        nu           = m*f_nu_grid[inx]\n",
    "        sigma        = np.sqrt(s_2)*f_sigma_grid[inx]\n",
    "        \n",
    "        #nu           = m*np.interp(Psi, x_grid, f_nu_grid)\n",
    "        #sigma        = np.sqrt(s_2)*np.interp(Psi, x_grid, f_sigma_grid)\n",
    "        \n",
    "        #nu = 0.1\n",
    "        #sigma = 0.1\n",
    "\n",
    "        V[:,i+1]     = np.maximum( nu + sigma*Z_V[:,i+1], 0)\n",
    "\n",
    "\n",
    "        logS[:,i+1] = logS[:,i] + r*dt+K_0 + K_1*V[:,i] + K_2*V[:,i+1] \\\n",
    "                        + np.sqrt(K_3*V[:,i]+K_4*V[:,i+1]) * Z[:,i]\n",
    "\n",
    "    vt     = V[:, N_T-1]\n",
    "    log_st = logS[:, N_T-1]\n",
    "    \n",
    "    #st3 = taime.time()\n",
    "    #print('loop time:', st3 - st2, 'seconds')\n",
    "    return {\"price\": np.exp(log_st), \"volatility\": vt}"
   ]
  },
  {
   "cell_type": "code",
   "execution_count": 113,
   "metadata": {},
   "outputs": [
    {
     "data": {
      "text/plain": [
       "array([1.25000288e-05, 1.25000288e-05, 1.25000288e-05, ...,\n",
       "       1.25000288e-05, 1.25000287e-05, 1.25000287e-05])"
      ]
     },
     "execution_count": 113,
     "metadata": {},
     "output_type": "execute_result"
    }
   ],
   "source": [
    "np.diff(r_x[0:400000])"
   ]
  },
  {
   "cell_type": "markdown",
   "metadata": {},
   "source": [
    "## Broadie - Kaya scheme"
   ]
  },
  {
   "cell_type": "code",
   "execution_count": 42,
   "metadata": {},
   "outputs": [],
   "source": [
    "def cir_chi_sq_sample(heston_params: HestonParameters,\n",
    "                      dt:            float,\n",
    "                      v_i:           np.array,\n",
    "                      n_simulations: int):\n",
    "    \"\"\"Samples chi_squared statistics for v_{i+1} conditional on \n",
    "       v_i and parameters of Hestom model. \n",
    "        \n",
    "    Args:\n",
    "        heston_params (HestonParameters): parameters of Heston model\n",
    "        dt (float): time step \n",
    "        v_i: current volatility value\n",
    "        n_simulations (int): number of simulations.\n",
    "        \n",
    "    Returns:\n",
    "        np.array: sampled chi_squared statistics \n",
    "    \"\"\"\n",
    "    kappa, vbar, gamma = heston_params.kappa, heston_params.vbar, heston_params.gamma\n",
    "    \n",
    "    barkappa=v_i*(4*kappa*np.exp(-kappa*dt))/(gamma**2 * (1 - np.exp(-kappa*dt)))\n",
    "    d=(4*kappa*vbar)/(gamma**2)\n",
    "    c=((gamma**2)/(4*kappa))*(1-np.exp(-kappa*dt))\n",
    "    \n",
    "    return  c*np.random.noncentral_chisquare(size = n_simulations, df   = d, nonc = barkappa)\n",
    "\n",
    "\n",
    "def Phi(a:             Union[float, np.ndarray], \n",
    "        V:             Union[float, np.ndarray],\n",
    "        time:          Union[float, np.ndarray],\n",
    "        heston_params: HestonParameters\n",
    "        ) -> np.ndarray:\n",
    "    \n",
    "    \n",
    "    v0, rho, kappa, vbar, gamma = heston_params.v0, heston_params.rho, heston_params.kappa, \\\n",
    "                                        heston_params.vbar, heston_params.gamma\n",
    "    dt = time[1::]-time[:-1:]\n",
    "    \n",
    "    A=np.array(a)\n",
    "    gamma_a = np.sqrt(kappa**2 - 2*gamma**2*1j*A).reshape(1,1,len(A)).T\n",
    "    \n",
    "    E1 = np.exp(-kappa*dt)\n",
    "    E2 = np.exp(-gamma_a * dt)\n",
    "        \n",
    "    P1 = ((1.0-E1)*gamma_a/(kappa*(1.0-E2)))*np.exp(-0.5*(gamma_a - kappa)*dt)\n",
    "    \n",
    "    P2_2 = kappa * (1.0 + E1)/(1.0 - E1) - gamma_a*(1.0+E2)/(1-E2)\n",
    "    P2 = np.exp( (V[:,1::]+V[:,:-1:])/(gamma_a**2) * P2_2 )\n",
    "    \n",
    "    P3_1 = np.sqrt(V[:,1::]*V[:,:-1:])*4*gamma_a * np.exp(-0.5*gamma_a*dt) /(gamma**2 * (1.0 - E2))\n",
    "    P3_2 = np.sqrt(V[:,1::]*V[:,:-1:])*4*kappa*np.exp(-0.5*kappa*dt)/(gamma**2 * (1 - E1))\n",
    "    d=(4*kappa*vbar)/(gamma**2)\n",
    "    P3 = iv(0.5*d - 1, P3_1)/iv(0.5*d - 1, P3_2)\n",
    "    \n",
    "    return P1*P2*P3\n",
    "\n",
    "def Pr(V:             np.ndarray, \n",
    "       time:          np.ndarray,\n",
    "       X:             Union[np.ndarray, float],\n",
    "       heston_params: HestonParameters,\n",
    "       h:             float=1e-2, \n",
    "       eps:           float=1e-2\n",
    "       ) -> np.ndarray:\n",
    "    \n",
    "    x=np.array(X)\n",
    "    P=h*x/np.pi\n",
    "    S = 0.0\n",
    "    j = 1\n",
    "    while(True):\n",
    "        Sin=np.sin(h*j*x)/j\n",
    "        Phi_hj=Phi(h*j, V, time, heston_params)\n",
    "        S+=Sin.reshape(1,1,len(x)).T * Phi_hj[0]\n",
    "        if np.all(Phi_hj[0]<np.pi*eps*j/2.0):\n",
    "            break\n",
    "        j=j+1\n",
    "    \n",
    "    S=S*2.0/np.pi\n",
    "    return P+S\n",
    "\n",
    "def IV(V:             np.ndarray, \n",
    "       time:          np.ndarray,\n",
    "       heston_params: HestonParameters,\n",
    "       h:             float=1e-2, \n",
    "       eps:           float=1e-2\n",
    "       ) -> np.ndarray:\n",
    "    \n",
    "    U=np.random.uniform(size=(V.shape[0], V.shape[1] - 1))\n",
    "    \n",
    "    def f(x,i,j):\n",
    "        P=Pr(V, time, x, heston_params, h, eps)\n",
    "        return (P-U)[0][i,j]\n",
    "    \n",
    "    IVar = np.zeros((V.shape[0], V.shape[1] - 1))\n",
    "    \n",
    "    for i in range(IVar.shape[0]):\n",
    "        for j in range(IVar.shape[1]):     \n",
    "            IVar[i,j]=root_scalar(f, args=(i,j), x0=0.5, method='newton')\n",
    "    return IVar"
   ]
  },
  {
   "cell_type": "markdown",
   "metadata": {},
   "source": [
    "## Tests"
   ]
  },
  {
   "cell_type": "code",
   "execution_count": 43,
   "metadata": {},
   "outputs": [],
   "source": [
    "heston_parameters = HestonParameters(kappa = 1.3125, gamma = 0.7125, rho = -0.3937, vbar = 0.0641, v0 = 0.3)\n",
    "\n",
    "state = MarketState(stock_price = 100., interest_rate = 0.0)\n",
    "\n",
    "params = heston_parameters\n",
    "model = Heston(state.stock_price, heston_parameters.v0, heston_parameters.kappa, heston_parameters.vbar, heston_parameters.gamma, heston_parameters.rho, state.interest_rate)\n",
    "kwargs = {}"
   ]
  },
  {
   "cell_type": "code",
   "execution_count": 44,
   "metadata": {},
   "outputs": [],
   "source": [
    "def get_payoff(maturity: float,\n",
    "               strike: float,\n",
    "               interest_rate: float = 0.):\n",
    "    def payoff(St: np.ndarray):\n",
    "        DF = np.exp(-interest_rate * maturity)\n",
    "        return np.maximum(St - strike, 0)*DF\n",
    "\n",
    "    return payoff"
   ]
  },
  {
   "cell_type": "markdown",
   "metadata": {},
   "source": [
    "### At the money"
   ]
  },
  {
   "cell_type": "code",
   "execution_count": 45,
   "metadata": {},
   "outputs": [],
   "source": [
    "strike = 100.\n",
    "T = 1.\n",
    "payoff = get_payoff(T, strike, state.interest_rate)"
   ]
  },
  {
   "cell_type": "code",
   "execution_count": 46,
   "metadata": {},
   "outputs": [
    {
     "name": "stdout",
     "output_type": "stream",
     "text": [
      "16.173896895486777\n"
     ]
    }
   ],
   "source": [
    "theory = model.call_price(T, strike)\n",
    "print(theory)"
   ]
  },
  {
   "cell_type": "code",
   "execution_count": 101,
   "metadata": {},
   "outputs": [
    {
     "name": "stdout",
     "output_type": "stream",
     "text": [
      "Current price: 16.0358 +/- 0.3529\n",
      "Current price: 15.9941 +/- 0.2482\n",
      "Current price: 15.9974 +/- 0.2027\n",
      "Current price: 15.9988 +/- 0.1758\n",
      "Current price: 16.0378 +/- 0.1578\n",
      "Current price: 16.0354 +/- 0.1440\n",
      "Current price: 16.0708 +/- 0.1334\n",
      "Current price: 16.0651 +/- 0.1248\n",
      "Current price: 16.0846 +/- 0.1178\n",
      "Current price: 16.0792 +/- 0.1117\n",
      "Current price: 16.0826 +/- 0.1064\n",
      "Current price: 16.0892 +/- 0.1019\n",
      "Current price: 16.0763 +/- 0.0978\n",
      "Current price: 16.0770 +/- 0.0943\n",
      "Current price: 16.0831 +/- 0.0910\n",
      "Current price: 16.0860 +/- 0.0881\n"
     ]
    },
    {
     "ename": "KeyboardInterrupt",
     "evalue": "",
     "output_type": "error",
     "traceback": [
      "\u001b[1;31m---------------------------------------------------------------------------\u001b[0m",
      "\u001b[1;31mKeyboardInterrupt\u001b[0m                         Traceback (most recent call last)",
      "\u001b[1;32m~\\AppData\\Local\\Temp\\ipykernel_9932\\3660448844.py\u001b[0m in \u001b[0;36m<module>\u001b[1;34m\u001b[0m\n\u001b[0;32m      1\u001b[0m \u001b[0mnp\u001b[0m\u001b[1;33m.\u001b[0m\u001b[0mrandom\u001b[0m\u001b[1;33m.\u001b[0m\u001b[0mseed\u001b[0m\u001b[1;33m(\u001b[0m\u001b[1;36m42\u001b[0m\u001b[1;33m)\u001b[0m\u001b[1;33m\u001b[0m\u001b[1;33m\u001b[0m\u001b[0m\n\u001b[1;32m----> 2\u001b[1;33m \u001b[0meuler\u001b[0m    \u001b[1;33m=\u001b[0m \u001b[0mmc_price\u001b[0m\u001b[1;33m(\u001b[0m\u001b[0mdt\u001b[0m \u001b[1;33m=\u001b[0m \u001b[1;36m1e-2\u001b[0m\u001b[1;33m,\u001b[0m \u001b[0mabsolute_error\u001b[0m\u001b[1;33m=\u001b[0m\u001b[1;36m5e-2\u001b[0m\u001b[1;33m,\u001b[0m \u001b[0mmarket_state\u001b[0m \u001b[1;33m=\u001b[0m \u001b[0mstate\u001b[0m\u001b[1;33m,\u001b[0m \u001b[0mpayoff\u001b[0m \u001b[1;33m=\u001b[0m \u001b[0mpayoff\u001b[0m\u001b[1;33m,\u001b[0m \u001b[0msimulate\u001b[0m \u001b[1;33m=\u001b[0m \u001b[0msimulate_heston_euler\u001b[0m\u001b[1;33m,\u001b[0m \u001b[0mparams\u001b[0m \u001b[1;33m=\u001b[0m \u001b[0mparams\u001b[0m\u001b[1;33m,\u001b[0m\u001b[0mdebug\u001b[0m\u001b[1;33m=\u001b[0m\u001b[1;32mTrue\u001b[0m\u001b[1;33m,\u001b[0m \u001b[0mT\u001b[0m \u001b[1;33m=\u001b[0m \u001b[0mT\u001b[0m\u001b[1;33m,\u001b[0m \u001b[1;33m**\u001b[0m\u001b[0mkwargs\u001b[0m\u001b[1;33m)\u001b[0m\u001b[1;33m\u001b[0m\u001b[1;33m\u001b[0m\u001b[0m\n\u001b[0m\u001b[0;32m      3\u001b[0m \u001b[0mprint\u001b[0m\u001b[1;33m(\u001b[0m\u001b[0meuler\u001b[0m\u001b[1;33m)\u001b[0m\u001b[1;33m\u001b[0m\u001b[1;33m\u001b[0m\u001b[0m\n",
      "\u001b[1;32m~\\AppData\\Local\\Temp\\ipykernel_9932\\3309143744.py\u001b[0m in \u001b[0;36mmc_price\u001b[1;34m(payoff, simulate, market_state, params, T, dt, absolute_error, confidence_level, batch_size, MAX_ITER, control_variate_payoff, debug, **kwargs)\u001b[0m\n\u001b[0;32m     61\u001b[0m \u001b[1;33m\u001b[0m\u001b[0m\n\u001b[0;32m     62\u001b[0m     \u001b[1;32mwhile\u001b[0m \u001b[0mlength_conf_interval\u001b[0m \u001b[1;33m>\u001b[0m \u001b[0mabsolute_error\u001b[0m \u001b[1;32mand\u001b[0m \u001b[0miter_count\u001b[0m \u001b[1;33m<\u001b[0m \u001b[0mMAX_ITER\u001b[0m\u001b[1;33m:\u001b[0m\u001b[1;33m\u001b[0m\u001b[1;33m\u001b[0m\u001b[0m\n\u001b[1;32m---> 63\u001b[1;33m         \u001b[0mderivative_price_array\u001b[0m \u001b[1;33m=\u001b[0m \u001b[0mnp\u001b[0m\u001b[1;33m.\u001b[0m\u001b[0mappend\u001b[0m\u001b[1;33m(\u001b[0m\u001b[0mderivative_price_array\u001b[0m\u001b[1;33m,\u001b[0m \u001b[0mpayoff\u001b[0m\u001b[1;33m(\u001b[0m\u001b[0msimulate\u001b[0m\u001b[1;33m(\u001b[0m\u001b[1;33m**\u001b[0m\u001b[0margs\u001b[0m\u001b[1;33m)\u001b[0m\u001b[1;33m[\u001b[0m\u001b[1;34m'price'\u001b[0m\u001b[1;33m]\u001b[0m\u001b[1;33m)\u001b[0m\u001b[1;33m)\u001b[0m\u001b[1;33m\u001b[0m\u001b[1;33m\u001b[0m\u001b[0m\n\u001b[0m\u001b[0;32m     64\u001b[0m         \u001b[0miter_count\u001b[0m\u001b[1;33m+=\u001b[0m\u001b[1;36m1\u001b[0m\u001b[1;33m\u001b[0m\u001b[1;33m\u001b[0m\u001b[0m\n\u001b[0;32m     65\u001b[0m         \u001b[0mn\u001b[0m\u001b[1;33m+=\u001b[0m\u001b[0mbatch_size\u001b[0m\u001b[1;33m\u001b[0m\u001b[1;33m\u001b[0m\u001b[0m\n",
      "\u001b[1;32m~\\AppData\\Local\\Temp\\ipykernel_9932\\439788784.py\u001b[0m in \u001b[0;36msimulate_heston_euler\u001b[1;34m(state, heston_params, time, dt, n_simulations)\u001b[0m\n\u001b[0;32m     51\u001b[0m         \u001b[0mV1\u001b[0m           \u001b[1;33m=\u001b[0m \u001b[0mkappa\u001b[0m\u001b[1;33m*\u001b[0m\u001b[1;33m(\u001b[0m\u001b[0mvbar\u001b[0m \u001b[1;33m-\u001b[0m \u001b[0mvmax\u001b[0m\u001b[1;33m)\u001b[0m\u001b[1;33m*\u001b[0m\u001b[1;33m(\u001b[0m\u001b[0mdt\u001b[0m\u001b[1;33m)\u001b[0m\u001b[1;33m\u001b[0m\u001b[1;33m\u001b[0m\u001b[0m\n\u001b[0;32m     52\u001b[0m         \u001b[0mV2\u001b[0m           \u001b[1;33m=\u001b[0m \u001b[0mgamma\u001b[0m\u001b[1;33m*\u001b[0m\u001b[0mnp\u001b[0m\u001b[1;33m.\u001b[0m\u001b[0msqrt\u001b[0m\u001b[1;33m(\u001b[0m\u001b[0mvmax\u001b[0m\u001b[1;33m*\u001b[0m\u001b[1;33m(\u001b[0m\u001b[0mdt\u001b[0m\u001b[1;33m)\u001b[0m\u001b[1;33m)\u001b[0m\u001b[1;33m*\u001b[0m\u001b[1;33m(\u001b[0m\u001b[0mrho\u001b[0m\u001b[1;33m*\u001b[0m\u001b[0mZ1\u001b[0m\u001b[1;33m[\u001b[0m\u001b[1;33m:\u001b[0m\u001b[1;33m,\u001b[0m \u001b[0mi\u001b[0m\u001b[1;33m]\u001b[0m\u001b[1;33m+\u001b[0m\u001b[0mnp\u001b[0m\u001b[1;33m.\u001b[0m\u001b[0msqrt\u001b[0m\u001b[1;33m(\u001b[0m\u001b[1;36m1\u001b[0m\u001b[1;33m-\u001b[0m\u001b[0mrho\u001b[0m\u001b[1;33m**\u001b[0m\u001b[1;36m2\u001b[0m\u001b[1;33m)\u001b[0m\u001b[1;33m*\u001b[0m\u001b[0mZ2\u001b[0m\u001b[1;33m[\u001b[0m\u001b[1;33m:\u001b[0m\u001b[1;33m,\u001b[0m \u001b[0mi\u001b[0m\u001b[1;33m]\u001b[0m\u001b[1;33m)\u001b[0m\u001b[1;33m\u001b[0m\u001b[1;33m\u001b[0m\u001b[0m\n\u001b[1;32m---> 53\u001b[1;33m         \u001b[0mV\u001b[0m\u001b[1;33m[\u001b[0m\u001b[1;33m:\u001b[0m\u001b[1;33m,\u001b[0m \u001b[0mi\u001b[0m\u001b[1;33m+\u001b[0m\u001b[1;36m1\u001b[0m\u001b[1;33m]\u001b[0m    \u001b[1;33m=\u001b[0m \u001b[0mV\u001b[0m\u001b[1;33m[\u001b[0m\u001b[1;33m:\u001b[0m\u001b[1;33m,\u001b[0m \u001b[0mi\u001b[0m\u001b[1;33m]\u001b[0m \u001b[1;33m+\u001b[0m \u001b[0mV1\u001b[0m \u001b[1;33m+\u001b[0m \u001b[0mV2\u001b[0m\u001b[1;33m\u001b[0m\u001b[1;33m\u001b[0m\u001b[0m\n\u001b[0m\u001b[0;32m     54\u001b[0m \u001b[1;33m\u001b[0m\u001b[0m\n\u001b[0;32m     55\u001b[0m     \u001b[0mvt\u001b[0m     \u001b[1;33m=\u001b[0m \u001b[0mV\u001b[0m\u001b[1;33m[\u001b[0m\u001b[1;33m:\u001b[0m\u001b[1;33m,\u001b[0m \u001b[0mN_T\u001b[0m\u001b[1;33m-\u001b[0m\u001b[1;36m1\u001b[0m\u001b[1;33m]\u001b[0m\u001b[1;33m\u001b[0m\u001b[1;33m\u001b[0m\u001b[0m\n",
      "\u001b[1;31mKeyboardInterrupt\u001b[0m: "
     ]
    }
   ],
   "source": [
    "np.random.seed(42)\n",
    "euler    = mc_price(dt = 1e-2, absolute_error=5e-2, market_state = state, payoff = payoff, simulate = simulate_heston_euler, params = params,debug=True, T = T, **kwargs)\n",
    "print(euler)"
   ]
  },
  {
   "cell_type": "code",
   "execution_count": 125,
   "metadata": {},
   "outputs": [
    {
     "name": "stdout",
     "output_type": "stream",
     "text": [
      "Current price: 16.0371 +/- 0.3514\n",
      "Current price: 16.0046 +/- 0.2470\n",
      "Current price: 16.0227 +/- 0.2020\n",
      "Current price: 16.0228 +/- 0.1752\n",
      "Current price: 16.0293 +/- 0.1570\n",
      "Current price: 16.0428 +/- 0.1435\n",
      "Current price: 16.0695 +/- 0.1328\n",
      "Current price: 16.0609 +/- 0.1243\n",
      "Current price: 16.0686 +/- 0.1172\n",
      "Current price: 16.0701 +/- 0.1111\n",
      "Current price: 16.0729 +/- 0.1060\n"
     ]
    },
    {
     "ename": "KeyboardInterrupt",
     "evalue": "",
     "output_type": "error",
     "traceback": [
      "\u001b[1;31m---------------------------------------------------------------------------\u001b[0m",
      "\u001b[1;31mKeyboardInterrupt\u001b[0m                         Traceback (most recent call last)",
      "\u001b[1;32m~\\AppData\\Local\\Temp\\ipykernel_9932\\2840861501.py\u001b[0m in \u001b[0;36m<module>\u001b[1;34m\u001b[0m\n\u001b[0;32m      1\u001b[0m \u001b[0mnp\u001b[0m\u001b[1;33m.\u001b[0m\u001b[0mrandom\u001b[0m\u001b[1;33m.\u001b[0m\u001b[0mseed\u001b[0m\u001b[1;33m(\u001b[0m\u001b[1;36m42\u001b[0m\u001b[1;33m)\u001b[0m\u001b[1;33m\u001b[0m\u001b[1;33m\u001b[0m\u001b[0m\n\u001b[0;32m      2\u001b[0m \u001b[0mkwargs\u001b[0m \u001b[1;33m=\u001b[0m \u001b[1;33m{\u001b[0m\u001b[1;34m'x_grid'\u001b[0m \u001b[1;33m:\u001b[0m \u001b[0mr_x\u001b[0m\u001b[1;33m,\u001b[0m \u001b[1;34m'f_nu_grid'\u001b[0m \u001b[1;33m:\u001b[0m \u001b[0mnu_arr\u001b[0m\u001b[1;33m,\u001b[0m \u001b[1;34m'f_sigma_grid'\u001b[0m \u001b[1;33m:\u001b[0m \u001b[0msigma_arr\u001b[0m \u001b[1;33m}\u001b[0m\u001b[1;33m\u001b[0m\u001b[1;33m\u001b[0m\u001b[0m\n\u001b[1;32m----> 3\u001b[1;33m \u001b[0mandersen\u001b[0m \u001b[1;33m=\u001b[0m \u001b[0mmc_price\u001b[0m\u001b[1;33m(\u001b[0m\u001b[0mdt\u001b[0m \u001b[1;33m=\u001b[0m \u001b[1;36m1e-2\u001b[0m\u001b[1;33m,\u001b[0m \u001b[0mabsolute_error\u001b[0m\u001b[1;33m=\u001b[0m\u001b[1;36m5e-4\u001b[0m\u001b[1;33m,\u001b[0m \u001b[0mmarket_state\u001b[0m \u001b[1;33m=\u001b[0m \u001b[0mstate\u001b[0m\u001b[1;33m,\u001b[0m \u001b[0mpayoff\u001b[0m \u001b[1;33m=\u001b[0m \u001b[0mpayoff\u001b[0m\u001b[1;33m,\u001b[0m \u001b[0msimulate\u001b[0m \u001b[1;33m=\u001b[0m \u001b[0msimulate_heston_andersen_tg\u001b[0m\u001b[1;33m,\u001b[0m \u001b[0mparams\u001b[0m \u001b[1;33m=\u001b[0m \u001b[0mparams\u001b[0m\u001b[1;33m,\u001b[0m \u001b[0mT\u001b[0m \u001b[1;33m=\u001b[0m \u001b[0mT\u001b[0m\u001b[1;33m,\u001b[0m\u001b[0mdebug\u001b[0m\u001b[1;33m=\u001b[0m\u001b[1;32mTrue\u001b[0m\u001b[1;33m,\u001b[0m \u001b[1;33m**\u001b[0m\u001b[0mkwargs\u001b[0m\u001b[1;33m)\u001b[0m\u001b[1;33m\u001b[0m\u001b[1;33m\u001b[0m\u001b[0m\n\u001b[0m\u001b[0;32m      4\u001b[0m \u001b[0mprint\u001b[0m\u001b[1;33m(\u001b[0m\u001b[0mandersen\u001b[0m\u001b[1;33m)\u001b[0m\u001b[1;33m\u001b[0m\u001b[1;33m\u001b[0m\u001b[0m\n",
      "\u001b[1;32m~\\AppData\\Local\\Temp\\ipykernel_9932\\3309143744.py\u001b[0m in \u001b[0;36mmc_price\u001b[1;34m(payoff, simulate, market_state, params, T, dt, absolute_error, confidence_level, batch_size, MAX_ITER, control_variate_payoff, debug, **kwargs)\u001b[0m\n\u001b[0;32m     61\u001b[0m \u001b[1;33m\u001b[0m\u001b[0m\n\u001b[0;32m     62\u001b[0m     \u001b[1;32mwhile\u001b[0m \u001b[0mlength_conf_interval\u001b[0m \u001b[1;33m>\u001b[0m \u001b[0mabsolute_error\u001b[0m \u001b[1;32mand\u001b[0m \u001b[0miter_count\u001b[0m \u001b[1;33m<\u001b[0m \u001b[0mMAX_ITER\u001b[0m\u001b[1;33m:\u001b[0m\u001b[1;33m\u001b[0m\u001b[1;33m\u001b[0m\u001b[0m\n\u001b[1;32m---> 63\u001b[1;33m         \u001b[0mderivative_price_array\u001b[0m \u001b[1;33m=\u001b[0m \u001b[0mnp\u001b[0m\u001b[1;33m.\u001b[0m\u001b[0mappend\u001b[0m\u001b[1;33m(\u001b[0m\u001b[0mderivative_price_array\u001b[0m\u001b[1;33m,\u001b[0m \u001b[0mpayoff\u001b[0m\u001b[1;33m(\u001b[0m\u001b[0msimulate\u001b[0m\u001b[1;33m(\u001b[0m\u001b[1;33m**\u001b[0m\u001b[0margs\u001b[0m\u001b[1;33m)\u001b[0m\u001b[1;33m[\u001b[0m\u001b[1;34m'price'\u001b[0m\u001b[1;33m]\u001b[0m\u001b[1;33m)\u001b[0m\u001b[1;33m)\u001b[0m\u001b[1;33m\u001b[0m\u001b[1;33m\u001b[0m\u001b[0m\n\u001b[0m\u001b[0;32m     64\u001b[0m         \u001b[0miter_count\u001b[0m\u001b[1;33m+=\u001b[0m\u001b[1;36m1\u001b[0m\u001b[1;33m\u001b[0m\u001b[1;33m\u001b[0m\u001b[0m\n\u001b[0;32m     65\u001b[0m         \u001b[0mn\u001b[0m\u001b[1;33m+=\u001b[0m\u001b[0mbatch_size\u001b[0m\u001b[1;33m\u001b[0m\u001b[1;33m\u001b[0m\u001b[0m\n",
      "\u001b[1;32m~\\AppData\\Local\\Temp\\ipykernel_9932\\3554603860.py\u001b[0m in \u001b[0;36msimulate_heston_andersen_tg\u001b[1;34m(state, heston_params, x_grid, f_nu_grid, f_sigma_grid, time, dt, n_simulations, Psi_c, gamma_1)\u001b[0m\n\u001b[0;32m     80\u001b[0m         \u001b[1;31m#inx = np.searchsorted(x_grid, Psi)\u001b[0m\u001b[1;33m\u001b[0m\u001b[1;33m\u001b[0m\u001b[0m\n\u001b[0;32m     81\u001b[0m \u001b[1;33m\u001b[0m\u001b[0m\n\u001b[1;32m---> 82\u001b[1;33m         \u001b[0minx\u001b[0m \u001b[1;33m=\u001b[0m \u001b[1;33m(\u001b[0m\u001b[0mPsi\u001b[0m\u001b[1;33m/\u001b[0m\u001b[0mdx\u001b[0m\u001b[1;33m)\u001b[0m\u001b[1;33m.\u001b[0m\u001b[0mastype\u001b[0m\u001b[1;33m(\u001b[0m\u001b[0mint\u001b[0m\u001b[1;33m)\u001b[0m\u001b[1;33m\u001b[0m\u001b[1;33m\u001b[0m\u001b[0m\n\u001b[0m\u001b[0;32m     83\u001b[0m \u001b[1;33m\u001b[0m\u001b[0m\n\u001b[0;32m     84\u001b[0m         \u001b[0mnu\u001b[0m           \u001b[1;33m=\u001b[0m \u001b[0mm\u001b[0m\u001b[1;33m*\u001b[0m\u001b[0mf_nu_grid\u001b[0m\u001b[1;33m[\u001b[0m\u001b[0minx\u001b[0m\u001b[1;33m]\u001b[0m\u001b[1;33m\u001b[0m\u001b[1;33m\u001b[0m\u001b[0m\n",
      "\u001b[1;31mKeyboardInterrupt\u001b[0m: "
     ]
    }
   ],
   "source": [
    "np.random.seed(42)\n",
    "kwargs = {'x_grid' : r_x, 'f_nu_grid' : nu_arr, 'f_sigma_grid' : sigma_arr }\n",
    "andersen = mc_price(dt = 1e-2, absolute_error=5e-4, market_state = state, payoff = payoff, simulate = simulate_heston_andersen_tg, params = params, T = T,debug=True, **kwargs)\n",
    "print(andersen)"
   ]
  },
  {
   "cell_type": "code",
   "execution_count": 128,
   "metadata": {},
   "outputs": [
    {
     "name": "stdout",
     "output_type": "stream",
     "text": [
      "Current price: 15.8818 +/- 0.3454\n",
      "Current price: 15.9215 +/- 0.2444\n",
      "Current price: 15.9979 +/- 0.2006\n",
      "Current price: 15.9583 +/- 0.1738\n",
      "Current price: 15.9693 +/- 0.1557\n",
      "Current price: 16.0072 +/- 0.1426\n",
      "Current price: 16.0248 +/- 0.1322\n",
      "Current price: 16.0511 +/- 0.1239\n",
      "Current price: 16.0545 +/- 0.1168\n"
     ]
    },
    {
     "ename": "KeyboardInterrupt",
     "evalue": "",
     "output_type": "error",
     "traceback": [
      "\u001b[1;31m---------------------------------------------------------------------------\u001b[0m",
      "\u001b[1;31mKeyboardInterrupt\u001b[0m                         Traceback (most recent call last)",
      "\u001b[1;32m~\\AppData\\Local\\Temp\\ipykernel_9932\\3783454882.py\u001b[0m in \u001b[0;36m<module>\u001b[1;34m\u001b[0m\n\u001b[0;32m      1\u001b[0m \u001b[0mnp\u001b[0m\u001b[1;33m.\u001b[0m\u001b[0mrandom\u001b[0m\u001b[1;33m.\u001b[0m\u001b[0mseed\u001b[0m\u001b[1;33m(\u001b[0m\u001b[1;36m42\u001b[0m\u001b[1;33m)\u001b[0m\u001b[1;33m\u001b[0m\u001b[1;33m\u001b[0m\u001b[0m\n\u001b[0;32m      2\u001b[0m \u001b[0mkwargs\u001b[0m \u001b[1;33m=\u001b[0m \u001b[1;33m{\u001b[0m\u001b[1;33m}\u001b[0m\u001b[1;33m\u001b[0m\u001b[1;33m\u001b[0m\u001b[0m\n\u001b[1;32m----> 3\u001b[1;33m \u001b[0mandersen\u001b[0m \u001b[1;33m=\u001b[0m \u001b[0mmc_price\u001b[0m\u001b[1;33m(\u001b[0m\u001b[0mdt\u001b[0m \u001b[1;33m=\u001b[0m \u001b[1;36m1e-2\u001b[0m\u001b[1;33m,\u001b[0m \u001b[0mabsolute_error\u001b[0m\u001b[1;33m=\u001b[0m\u001b[1;36m5e-2\u001b[0m\u001b[1;33m,\u001b[0m \u001b[0mmarket_state\u001b[0m \u001b[1;33m=\u001b[0m \u001b[0mstate\u001b[0m\u001b[1;33m,\u001b[0m \u001b[0mpayoff\u001b[0m \u001b[1;33m=\u001b[0m \u001b[0mpayoff\u001b[0m\u001b[1;33m,\u001b[0m \u001b[0msimulate\u001b[0m \u001b[1;33m=\u001b[0m \u001b[0msimulate_heston_andersen_qe\u001b[0m\u001b[1;33m,\u001b[0m \u001b[0mparams\u001b[0m \u001b[1;33m=\u001b[0m \u001b[0mparams\u001b[0m\u001b[1;33m,\u001b[0m \u001b[0mT\u001b[0m \u001b[1;33m=\u001b[0m \u001b[0mT\u001b[0m\u001b[1;33m,\u001b[0m\u001b[0mdebug\u001b[0m\u001b[1;33m=\u001b[0m\u001b[1;32mTrue\u001b[0m\u001b[1;33m,\u001b[0m \u001b[1;33m**\u001b[0m\u001b[0mkwargs\u001b[0m\u001b[1;33m)\u001b[0m\u001b[1;33m\u001b[0m\u001b[1;33m\u001b[0m\u001b[0m\n\u001b[0m\u001b[0;32m      4\u001b[0m \u001b[0mprint\u001b[0m\u001b[1;33m(\u001b[0m\u001b[0mandersen\u001b[0m\u001b[1;33m)\u001b[0m\u001b[1;33m\u001b[0m\u001b[1;33m\u001b[0m\u001b[0m\n",
      "\u001b[1;32m~\\AppData\\Local\\Temp\\ipykernel_9932\\3309143744.py\u001b[0m in \u001b[0;36mmc_price\u001b[1;34m(payoff, simulate, market_state, params, T, dt, absolute_error, confidence_level, batch_size, MAX_ITER, control_variate_payoff, debug, **kwargs)\u001b[0m\n\u001b[0;32m     61\u001b[0m \u001b[1;33m\u001b[0m\u001b[0m\n\u001b[0;32m     62\u001b[0m     \u001b[1;32mwhile\u001b[0m \u001b[0mlength_conf_interval\u001b[0m \u001b[1;33m>\u001b[0m \u001b[0mabsolute_error\u001b[0m \u001b[1;32mand\u001b[0m \u001b[0miter_count\u001b[0m \u001b[1;33m<\u001b[0m \u001b[0mMAX_ITER\u001b[0m\u001b[1;33m:\u001b[0m\u001b[1;33m\u001b[0m\u001b[1;33m\u001b[0m\u001b[0m\n\u001b[1;32m---> 63\u001b[1;33m         \u001b[0mderivative_price_array\u001b[0m \u001b[1;33m=\u001b[0m \u001b[0mnp\u001b[0m\u001b[1;33m.\u001b[0m\u001b[0mappend\u001b[0m\u001b[1;33m(\u001b[0m\u001b[0mderivative_price_array\u001b[0m\u001b[1;33m,\u001b[0m \u001b[0mpayoff\u001b[0m\u001b[1;33m(\u001b[0m\u001b[0msimulate\u001b[0m\u001b[1;33m(\u001b[0m\u001b[1;33m**\u001b[0m\u001b[0margs\u001b[0m\u001b[1;33m)\u001b[0m\u001b[1;33m[\u001b[0m\u001b[1;34m'price'\u001b[0m\u001b[1;33m]\u001b[0m\u001b[1;33m)\u001b[0m\u001b[1;33m)\u001b[0m\u001b[1;33m\u001b[0m\u001b[1;33m\u001b[0m\u001b[0m\n\u001b[0m\u001b[0;32m     64\u001b[0m         \u001b[0miter_count\u001b[0m\u001b[1;33m+=\u001b[0m\u001b[1;36m1\u001b[0m\u001b[1;33m\u001b[0m\u001b[1;33m\u001b[0m\u001b[0m\n\u001b[0;32m     65\u001b[0m         \u001b[0mn\u001b[0m\u001b[1;33m+=\u001b[0m\u001b[0mbatch_size\u001b[0m\u001b[1;33m\u001b[0m\u001b[1;33m\u001b[0m\u001b[0m\n",
      "\u001b[1;32m~\\AppData\\Local\\Temp\\ipykernel_9932\\2660126891.py\u001b[0m in \u001b[0;36msimulate_heston_andersen_qe\u001b[1;34m(state, heston_params, time, dt, n_simulations, Psi_c, gamma_1)\u001b[0m\n\u001b[0;32m     80\u001b[0m         \u001b[0ma\u001b[0m            \u001b[1;33m=\u001b[0m \u001b[0mm\u001b[0m\u001b[1;33m[\u001b[0m\u001b[0mcond\u001b[0m\u001b[1;33m]\u001b[0m\u001b[1;33m/\u001b[0m\u001b[1;33m(\u001b[0m\u001b[1;36m1\u001b[0m\u001b[1;33m+\u001b[0m\u001b[0mb\u001b[0m\u001b[1;33m)\u001b[0m\u001b[1;33m\u001b[0m\u001b[1;33m\u001b[0m\u001b[0m\n\u001b[0;32m     81\u001b[0m         \u001b[0mb\u001b[0m            \u001b[1;33m=\u001b[0m \u001b[0mnp\u001b[0m\u001b[1;33m.\u001b[0m\u001b[0msqrt\u001b[0m\u001b[1;33m(\u001b[0m\u001b[0mb\u001b[0m\u001b[1;33m)\u001b[0m\u001b[1;33m\u001b[0m\u001b[1;33m\u001b[0m\u001b[0m\n\u001b[1;32m---> 82\u001b[1;33m         \u001b[0mZ_V\u001b[0m          \u001b[1;33m=\u001b[0m \u001b[0mnp\u001b[0m\u001b[1;33m.\u001b[0m\u001b[0mrandom\u001b[0m\u001b[1;33m.\u001b[0m\u001b[0mnormal\u001b[0m\u001b[1;33m(\u001b[0m\u001b[0msize\u001b[0m\u001b[1;33m=\u001b[0m\u001b[0mcond\u001b[0m\u001b[1;33m[\u001b[0m\u001b[1;36m0\u001b[0m\u001b[1;33m]\u001b[0m\u001b[1;33m.\u001b[0m\u001b[0mshape\u001b[0m\u001b[1;33m[\u001b[0m\u001b[1;36m0\u001b[0m\u001b[1;33m]\u001b[0m\u001b[1;33m)\u001b[0m\u001b[1;33m\u001b[0m\u001b[1;33m\u001b[0m\u001b[0m\n\u001b[0m\u001b[0;32m     83\u001b[0m         \u001b[0mV\u001b[0m\u001b[1;33m[\u001b[0m\u001b[0mcond\u001b[0m\u001b[1;33m,\u001b[0m \u001b[0mi\u001b[0m\u001b[1;33m+\u001b[0m\u001b[1;36m1\u001b[0m\u001b[1;33m]\u001b[0m \u001b[1;33m=\u001b[0m \u001b[0ma\u001b[0m\u001b[1;33m*\u001b[0m\u001b[1;33m(\u001b[0m\u001b[1;33m(\u001b[0m\u001b[0mb\u001b[0m\u001b[1;33m+\u001b[0m\u001b[0mZ_V\u001b[0m\u001b[1;33m)\u001b[0m\u001b[1;33m**\u001b[0m\u001b[1;36m2\u001b[0m\u001b[1;33m)\u001b[0m\u001b[1;33m\u001b[0m\u001b[1;33m\u001b[0m\u001b[0m\n\u001b[0;32m     84\u001b[0m \u001b[1;33m\u001b[0m\u001b[0m\n",
      "\u001b[1;31mKeyboardInterrupt\u001b[0m: "
     ]
    }
   ],
   "source": [
    "np.random.seed(42)\n",
    "kwargs = {}\n",
    "andersen = mc_price(dt = 1e-2, absolute_error=5e-2, market_state = state, payoff = payoff, simulate = simulate_heston_andersen_qe, params = params, T = T,debug=True, **kwargs)\n",
    "print(andersen)"
   ]
  },
  {
   "cell_type": "code",
   "execution_count": 35,
   "metadata": {},
   "outputs": [
    {
     "name": "stdout",
     "output_type": "stream",
     "text": [
      "Number of iterations:   499\n",
      "16.141856095186746\n",
      "Number of iterations:   500\n",
      "16.16485690142346\n",
      "Number of iterations:   501\n",
      "16.162006575869245\n",
      "Number of iterations:   501\n",
      "16.172163674801727\n",
      "Number of iterations:   502\n",
      "16.16445622313361\n",
      "\n",
      "\n",
      "\n",
      "Number of iterations:   497\n",
      "16.13599096813387\n",
      "Number of iterations:   495\n",
      "16.138183069198718\n",
      "Number of iterations:   497\n",
      "16.144927377340313\n",
      "Number of iterations:   494\n",
      "16.13851449693267\n",
      "Number of iterations:   497\n",
      "16.14301732726582\n"
     ]
    }
   ],
   "source": [
    "for i in range(5):\n",
    "    euler    = mc_price(dt = 1e-2, absolute_error=5e-2, market_state = state, payoff = payoff, simulate = simulate_heston_euler, params = params, T = T, **kwargs)\n",
    "    print(euler)\n",
    "print(\"\\n\\n\")\n",
    "for i in range(5):\n",
    "    euler    = mc_price(dt = 1e-2, absolute_error=5e-2, market_state = state, payoff = payoff, simulate = simulate_heston_andersen_qe, params = params, T = T, **kwargs)\n",
    "    print(euler)"
   ]
  },
  {
   "cell_type": "markdown",
   "metadata": {},
   "source": [
    "### Out of the money"
   ]
  },
  {
   "cell_type": "code",
   "execution_count": 11,
   "metadata": {},
   "outputs": [],
   "source": [
    "strike = 500.\n",
    "payoff = get_payoff(T, strike, state.interest_rate)"
   ]
  },
  {
   "cell_type": "code",
   "execution_count": 12,
   "metadata": {},
   "outputs": [
    {
     "data": {
      "text/plain": [
       "0.004306995667860747"
      ]
     },
     "execution_count": 12,
     "metadata": {},
     "output_type": "execute_result"
    }
   ],
   "source": [
    "model.call_price(T, strike)"
   ]
  },
  {
   "cell_type": "code",
   "execution_count": 13,
   "metadata": {},
   "outputs": [
    {
     "name": "stdout",
     "output_type": "stream",
     "text": [
      "Number of iterations:   1\n",
      "0.0\n"
     ]
    }
   ],
   "source": [
    "np.random.seed(42)\n",
    "euler    = mc_price(dt = 1e-2, market_state = state, payoff = payoff, simulate = simulate_heston_euler, params = params, T = T, **kwargs)\n",
    "print(euler)"
   ]
  },
  {
   "cell_type": "code",
   "execution_count": 14,
   "metadata": {},
   "outputs": [
    {
     "name": "stdout",
     "output_type": "stream",
     "text": [
      "Number of iterations:   1\n",
      "0.0\n"
     ]
    }
   ],
   "source": [
    "np.random.seed(42)\n",
    "andersen = mc_price(dt = 1e-2, market_state = state, payoff = payoff, simulate = simulate_heston_andersen_qe, params = params, T = T, **kwargs)\n",
    "print(andersen)"
   ]
  },
  {
   "cell_type": "markdown",
   "metadata": {},
   "source": [
    "### Implied volatility"
   ]
  },
  {
   "cell_type": "code",
   "execution_count": null,
   "metadata": {},
   "outputs": [],
   "source": [
    "def d_1(q,T,S,K,r):\n",
    "    denom=1/(q*np.sqrt(T))\n",
    "    log=np.log(S/K)\n",
    "    s2=T*(r+q*q/2)\n",
    "    return denom*(log+s2)\n",
    "\n",
    "def d_2(q,T,S,K,r):\n",
    "    denom=1/(q*np.sqrt(T))\n",
    "    log=np.log(S/K)\n",
    "    s2=T*(r-q*q/2)\n",
    "    \n",
    "    return denom*(log+s2)\n",
    "\n",
    "def calc_iv(option: CallStockOption, state: MarketState, option_price: float):\n",
    "    \n",
    "    T=option.expiration_time\n",
    "    K=option.strike_price\n",
    "    S=state.stock_price\n",
    "    r=state.interest_rate    \n",
    "    N=sps.norm()\n",
    "    \n",
    "    \n",
    "    def f(q):\n",
    "        d1=d_1(q,T,S,K,r)\n",
    "        d2=d_2(q,T,S,K,r)\n",
    "        return S*N.cdf(d1)-K*(np.exp(-r*T))*N.cdf(d2)-option_price\n",
    "    \n",
    "    def fprime(q):\n",
    "        d1=d_1(q,T,S,K,r)\n",
    "        return S*sps.norm().pdf(d1)*np.sqrt(T)\n",
    "    \n",
    "    sol = root_scalar(f, x0=0.5, fprime=fprime, method='newton')\n",
    "    return sol.root\n",
    "\n"
   ]
  },
  {
   "cell_type": "code",
   "execution_count": null,
   "metadata": {},
   "outputs": [],
   "source": [
    "strikes = np.arange(80, 120, 2)\n",
    "strikes"
   ]
  },
  {
   "cell_type": "code",
   "execution_count": null,
   "metadata": {},
   "outputs": [],
   "source": [
    "call_price = np.array([30.096826945107107,\n",
    " 28.86569299569351,\n",
    " 27.627749990421822,\n",
    " 26.468755491540694,\n",
    " 25.31876428557471,\n",
    " 24.24782290614315,\n",
    " 23.16942316862601,\n",
    " 22.12935496069162,\n",
    " 21.079816460198398,\n",
    " 20.20119494244462,\n",
    " 19.288858679686502,\n",
    " 18.392107111749084,\n",
    " 17.50127598061397,\n",
    " 16.701957005015792,\n",
    " 15.90122188123928,\n",
    " 15.14196593075513,\n",
    " 14.43621999411162,\n",
    " 13.722786552930495,\n",
    " 13.069519364876335,\n",
    " 12.47747576375882])"
   ]
  },
  {
   "cell_type": "code",
   "execution_count": null,
   "metadata": {},
   "outputs": [],
   "source": [
    "IV = np.empty_like(call_price)\n",
    "\n",
    "for j in range(len(call_price)):\n",
    "        IV[j] = calc_iv(option=CallStockOption(strikes[j], T), \n",
    "                           state=state, \n",
    "                           option_price=call_price[j])"
   ]
  },
  {
   "cell_type": "code",
   "execution_count": null,
   "metadata": {},
   "outputs": [],
   "source": [
    "_, ax = plt.subplots(figsize=(15, 5))\n",
    "\n",
    "ax.plot(strikes, IV, \"o-\")\n",
    "# ax.legend()\n",
    "ax.set_xlabel(\"Strike, $\")\n",
    "ax.set_ylabel(\"IV\")\n",
    "ax.set_title(\"Implied Volatility\")\n",
    "plt.show()"
   ]
  },
  {
   "cell_type": "code",
   "execution_count": null,
   "metadata": {},
   "outputs": [],
   "source": [
    "model = Heston(state.stock_price, heston_parameters.v0, heston_parameters.kappa, \n",
    "                         heston_parameters.vbar, heston_parameters.gamma, heston_parameters.rho, state.interest_rate)"
   ]
  },
  {
   "cell_type": "code",
   "execution_count": null,
   "metadata": {},
   "outputs": [],
   "source": [
    "call_price = np.zeros(20)\n",
    "\n",
    "for j in range(20):\n",
    "    call_price[j] = model.call_price(2., strikes[j])"
   ]
  },
  {
   "cell_type": "code",
   "execution_count": null,
   "metadata": {},
   "outputs": [],
   "source": [
    "IV = np.empty_like(call_price)\n",
    "\n",
    "for j in range(len(call_price)):\n",
    "        IV[j] = calc_iv(option=CallStockOption(strikes[j], T), \n",
    "                           state=state, \n",
    "                           option_price=call_price[j])"
   ]
  },
  {
   "cell_type": "code",
   "execution_count": null,
   "metadata": {},
   "outputs": [],
   "source": [
    "_, ax = plt.subplots(figsize=(15, 5))\n",
    "\n",
    "ax.plot(strikes, IV, \"o-\")\n",
    "# ax.legend()\n",
    "ax.set_xlabel(\"Strike, $\")\n",
    "ax.set_ylabel(\"IV\")\n",
    "ax.set_title(\"Implied Volatility\")\n",
    "plt.show()"
   ]
  },
  {
   "cell_type": "code",
   "execution_count": null,
   "metadata": {},
   "outputs": [],
   "source": [
    "Z = np.random.normal(size=1000)"
   ]
  }
 ],
 "metadata": {
  "kernelspec": {
   "display_name": "Python 3 (ipykernel)",
   "language": "python",
   "name": "python3"
  },
  "language_info": {
   "codemirror_mode": {
    "name": "ipython",
    "version": 3
   },
   "file_extension": ".py",
   "mimetype": "text/x-python",
   "name": "python",
   "nbconvert_exporter": "python",
   "pygments_lexer": "ipython3",
   "version": "3.9.13"
  },
  "vscode": {
   "interpreter": {
    "hash": "b0fa6594d8f4cbf19f97940f81e996739fb7646882a419484c72d19e05852a7e"
   }
  }
 },
 "nbformat": 4,
 "nbformat_minor": 4
}
