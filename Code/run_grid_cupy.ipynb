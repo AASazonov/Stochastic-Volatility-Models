{
 "cells": [
  {
   "cell_type": "code",
   "execution_count": 13,
   "metadata": {},
   "outputs": [],
   "source": [
    "import numpy as np\n",
    "import cupy as cp\n",
    "import pandas as pd\n",
    "import matplotlib.pyplot as plt\n",
    "\n",
    "from ipywidgets import interact\n",
    "\n",
    "from ipywidgets import widgets\n",
    "from tqdm.auto import tqdm\n",
    "\n",
    "from vol.vol import Heston\n",
    "\n",
    "from hestonmc import MarketState, HestonParameters, mc_price, simulate_heston_euler, simulate_heston_andersen_qe, simulate_heston_andersen_tg\n",
    "from hestonmc_cuda import mc_price_cupy, simulate_heston_euler_cupy, simulate_heston_andersen_qe_cupy, simulate_heston_andersen_tg_cupy, european_call_payoff_cupy\n",
    "from hestonmc_cuda_old import mc_price_cupy_old, simulate_heston_euler_cupy_old, simulate_heston_andersen_qe_cupy_old, simulate_heston_andersen_tg_cupy_old, european_call_payoff_cupy\n",
    "from derivatives import european_call_payoff"
   ]
  },
  {
   "cell_type": "code",
   "execution_count": 14,
   "metadata": {},
   "outputs": [],
   "source": [
    "heston_params_1 = HestonParameters(kappa = 1.3125, gamma = 0.5125, rho = -0.3937, vbar = 0.0641, v0 = 0.3) #from stoch vol\n",
    "heston_params_2 = HestonParameters(kappa = 1, gamma = 0.4, rho = -0.1, vbar = 0.2, v0 = 0.2) # from school\n",
    "heston_params_3 = HestonParameters(kappa = 0.5, gamma = 1, rho = -0.9, vbar = 0.04, v0 = 0.04) #  from andeson paper 1\n",
    "heston_params_4 = HestonParameters(kappa = 0.3, gamma = 0.9, rho = -0.5, vbar = 0.04, v0 = 0.04) #  from andeson paper 2\n",
    "heston_params_5 = HestonParameters(kappa = 1, gamma = 1, rho = -0.3, vbar = 0.04, v0 = 0.09) #  from andeson paper 3\n",
    "\n",
    "heston_params_array = [heston_params_1, heston_params_2, heston_params_3, heston_params_4, heston_params_5]\n",
    "\n",
    "state         = MarketState(stock_price = 1.*100, interest_rate = 0.)\n",
    "\n",
    "r_x           = np.load(r\"Data/anderson tg/r_x start=1e-07 stop=100 N=4999998 dt=2e-05.npy\")\n",
    "f_nu_y        = np.load(r\"Data/anderson tg/f_nu_y start=1e-07 stop=100 N=4999998 dt=2e-05.npy\")\n",
    "f_sigma_y     = np.load(r\"Data/anderson tg/f_sigma_y start=1e-07 stop=100 N=4999998 dt=2e-05.npy\")\n",
    "kwargs        = {'x_grid' : r_x, 'f_nu_grid' : f_nu_y, 'f_sigma_grid' : f_sigma_y }\n",
    "r_x           = cp.load(r\"Data/anderson tg/r_x start=1e-07 stop=100 N=4999998 dt=2e-05.npy\")\n",
    "f_nu_y        = cp.load(r\"Data/anderson tg/f_nu_y start=1e-07 stop=100 N=4999998 dt=2e-05.npy\")\n",
    "f_sigma_y     = cp.load(r\"Data/anderson tg/f_sigma_y start=1e-07 stop=100 N=4999998 dt=2e-05.npy\")\n",
    "kwargs_cupy        = {'x_grid' : r_x, 'f_nu_grid' : f_nu_y, 'f_sigma_grid' : f_sigma_y }"
   ]
  },
  {
   "cell_type": "code",
   "execution_count": 15,
   "metadata": {},
   "outputs": [],
   "source": [
    "import time\n",
    "from tqdm.contrib.itertools import product"
   ]
  },
  {
   "cell_type": "code",
   "execution_count": 16,
   "metadata": {},
   "outputs": [
    {
     "data": {
      "text/plain": [
       "30.428646036927244"
      ]
     },
     "execution_count": 16,
     "metadata": {},
     "output_type": "execute_result"
    }
   ],
   "source": [
    "model = Heston(state.stock_price, heston_params_3.v0, heston_params_3.kappa, heston_params_3.vbar, heston_params_3.gamma, heston_params_3.rho, state.interest_rate)\n",
    "model.call_price(0.4, 70)"
   ]
  },
  {
   "cell_type": "code",
   "execution_count": 17,
   "metadata": {},
   "outputs": [],
   "source": [
    "test_1 = {'schemes':[simulate_heston_euler_cupy, simulate_heston_andersen_tg_cupy],\n",
    "          'strikes': np.linspace(70, 120, 70),\n",
    "            'Ts': np.linspace(0.1, 5, 70),\n",
    "            'N_Ts': range(50, 125, 50),\n",
    "            'batch_sizes': range(100_000, 1000_000, 100000_000),\n",
    "            'heston_params': heston_params_1\n",
    "          }\n",
    "\n",
    "MC_compare_models_grid_test_1= pd.DataFrame(columns=['scheme' ,'heston_params#', 'strike', 'T', 'N_T', 'batch_size', 'absolute error', 'true' , 'MC_price', 'time'])"
   ]
  },
  {
   "cell_type": "code",
   "execution_count": 18,
   "metadata": {},
   "outputs": [],
   "source": [
    "test_2 = {'schemes':[simulate_heston_euler_cupy, simulate_heston_andersen_tg_cupy],\n",
    "          'strikes': np.linspace(70, 120, 20),\n",
    "            'Ts': np.linspace(0.1, 5, 20),\n",
    "            'N_Ts': range(50, 125, 500),\n",
    "            'batch_sizes': range(100_000, 1000_000, 100000_000),\n",
    "            'heston_params_n': [1, 2, 3, 4, 5]\n",
    "\n",
    "        }\n",
    "\n",
    "MC_compare_models_grid_test_2= pd.DataFrame(columns=['scheme' ,'heston_params#', 'strike', 'T', 'N_T', 'batch_size', 'absolute error', 'true' , 'MC_price', 'time'])"
   ]
  },
  {
   "cell_type": "code",
   "execution_count": 19,
   "metadata": {},
   "outputs": [],
   "source": [
    "test_3 = {'schemes':[simulate_heston_euler_cupy],\n",
    "          'strikes': np.linspace(60, 140, 30),\n",
    "            'Ts': np.linspace(0.1, 5, 30),\n",
    "            'N_Ts': range(50, 125, 50),\n",
    "            'batch_sizes': range(500_000, 1000_000, 100000_000),\n",
    "            'heston_params_n': [1, 2, 3, 4, 5]\n",
    "\n",
    "        }\n",
    "\n",
    "MC_compare_models_grid_test_3_euler= pd.DataFrame(columns=['scheme' ,'heston_params#', 'strike', 'T', 'N_T', 'batch_size', 'absolute error', 'true' , 'MC_price', 'time'])"
   ]
  },
  {
   "cell_type": "code",
   "execution_count": 20,
   "metadata": {},
   "outputs": [],
   "source": [
    "test_3 = {'schemes':[simulate_heston_andersen_tg_cupy],\n",
    "          'strikes': np.linspace(60, 140, 30),\n",
    "            'Ts': np.linspace(0.1, 5, 30),\n",
    "            'N_Ts': range(50, 125, 50),\n",
    "            'batch_sizes': range(500_000, 1000_000, 100000_000),\n",
    "            'heston_params_n': [1, 2, 3, 4, 5]\n",
    "\n",
    "        }\n",
    "\n",
    "MC_compare_models_grid_test_3_andersen= pd.DataFrame(columns=['scheme' ,'heston_params#', 'strike', 'T', 'N_T', 'batch_size', 'absolute error', 'true' , 'MC_price', 'time'])"
   ]
  },
  {
   "cell_type": "code",
   "execution_count": 9,
   "metadata": {},
   "outputs": [],
   "source": [
    "test_3 = {'schemes':[simulate_heston_euler_cupy, simulate_heston_andersen_tg_cupy],\n",
    "          'strikes': np.linspace(60, 140, 30),\n",
    "            'Ts': np.linspace(0.1, 5, 30),\n",
    "            'N_Ts': range(25, 180, 50),\n",
    "            'batch_sizes': range(500_000, 1000_000, 100000_000),\n",
    "            'heston_params_n': [1, 2, 3, 4, 5]\n",
    "\n",
    "        }\n",
    "\n",
    "MC_compare_models_grid_test_3_andersen= pd.DataFrame(columns=['scheme' ,'heston_params#', 'strike', 'T', 'N_T', 'batch_size', 'absolute error', 'true' , 'MC_price', 'time'])"
   ]
  },
  {
   "cell_type": "code",
   "execution_count": 10,
   "metadata": {},
   "outputs": [],
   "source": [
    "test_3 = {'schemes':[simulate_heston_andersen_qe_cupy],\n",
    "          'strikes': np.linspace(60, 140, 30),\n",
    "            'Ts': np.linspace(0.1, 5, 30),\n",
    "            'N_Ts': range(50, 125, 50),\n",
    "            'batch_sizes': range(500_000, 1000_000, 100000_000),\n",
    "            'heston_params_n': [1, 2, 3, 4, 5]\n",
    "\n",
    "        }\n",
    "\n",
    "MC_compare_models_grid_test_3_qe= pd.DataFrame(columns=['scheme' ,'heston_params#', 'strike', 'T', 'N_T', 'batch_size', 'absolute error', 'true' , 'MC_price', 'time'])"
   ]
  },
  {
   "cell_type": "code",
   "execution_count": 23,
   "metadata": {},
   "outputs": [],
   "source": [
    "test_3 = {'schemes':[simulate_heston_andersen_qe_cupy_old, simulate_heston_andersen_tg_cupy_old],\n",
    "          'strikes': np.linspace(60, 140, 30),\n",
    "            'Ts': np.linspace(0.1, 5, 30),\n",
    "            'N_Ts': range(50, 125, 50),\n",
    "            'batch_sizes': range(500_000, 1000_000, 100000_000),\n",
    "            'heston_params_n': [1]\n",
    "\n",
    "        }\n",
    "\n",
    "MC_compare_models_grid_test_3_qe= pd.DataFrame(columns=['scheme' ,'heston_params#', 'strike', 'T', 'N_T', 'batch_size', 'absolute error', 'true' , 'MC_price', 'time'])"
   ]
  },
  {
   "cell_type": "code",
   "execution_count": 24,
   "metadata": {},
   "outputs": [
    {
     "data": {
      "application/vnd.jupyter.widget-view+json": {
       "model_id": "962ef24a766c4e58a24b4060225a92bd",
       "version_major": 2,
       "version_minor": 0
      },
      "text/plain": [
       "  0%|          | 0/3600 [00:00<?, ?it/s]"
      ]
     },
     "metadata": {},
     "output_type": "display_data"
    }
   ],
   "source": [
    "\n",
    "i = 0\n",
    "\n",
    "for scheme, strike, T, N_T, batch_size , heston_params_n in product(test_3['schemes'], test_3['strikes'], test_3['Ts'], test_3['N_Ts'], test_3['batch_sizes'], test_3['heston_params_n']):\n",
    "    heston_params_ = heston_params_array[heston_params_n-1]\n",
    "    ec_payoff = european_call_payoff_cupy(T, strike, state.interest_rate)\n",
    "    \n",
    "    common_mc_params = {\"absolute_error\": 5e-2, \"state\": state, \"heston_params\": heston_params_, \"payoff\": ec_payoff, \"T\": T, \"random_seed\": 42, \"verbose\": False}\n",
    "    model = Heston(state.stock_price, heston_params_.v0, heston_params_.kappa, heston_params_.vbar, heston_params_.gamma, heston_params_.rho, state.interest_rate)\n",
    "    \n",
    "    if scheme == simulate_heston_andersen_tg_cupy_old:\n",
    "        st = time.time()\n",
    "        res = float(mc_price_cupy_old(N_T = N_T, simulate = scheme, batch_size=batch_size, **common_mc_params, **kwargs_cupy))\n",
    "        et = time.time()\n",
    "    elif scheme == simulate_heston_euler_cupy_old:\n",
    "        st = time.time()\n",
    "        res = float(mc_price_cupy_old(N_T = N_T, simulate = scheme, batch_size=batch_size, **common_mc_params))\n",
    "        et = time.time()\n",
    "    elif scheme == simulate_heston_andersen_qe_cupy_old:\n",
    "        st = time.time()\n",
    "        res = float(mc_price_cupy_old(N_T = N_T, simulate = scheme, batch_size=batch_size, **common_mc_params))\n",
    "        et = time.time()\n",
    "    MC_compare_models_grid_test_3_qe.loc[i] = (scheme.__name__, heston_params_n, strike, T, N_T, batch_size,common_mc_params['absolute_error'], model.call_price(T, strike), res, et-st)\n",
    "    i +=1"
   ]
  },
  {
   "cell_type": "code",
   "execution_count": 25,
   "metadata": {},
   "outputs": [],
   "source": [
    "MC_compare_models_grid_test_3_qe.to_csv(r\"Data/evaluation/MC_compare_models_grid_test_3_qe_tg_1.csv\")"
   ]
  },
  {
   "cell_type": "code",
   "execution_count": 7,
   "metadata": {},
   "outputs": [],
   "source": [
    "MC_compare_models_grid_test_3_euler.to_csv(r\"Data/evaluation/MC_compare_models_grid_test_3_euler.csv\")"
   ]
  },
  {
   "cell_type": "code",
   "execution_count": 76,
   "metadata": {},
   "outputs": [],
   "source": [
    "MC_compare_models_grid_test_2.to_csv(r\"Data/evaluation/MC_compare_models_grid_test_2.csv\")"
   ]
  }
 ],
 "metadata": {
  "kernelspec": {
   "display_name": "base",
   "language": "python",
   "name": "python3"
  },
  "language_info": {
   "codemirror_mode": {
    "name": "ipython",
    "version": 3
   },
   "file_extension": ".py",
   "mimetype": "text/x-python",
   "name": "python",
   "nbconvert_exporter": "python",
   "pygments_lexer": "ipython3",
   "version": "3.9.13"
  },
  "orig_nbformat": 4,
  "vscode": {
   "interpreter": {
    "hash": "ad2bdc8ecc057115af97d19610ffacc2b4e99fae6737bb82f5d7fb13d2f2c186"
   }
  }
 },
 "nbformat": 4,
 "nbformat_minor": 2
}
