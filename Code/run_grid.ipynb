{
 "cells": [
  {
   "cell_type": "code",
   "execution_count": 1,
   "metadata": {},
   "outputs": [],
   "source": [
    "import numpy as np\n",
    "import cupy as cp\n",
    "import pandas as pd\n",
    "import matplotlib.pyplot as plt\n",
    "\n",
    "from ipywidgets import interact\n",
    "\n",
    "from ipywidgets import widgets\n",
    "from tqdm.auto import tqdm\n",
    "\n",
    "from vol.vol import Heston\n",
    "\n",
    "from hestonmc import MarketState, HestonParameters, mc_price, simulate_heston_euler, simulate_heston_andersen_qe, simulate_heston_andersen_tg, european_call_payoff\n",
    "from hestonmc_cuda import mc_price_cupy, simulate_heston_euler_cupy, simulate_heston_andersen_qe_cupy, simulate_heston_andersen_tg_cupy, european_call_payoff_cupy"
   ]
  },
  {
   "cell_type": "code",
   "execution_count": 2,
   "metadata": {},
   "outputs": [],
   "source": [
    "heston_params_1 = HestonParameters(kappa = 1.3125, gamma = 0.5125, rho = -0.3937, vbar = 0.0641, v0 = 0.3) #from stoch vol\n",
    "heston_params_2 = HestonParameters(kappa = 1, gamma = 0.4, rho = -0.1, vbar = 0.2, v0 = 0.2) # from school\n",
    "heston_params_3 = HestonParameters(kappa = 0.5, gamma = 1, rho = -0.9, vbar = 0.04, v0 = 0.04) #  from andeson paper 1\n",
    "heston_params_4 = HestonParameters(kappa = 0.3, gamma = 0.9, rho = -0.5, vbar = 0.04, v0 = 0.04) #  from andeson paper 2\n",
    "heston_params_5 = HestonParameters(kappa = 1, gamma = 1, rho = -0.3, vbar = 0.04, v0 = 0.09) #  from andeson paper 3\n",
    "\n",
    "heston_params_array = [heston_params_1, heston_params_2, heston_params_3, heston_params_4, heston_params_5]\n",
    "\n",
    "state         = MarketState(stock_price = 1.*100, interest_rate = 0.)\n",
    "\n",
    "r_x           = np.load(r\"Data/anderson tg/r_x start=1e-07 stop=100 N=4999998 dt=2e-05.npy\")\n",
    "f_nu_y        = np.load(r\"Data/anderson tg/f_nu_y start=1e-07 stop=100 N=4999998 dt=2e-05.npy\")\n",
    "f_sigma_y     = np.load(r\"Data/anderson tg/f_sigma_y start=1e-07 stop=100 N=4999998 dt=2e-05.npy\")\n",
    "kwargs        = {'x_grid' : r_x, 'f_nu_grid' : f_nu_y, 'f_sigma_grid' : f_sigma_y }\n",
    "r_x           = cp.load(r\"Data/anderson tg/r_x start=1e-07 stop=100 N=4999998 dt=2e-05.npy\")\n",
    "f_nu_y        = cp.load(r\"Data/anderson tg/f_nu_y start=1e-07 stop=100 N=4999998 dt=2e-05.npy\")\n",
    "f_sigma_y     = cp.load(r\"Data/anderson tg/f_sigma_y start=1e-07 stop=100 N=4999998 dt=2e-05.npy\")\n",
    "kwargs_cupy        = {'x_grid' : r_x, 'f_nu_grid' : f_nu_y, 'f_sigma_grid' : f_sigma_y }"
   ]
  },
  {
   "cell_type": "code",
   "execution_count": 5,
   "metadata": {},
   "outputs": [],
   "source": [
    "import time\n",
    "from tqdm.contrib.itertools import product"
   ]
  },
  {
   "cell_type": "code",
   "execution_count": 18,
   "metadata": {},
   "outputs": [
    {
     "data": {
      "text/plain": [
       "30.428646036927244"
      ]
     },
     "execution_count": 18,
     "metadata": {},
     "output_type": "execute_result"
    }
   ],
   "source": [
    "model = Heston(state.stock_price, heston_params_3.v0, heston_params_3.kappa, heston_params_3.vbar, heston_params_3.gamma, heston_params_3.rho, state.interest_rate)\n",
    "model.call_price(0.4, 70)"
   ]
  },
  {
   "cell_type": "code",
   "execution_count": null,
   "metadata": {},
   "outputs": [],
   "source": [
    "test_1 = {'schemes':[simulate_heston_euler_cupy, simulate_heston_andersen_tg_cupy],\n",
    "          'strikes': np.linspace(70, 120, 70),\n",
    "            'Ts': np.linspace(0.1, 5, 70),\n",
    "            'N_Ts': range(50, 125, 50),\n",
    "            'batch_sizes': range(100_000, 1000_000, 100000_000),\n",
    "            'heston_params': heston_params_1\n",
    "\n",
    "MC_compare_models_grid_test_1= pd.DataFrame(columns=['scheme' ,'heston_params#', 'strike', 'T', 'N_T', 'batch_size', 'absolute error', 'true' , 'MC_price', 'time'])"
   ]
  },
  {
   "cell_type": "code",
   "execution_count": 19,
   "metadata": {},
   "outputs": [],
   "source": [
    "test_2 = {'schemes':[simulate_heston_euler_cupy, simulate_heston_andersen_tg_cupy],\n",
    "          'strikes': np.linspace(70, 120, 20),\n",
    "            'Ts': np.linspace(0.1, 5, 20),\n",
    "            'N_Ts': range(50, 125, 500),\n",
    "            'batch_sizes': range(100_000, 1000_000, 100000_000),\n",
    "            'heston_params_n': [1, 2, 3, 4, 5]\n",
    "\n",
    "        }\n",
    "\n",
    "MC_compare_models_grid_test_2= pd.DataFrame(columns=['scheme' ,'heston_params#', 'strike', 'T', 'N_T', 'batch_size', 'absolute error', 'true' , 'MC_price', 'time'])"
   ]
  },
  {
   "cell_type": "code",
   "execution_count": 20,
   "metadata": {},
   "outputs": [
    {
     "data": {
      "application/vnd.jupyter.widget-view+json": {
       "model_id": "f7d56a2f57d24b2aa16d6b4bc8cd39ad",
       "version_major": 2,
       "version_minor": 0
      },
      "text/plain": [
       "  0%|          | 0/4000 [00:00<?, ?it/s]"
      ]
     },
     "metadata": {},
     "output_type": "display_data"
    },
    {
     "name": "stderr",
     "output_type": "stream",
     "text": [
      "/media/kir1200/E4C4BDFBC4BDCFD2/Other/code/jypeter/Stochastic-Volatility-Models/Code/vol/vol/heston.py:96: IntegrationWarning: The maximum number of subdivisions (50) has been achieved.\n",
      "  If increasing the limit yields no improvement it is advised to analyze \n",
      "  the integrand in order to determine the difficulties.  If the position of a \n",
      "  local difficulty can be determined (singularity, discontinuity) one will \n",
      "  probably gain from splitting up the interval and calling the integrator \n",
      "  on the subranges.  Perhaps a special-purpose integrator should be used.\n",
      "  intg.quad(\n",
      "/media/kir1200/E4C4BDFBC4BDCFD2/Other/code/jypeter/Stochastic-Volatility-Models/Code/vol/vol/heston.py:96: IntegrationWarning: The maximum number of subdivisions (50) has been achieved.\n",
      "  If increasing the limit yields no improvement it is advised to analyze \n",
      "  the integrand in order to determine the difficulties.  If the position of a \n",
      "  local difficulty can be determined (singularity, discontinuity) one will \n",
      "  probably gain from splitting up the interval and calling the integrator \n",
      "  on the subranges.  Perhaps a special-purpose integrator should be used.\n",
      "  intg.quad(\n"
     ]
    }
   ],
   "source": [
    "\n",
    "i = 0\n",
    "\n",
    "for scheme, strike, T, N_T, batch_size , heston_params_n in product(test_2['schemes'], test_2['strikes'], test_2['Ts'], test_2['N_Ts'], test_2['batch_sizes'], test_2['heston_params_n']):\n",
    "    heston_params_ = heston_params_array[heston_params_n-1]\n",
    "    ec_payoff = european_call_payoff_cupy(T, strike, state.interest_rate)\n",
    "    \n",
    "    common_mc_params = {\"absolute_error\": 5e-2, \"state\": state, \"heston_params\": heston_params_, \"payoff\": ec_payoff, \"T\": T, \"random_seed\": 42, \"verbose\": False}\n",
    "    model = Heston(state.stock_price, heston_params_.v0, heston_params_.kappa, heston_params_.vbar, heston_params_.gamma, heston_params_.rho, state.interest_rate)\n",
    "    \n",
    "    if scheme == simulate_heston_andersen_tg_cupy:\n",
    "        st = time.time()\n",
    "        res = float(mc_price_cupy(N_T = N_T, simulate = scheme, batch_size=batch_size, **common_mc_params, **kwargs_cupy))\n",
    "        et = time.time()\n",
    "    elif scheme == simulate_heston_euler_cupy:\n",
    "        st = time.time()\n",
    "        res = float(mc_price_cupy(N_T = N_T, simulate = scheme, batch_size=batch_size, **common_mc_params))\n",
    "        et = time.time()\n",
    "    elif scheme == simulate_heston_andersen_qe_cupy:\n",
    "        st = time.time()\n",
    "        res = float(mc_price_cupy(N_T = N_T, simulate = scheme, batch_size=batch_size, **common_mc_params))\n",
    "        et = time.time()\n",
    "    MC_compare_models_grid_test_2.loc[i] = (scheme.__name__, heston_params_n, strike, T, N_T, batch_size,common_mc_params['absolute_error'], model.call_price(T, strike), res, et-st)\n",
    "    i +=1"
   ]
  },
  {
   "cell_type": "code",
   "execution_count": 76,
   "metadata": {},
   "outputs": [],
   "source": [
    "MC_compare_models_grid_test_2.to_csv(r\"Data/evaluation/MC_compare_models_grid_test_2.csv\")"
   ]
  },
  {
   "cell_type": "code",
   "execution_count": 4,
   "metadata": {},
   "outputs": [],
   "source": [
    "MC_compare_models_grid_test_1  = pd.read_csv('Data/evaluation/MC_compare_models_grid_test_1_fixed_true.csv', index_col=0)"
   ]
  },
  {
   "cell_type": "code",
   "execution_count": 119,
   "metadata": {},
   "outputs": [],
   "source": [
    "#MC_compare_models_grid_test_1.to_csv(r\"Data/evaluation/MC_compare_models_grid_test_1_fixed_true.csv\")"
   ]
  },
  {
   "cell_type": "code",
   "execution_count": 132,
   "metadata": {},
   "outputs": [
    {
     "data": {
      "text/html": [
       "<div>\n",
       "<style scoped>\n",
       "    .dataframe tbody tr th:only-of-type {\n",
       "        vertical-align: middle;\n",
       "    }\n",
       "\n",
       "    .dataframe tbody tr th {\n",
       "        vertical-align: top;\n",
       "    }\n",
       "\n",
       "    .dataframe thead th {\n",
       "        text-align: right;\n",
       "    }\n",
       "</style>\n",
       "<table border=\"1\" class=\"dataframe\">\n",
       "  <thead>\n",
       "    <tr style=\"text-align: right;\">\n",
       "      <th></th>\n",
       "      <th>scheme</th>\n",
       "      <th>heston_params#</th>\n",
       "      <th>strike</th>\n",
       "      <th>T</th>\n",
       "      <th>N_T</th>\n",
       "      <th>batch_size</th>\n",
       "      <th>absolute error</th>\n",
       "      <th>true</th>\n",
       "      <th>MC_price</th>\n",
       "      <th>time</th>\n",
       "    </tr>\n",
       "  </thead>\n",
       "  <tbody>\n",
       "    <tr>\n",
       "      <th>0</th>\n",
       "      <td>simulate_heston_euler_cupy</td>\n",
       "      <td>1</td>\n",
       "      <td>70.0</td>\n",
       "      <td>0.100000</td>\n",
       "      <td>50</td>\n",
       "      <td>100000</td>\n",
       "      <td>0.05</td>\n",
       "      <td>30.131379</td>\n",
       "      <td>30.129462</td>\n",
       "      <td>0.111071</td>\n",
       "    </tr>\n",
       "    <tr>\n",
       "      <th>1</th>\n",
       "      <td>simulate_heston_euler_cupy</td>\n",
       "      <td>1</td>\n",
       "      <td>70.0</td>\n",
       "      <td>0.100000</td>\n",
       "      <td>100</td>\n",
       "      <td>100000</td>\n",
       "      <td>0.05</td>\n",
       "      <td>30.131379</td>\n",
       "      <td>30.143064</td>\n",
       "      <td>0.198346</td>\n",
       "    </tr>\n",
       "    <tr>\n",
       "      <th>2</th>\n",
       "      <td>simulate_heston_euler_cupy</td>\n",
       "      <td>1</td>\n",
       "      <td>70.0</td>\n",
       "      <td>0.171014</td>\n",
       "      <td>50</td>\n",
       "      <td>100000</td>\n",
       "      <td>0.05</td>\n",
       "      <td>30.499960</td>\n",
       "      <td>30.483909</td>\n",
       "      <td>0.145198</td>\n",
       "    </tr>\n",
       "    <tr>\n",
       "      <th>3</th>\n",
       "      <td>simulate_heston_euler_cupy</td>\n",
       "      <td>1</td>\n",
       "      <td>70.0</td>\n",
       "      <td>0.171014</td>\n",
       "      <td>100</td>\n",
       "      <td>100000</td>\n",
       "      <td>0.05</td>\n",
       "      <td>30.499960</td>\n",
       "      <td>30.480420</td>\n",
       "      <td>0.301842</td>\n",
       "    </tr>\n",
       "    <tr>\n",
       "      <th>4</th>\n",
       "      <td>simulate_heston_euler_cupy</td>\n",
       "      <td>1</td>\n",
       "      <td>70.0</td>\n",
       "      <td>0.242029</td>\n",
       "      <td>50</td>\n",
       "      <td>100000</td>\n",
       "      <td>0.05</td>\n",
       "      <td>30.955468</td>\n",
       "      <td>30.929116</td>\n",
       "      <td>0.180836</td>\n",
       "    </tr>\n",
       "    <tr>\n",
       "      <th>...</th>\n",
       "      <td>...</td>\n",
       "      <td>...</td>\n",
       "      <td>...</td>\n",
       "      <td>...</td>\n",
       "      <td>...</td>\n",
       "      <td>...</td>\n",
       "      <td>...</td>\n",
       "      <td>...</td>\n",
       "      <td>...</td>\n",
       "      <td>...</td>\n",
       "    </tr>\n",
       "    <tr>\n",
       "      <th>19595</th>\n",
       "      <td>simulate_heston_andersen_tg_cupy</td>\n",
       "      <td>1</td>\n",
       "      <td>120.0</td>\n",
       "      <td>4.857971</td>\n",
       "      <td>100</td>\n",
       "      <td>100000</td>\n",
       "      <td>0.05</td>\n",
       "      <td>18.684402</td>\n",
       "      <td>18.809335</td>\n",
       "      <td>1.729174</td>\n",
       "    </tr>\n",
       "    <tr>\n",
       "      <th>19596</th>\n",
       "      <td>simulate_heston_andersen_tg_cupy</td>\n",
       "      <td>1</td>\n",
       "      <td>120.0</td>\n",
       "      <td>4.928986</td>\n",
       "      <td>50</td>\n",
       "      <td>100000</td>\n",
       "      <td>0.05</td>\n",
       "      <td>18.811424</td>\n",
       "      <td>19.045366</td>\n",
       "      <td>0.698318</td>\n",
       "    </tr>\n",
       "    <tr>\n",
       "      <th>19597</th>\n",
       "      <td>simulate_heston_andersen_tg_cupy</td>\n",
       "      <td>1</td>\n",
       "      <td>120.0</td>\n",
       "      <td>4.928986</td>\n",
       "      <td>100</td>\n",
       "      <td>100000</td>\n",
       "      <td>0.05</td>\n",
       "      <td>18.811424</td>\n",
       "      <td>18.934070</td>\n",
       "      <td>1.756082</td>\n",
       "    </tr>\n",
       "    <tr>\n",
       "      <th>19598</th>\n",
       "      <td>simulate_heston_andersen_tg_cupy</td>\n",
       "      <td>1</td>\n",
       "      <td>120.0</td>\n",
       "      <td>5.000000</td>\n",
       "      <td>50</td>\n",
       "      <td>100000</td>\n",
       "      <td>0.05</td>\n",
       "      <td>18.937836</td>\n",
       "      <td>19.157635</td>\n",
       "      <td>0.713773</td>\n",
       "    </tr>\n",
       "    <tr>\n",
       "      <th>19599</th>\n",
       "      <td>simulate_heston_andersen_tg_cupy</td>\n",
       "      <td>1</td>\n",
       "      <td>120.0</td>\n",
       "      <td>5.000000</td>\n",
       "      <td>100</td>\n",
       "      <td>100000</td>\n",
       "      <td>0.05</td>\n",
       "      <td>18.937836</td>\n",
       "      <td>19.067043</td>\n",
       "      <td>1.779992</td>\n",
       "    </tr>\n",
       "  </tbody>\n",
       "</table>\n",
       "<p>19600 rows × 10 columns</p>\n",
       "</div>"
      ],
      "text/plain": [
       "                                 scheme  heston_params#  strike         T  \\\n",
       "0            simulate_heston_euler_cupy               1    70.0  0.100000   \n",
       "1            simulate_heston_euler_cupy               1    70.0  0.100000   \n",
       "2            simulate_heston_euler_cupy               1    70.0  0.171014   \n",
       "3            simulate_heston_euler_cupy               1    70.0  0.171014   \n",
       "4            simulate_heston_euler_cupy               1    70.0  0.242029   \n",
       "...                                 ...             ...     ...       ...   \n",
       "19595  simulate_heston_andersen_tg_cupy               1   120.0  4.857971   \n",
       "19596  simulate_heston_andersen_tg_cupy               1   120.0  4.928986   \n",
       "19597  simulate_heston_andersen_tg_cupy               1   120.0  4.928986   \n",
       "19598  simulate_heston_andersen_tg_cupy               1   120.0  5.000000   \n",
       "19599  simulate_heston_andersen_tg_cupy               1   120.0  5.000000   \n",
       "\n",
       "       N_T  batch_size  absolute error       true   MC_price      time  \n",
       "0       50      100000            0.05  30.131379  30.129462  0.111071  \n",
       "1      100      100000            0.05  30.131379  30.143064  0.198346  \n",
       "2       50      100000            0.05  30.499960  30.483909  0.145198  \n",
       "3      100      100000            0.05  30.499960  30.480420  0.301842  \n",
       "4       50      100000            0.05  30.955468  30.929116  0.180836  \n",
       "...    ...         ...             ...        ...        ...       ...  \n",
       "19595  100      100000            0.05  18.684402  18.809335  1.729174  \n",
       "19596   50      100000            0.05  18.811424  19.045366  0.698318  \n",
       "19597  100      100000            0.05  18.811424  18.934070  1.756082  \n",
       "19598   50      100000            0.05  18.937836  19.157635  0.713773  \n",
       "19599  100      100000            0.05  18.937836  19.067043  1.779992  \n",
       "\n",
       "[19600 rows x 10 columns]"
      ]
     },
     "execution_count": 132,
     "metadata": {},
     "output_type": "execute_result"
    }
   ],
   "source": [
    "MC_compare_models_grid_test_1"
   ]
  },
  {
   "cell_type": "code",
   "execution_count": 79,
   "metadata": {},
   "outputs": [
    {
     "name": "stderr",
     "output_type": "stream",
     "text": [
      "/tmp/ipykernel_24995/1197459387.py:7: UserWarning:\n",
      "\n",
      "Boolean Series key will be reindexed to match DataFrame index.\n",
      "\n"
     ]
    }
   ],
   "source": [
    "scheme_  = 'simulate_heston_euler_cupy'\n",
    "N_T_ = 50\n",
    "heston_params_n_ = 4\n",
    "\n",
    "\n",
    "\n",
    "test2_euler = MC_compare_models_grid_test_2[MC_compare_models_grid_test_2['scheme'] == scheme_] [MC_compare_models_grid_test_2['N_T'] == N_T_][MC_compare_models_grid_test_2['heston_params#'] == heston_params_n_]\n",
    "\n",
    "test2_euler = test2_euler[['strike', 'T', 'MC_price', 'true']]"
   ]
  },
  {
   "cell_type": "code",
   "execution_count": 80,
   "metadata": {},
   "outputs": [
    {
     "name": "stderr",
     "output_type": "stream",
     "text": [
      "/tmp/ipykernel_24995/1244370760.py:7: UserWarning:\n",
      "\n",
      "Boolean Series key will be reindexed to match DataFrame index.\n",
      "\n"
     ]
    }
   ],
   "source": [
    "scheme_  = 'simulate_heston_andersen_tg_cupy'\n",
    "N_T_ = 50\n",
    "heston_params_n_ = 4\n",
    "\n",
    "\n",
    "\n",
    "test2_anderson = MC_compare_models_grid_test_2[MC_compare_models_grid_test_2['scheme'] == scheme_] [MC_compare_models_grid_test_2['N_T'] == N_T_][MC_compare_models_grid_test_2['heston_params#'] == heston_params_n_]\n",
    "\n",
    "\n",
    "test2_anderson = test2_anderson[['strike', 'T', 'MC_price', 'true']]"
   ]
  },
  {
   "cell_type": "code",
   "execution_count": 81,
   "metadata": {},
   "outputs": [],
   "source": [
    "test2_euler['error'] = test2_euler['MC_price'] - test2_euler['true']\n",
    "test2_anderson['error'] = test2_anderson['MC_price'] - test2_anderson['true']"
   ]
  },
  {
   "cell_type": "code",
   "execution_count": 82,
   "metadata": {},
   "outputs": [],
   "source": [
    "test2_euler = test2_euler.pivot(index='strike', columns='T', values='error')\n",
    "test2_anderson = test2_anderson.pivot(index='strike', columns='T', values='error')"
   ]
  },
  {
   "cell_type": "code",
   "execution_count": 128,
   "metadata": {},
   "outputs": [],
   "source": [
    "test2_euler = test2_euler.pivot(index='strike', columns='T', values='true')\n",
    "test2_anderson = test2_anderson.pivot(index='strike', columns='T', values='true')"
   ]
  },
  {
   "cell_type": "code",
   "execution_count": 94,
   "metadata": {},
   "outputs": [],
   "source": [
    "test2_euler = test2_euler.pivot(index='strike', columns='T', values='MC_price')\n",
    "test2_anderson = test2_anderson.pivot(index='strike', columns='T', values='MC_price')"
   ]
  },
  {
   "cell_type": "code",
   "execution_count": 83,
   "metadata": {},
   "outputs": [],
   "source": [
    "test2_euler = test2_euler.abs()\n",
    "test2_anderson = test2_anderson.abs()"
   ]
  },
  {
   "cell_type": "code",
   "execution_count": 66,
   "metadata": {},
   "outputs": [
    {
     "data": {
      "text/plain": [
       "0.49000000000000005"
      ]
     },
     "execution_count": 66,
     "metadata": {},
     "output_type": "execute_result"
    }
   ],
   "source": [
    "4.9/10"
   ]
  },
  {
   "cell_type": "code",
   "execution_count": 78,
   "metadata": {},
   "outputs": [
    {
     "data": {
      "application/vnd.plotly.v1+json": {
       "config": {
        "plotlyServerURL": "https://plot.ly"
       },
       "data": [
        {
         "type": "surface",
         "x": [
          0.1,
          0.35789473684210527,
          0.6157894736842106,
          0.8736842105263158,
          1.1315789473684212,
          1.3894736842105266,
          1.6473684210526318,
          1.905263157894737,
          2.1631578947368424,
          2.421052631578948,
          2.678947368421053,
          2.936842105263158,
          3.1947368421052635,
          3.452631578947369,
          3.710526315789474,
          3.9684210526315793,
          4.226315789473684,
          4.484210526315789,
          4.742105263157895,
          5
         ],
         "y": [
          70,
          72.63157894736842,
          75.26315789473685,
          77.89473684210526,
          80.52631578947368,
          83.15789473684211,
          85.78947368421052,
          88.42105263157895,
          91.05263157894737,
          93.6842105263158,
          96.31578947368422,
          98.94736842105263,
          101.57894736842105,
          104.21052631578948,
          106.84210526315789,
          109.47368421052632,
          112.10526315789474,
          114.73684210526316,
          117.36842105263159,
          120
         ],
         "z": [
          [
           0.010561205412830788,
           0.04007390628930452,
           0.004349564983904486,
           0.024459373400318896,
           0.04039860323342026,
           0.0751582447362793,
           0.12186713230794766,
           0.10758587580945544,
           0.12759498908463485,
           0.1291628813090142,
           0.16025464631556474,
           0.162676176805725,
           0.18794875716911008,
           0.18558194132921102,
           0.21540984612298075,
           0.257483844997374,
           0.25193285476007077,
           0.2515251881108469,
           0.2773614748417188,
           0.28408834153334794
          ],
          [
           0.006565042383545716,
           0.03801906195304383,
           0.015920895396352108,
           0.027650564802417676,
           0.0601267447151308,
           0.056312023061305894,
           0.11932655515811064,
           0.12545689062456944,
           0.15015600219695457,
           0.14977648496026674,
           0.1930730254294204,
           0.2102872704973855,
           0.21189827551502205,
           0.2133799715110385,
           0.24421360197248987,
           0.2629208295661911,
           0.2619112610887697,
           0.2831480302007776,
           0.29595724909248133,
           0.32357643676279224
          ],
          [
           0.004027535484965483,
           0.023328810410241374,
           0.006056952629634793,
           0.050601892694650985,
           0.05343262328503684,
           0.0540438489548265,
           0.07537908999371723,
           0.13985810092168904,
           0.15292701632353456,
           0.18187346259982107,
           0.18864576853987103,
           0.23504150254235867,
           0.2200841374489393,
           0.2579316777020324,
           0.2542099543796823,
           0.27512782905667166,
           0.29481265452797345,
           0.30277903687845154,
           0.32571497354313905,
           0.3437934564166376
          ],
          [
           0.000358302824913892,
           0.00896442630419969,
           0.00047469645881292877,
           0.03782595111312048,
           0.06998859012234604,
           0.09053733464146418,
           0.11517770691850515,
           0.1474060733743272,
           0.1807704264608283,
           0.193461219653301,
           0.18926906287660827,
           0.2195552149683202,
           0.2542523923024014,
           0.2539393427810275,
           0.28300522405472606,
           0.2868780856123472,
           0.3049625203591084,
           0.3332350025040327,
           0.3501496860366622,
           0.36566403161926075
          ],
          [
           0.0011796654657807437,
           0.012318964945716715,
           0.015012954009502977,
           0.03559358523656542,
           0.06004108167174138,
           0.09800370186435359,
           0.13723265499623238,
           0.17593364796515232,
           0.19872631073129554,
           0.2084463050281684,
           0.21533097039145233,
           0.23375672395886227,
           0.27914569115039356,
           0.29038481936915517,
           0.30670231880800713,
           0.3067010611157315,
           0.3156650968849952,
           0.36865477632812116,
           0.372512526372514,
           0.4109287308088625
          ],
          [
           0.025914584931499007,
           0.012165483394802834,
           0.029056645252488522,
           0.057576924461830714,
           0.07646930680433783,
           0.1299431128387738,
           0.169638269858833,
           0.16280451816481545,
           0.21329474088330969,
           0.22762226369553673,
           0.2777436840643013,
           0.2759727596816788,
           0.30297206116817677,
           0.2896302328198317,
           0.33360460623847743,
           0.35533696390930203,
           0.35065067063510114,
           0.3686578825049196,
           0.3879018438386481,
           0.43863517151065423
          ],
          [
           0.040782297116345845,
           0.009189063550483212,
           0.012319306881934722,
           0.039501712577035164,
           0.0654557623955121,
           0.12455828765859778,
           0.15328304787682256,
           0.19558240073900635,
           0.23609992265933144,
           0.25385677261224515,
           0.24787732670085916,
           0.29219736529827145,
           0.29938236443570787,
           0.3625717702114528,
           0.3508015115823433,
           0.36786569172298655,
           0.39899609604083963,
           0.4213613217747536,
           0.41562194941604247,
           0.44247578137108334
          ],
          [
           0.02567177001825449,
           0.0018945298415768974,
           0.0027014567843384185,
           0.045798256596357945,
           0.11637198345890454,
           0.1429377284798825,
           0.2037749962044728,
           0.21798165623880195,
           0.2510936566827624,
           0.26865932874880016,
           0.2877901062115882,
           0.2973332468673995,
           0.34835747426128094,
           0.3534359493451902,
           0.38767126317047484,
           0.39177017715834594,
           0.41495842893862545,
           0.42240435538374754,
           0.4303258611065246,
           0.4573557919146616
          ],
          [
           0.007356372512813181,
           0.00034468936840070796,
           0.04244117088563115,
           0.09264094493876662,
           0.12207037338092164,
           0.15193047231872292,
           0.19460628144935477,
           0.2235541956790712,
           0.26743806026346917,
           0.2824121992050159,
           0.32092191858188457,
           0.34336913215893006,
           0.3573454630445809,
           0.38498115668696187,
           0.40548973701427826,
           0.41723915843817494,
           0.43703693286473566,
           0.4432966101331779,
           0.48685631737441426,
           0.47658909681424433
          ],
          [
           0.027235973390478563,
           0.01601638906651104,
           0.039439368609071934,
           0.08717529394646029,
           0.13937110328954816,
           0.16984565590066403,
           0.219697213970921,
           0.24178566920889288,
           0.27109544506925864,
           0.28959806985048075,
           0.331733581427617,
           0.3445003935301312,
           0.3679538342782642,
           0.39342275157586926,
           0.4149636438244855,
           0.43386278069264606,
           0.44673580128737456,
           0.4695155995546436,
           0.4863217087209435,
           0.5045166339175111
          ],
          [
           0.033374845672422104,
           0.0005575106290560683,
           0.059819919697686075,
           0.09251630532448019,
           0.1467554516502183,
           0.16676776458597153,
           0.20760056316516895,
           0.2444059087875452,
           0.28439837233236887,
           0.28130104012307555,
           0.3228912509310806,
           0.3682134744398411,
           0.3867850585532455,
           0.4233235726747573,
           0.428861772262529,
           0.4363592729439265,
           0.4555651835786918,
           0.49324533057401965,
           0.5010095432262816,
           0.5058944128324043
          ],
          [
           0.039238499189663045,
           0.003190458333071966,
           0.042736129340053,
           0.09836348160610875,
           0.16049419935979792,
           0.19392867717882112,
           0.22058253254166615,
           0.27001768741698484,
           0.2943433444715584,
           0.30837796886674873,
           0.3300976516919736,
           0.37949950248596487,
           0.3907604689341113,
           0.4345260402247515,
           0.4223621948747809,
           0.4628163327976047,
           0.46793490823715267,
           0.5226464659164716,
           0.5000002728440585,
           0.5345569025649262
          ],
          [
           0.02317939766511845,
           0.007623899114021171,
           0.07655570858237226,
           0.10954048017938511,
           0.1282353757929542,
           0.19700868790378223,
           0.2475885634871915,
           0.27336010407344347,
           0.2790310157496023,
           0.34257632621733514,
           0.3591412769841824,
           0.4033005641324152,
           0.4212073393323692,
           0.4026106088915995,
           0.453356045960712,
           0.47019107679568783,
           0.4786424760717196,
           0.5091156774717902,
           0.5422645852657286,
           0.547995578327054
          ],
          [
           0.024306412678141154,
           0.009736263882871299,
           0.051513444968779076,
           0.10557949766986141,
           0.14285113683855855,
           0.18304723344428986,
           0.23468430487328895,
           0.2728220267542696,
           0.2895400665984731,
           0.31660543654834683,
           0.35046306247471115,
           0.3918212687276963,
           0.3990428217439952,
           0.41607216080208076,
           0.4621279712309363,
           0.5020760103285884,
           0.5162342276010818,
           0.5168075167444979,
           0.5218756195139118,
           0.5514453220285827
          ],
          [
           0.032823881433527324,
           0.01011561438413322,
           0.053290580223436024,
           0.09097261330894302,
           0.13055729016549122,
           0.20248251787849192,
           0.21701368294940782,
           0.2677012115586068,
           0.31849953677883924,
           0.3175276714731705,
           0.34691527672286426,
           0.3783415093218174,
           0.3986211869324823,
           0.4123460043411722,
           0.45614690840458927,
           0.4583610753605303,
           0.48835939652151517,
           0.4993484938125352,
           0.5426383683684044,
           0.5380206092441728
          ],
          [
           0.020024588298909185,
           0.013259500072570596,
           0.03457607076652147,
           0.09896690062281266,
           0.12299964488784987,
           0.19692048565228326,
           0.2297748560729893,
           0.2407621153994448,
           0.2881153837713102,
           0.30376695163062895,
           0.3453420670680529,
           0.3574492613043656,
           0.38038681381764583,
           0.43529296853508015,
           0.4583906029325231,
           0.45866745874042003,
           0.47432291845376184,
           0.47261058965102976,
           0.5304301864343355,
           0.5691577536500922
          ],
          [
           0.009843883535885556,
           0.00554158746270339,
           0.039670685509633596,
           0.09659126944846674,
           0.12419265379595767,
           0.18290895828681553,
           0.2122153625804044,
           0.24027701755559505,
           0.28444861537619204,
           0.3178546392318502,
           0.3378412372391679,
           0.36181522311023606,
           0.39754459389091146,
           0.3998427536176603,
           0.42125956242947993,
           0.4488435620710156,
           0.4530984855531468,
           0.4893301889510937,
           0.5190287562328919,
           0.5335048857351978
          ],
          [
           0.010837137472727604,
           0.02448951303432456,
           0.025356785904161683,
           0.056121533681284586,
           0.1178775788949098,
           0.15403600912093562,
           0.20554752368442486,
           0.20158749938738474,
           0.2792172560403996,
           0.30156555594690726,
           0.3090399244164068,
           0.3602370556168797,
           0.3670025713182019,
           0.3772961493201725,
           0.43989053653576704,
           0.45345035292053026,
           0.4772586950945872,
           0.49365727319333885,
           0.5101467226478551,
           0.5575731264235664
          ],
          [
           0.006228436361579576,
           0.012058483844084256,
           0.017083264728942282,
           0.06264942877364676,
           0.0761892983879644,
           0.152627739930566,
           0.158401388253945,
           0.210748992018174,
           0.24855298822247907,
           0.24994666139091049,
           0.30028075902746654,
           0.3387841371929676,
           0.3784319526543065,
           0.3938569955302036,
           0.4145113902745514,
           0.4553416440455216,
           0.46371361143989986,
           0.47444160229336774,
           0.5155699752594458,
           0.5205345720393133
          ],
          [
           0.002856619489573442,
           0.015567290950803225,
           0.011439935538188228,
           0.04200537964844253,
           0.1093773696141156,
           0.1403778931069879,
           0.1781959202892205,
           0.21467845304090805,
           0.23015847903642062,
           0.25485218569678825,
           0.29844884216528644,
           0.319105959071309,
           0.3475914209725577,
           0.3471047474196203,
           0.38523657596802074,
           0.42124858077379823,
           0.44778282328807517,
           0.49119960169667376,
           0.4797850647762161,
           0.5064379374147752
          ]
         ]
        }
       ],
       "layout": {
        "template": {
         "data": {
          "bar": [
           {
            "error_x": {
             "color": "#2a3f5f"
            },
            "error_y": {
             "color": "#2a3f5f"
            },
            "marker": {
             "line": {
              "color": "#E5ECF6",
              "width": 0.5
             },
             "pattern": {
              "fillmode": "overlay",
              "size": 10,
              "solidity": 0.2
             }
            },
            "type": "bar"
           }
          ],
          "barpolar": [
           {
            "marker": {
             "line": {
              "color": "#E5ECF6",
              "width": 0.5
             },
             "pattern": {
              "fillmode": "overlay",
              "size": 10,
              "solidity": 0.2
             }
            },
            "type": "barpolar"
           }
          ],
          "carpet": [
           {
            "aaxis": {
             "endlinecolor": "#2a3f5f",
             "gridcolor": "white",
             "linecolor": "white",
             "minorgridcolor": "white",
             "startlinecolor": "#2a3f5f"
            },
            "baxis": {
             "endlinecolor": "#2a3f5f",
             "gridcolor": "white",
             "linecolor": "white",
             "minorgridcolor": "white",
             "startlinecolor": "#2a3f5f"
            },
            "type": "carpet"
           }
          ],
          "choropleth": [
           {
            "colorbar": {
             "outlinewidth": 0,
             "ticks": ""
            },
            "type": "choropleth"
           }
          ],
          "contour": [
           {
            "colorbar": {
             "outlinewidth": 0,
             "ticks": ""
            },
            "colorscale": [
             [
              0,
              "#0d0887"
             ],
             [
              0.1111111111111111,
              "#46039f"
             ],
             [
              0.2222222222222222,
              "#7201a8"
             ],
             [
              0.3333333333333333,
              "#9c179e"
             ],
             [
              0.4444444444444444,
              "#bd3786"
             ],
             [
              0.5555555555555556,
              "#d8576b"
             ],
             [
              0.6666666666666666,
              "#ed7953"
             ],
             [
              0.7777777777777778,
              "#fb9f3a"
             ],
             [
              0.8888888888888888,
              "#fdca26"
             ],
             [
              1,
              "#f0f921"
             ]
            ],
            "type": "contour"
           }
          ],
          "contourcarpet": [
           {
            "colorbar": {
             "outlinewidth": 0,
             "ticks": ""
            },
            "type": "contourcarpet"
           }
          ],
          "heatmap": [
           {
            "colorbar": {
             "outlinewidth": 0,
             "ticks": ""
            },
            "colorscale": [
             [
              0,
              "#0d0887"
             ],
             [
              0.1111111111111111,
              "#46039f"
             ],
             [
              0.2222222222222222,
              "#7201a8"
             ],
             [
              0.3333333333333333,
              "#9c179e"
             ],
             [
              0.4444444444444444,
              "#bd3786"
             ],
             [
              0.5555555555555556,
              "#d8576b"
             ],
             [
              0.6666666666666666,
              "#ed7953"
             ],
             [
              0.7777777777777778,
              "#fb9f3a"
             ],
             [
              0.8888888888888888,
              "#fdca26"
             ],
             [
              1,
              "#f0f921"
             ]
            ],
            "type": "heatmap"
           }
          ],
          "heatmapgl": [
           {
            "colorbar": {
             "outlinewidth": 0,
             "ticks": ""
            },
            "colorscale": [
             [
              0,
              "#0d0887"
             ],
             [
              0.1111111111111111,
              "#46039f"
             ],
             [
              0.2222222222222222,
              "#7201a8"
             ],
             [
              0.3333333333333333,
              "#9c179e"
             ],
             [
              0.4444444444444444,
              "#bd3786"
             ],
             [
              0.5555555555555556,
              "#d8576b"
             ],
             [
              0.6666666666666666,
              "#ed7953"
             ],
             [
              0.7777777777777778,
              "#fb9f3a"
             ],
             [
              0.8888888888888888,
              "#fdca26"
             ],
             [
              1,
              "#f0f921"
             ]
            ],
            "type": "heatmapgl"
           }
          ],
          "histogram": [
           {
            "marker": {
             "pattern": {
              "fillmode": "overlay",
              "size": 10,
              "solidity": 0.2
             }
            },
            "type": "histogram"
           }
          ],
          "histogram2d": [
           {
            "colorbar": {
             "outlinewidth": 0,
             "ticks": ""
            },
            "colorscale": [
             [
              0,
              "#0d0887"
             ],
             [
              0.1111111111111111,
              "#46039f"
             ],
             [
              0.2222222222222222,
              "#7201a8"
             ],
             [
              0.3333333333333333,
              "#9c179e"
             ],
             [
              0.4444444444444444,
              "#bd3786"
             ],
             [
              0.5555555555555556,
              "#d8576b"
             ],
             [
              0.6666666666666666,
              "#ed7953"
             ],
             [
              0.7777777777777778,
              "#fb9f3a"
             ],
             [
              0.8888888888888888,
              "#fdca26"
             ],
             [
              1,
              "#f0f921"
             ]
            ],
            "type": "histogram2d"
           }
          ],
          "histogram2dcontour": [
           {
            "colorbar": {
             "outlinewidth": 0,
             "ticks": ""
            },
            "colorscale": [
             [
              0,
              "#0d0887"
             ],
             [
              0.1111111111111111,
              "#46039f"
             ],
             [
              0.2222222222222222,
              "#7201a8"
             ],
             [
              0.3333333333333333,
              "#9c179e"
             ],
             [
              0.4444444444444444,
              "#bd3786"
             ],
             [
              0.5555555555555556,
              "#d8576b"
             ],
             [
              0.6666666666666666,
              "#ed7953"
             ],
             [
              0.7777777777777778,
              "#fb9f3a"
             ],
             [
              0.8888888888888888,
              "#fdca26"
             ],
             [
              1,
              "#f0f921"
             ]
            ],
            "type": "histogram2dcontour"
           }
          ],
          "mesh3d": [
           {
            "colorbar": {
             "outlinewidth": 0,
             "ticks": ""
            },
            "type": "mesh3d"
           }
          ],
          "parcoords": [
           {
            "line": {
             "colorbar": {
              "outlinewidth": 0,
              "ticks": ""
             }
            },
            "type": "parcoords"
           }
          ],
          "pie": [
           {
            "automargin": true,
            "type": "pie"
           }
          ],
          "scatter": [
           {
            "fillpattern": {
             "fillmode": "overlay",
             "size": 10,
             "solidity": 0.2
            },
            "type": "scatter"
           }
          ],
          "scatter3d": [
           {
            "line": {
             "colorbar": {
              "outlinewidth": 0,
              "ticks": ""
             }
            },
            "marker": {
             "colorbar": {
              "outlinewidth": 0,
              "ticks": ""
             }
            },
            "type": "scatter3d"
           }
          ],
          "scattercarpet": [
           {
            "marker": {
             "colorbar": {
              "outlinewidth": 0,
              "ticks": ""
             }
            },
            "type": "scattercarpet"
           }
          ],
          "scattergeo": [
           {
            "marker": {
             "colorbar": {
              "outlinewidth": 0,
              "ticks": ""
             }
            },
            "type": "scattergeo"
           }
          ],
          "scattergl": [
           {
            "marker": {
             "colorbar": {
              "outlinewidth": 0,
              "ticks": ""
             }
            },
            "type": "scattergl"
           }
          ],
          "scattermapbox": [
           {
            "marker": {
             "colorbar": {
              "outlinewidth": 0,
              "ticks": ""
             }
            },
            "type": "scattermapbox"
           }
          ],
          "scatterpolar": [
           {
            "marker": {
             "colorbar": {
              "outlinewidth": 0,
              "ticks": ""
             }
            },
            "type": "scatterpolar"
           }
          ],
          "scatterpolargl": [
           {
            "marker": {
             "colorbar": {
              "outlinewidth": 0,
              "ticks": ""
             }
            },
            "type": "scatterpolargl"
           }
          ],
          "scatterternary": [
           {
            "marker": {
             "colorbar": {
              "outlinewidth": 0,
              "ticks": ""
             }
            },
            "type": "scatterternary"
           }
          ],
          "surface": [
           {
            "colorbar": {
             "outlinewidth": 0,
             "ticks": ""
            },
            "colorscale": [
             [
              0,
              "#0d0887"
             ],
             [
              0.1111111111111111,
              "#46039f"
             ],
             [
              0.2222222222222222,
              "#7201a8"
             ],
             [
              0.3333333333333333,
              "#9c179e"
             ],
             [
              0.4444444444444444,
              "#bd3786"
             ],
             [
              0.5555555555555556,
              "#d8576b"
             ],
             [
              0.6666666666666666,
              "#ed7953"
             ],
             [
              0.7777777777777778,
              "#fb9f3a"
             ],
             [
              0.8888888888888888,
              "#fdca26"
             ],
             [
              1,
              "#f0f921"
             ]
            ],
            "type": "surface"
           }
          ],
          "table": [
           {
            "cells": {
             "fill": {
              "color": "#EBF0F8"
             },
             "line": {
              "color": "white"
             }
            },
            "header": {
             "fill": {
              "color": "#C8D4E3"
             },
             "line": {
              "color": "white"
             }
            },
            "type": "table"
           }
          ]
         },
         "layout": {
          "annotationdefaults": {
           "arrowcolor": "#2a3f5f",
           "arrowhead": 0,
           "arrowwidth": 1
          },
          "autotypenumbers": "strict",
          "coloraxis": {
           "colorbar": {
            "outlinewidth": 0,
            "ticks": ""
           }
          },
          "colorscale": {
           "diverging": [
            [
             0,
             "#8e0152"
            ],
            [
             0.1,
             "#c51b7d"
            ],
            [
             0.2,
             "#de77ae"
            ],
            [
             0.3,
             "#f1b6da"
            ],
            [
             0.4,
             "#fde0ef"
            ],
            [
             0.5,
             "#f7f7f7"
            ],
            [
             0.6,
             "#e6f5d0"
            ],
            [
             0.7,
             "#b8e186"
            ],
            [
             0.8,
             "#7fbc41"
            ],
            [
             0.9,
             "#4d9221"
            ],
            [
             1,
             "#276419"
            ]
           ],
           "sequential": [
            [
             0,
             "#0d0887"
            ],
            [
             0.1111111111111111,
             "#46039f"
            ],
            [
             0.2222222222222222,
             "#7201a8"
            ],
            [
             0.3333333333333333,
             "#9c179e"
            ],
            [
             0.4444444444444444,
             "#bd3786"
            ],
            [
             0.5555555555555556,
             "#d8576b"
            ],
            [
             0.6666666666666666,
             "#ed7953"
            ],
            [
             0.7777777777777778,
             "#fb9f3a"
            ],
            [
             0.8888888888888888,
             "#fdca26"
            ],
            [
             1,
             "#f0f921"
            ]
           ],
           "sequentialminus": [
            [
             0,
             "#0d0887"
            ],
            [
             0.1111111111111111,
             "#46039f"
            ],
            [
             0.2222222222222222,
             "#7201a8"
            ],
            [
             0.3333333333333333,
             "#9c179e"
            ],
            [
             0.4444444444444444,
             "#bd3786"
            ],
            [
             0.5555555555555556,
             "#d8576b"
            ],
            [
             0.6666666666666666,
             "#ed7953"
            ],
            [
             0.7777777777777778,
             "#fb9f3a"
            ],
            [
             0.8888888888888888,
             "#fdca26"
            ],
            [
             1,
             "#f0f921"
            ]
           ]
          },
          "colorway": [
           "#636efa",
           "#EF553B",
           "#00cc96",
           "#ab63fa",
           "#FFA15A",
           "#19d3f3",
           "#FF6692",
           "#B6E880",
           "#FF97FF",
           "#FECB52"
          ],
          "font": {
           "color": "#2a3f5f"
          },
          "geo": {
           "bgcolor": "white",
           "lakecolor": "white",
           "landcolor": "#E5ECF6",
           "showlakes": true,
           "showland": true,
           "subunitcolor": "white"
          },
          "hoverlabel": {
           "align": "left"
          },
          "hovermode": "closest",
          "mapbox": {
           "style": "light"
          },
          "paper_bgcolor": "white",
          "plot_bgcolor": "#E5ECF6",
          "polar": {
           "angularaxis": {
            "gridcolor": "white",
            "linecolor": "white",
            "ticks": ""
           },
           "bgcolor": "#E5ECF6",
           "radialaxis": {
            "gridcolor": "white",
            "linecolor": "white",
            "ticks": ""
           }
          },
          "scene": {
           "xaxis": {
            "backgroundcolor": "#E5ECF6",
            "gridcolor": "white",
            "gridwidth": 2,
            "linecolor": "white",
            "showbackground": true,
            "ticks": "",
            "zerolinecolor": "white"
           },
           "yaxis": {
            "backgroundcolor": "#E5ECF6",
            "gridcolor": "white",
            "gridwidth": 2,
            "linecolor": "white",
            "showbackground": true,
            "ticks": "",
            "zerolinecolor": "white"
           },
           "zaxis": {
            "backgroundcolor": "#E5ECF6",
            "gridcolor": "white",
            "gridwidth": 2,
            "linecolor": "white",
            "showbackground": true,
            "ticks": "",
            "zerolinecolor": "white"
           }
          },
          "shapedefaults": {
           "line": {
            "color": "#2a3f5f"
           }
          },
          "ternary": {
           "aaxis": {
            "gridcolor": "white",
            "linecolor": "white",
            "ticks": ""
           },
           "baxis": {
            "gridcolor": "white",
            "linecolor": "white",
            "ticks": ""
           },
           "bgcolor": "#E5ECF6",
           "caxis": {
            "gridcolor": "white",
            "linecolor": "white",
            "ticks": ""
           }
          },
          "title": {
           "x": 0.05
          },
          "xaxis": {
           "automargin": true,
           "gridcolor": "white",
           "linecolor": "white",
           "ticks": "",
           "title": {
            "standoff": 15
           },
           "zerolinecolor": "white",
           "zerolinewidth": 2
          },
          "yaxis": {
           "automargin": true,
           "gridcolor": "white",
           "linecolor": "white",
           "ticks": "",
           "title": {
            "standoff": 15
           },
           "zerolinecolor": "white",
           "zerolinewidth": 2
          }
         }
        }
       }
      }
     },
     "metadata": {},
     "output_type": "display_data"
    }
   ],
   "source": [
    "import plotly.graph_objects as go\n",
    "import plotly.express as px\n",
    "\n",
    "\"\"\"x= np.linspace(0.1, 1.1, 0.1)\n",
    "y= np.linspace(85, 120, 5)\"\"\"\n",
    "fig = go.Figure(data=[go.Surface(z=test2_euler.values, x=test2_euler.columns, y=test2_euler.index)])\n",
    "fig.show()"
   ]
  },
  {
   "cell_type": "code",
   "execution_count": 77,
   "metadata": {},
   "outputs": [
    {
     "data": {
      "application/vnd.plotly.v1+json": {
       "config": {
        "plotlyServerURL": "https://plot.ly"
       },
       "data": [
        {
         "type": "surface",
         "x": [
          0.1,
          0.35789473684210527,
          0.6157894736842106,
          0.8736842105263158,
          1.1315789473684212,
          1.3894736842105266,
          1.6473684210526318,
          1.905263157894737,
          2.1631578947368424,
          2.421052631578948,
          2.678947368421053,
          2.936842105263158,
          3.1947368421052635,
          3.452631578947369,
          3.710526315789474,
          3.9684210526315793,
          4.226315789473684,
          4.484210526315789,
          4.742105263157895,
          5
         ],
         "y": [
          70,
          72.63157894736842,
          75.26315789473685,
          77.89473684210526,
          80.52631578947368,
          83.15789473684211,
          85.78947368421052,
          88.42105263157895,
          91.05263157894737,
          93.6842105263158,
          96.31578947368422,
          98.94736842105263,
          101.57894736842105,
          104.21052631578948,
          106.84210526315789,
          109.47368421052632,
          112.10526315789474,
          114.73684210526316,
          117.36842105263159,
          120
         ],
         "z": [
          [
           0.007094538746162726,
           0.0026014062893047196,
           0.005240474074813761,
           0.006934912313965924,
           0.03596056401773495,
           0.01596013947312258,
           0.030192191596484008,
           0.032486645040222584,
           0.0024037377058192533,
           0.014689346826258998,
           0.029668860601276492,
           0.014636367584742516,
           0.009900757169113206,
           0.025814322281597413,
           0.026162168498380822,
           0.022851138020627104,
           0.03395892067580064,
           0.05846634366640302,
           0.025624112204354788,
           0.029069020778628385
          ],
          [
           0.0028900423835480638,
           0.010784061953042823,
           0.012422740967284795,
           0.019275399967252582,
           0.012939244715131082,
           0.011864233587623119,
           0.016197464249017912,
           0.017987147034826734,
           0.03754061758156979,
           0.01023228028840606,
           0.030091241748205988,
           0.03861283034294516,
           0.013165704086450347,
           0.0023496958218167663,
           0.017947133255628245,
           0.029141237729461977,
           0.015801742721421874,
           0.01924842361707846,
           0.0021076490924798463,
           0.012482147323417792
          ],
          [
           0.001369131181700567,
           0.011128810410241385,
           0.009166320097637737,
           0.019040305107544953,
           0.01233012328503591,
           0.018556246615645478,
           0.007793550698924179,
           0.007096153095602631,
           0.017475164471683513,
           0.02807530591779539,
           0.002679223085326754,
           0.015481502542357362,
           0.014462483313600671,
           0.010567458849031652,
           0.01052284644885404,
           0.011120438420533674,
           0.004123041204863398,
           0.005578409930059536,
           0.039243087062921234,
           0.007554655038468638
          ],
          [
           0.012356636158248335,
           0.021087283447055682,
           0.01375130354118781,
           0.0037582796561110854,
           0.0034809098776520386,
           0.00030020921818518786,
           0.008748278347077587,
           0.0022542164807468623,
           0.018499558724357712,
           0.006587043408092796,
           0.015382603790055072,
           0.0067396869924643,
           0.007000199112543015,
           0.024605738300053304,
           0.016305892224341534,
           0.03299346994320729,
           0.02311874634054334,
           0.03146948445249009,
           0.04086807291597694,
           0.03711472060890486
          ],
          [
           0.023052001200884575,
           0.04283896494571593,
           0.02059037932382779,
           0.009138081430101863,
           0.012662918328256723,
           0.011266363495124665,
           0.002033630718052848,
           0.019445442943936797,
           0.02193458670460302,
           0.015756332334468937,
           0.038214569096869155,
           0.025076042414550415,
           0.043202936300588135,
           0.04963381310947668,
           0.02766580848697231,
           0.07679800648333668,
           0.06144686998871052,
           0.0799602782173352,
           0.06032438643516258,
           0.06427601872731614
          ],
          [
           0.023702918264831396,
           0.028362150061472136,
           0.020541132525291772,
           0.03422353008362222,
           0.0038067353757682554,
           0.04086924010240267,
           0.03608657224642897,
           0.010046390926092386,
           0.019617992450022825,
           0.05016333630446468,
           0.04561305667644078,
           0.051821664560748104,
           0.07719349438738021,
           0.048094639360620306,
           0.06092009646422625,
           0.08418061748604799,
           0.10391557326733647,
           0.09025862912298876,
           0.09843474479011505,
           0.0869274210819384
          ],
          [
           0.010691036216988081,
           0.02671760311618243,
           0.01649222089584157,
           0.016912832877508777,
           0.02123269914294923,
           0.031210462341402234,
           0.041129934579316796,
           0.06338850835190257,
           0.06834371370430503,
           0.08343797097749928,
           0.05516267329914015,
           0.0964016002189716,
           0.08959964694949107,
           0.11531816222098001,
           0.09537493286210008,
           0.1196107917934981,
           0.13385377575403012,
           0.1371710591776285,
           0.13669259603850392,
           0.15282820185742807
          ],
          [
           0.012378436684921112,
           0.05213563682508848,
           0.039118543215661106,
           0.030337197949096506,
           0.06224493961801869,
           0.05933668818678228,
           0.05360376540543399,
           0.07936440892410346,
           0.08727559232909599,
           0.09397037024785604,
           0.10947824543676177,
           0.11370732456117238,
           0.1417506000300186,
           0.1650071935119506,
           0.13322450239729022,
           0.17520126648041767,
           0.1720353488391524,
           0.18167742616450155,
           0.18060432522887737,
           0.17642811260366997
          ],
          [
           0.003251127487185812,
           0.020931310631599587,
           0.05874507911436844,
           0.04923405506123402,
           0.05945488302933555,
           0.10743705149080007,
           0.11584774632842354,
           0.10843482687731942,
           0.1414089790740043,
           0.12009138340368253,
           0.1741396814181151,
           0.16810881288288826,
           0.16889962786450852,
           0.18826050229921165,
           0.21520212901442903,
           0.19534506378404615,
           0.19371761024980572,
           0.22817687823891575,
           0.2232311057432952,
           0.2312299577312089
          ],
          [
           0.039460348390478295,
           0.043201389066512164,
           0.0393034885337844,
           0.0668465949424295,
           0.089249730043786,
           0.12518301076600302,
           0.14380756544084505,
           0.14078415535251132,
           0.17288237311256083,
           0.1781088998464888,
           0.2039404926464563,
           0.20329371787570416,
           0.21457779790564224,
           0.2451327635756435,
           0.22402743725659846,
           0.25330755423558315,
           0.25805197649040323,
           0.27686419994410016,
           0.29938463910514557,
           0.28692150561737506
          ],
          [
           0.029286720672422106,
           0.0683943643709437,
           0.08808472315945615,
           0.1225459168977423,
           0.1430245483497803,
           0.16622163101842524,
           0.15082877016816454,
           0.17882918925167068,
           0.24124333192828296,
           0.23998310066367345,
           0.24474226077460415,
           0.2463275512011851,
           0.25372608430389754,
           0.28530510026150324,
           0.2727618306786468,
           0.2936232523085991,
           0.286186004391233,
           0.2916941025176101,
           0.31363754768280927,
           0.31099884803716193
          ],
          [
           0.030314749189662926,
           0.08388608333307168,
           0.1122263706599469,
           0.15737901839389146,
           0.17731380064020108,
           0.19107061769297218,
           0.21921832460119006,
           0.23037518840000892,
           0.2751845444173302,
           0.2561290290628584,
           0.2926373483080251,
           0.3108925345510727,
           0.2974462343625923,
           0.3451857109273231,
           0.32117145218404275,
           0.32851439088660506,
           0.3620927609357807,
           0.3690942007501956,
           0.35280866488487916,
           0.3851302278698565
          ],
          [
           0.041673147665118204,
           0.10989598244735443,
           0.138505124750961,
           0.18867576982061518,
           0.21652112420704572,
           0.26312714542955007,
           0.27004562698899903,
           0.2621480209265563,
           0.3195178731392865,
           0.3199849465099387,
           0.3347922836218782,
           0.3447632820214306,
           0.3638319380869852,
           0.37523057629358547,
           0.36475910555443924,
           0.4008408193082076,
           0.37659722908798443,
           0.39751803681392417,
           0.4097565152127398,
           0.4293159049265345
          ],
          [
           0.02961125642814122,
           0.08793290278379562,
           0.14279405503122078,
           0.19865085947299566,
           0.2458766409392199,
           0.2427168574648011,
           0.28870591490693087,
           0.29069359824573127,
           0.3274945773643747,
           0.35249416244914755,
           0.35311225843626204,
           0.3853803979389703,
           0.38495949549738384,
           0.39302053396164816,
           0.40420540389968096,
           0.4113213230047439,
           0.4143667047998498,
           0.42009009349732374,
           0.4618603526115237,
           0.45941467797141833
          ],
          [
           0.031048803308527217,
           0.06789396894920019,
           0.14084285727656454,
           0.16543631526248603,
           0.22777687650117517,
           0.24464089121241717,
           0.2779843619223872,
           0.30848245510806027,
           0.2991529632211609,
           0.34535766186016303,
           0.3893260151431637,
           0.3843931547098034,
           0.40989528742649206,
           0.40327132899216167,
           0.42360872122504034,
           0.438571783371394,
           0.45800185347848377,
           0.45699103116699114,
           0.44458134591731024,
           0.47593058390019216
          ],
          [
           0.016601619548909152,
           0.07385559382257068,
           0.10077267923347843,
           0.1427705993771875,
           0.1838772301121505,
           0.2316350143477166,
           0.2384947272603446,
           0.30547178569945554,
           0.29248307456202305,
           0.31296977351556965,
           0.36254881012492834,
           0.3920355386956347,
           0.4000792383562679,
           0.42842166109454993,
           0.4056728453433376,
           0.43563922882488804,
           0.45081115361830904,
           0.4806286513356888,
           0.46723125500710516,
           0.4966399979838947
          ],
          [
           0.020024391348385517,
           0.04700935003729678,
           0.09814306449036625,
           0.12903906388486686,
           0.15550962298975612,
           0.19737437504651822,
           0.23093869044989823,
           0.25957221321363644,
           0.28906509295714145,
           0.3233323052125945,
           0.3381466516497209,
           0.36767395870794584,
           0.37619547857285607,
           0.41130307971567337,
           0.4247394661419488,
           0.42604717866972486,
           0.45486058007533003,
           0.4516972914325166,
           0.4685963723102855,
           0.4757133097535231
          ],
          [
           0.00924694216022759,
           0.05478279428432464,
           0.05719363076250472,
           0.11908621631871519,
           0.12977920681937594,
           0.13847510199017554,
           0.19443952177012047,
           0.22314400702287163,
           0.24497550586436212,
           0.2762102079419817,
           0.2972006311391491,
           0.31310540052347147,
           0.3533900373774497,
           0.37324969415808873,
           0.39370053489280377,
           0.4160677115955993,
           0.41851195425606313,
           0.4333292116551455,
           0.4567701491470171,
           0.4587721367343285
          ],
          [
           0.00910118050220457,
           0.027946218219084384,
           0.06289756860439089,
           0.08229082122635356,
           0.10400662423108331,
           0.12783226006943416,
           0.1565521117460551,
           0.1946395977254154,
           0.22738846782147704,
           0.26340704694242234,
           0.2734207442405072,
           0.2746243548705243,
           0.32798767697532316,
           0.3398290235174155,
           0.36386885587929463,
           0.3659847295808527,
           0.37193829639420173,
           0.4235524733368834,
           0.4344785961691251,
           0.45098667796068703
          ],
          [
           0.002916985700510938,
           0.02738150970080322,
           0.058808189461811766,
           0.0728796203515576,
           0.08881929705255143,
           0.11405898189301222,
           0.12769832971077966,
           0.1677718878681831,
           0.18361190557896379,
           0.21312755239844972,
           0.25472185227915833,
           0.26143904092869086,
           0.29199243617029946,
           0.29843055278741915,
           0.3255769022928483,
           0.34612606750206343,
           0.38144686061997124,
           0.3664989320276657,
           0.40636496748184747,
           0.4566395135656167
          ]
         ]
        }
       ],
       "layout": {
        "template": {
         "data": {
          "bar": [
           {
            "error_x": {
             "color": "#2a3f5f"
            },
            "error_y": {
             "color": "#2a3f5f"
            },
            "marker": {
             "line": {
              "color": "#E5ECF6",
              "width": 0.5
             },
             "pattern": {
              "fillmode": "overlay",
              "size": 10,
              "solidity": 0.2
             }
            },
            "type": "bar"
           }
          ],
          "barpolar": [
           {
            "marker": {
             "line": {
              "color": "#E5ECF6",
              "width": 0.5
             },
             "pattern": {
              "fillmode": "overlay",
              "size": 10,
              "solidity": 0.2
             }
            },
            "type": "barpolar"
           }
          ],
          "carpet": [
           {
            "aaxis": {
             "endlinecolor": "#2a3f5f",
             "gridcolor": "white",
             "linecolor": "white",
             "minorgridcolor": "white",
             "startlinecolor": "#2a3f5f"
            },
            "baxis": {
             "endlinecolor": "#2a3f5f",
             "gridcolor": "white",
             "linecolor": "white",
             "minorgridcolor": "white",
             "startlinecolor": "#2a3f5f"
            },
            "type": "carpet"
           }
          ],
          "choropleth": [
           {
            "colorbar": {
             "outlinewidth": 0,
             "ticks": ""
            },
            "type": "choropleth"
           }
          ],
          "contour": [
           {
            "colorbar": {
             "outlinewidth": 0,
             "ticks": ""
            },
            "colorscale": [
             [
              0,
              "#0d0887"
             ],
             [
              0.1111111111111111,
              "#46039f"
             ],
             [
              0.2222222222222222,
              "#7201a8"
             ],
             [
              0.3333333333333333,
              "#9c179e"
             ],
             [
              0.4444444444444444,
              "#bd3786"
             ],
             [
              0.5555555555555556,
              "#d8576b"
             ],
             [
              0.6666666666666666,
              "#ed7953"
             ],
             [
              0.7777777777777778,
              "#fb9f3a"
             ],
             [
              0.8888888888888888,
              "#fdca26"
             ],
             [
              1,
              "#f0f921"
             ]
            ],
            "type": "contour"
           }
          ],
          "contourcarpet": [
           {
            "colorbar": {
             "outlinewidth": 0,
             "ticks": ""
            },
            "type": "contourcarpet"
           }
          ],
          "heatmap": [
           {
            "colorbar": {
             "outlinewidth": 0,
             "ticks": ""
            },
            "colorscale": [
             [
              0,
              "#0d0887"
             ],
             [
              0.1111111111111111,
              "#46039f"
             ],
             [
              0.2222222222222222,
              "#7201a8"
             ],
             [
              0.3333333333333333,
              "#9c179e"
             ],
             [
              0.4444444444444444,
              "#bd3786"
             ],
             [
              0.5555555555555556,
              "#d8576b"
             ],
             [
              0.6666666666666666,
              "#ed7953"
             ],
             [
              0.7777777777777778,
              "#fb9f3a"
             ],
             [
              0.8888888888888888,
              "#fdca26"
             ],
             [
              1,
              "#f0f921"
             ]
            ],
            "type": "heatmap"
           }
          ],
          "heatmapgl": [
           {
            "colorbar": {
             "outlinewidth": 0,
             "ticks": ""
            },
            "colorscale": [
             [
              0,
              "#0d0887"
             ],
             [
              0.1111111111111111,
              "#46039f"
             ],
             [
              0.2222222222222222,
              "#7201a8"
             ],
             [
              0.3333333333333333,
              "#9c179e"
             ],
             [
              0.4444444444444444,
              "#bd3786"
             ],
             [
              0.5555555555555556,
              "#d8576b"
             ],
             [
              0.6666666666666666,
              "#ed7953"
             ],
             [
              0.7777777777777778,
              "#fb9f3a"
             ],
             [
              0.8888888888888888,
              "#fdca26"
             ],
             [
              1,
              "#f0f921"
             ]
            ],
            "type": "heatmapgl"
           }
          ],
          "histogram": [
           {
            "marker": {
             "pattern": {
              "fillmode": "overlay",
              "size": 10,
              "solidity": 0.2
             }
            },
            "type": "histogram"
           }
          ],
          "histogram2d": [
           {
            "colorbar": {
             "outlinewidth": 0,
             "ticks": ""
            },
            "colorscale": [
             [
              0,
              "#0d0887"
             ],
             [
              0.1111111111111111,
              "#46039f"
             ],
             [
              0.2222222222222222,
              "#7201a8"
             ],
             [
              0.3333333333333333,
              "#9c179e"
             ],
             [
              0.4444444444444444,
              "#bd3786"
             ],
             [
              0.5555555555555556,
              "#d8576b"
             ],
             [
              0.6666666666666666,
              "#ed7953"
             ],
             [
              0.7777777777777778,
              "#fb9f3a"
             ],
             [
              0.8888888888888888,
              "#fdca26"
             ],
             [
              1,
              "#f0f921"
             ]
            ],
            "type": "histogram2d"
           }
          ],
          "histogram2dcontour": [
           {
            "colorbar": {
             "outlinewidth": 0,
             "ticks": ""
            },
            "colorscale": [
             [
              0,
              "#0d0887"
             ],
             [
              0.1111111111111111,
              "#46039f"
             ],
             [
              0.2222222222222222,
              "#7201a8"
             ],
             [
              0.3333333333333333,
              "#9c179e"
             ],
             [
              0.4444444444444444,
              "#bd3786"
             ],
             [
              0.5555555555555556,
              "#d8576b"
             ],
             [
              0.6666666666666666,
              "#ed7953"
             ],
             [
              0.7777777777777778,
              "#fb9f3a"
             ],
             [
              0.8888888888888888,
              "#fdca26"
             ],
             [
              1,
              "#f0f921"
             ]
            ],
            "type": "histogram2dcontour"
           }
          ],
          "mesh3d": [
           {
            "colorbar": {
             "outlinewidth": 0,
             "ticks": ""
            },
            "type": "mesh3d"
           }
          ],
          "parcoords": [
           {
            "line": {
             "colorbar": {
              "outlinewidth": 0,
              "ticks": ""
             }
            },
            "type": "parcoords"
           }
          ],
          "pie": [
           {
            "automargin": true,
            "type": "pie"
           }
          ],
          "scatter": [
           {
            "fillpattern": {
             "fillmode": "overlay",
             "size": 10,
             "solidity": 0.2
            },
            "type": "scatter"
           }
          ],
          "scatter3d": [
           {
            "line": {
             "colorbar": {
              "outlinewidth": 0,
              "ticks": ""
             }
            },
            "marker": {
             "colorbar": {
              "outlinewidth": 0,
              "ticks": ""
             }
            },
            "type": "scatter3d"
           }
          ],
          "scattercarpet": [
           {
            "marker": {
             "colorbar": {
              "outlinewidth": 0,
              "ticks": ""
             }
            },
            "type": "scattercarpet"
           }
          ],
          "scattergeo": [
           {
            "marker": {
             "colorbar": {
              "outlinewidth": 0,
              "ticks": ""
             }
            },
            "type": "scattergeo"
           }
          ],
          "scattergl": [
           {
            "marker": {
             "colorbar": {
              "outlinewidth": 0,
              "ticks": ""
             }
            },
            "type": "scattergl"
           }
          ],
          "scattermapbox": [
           {
            "marker": {
             "colorbar": {
              "outlinewidth": 0,
              "ticks": ""
             }
            },
            "type": "scattermapbox"
           }
          ],
          "scatterpolar": [
           {
            "marker": {
             "colorbar": {
              "outlinewidth": 0,
              "ticks": ""
             }
            },
            "type": "scatterpolar"
           }
          ],
          "scatterpolargl": [
           {
            "marker": {
             "colorbar": {
              "outlinewidth": 0,
              "ticks": ""
             }
            },
            "type": "scatterpolargl"
           }
          ],
          "scatterternary": [
           {
            "marker": {
             "colorbar": {
              "outlinewidth": 0,
              "ticks": ""
             }
            },
            "type": "scatterternary"
           }
          ],
          "surface": [
           {
            "colorbar": {
             "outlinewidth": 0,
             "ticks": ""
            },
            "colorscale": [
             [
              0,
              "#0d0887"
             ],
             [
              0.1111111111111111,
              "#46039f"
             ],
             [
              0.2222222222222222,
              "#7201a8"
             ],
             [
              0.3333333333333333,
              "#9c179e"
             ],
             [
              0.4444444444444444,
              "#bd3786"
             ],
             [
              0.5555555555555556,
              "#d8576b"
             ],
             [
              0.6666666666666666,
              "#ed7953"
             ],
             [
              0.7777777777777778,
              "#fb9f3a"
             ],
             [
              0.8888888888888888,
              "#fdca26"
             ],
             [
              1,
              "#f0f921"
             ]
            ],
            "type": "surface"
           }
          ],
          "table": [
           {
            "cells": {
             "fill": {
              "color": "#EBF0F8"
             },
             "line": {
              "color": "white"
             }
            },
            "header": {
             "fill": {
              "color": "#C8D4E3"
             },
             "line": {
              "color": "white"
             }
            },
            "type": "table"
           }
          ]
         },
         "layout": {
          "annotationdefaults": {
           "arrowcolor": "#2a3f5f",
           "arrowhead": 0,
           "arrowwidth": 1
          },
          "autotypenumbers": "strict",
          "coloraxis": {
           "colorbar": {
            "outlinewidth": 0,
            "ticks": ""
           }
          },
          "colorscale": {
           "diverging": [
            [
             0,
             "#8e0152"
            ],
            [
             0.1,
             "#c51b7d"
            ],
            [
             0.2,
             "#de77ae"
            ],
            [
             0.3,
             "#f1b6da"
            ],
            [
             0.4,
             "#fde0ef"
            ],
            [
             0.5,
             "#f7f7f7"
            ],
            [
             0.6,
             "#e6f5d0"
            ],
            [
             0.7,
             "#b8e186"
            ],
            [
             0.8,
             "#7fbc41"
            ],
            [
             0.9,
             "#4d9221"
            ],
            [
             1,
             "#276419"
            ]
           ],
           "sequential": [
            [
             0,
             "#0d0887"
            ],
            [
             0.1111111111111111,
             "#46039f"
            ],
            [
             0.2222222222222222,
             "#7201a8"
            ],
            [
             0.3333333333333333,
             "#9c179e"
            ],
            [
             0.4444444444444444,
             "#bd3786"
            ],
            [
             0.5555555555555556,
             "#d8576b"
            ],
            [
             0.6666666666666666,
             "#ed7953"
            ],
            [
             0.7777777777777778,
             "#fb9f3a"
            ],
            [
             0.8888888888888888,
             "#fdca26"
            ],
            [
             1,
             "#f0f921"
            ]
           ],
           "sequentialminus": [
            [
             0,
             "#0d0887"
            ],
            [
             0.1111111111111111,
             "#46039f"
            ],
            [
             0.2222222222222222,
             "#7201a8"
            ],
            [
             0.3333333333333333,
             "#9c179e"
            ],
            [
             0.4444444444444444,
             "#bd3786"
            ],
            [
             0.5555555555555556,
             "#d8576b"
            ],
            [
             0.6666666666666666,
             "#ed7953"
            ],
            [
             0.7777777777777778,
             "#fb9f3a"
            ],
            [
             0.8888888888888888,
             "#fdca26"
            ],
            [
             1,
             "#f0f921"
            ]
           ]
          },
          "colorway": [
           "#636efa",
           "#EF553B",
           "#00cc96",
           "#ab63fa",
           "#FFA15A",
           "#19d3f3",
           "#FF6692",
           "#B6E880",
           "#FF97FF",
           "#FECB52"
          ],
          "font": {
           "color": "#2a3f5f"
          },
          "geo": {
           "bgcolor": "white",
           "lakecolor": "white",
           "landcolor": "#E5ECF6",
           "showlakes": true,
           "showland": true,
           "subunitcolor": "white"
          },
          "hoverlabel": {
           "align": "left"
          },
          "hovermode": "closest",
          "mapbox": {
           "style": "light"
          },
          "paper_bgcolor": "white",
          "plot_bgcolor": "#E5ECF6",
          "polar": {
           "angularaxis": {
            "gridcolor": "white",
            "linecolor": "white",
            "ticks": ""
           },
           "bgcolor": "#E5ECF6",
           "radialaxis": {
            "gridcolor": "white",
            "linecolor": "white",
            "ticks": ""
           }
          },
          "scene": {
           "xaxis": {
            "backgroundcolor": "#E5ECF6",
            "gridcolor": "white",
            "gridwidth": 2,
            "linecolor": "white",
            "showbackground": true,
            "ticks": "",
            "zerolinecolor": "white"
           },
           "yaxis": {
            "backgroundcolor": "#E5ECF6",
            "gridcolor": "white",
            "gridwidth": 2,
            "linecolor": "white",
            "showbackground": true,
            "ticks": "",
            "zerolinecolor": "white"
           },
           "zaxis": {
            "backgroundcolor": "#E5ECF6",
            "gridcolor": "white",
            "gridwidth": 2,
            "linecolor": "white",
            "showbackground": true,
            "ticks": "",
            "zerolinecolor": "white"
           }
          },
          "shapedefaults": {
           "line": {
            "color": "#2a3f5f"
           }
          },
          "ternary": {
           "aaxis": {
            "gridcolor": "white",
            "linecolor": "white",
            "ticks": ""
           },
           "baxis": {
            "gridcolor": "white",
            "linecolor": "white",
            "ticks": ""
           },
           "bgcolor": "#E5ECF6",
           "caxis": {
            "gridcolor": "white",
            "linecolor": "white",
            "ticks": ""
           }
          },
          "title": {
           "x": 0.05
          },
          "xaxis": {
           "automargin": true,
           "gridcolor": "white",
           "linecolor": "white",
           "ticks": "",
           "title": {
            "standoff": 15
           },
           "zerolinecolor": "white",
           "zerolinewidth": 2
          },
          "yaxis": {
           "automargin": true,
           "gridcolor": "white",
           "linecolor": "white",
           "ticks": "",
           "title": {
            "standoff": 15
           },
           "zerolinecolor": "white",
           "zerolinewidth": 2
          }
         }
        }
       }
      }
     },
     "metadata": {},
     "output_type": "display_data"
    }
   ],
   "source": [
    "import plotly.graph_objects as go\n",
    "import plotly.express as px\n",
    "\n",
    "fig = go.Figure(data=[go.Surface(z=test2_anderson.values, x=test2_anderson.columns, y=test2_anderson.index)])\n",
    "fig.show()"
   ]
  }
 ],
 "metadata": {
  "kernelspec": {
   "display_name": "base",
   "language": "python",
   "name": "python3"
  },
  "language_info": {
   "codemirror_mode": {
    "name": "ipython",
    "version": 3
   },
   "file_extension": ".py",
   "mimetype": "text/x-python",
   "name": "python",
   "nbconvert_exporter": "python",
   "pygments_lexer": "ipython3",
   "version": "3.9.13"
  },
  "orig_nbformat": 4,
  "vscode": {
   "interpreter": {
    "hash": "e6fb2ef27fee963ceed30e3e64cbae56428a1a32b16762da4b3bdfa5ed010894"
   }
  }
 },
 "nbformat": 4,
 "nbformat_minor": 2
}
