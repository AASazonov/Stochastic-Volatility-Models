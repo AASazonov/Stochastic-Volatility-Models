{
 "cells": [
  {
   "cell_type": "code",
   "execution_count": 1,
   "metadata": {},
   "outputs": [],
   "source": [
    "import numpy as np\n",
    "import pandas as pd\n",
    "import matplotlib.pyplot as plt\n",
    "\n",
    "from ipywidgets import interact\n",
    "\n",
    "from ipywidgets import widgets\n",
    "from tqdm.auto import tqdm\n",
    "\n",
    "from vol.vol import Heston\n",
    "\n",
    "from hestonmc import MarketState, HestonParameters, mc_price, simulate_heston_euler, simulate_heston_andersen_qe, simulate_heston_andersen_tg\n",
    "from derivatives import *"
   ]
  },
  {
   "cell_type": "code",
   "execution_count": 2,
   "metadata": {},
   "outputs": [],
   "source": [
    "heston_params_1 = HestonParameters(kappa = 1.3125, gamma = 0.5125, rho = -0.3937, vbar = 0.0641, v0 = 0.3) #from stoch vol\n",
    "heston_params_2 = HestonParameters(kappa = 1, gamma = 0.4, rho = -0.1, vbar = 0.2, v0 = 0.2) # from school\n",
    "heston_params_3 = HestonParameters(kappa = 0.5, gamma = 1, rho = -0.9, vbar = 0.04, v0 = 0.04) #  from andeson paper 1\n",
    "heston_params_4 = HestonParameters(kappa = 0.3, gamma = 0.9, rho = -0.5, vbar = 0.04, v0 = 0.04) #  from andeson paper 2\n",
    "heston_params_5 = HestonParameters(kappa = 1, gamma = 1, rho = -0.3, vbar = 0.04, v0 = 0.09) #  from andeson paper 3\n",
    "\n",
    "heston_params_array = [heston_params_1, heston_params_2, heston_params_3, heston_params_4, heston_params_5]\n",
    "\n",
    "state         = MarketState(stock_price = 1.*100, interest_rate = 0.)\n",
    "\n",
    "r_x           = np.load(r\"Data/anderson tg/r_x start=1e-07 stop=100 N=4999998 dt=2e-05.npy\")\n",
    "f_nu_y        = np.load(r\"Data/anderson tg/f_nu_y start=1e-07 stop=100 N=4999998 dt=2e-05.npy\")\n",
    "f_sigma_y     = np.load(r\"Data/anderson tg/f_sigma_y start=1e-07 stop=100 N=4999998 dt=2e-05.npy\")\n",
    "kwargs        = {'x_grid' : r_x, 'f_nu_grid' : f_nu_y, 'f_sigma_grid' : f_sigma_y }\n"
   ]
  },
  {
   "cell_type": "code",
   "execution_count": 7,
   "metadata": {},
   "outputs": [],
   "source": [
    "import time\n",
    "from tqdm.contrib.itertools import product"
   ]
  },
  {
   "cell_type": "code",
   "execution_count": 3,
   "metadata": {},
   "outputs": [
    {
     "data": {
      "text/plain": [
       "30.428646036927244"
      ]
     },
     "execution_count": 3,
     "metadata": {},
     "output_type": "execute_result"
    }
   ],
   "source": [
    "model = Heston(state.stock_price, heston_params_3.v0, heston_params_3.kappa, heston_params_3.vbar, heston_params_3.gamma, heston_params_3.rho, state.interest_rate)\n",
    "model.call_price(0.4, 70)"
   ]
  },
  {
   "cell_type": "code",
   "execution_count": null,
   "metadata": {},
   "outputs": [],
   "source": [
    "test_1 = {'schemes':[simulate_heston_euler_cupy, simulate_heston_andersen_tg_cupy],\n",
    "          'strikes': np.linspace(70, 120, 70),\n",
    "            'Ts': np.linspace(0.1, 5, 70),\n",
    "            'N_Ts': range(50, 125, 50),\n",
    "            'batch_sizes': range(100_000, 1000_000, 100000_000),\n",
    "            'heston_params': heston_params_1\n",
    "          }\n",
    "\n",
    "MC_compare_models_grid_test_1= pd.DataFrame(columns=['scheme' ,'heston_params#', 'strike', 'T', 'N_T', 'batch_size', 'absolute error', 'true' , 'MC_price', 'time'])"
   ]
  },
  {
   "cell_type": "code",
   "execution_count": 19,
   "metadata": {},
   "outputs": [],
   "source": [
    "test_2 = {'schemes':[simulate_heston_euler_cupy, simulate_heston_andersen_tg_cupy],\n",
    "          'strikes': np.linspace(70, 120, 20),\n",
    "            'Ts': np.linspace(0.1, 5, 20),\n",
    "            'N_Ts': range(50, 125, 500),\n",
    "            'batch_sizes': range(100_000, 1000_000, 100000_000),\n",
    "            'heston_params_n': [1, 2, 3, 4, 5]\n",
    "\n",
    "        }\n",
    "\n",
    "MC_compare_models_grid_test_2= pd.DataFrame(columns=['scheme' ,'heston_params#', 'strike', 'T', 'N_T', 'batch_size', 'absolute error', 'true' , 'MC_price', 'time'])"
   ]
  },
  {
   "cell_type": "code",
   "execution_count": 7,
   "metadata": {},
   "outputs": [],
   "source": [
    "test_3 = {'schemes':[simulate_heston_andersen_qe],\n",
    "          'strikes': np.linspace(60, 140, 5),\n",
    "            'Ts': np.linspace(0.1, 5, 5),\n",
    "            'N_Ts': range(50, 125, 50),\n",
    "            'batch_sizes': range(500_000, 1000_000, 100000_000),\n",
    "            'heston_params_n': [1, 2, 3, 4, 5]\n",
    "\n",
    "        }\n",
    "\n",
    "MC_compare_models_grid_test_3= pd.DataFrame(columns=['scheme' ,'heston_params#', 'strike', 'T', 'N_T', 'batch_size', 'absolute error', 'true' , 'MC_price', 'time'])"
   ]
  },
  {
   "cell_type": "code",
   "execution_count": 36,
   "metadata": {},
   "outputs": [],
   "source": [
    "test_numba = {'schemes':[simulate_heston_euler, simulate_heston_andersen_tg , simulate_heston_andersen_qe],\n",
    "              'strikes': np.linspace(60, 140, 20),\n",
    "              'Ts': [1.],\n",
    "              'N_Ts': range(5, 120, 5),\n",
    "              'batch_sizes': [100_000],\n",
    "              'heston_params_n': [3]\n",
    "        }\n",
    "\n",
    "MC_compare_models_grid_test_numba = pd.DataFrame(columns=['scheme' ,'heston_params#', 'strike', 'T', 'N_T', 'batch_size', 'absolute error', 'true' , 'MC_price', 'time'])"
   ]
  },
  {
   "cell_type": "code",
   "execution_count": 20,
   "metadata": {},
   "outputs": [],
   "source": [
    "test_numba_tg = {'schemes':[simulate_heston_andersen_tg],\n",
    "              'strikes': np.linspace(60, 140, 5),\n",
    "              'Ts': np.linspace(60, 140, 5),\n",
    "              'N_Ts': range(40, 125, 40),\n",
    "              'batch_sizes': [30_000],\n",
    "              'heston_params_n': [4]\n",
    "        }\n",
    "\n",
    "MC_compare_models_grid_test_numba_tg = pd.DataFrame(columns=['scheme' ,'heston_params#', 'strike', 'T', 'N_T', 'batch_size', 'absolute error', 'true' , 'MC_price', 'time'])"
   ]
  },
  {
   "cell_type": "code",
   "execution_count": 22,
   "metadata": {},
   "outputs": [
    {
     "data": {
      "application/vnd.jupyter.widget-view+json": {
       "model_id": "824fe2a49df34c5bb8db98d043b87ff2",
       "version_major": 2,
       "version_minor": 0
      },
      "text/plain": [
       "  0%|          | 0/75 [00:00<?, ?it/s]"
      ]
     },
     "metadata": {},
     "output_type": "display_data"
    },
    {
     "ename": "SystemError",
     "evalue": "CPUDispatcher(<function simulate_heston_andersen_tg at 0x000001622AA3B3A0>) returned a result with an error set",
     "output_type": "error",
     "traceback": [
      "\u001b[1;31m---------------------------------------------------------------------------\u001b[0m",
      "\u001b[1;31mKeyboardInterrupt\u001b[0m                         Traceback (most recent call last)",
      "\u001b[1;32mc:\\ProgramData\\Anaconda3\\lib\\site-packages\\numba\\core\\serialize.py\u001b[0m in \u001b[0;36m_numba_unpickle\u001b[1;34m(address, bytedata, hashed)\u001b[0m\n\u001b[0;32m     28\u001b[0m \u001b[1;33m\u001b[0m\u001b[0m\n\u001b[1;32m---> 29\u001b[1;33m \u001b[1;32mdef\u001b[0m \u001b[0m_numba_unpickle\u001b[0m\u001b[1;33m(\u001b[0m\u001b[0maddress\u001b[0m\u001b[1;33m,\u001b[0m \u001b[0mbytedata\u001b[0m\u001b[1;33m,\u001b[0m \u001b[0mhashed\u001b[0m\u001b[1;33m)\u001b[0m\u001b[1;33m:\u001b[0m\u001b[1;33m\u001b[0m\u001b[1;33m\u001b[0m\u001b[0m\n\u001b[0m\u001b[0;32m     30\u001b[0m     \"\"\"Used by `numba_unpickle` from _helperlib.c\n",
      "\u001b[1;31mKeyboardInterrupt\u001b[0m: ",
      "\nThe above exception was the direct cause of the following exception:\n",
      "\u001b[1;31mSystemError\u001b[0m                               Traceback (most recent call last)",
      "\u001b[1;31mSystemError\u001b[0m: _PyEval_EvalFrameDefault returned a result with an error set",
      "\nThe above exception was the direct cause of the following exception:\n",
      "\u001b[1;31mSystemError\u001b[0m                               Traceback (most recent call last)",
      "\u001b[1;32m~\\AppData\\Local\\Temp\\ipykernel_9708\\2100451415.py\u001b[0m in \u001b[0;36m<module>\u001b[1;34m\u001b[0m\n\u001b[0;32m     17\u001b[0m         \u001b[0mst\u001b[0m \u001b[1;33m=\u001b[0m \u001b[0mtime\u001b[0m\u001b[1;33m.\u001b[0m\u001b[0mtime\u001b[0m\u001b[1;33m(\u001b[0m\u001b[1;33m)\u001b[0m\u001b[1;33m\u001b[0m\u001b[1;33m\u001b[0m\u001b[0m\n\u001b[0;32m     18\u001b[0m         \u001b[1;32mfor\u001b[0m \u001b[0m_\u001b[0m \u001b[1;32min\u001b[0m \u001b[0mrange\u001b[0m\u001b[1;33m(\u001b[0m\u001b[0mrun_n_times\u001b[0m\u001b[1;33m)\u001b[0m\u001b[1;33m:\u001b[0m\u001b[1;33m\u001b[0m\u001b[1;33m\u001b[0m\u001b[0m\n\u001b[1;32m---> 19\u001b[1;33m             \u001b[0mres\u001b[0m \u001b[1;33m=\u001b[0m \u001b[0mfloat\u001b[0m\u001b[1;33m(\u001b[0m\u001b[0mmc_price\u001b[0m\u001b[1;33m(\u001b[0m\u001b[0mN_T\u001b[0m \u001b[1;33m=\u001b[0m \u001b[0mN_T\u001b[0m\u001b[1;33m,\u001b[0m \u001b[0msimulate\u001b[0m \u001b[1;33m=\u001b[0m \u001b[0mscheme\u001b[0m\u001b[1;33m,\u001b[0m \u001b[0mbatch_size\u001b[0m\u001b[1;33m=\u001b[0m\u001b[0mbatch_size\u001b[0m\u001b[1;33m,\u001b[0m \u001b[1;33m**\u001b[0m\u001b[0mcommon_mc_params\u001b[0m\u001b[1;33m,\u001b[0m \u001b[1;33m**\u001b[0m\u001b[0mkwargs\u001b[0m\u001b[1;33m)\u001b[0m\u001b[1;33m)\u001b[0m\u001b[1;33m\u001b[0m\u001b[1;33m\u001b[0m\u001b[0m\n\u001b[0m\u001b[0;32m     20\u001b[0m         \u001b[0met\u001b[0m \u001b[1;33m=\u001b[0m \u001b[0mtime\u001b[0m\u001b[1;33m.\u001b[0m\u001b[0mtime\u001b[0m\u001b[1;33m(\u001b[0m\u001b[1;33m)\u001b[0m\u001b[1;33m\u001b[0m\u001b[1;33m\u001b[0m\u001b[0m\n\u001b[0;32m     21\u001b[0m     \u001b[1;32melif\u001b[0m \u001b[0mscheme\u001b[0m \u001b[1;33m==\u001b[0m \u001b[0msimulate_heston_euler\u001b[0m\u001b[1;33m:\u001b[0m\u001b[1;33m\u001b[0m\u001b[1;33m\u001b[0m\u001b[0m\n",
      "\u001b[1;32md:\\Other\\code\\jypeter\\Stochastic-Volatility-Models\\Code\\hestonmc.py\u001b[0m in \u001b[0;36mmc_price\u001b[1;34m(payoff, simulate, state, heston_params, T, N_T, absolute_error, confidence_level, batch_size, MAX_ITER, control_variate_payoff, control_variate_iter, mu, verbose, random_seed, **kwargs)\u001b[0m\n\u001b[0;32m    118\u001b[0m     \u001b[1;32mif\u001b[0m \u001b[0mcontrol_variate_payoff\u001b[0m \u001b[1;32mis\u001b[0m \u001b[1;32mNone\u001b[0m\u001b[1;33m:\u001b[0m\u001b[1;33m\u001b[0m\u001b[1;33m\u001b[0m\u001b[0m\n\u001b[0;32m    119\u001b[0m         \u001b[1;32mwhile\u001b[0m \u001b[0mlength_conf_interval\u001b[0m \u001b[1;33m>\u001b[0m \u001b[0mabsolute_error\u001b[0m \u001b[1;32mand\u001b[0m \u001b[0miter_count\u001b[0m \u001b[1;33m<\u001b[0m \u001b[0mMAX_ITER\u001b[0m\u001b[1;33m:\u001b[0m\u001b[1;33m\u001b[0m\u001b[1;33m\u001b[0m\u001b[0m\n\u001b[1;32m--> 120\u001b[1;33m             \u001b[0mtemp\u001b[0m  \u001b[1;33m=\u001b[0m \u001b[0msimulate\u001b[0m\u001b[1;33m(\u001b[0m\u001b[1;33m**\u001b[0m\u001b[0margs\u001b[0m\u001b[1;33m)\u001b[0m\u001b[1;33m[\u001b[0m\u001b[1;36m0\u001b[0m\u001b[1;33m]\u001b[0m\u001b[1;33m\u001b[0m\u001b[1;33m\u001b[0m\u001b[0m\n\u001b[0m\u001b[0;32m    121\u001b[0m             \u001b[0mbatch_new\u001b[0m \u001b[1;33m=\u001b[0m \u001b[0mpayoff\u001b[0m\u001b[1;33m(\u001b[0m\u001b[0mtemp\u001b[0m\u001b[1;33m)\u001b[0m\u001b[1;33m\u001b[0m\u001b[1;33m\u001b[0m\u001b[0m\n\u001b[0;32m    122\u001b[0m \u001b[1;33m\u001b[0m\u001b[0m\n",
      "\u001b[1;31mSystemError\u001b[0m: CPUDispatcher(<function simulate_heston_andersen_tg at 0x000001622AA3B3A0>) returned a result with an error set"
     ]
    }
   ],
   "source": [
    "i = 0\n",
    "\n",
    "test_params = test_numba_tg\n",
    "\n",
    "df_export = MC_compare_models_grid_test_numba_tg\n",
    "\n",
    "run_n_times = 1\n",
    "\n",
    "for scheme, strike, T, N_T, batch_size , heston_params_n in product(test_params['schemes'], test_params['strikes'], test_params['Ts'], test_params['N_Ts'], test_params['batch_sizes'], test_params['heston_params_n']):\n",
    "    heston_params_ = heston_params_array[heston_params_n-1]\n",
    "    ec_payoff = european_call_payoff(T, strike, state.interest_rate)\n",
    "    \n",
    "    common_mc_params = {\"absolute_error\": 5e-1, \"state\": state, \"heston_params\": heston_params_, \"payoff\": ec_payoff, \"T\": T, \"random_seed\": 42, \"verbose\": False}\n",
    "    model = Heston(state.stock_price, heston_params_.v0, heston_params_.kappa, heston_params_.vbar, heston_params_.gamma, heston_params_.rho, state.interest_rate)\n",
    "    \n",
    "    if scheme == simulate_heston_andersen_tg:\n",
    "        st = time.time()\n",
    "        for _ in range(run_n_times):\n",
    "            res = float(mc_price(N_T = N_T, simulate = scheme, batch_size=batch_size, **common_mc_params, **kwargs))\n",
    "        et = time.time()\n",
    "    elif scheme == simulate_heston_euler:\n",
    "        st = time.time()\n",
    "        for _ in range(run_n_times):\n",
    "            res = float(mc_price(N_T = N_T, simulate = scheme, batch_size=batch_size, **common_mc_params))\n",
    "        et = time.time()\n",
    "    elif scheme == simulate_heston_andersen_qe:\n",
    "        st = time.time()\n",
    "        for _ in range(run_n_times):\n",
    "            res = float(mc_price(N_T = N_T, simulate = scheme, batch_size=batch_size, **common_mc_params))\n",
    "        et = time.time()\n",
    "    df_export.loc[i] = (scheme.__name__, heston_params_n, strike, T, N_T, batch_size,common_mc_params['absolute_error'], model.call_price(T, strike), res, (et-st)/run_n_times)\n",
    "    i +=1"
   ]
  },
  {
   "cell_type": "code",
   "execution_count": 38,
   "metadata": {},
   "outputs": [],
   "source": [
    "from numba_stats import norm"
   ]
  },
  {
   "cell_type": "code",
   "execution_count": 48,
   "metadata": {},
   "outputs": [
    {
     "data": {
      "text/plain": [
       "array(0.7466529)"
      ]
     },
     "execution_count": 48,
     "metadata": {},
     "output_type": "execute_result"
    }
   ],
   "source": [
    "norm.ppf(0.4, loc=1, scale=1)"
   ]
  },
  {
   "cell_type": "code",
   "execution_count": 31,
   "metadata": {},
   "outputs": [
    {
     "data": {
      "text/html": [
       "<div>\n",
       "<style scoped>\n",
       "    .dataframe tbody tr th:only-of-type {\n",
       "        vertical-align: middle;\n",
       "    }\n",
       "\n",
       "    .dataframe tbody tr th {\n",
       "        vertical-align: top;\n",
       "    }\n",
       "\n",
       "    .dataframe thead th {\n",
       "        text-align: right;\n",
       "    }\n",
       "</style>\n",
       "<table border=\"1\" class=\"dataframe\">\n",
       "  <thead>\n",
       "    <tr style=\"text-align: right;\">\n",
       "      <th></th>\n",
       "      <th>scheme</th>\n",
       "      <th>heston_params#</th>\n",
       "      <th>strike</th>\n",
       "      <th>T</th>\n",
       "      <th>N_T</th>\n",
       "      <th>batch_size</th>\n",
       "      <th>absolute error</th>\n",
       "      <th>true</th>\n",
       "      <th>MC_price</th>\n",
       "      <th>time</th>\n",
       "    </tr>\n",
       "  </thead>\n",
       "  <tbody>\n",
       "    <tr>\n",
       "      <th>0</th>\n",
       "      <td>simulate_heston_euler</td>\n",
       "      <td>3</td>\n",
       "      <td>60.0</td>\n",
       "      <td>1.0</td>\n",
       "      <td>5</td>\n",
       "      <td>100000</td>\n",
       "      <td>0.05</td>\n",
       "      <td>40.750139</td>\n",
       "      <td>40.665745</td>\n",
       "      <td>0.101824</td>\n",
       "    </tr>\n",
       "    <tr>\n",
       "      <th>1</th>\n",
       "      <td>simulate_heston_euler</td>\n",
       "      <td>3</td>\n",
       "      <td>60.0</td>\n",
       "      <td>1.0</td>\n",
       "      <td>10</td>\n",
       "      <td>100000</td>\n",
       "      <td>0.05</td>\n",
       "      <td>40.750139</td>\n",
       "      <td>40.912025</td>\n",
       "      <td>0.115101</td>\n",
       "    </tr>\n",
       "    <tr>\n",
       "      <th>2</th>\n",
       "      <td>simulate_heston_euler</td>\n",
       "      <td>3</td>\n",
       "      <td>60.0</td>\n",
       "      <td>1.0</td>\n",
       "      <td>15</td>\n",
       "      <td>100000</td>\n",
       "      <td>0.05</td>\n",
       "      <td>40.750139</td>\n",
       "      <td>40.913979</td>\n",
       "      <td>0.148648</td>\n",
       "    </tr>\n",
       "    <tr>\n",
       "      <th>3</th>\n",
       "      <td>simulate_heston_euler</td>\n",
       "      <td>3</td>\n",
       "      <td>60.0</td>\n",
       "      <td>1.0</td>\n",
       "      <td>20</td>\n",
       "      <td>100000</td>\n",
       "      <td>0.05</td>\n",
       "      <td>40.750139</td>\n",
       "      <td>40.883568</td>\n",
       "      <td>0.171510</td>\n",
       "    </tr>\n",
       "    <tr>\n",
       "      <th>4</th>\n",
       "      <td>simulate_heston_euler</td>\n",
       "      <td>3</td>\n",
       "      <td>60.0</td>\n",
       "      <td>1.0</td>\n",
       "      <td>25</td>\n",
       "      <td>100000</td>\n",
       "      <td>0.05</td>\n",
       "      <td>40.750139</td>\n",
       "      <td>40.856993</td>\n",
       "      <td>0.200017</td>\n",
       "    </tr>\n",
       "    <tr>\n",
       "      <th>...</th>\n",
       "      <td>...</td>\n",
       "      <td>...</td>\n",
       "      <td>...</td>\n",
       "      <td>...</td>\n",
       "      <td>...</td>\n",
       "      <td>...</td>\n",
       "      <td>...</td>\n",
       "      <td>...</td>\n",
       "      <td>...</td>\n",
       "      <td>...</td>\n",
       "    </tr>\n",
       "    <tr>\n",
       "      <th>280</th>\n",
       "      <td>simulate_heston_andersen_qe</td>\n",
       "      <td>3</td>\n",
       "      <td>140.0</td>\n",
       "      <td>1.0</td>\n",
       "      <td>75</td>\n",
       "      <td>100000</td>\n",
       "      <td>0.05</td>\n",
       "      <td>0.002239</td>\n",
       "      <td>0.002398</td>\n",
       "      <td>0.130515</td>\n",
       "    </tr>\n",
       "    <tr>\n",
       "      <th>281</th>\n",
       "      <td>simulate_heston_andersen_qe</td>\n",
       "      <td>3</td>\n",
       "      <td>140.0</td>\n",
       "      <td>1.0</td>\n",
       "      <td>80</td>\n",
       "      <td>100000</td>\n",
       "      <td>0.05</td>\n",
       "      <td>0.002239</td>\n",
       "      <td>0.002541</td>\n",
       "      <td>0.131935</td>\n",
       "    </tr>\n",
       "    <tr>\n",
       "      <th>282</th>\n",
       "      <td>simulate_heston_andersen_qe</td>\n",
       "      <td>3</td>\n",
       "      <td>140.0</td>\n",
       "      <td>1.0</td>\n",
       "      <td>85</td>\n",
       "      <td>100000</td>\n",
       "      <td>0.05</td>\n",
       "      <td>0.002239</td>\n",
       "      <td>0.001578</td>\n",
       "      <td>0.161174</td>\n",
       "    </tr>\n",
       "    <tr>\n",
       "      <th>283</th>\n",
       "      <td>simulate_heston_andersen_qe</td>\n",
       "      <td>3</td>\n",
       "      <td>140.0</td>\n",
       "      <td>1.0</td>\n",
       "      <td>90</td>\n",
       "      <td>100000</td>\n",
       "      <td>0.05</td>\n",
       "      <td>0.002239</td>\n",
       "      <td>0.001693</td>\n",
       "      <td>0.158157</td>\n",
       "    </tr>\n",
       "    <tr>\n",
       "      <th>284</th>\n",
       "      <td>simulate_heston_andersen_qe</td>\n",
       "      <td>3</td>\n",
       "      <td>140.0</td>\n",
       "      <td>1.0</td>\n",
       "      <td>95</td>\n",
       "      <td>100000</td>\n",
       "      <td>0.05</td>\n",
       "      <td>0.002239</td>\n",
       "      <td>0.002611</td>\n",
       "      <td>0.165067</td>\n",
       "    </tr>\n",
       "  </tbody>\n",
       "</table>\n",
       "<p>285 rows × 10 columns</p>\n",
       "</div>"
      ],
      "text/plain": [
       "                          scheme  heston_params#  strike    T  N_T  \\\n",
       "0          simulate_heston_euler               3    60.0  1.0    5   \n",
       "1          simulate_heston_euler               3    60.0  1.0   10   \n",
       "2          simulate_heston_euler               3    60.0  1.0   15   \n",
       "3          simulate_heston_euler               3    60.0  1.0   20   \n",
       "4          simulate_heston_euler               3    60.0  1.0   25   \n",
       "..                           ...             ...     ...  ...  ...   \n",
       "280  simulate_heston_andersen_qe               3   140.0  1.0   75   \n",
       "281  simulate_heston_andersen_qe               3   140.0  1.0   80   \n",
       "282  simulate_heston_andersen_qe               3   140.0  1.0   85   \n",
       "283  simulate_heston_andersen_qe               3   140.0  1.0   90   \n",
       "284  simulate_heston_andersen_qe               3   140.0  1.0   95   \n",
       "\n",
       "     batch_size  absolute error       true   MC_price      time  \n",
       "0        100000            0.05  40.750139  40.665745  0.101824  \n",
       "1        100000            0.05  40.750139  40.912025  0.115101  \n",
       "2        100000            0.05  40.750139  40.913979  0.148648  \n",
       "3        100000            0.05  40.750139  40.883568  0.171510  \n",
       "4        100000            0.05  40.750139  40.856993  0.200017  \n",
       "..          ...             ...        ...        ...       ...  \n",
       "280      100000            0.05   0.002239   0.002398  0.130515  \n",
       "281      100000            0.05   0.002239   0.002541  0.131935  \n",
       "282      100000            0.05   0.002239   0.001578  0.161174  \n",
       "283      100000            0.05   0.002239   0.001693  0.158157  \n",
       "284      100000            0.05   0.002239   0.002611  0.165067  \n",
       "\n",
       "[285 rows x 10 columns]"
      ]
     },
     "execution_count": 31,
     "metadata": {},
     "output_type": "execute_result"
    }
   ],
   "source": [
    "MC_compare_models_grid_test_numba.head(500)"
   ]
  },
  {
   "cell_type": "code",
   "execution_count": 34,
   "metadata": {},
   "outputs": [],
   "source": [
    "MC_compare_models_grid_test_numba_dropped = MC_compare_models_grid_test_numba.drop(['heston_params#', 'T', 'batch_size', 'absolute error', 'true', 'MC_price'], axis=1)"
   ]
  },
  {
   "cell_type": "code",
   "execution_count": 76,
   "metadata": {},
   "outputs": [],
   "source": [
    "MC_compare_models_grid_test_2.to_csv(r\"Data/evaluation/MC_compare_models_grid_test_2.csv\")"
   ]
  }
 ],
 "metadata": {
  "kernelspec": {
   "display_name": "base",
   "language": "python",
   "name": "python3"
  },
  "language_info": {
   "codemirror_mode": {
    "name": "ipython",
    "version": 3
   },
   "file_extension": ".py",
   "mimetype": "text/x-python",
   "name": "python",
   "nbconvert_exporter": "python",
   "pygments_lexer": "ipython3",
   "version": "3.9.13"
  },
  "orig_nbformat": 4,
  "vscode": {
   "interpreter": {
    "hash": "ad2bdc8ecc057115af97d19610ffacc2b4e99fae6737bb82f5d7fb13d2f2c186"
   }
  }
 },
 "nbformat": 4,
 "nbformat_minor": 2
}
