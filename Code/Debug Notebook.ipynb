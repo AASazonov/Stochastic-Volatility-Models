{
 "cells": [
  {
   "cell_type": "code",
   "execution_count": 44,
   "metadata": {},
   "outputs": [],
   "source": [
    "import numpy as np\n",
    "import pandas as pd\n",
    "import matplotlib.pyplot as plt\n",
    "import scipy.stats as sps\n",
    "import math\n",
    "\n",
    "from ipywidgets import interact\n",
    "\n",
    "from ipywidgets import widgets\n",
    "from tqdm.auto import tqdm\n",
    "\n",
    "from dataclasses import dataclass\n",
    "from typing import Union, Callable, Optional\n",
    "from copy import deepcopy\n",
    "from copy import error\n",
    "from scipy.optimize import root_scalar, brentq\n",
    "from dataclasses import dataclass\n",
    "from scipy.special import iv\n",
    "from scipy.stats import bernoulli\n",
    "from scipy.interpolate import RectBivariateSpline\n",
    "from scipy.optimize import newton\n",
    "from scipy.stats import norm\n",
    "\n",
    "import warnings\n",
    "from scipy.stats import norm\n",
    "warnings.filterwarnings(\"ignore\")\n",
    "\n",
    "from vol.vol import Heston\n",
    "\n",
    "import hestonmc\n",
    "from importlib import reload\n",
    "reload(hestonmc)\n",
    "\n",
    "from hestonmc import MarketState, HestonParameters, mc_price, simulate_heston_euler, simulate_heston_andersen_qe, simulate_heston_andersen_tg"
   ]
  },
  {
   "cell_type": "markdown",
   "metadata": {},
   "source": [
    "## Broadie - Kaya scheme"
   ]
  },
  {
   "cell_type": "code",
   "execution_count": 8,
   "metadata": {},
   "outputs": [],
   "source": [
    "def cir_chi_sq_sample(heston_params: HestonParameters,\n",
    "                      dt:            float,\n",
    "                      v_i:           np.array,\n",
    "                      n_simulations: int):\n",
    "    \"\"\"Samples chi_squared statistics for v_{i+1} conditional on \n",
    "       v_i and parameters of Hestom model. \n",
    "        \n",
    "    Args:\n",
    "        heston_params (HestonParameters): parameters of Heston model\n",
    "        dt (float): time step \n",
    "        v_i: current volatility value\n",
    "        n_simulations (int): number of simulations.\n",
    "        \n",
    "    Returns:\n",
    "        np.array: sampled chi_squared statistics \n",
    "    \"\"\"\n",
    "    kappa, vbar, gamma = heston_params.kappa, heston_params.vbar, heston_params.gamma\n",
    "    \n",
    "    barkappa=v_i*(4*kappa*np.exp(-kappa*dt))/(gamma**2 * (1 - np.exp(-kappa*dt)))\n",
    "    d=(4*kappa*vbar)/(gamma**2)\n",
    "    c=((gamma**2)/(4*kappa))*(1-np.exp(-kappa*dt))\n",
    "    \n",
    "    return  c*np.random.noncentral_chisquare(size = n_simulations, df   = d, nonc = barkappa)\n",
    "\n",
    "\n",
    "def Phi(a:             Union[float, np.ndarray], \n",
    "        V:             Union[float, np.ndarray],\n",
    "        time:          Union[float, np.ndarray],\n",
    "        heston_params: HestonParameters\n",
    "        ) -> np.ndarray:\n",
    "    \n",
    "    \n",
    "    v0, rho, kappa, vbar, gamma = heston_params.v0, heston_params.rho, heston_params.kappa, \\\n",
    "                                        heston_params.vbar, heston_params.gamma\n",
    "    dt = time[1::]-time[:-1:]\n",
    "    \n",
    "    A=np.array(a)\n",
    "    gamma_a = np.sqrt(kappa**2 - 2*gamma**2*1j*A).reshape(1,1,len(A)).T\n",
    "    \n",
    "    E1 = np.exp(-kappa*dt)\n",
    "    E2 = np.exp(-gamma_a * dt)\n",
    "        \n",
    "    P1 = ((1.0-E1)*gamma_a/(kappa*(1.0-E2)))*np.exp(-0.5*(gamma_a - kappa)*dt)\n",
    "    \n",
    "    P2_2 = kappa * (1.0 + E1)/(1.0 - E1) - gamma_a*(1.0+E2)/(1-E2)\n",
    "    P2 = np.exp( (V[:,1::]+V[:,:-1:])/(gamma_a**2) * P2_2 )\n",
    "    \n",
    "    P3_1 = np.sqrt(V[:,1::]*V[:,:-1:])*4*gamma_a * np.exp(-0.5*gamma_a*dt) /(gamma**2 * (1.0 - E2))\n",
    "    P3_2 = np.sqrt(V[:,1::]*V[:,:-1:])*4*kappa*np.exp(-0.5*kappa*dt)/(gamma**2 * (1 - E1))\n",
    "    d=(4*kappa*vbar)/(gamma**2)\n",
    "    P3 = iv(0.5*d - 1, P3_1)/iv(0.5*d - 1, P3_2)\n",
    "    \n",
    "    return P1*P2*P3\n",
    "\n",
    "def Pr(V:             np.ndarray, \n",
    "       time:          np.ndarray,\n",
    "       X:             Union[np.ndarray, float],\n",
    "       heston_params: HestonParameters,\n",
    "       h:             float=1e-2, \n",
    "       eps:           float=1e-2\n",
    "       ) -> np.ndarray:\n",
    "    \n",
    "    x=np.array(X)\n",
    "    P=h*x/np.pi\n",
    "    S = 0.0\n",
    "    j = 1\n",
    "    while(True):\n",
    "        Sin=np.sin(h*j*x)/j\n",
    "        Phi_hj=Phi(h*j, V, time, heston_params)\n",
    "        S+=Sin.reshape(1,1,len(x)).T * Phi_hj[0]\n",
    "        if np.all(Phi_hj[0]<np.pi*eps*j/2.0):\n",
    "            break\n",
    "        j=j+1\n",
    "    \n",
    "    S=S*2.0/np.pi\n",
    "    return P+S\n",
    "\n",
    "def IV(V:             np.ndarray, \n",
    "       time:          np.ndarray,\n",
    "       heston_params: HestonParameters,\n",
    "       h:             float=1e-2, \n",
    "       eps:           float=1e-2\n",
    "       ) -> np.ndarray:\n",
    "    \n",
    "    U=np.random.uniform(size=(V.shape[0], V.shape[1] - 1))\n",
    "    \n",
    "    def f(x,i,j):\n",
    "        P=Pr(V, time, x, heston_params, h, eps)\n",
    "        return (P-U)[0][i,j]\n",
    "    \n",
    "    IVar = np.zeros((V.shape[0], V.shape[1] - 1))\n",
    "    \n",
    "    for i in range(IVar.shape[0]):\n",
    "        for j in range(IVar.shape[1]):     \n",
    "            IVar[i,j]=root_scalar(f, args=(i,j), x0=0.5, method='newton')\n",
    "    return IVar"
   ]
  },
  {
   "cell_type": "markdown",
   "metadata": {},
   "source": [
    "## Tests"
   ]
  },
  {
   "cell_type": "code",
   "execution_count": 45,
   "metadata": {},
   "outputs": [],
   "source": [
    "heston_parameters = HestonParameters(kappa = 1.3125, gamma = 0.5125, rho = -0.3937, vbar = 0.0641, v0 = 0.3)\n",
    "# kappa = 1.3125, gamma = 0.7125, rho = -0.3937, vbar = 0.0641, v0 = 0.3\n",
    "state = MarketState(stock_price = 100., interest_rate = 0.2)\n",
    "\n",
    "params = heston_parameters\n",
    "model = Heston(state.stock_price, heston_parameters.v0, heston_parameters.kappa, heston_parameters.vbar, heston_parameters.gamma, heston_parameters.rho, state.interest_rate)\n",
    "kwargs = {}"
   ]
  },
  {
   "cell_type": "code",
   "execution_count": 46,
   "metadata": {},
   "outputs": [],
   "source": [
    "def get_payoff(maturity: float,\n",
    "               strike: float,\n",
    "               interest_rate: float = 0.):\n",
    "    def payoff(St: np.ndarray):\n",
    "        DF = np.exp( - interest_rate * maturity)\n",
    "        return np.maximum(St - strike, 0.)*DF\n",
    "\n",
    "    return payoff"
   ]
  },
  {
   "cell_type": "markdown",
   "metadata": {},
   "source": [
    "### At the money"
   ]
  },
  {
   "cell_type": "code",
   "execution_count": 47,
   "metadata": {},
   "outputs": [],
   "source": [
    "strike = 100.\n",
    "T = 1.\n",
    "payoff = get_payoff(T, strike, state.interest_rate)"
   ]
  },
  {
   "cell_type": "code",
   "execution_count": 48,
   "metadata": {},
   "outputs": [
    {
     "name": "stdout",
     "output_type": "stream",
     "text": [
      "22.735939055676866\n"
     ]
    }
   ],
   "source": [
    "theory = model.call_price(T, strike)\n",
    "print(theory)"
   ]
  },
  {
   "cell_type": "code",
   "execution_count": null,
   "metadata": {},
   "outputs": [],
   "source": [
    "# np.random.seed(42)\n",
    "euler    = mc_price(dt = 5e-2, absolute_error=5e-2, market_state = state, payoff = payoff, simulate = simulate_heston_euler,\n",
    "                    debug = False, params = params, T = T, **kwargs)\n",
    "print(euler)"
   ]
  },
  {
   "cell_type": "code",
   "execution_count": 20,
   "metadata": {},
   "outputs": [
    {
     "name": "stdout",
     "output_type": "stream",
     "text": [
      "Number of iterations:   646\n",
      "Number of simulations:  6460000\n",
      "\n",
      "25.54671704399664\n"
     ]
    }
   ],
   "source": [
    "# np.random.seed(42)\n",
    "andersen = mc_price(dt = 5e-2, absolute_error=5e-2, market_state = state, payoff = payoff, simulate = simulate_heston_andersen_qe, params = params, T = T, **kwargs)\n",
    "print(andersen)"
   ]
  },
  {
   "cell_type": "code",
   "execution_count": 22,
   "metadata": {},
   "outputs": [],
   "source": [
    "r_x = np.load(r\"Data\\anderson tg\\r_x.npy\")\n",
    "f_nu_y = np.load(r\"Data\\anderson tg\\f_nu_y.npy\")\n",
    "f_sigma_y = np.load(r\"Data\\anderson tg\\f_sigma_y.npy\")"
   ]
  },
  {
   "cell_type": "code",
   "execution_count": 23,
   "metadata": {},
   "outputs": [
    {
     "name": "stdout",
     "output_type": "stream",
     "text": [
      "Current price: 25.6948 +/- 1.3337\n",
      "Current price: 26.1367 +/- 0.9497\n",
      "Current price: 26.1767 +/- 0.7812\n",
      "Current price: 26.1023 +/- 0.6758\n",
      "Current price: 26.2121 +/- 0.6056\n",
      "Current price: 26.2809 +/- 0.5539\n",
      "Current price: 26.2666 +/- 0.5123\n",
      "Current price: 26.1937 +/- 0.4778\n",
      "Current price: 26.1900 +/- 0.4501\n",
      "Current price: 26.2193 +/- 0.4274\n",
      "Current price: 26.2171 +/- 0.4072\n",
      "Current price: 26.2633 +/- 0.3902\n",
      "Current price: 26.2859 +/- 0.3753\n",
      "Current price: 26.3137 +/- 0.3616\n",
      "Current price: 26.3315 +/- 0.3492\n",
      "Current price: 26.3228 +/- 0.3380\n",
      "Current price: 26.3128 +/- 0.3281\n",
      "Current price: 26.3118 +/- 0.3190\n",
      "Current price: 26.3094 +/- 0.3106\n",
      "Current price: 26.2882 +/- 0.3027\n",
      "Current price: 26.3349 +/- 0.2960\n",
      "Current price: 26.3406 +/- 0.2894\n",
      "Current price: 26.3367 +/- 0.2829\n",
      "Current price: 26.3342 +/- 0.2769\n",
      "Current price: 26.3267 +/- 0.2711\n",
      "Current price: 26.3282 +/- 0.2658\n",
      "Current price: 26.3233 +/- 0.2609\n",
      "Current price: 26.3193 +/- 0.2562\n",
      "Current price: 26.3242 +/- 0.2518\n",
      "Current price: 26.3226 +/- 0.2475\n",
      "Current price: 26.3297 +/- 0.2434\n",
      "Current price: 26.3184 +/- 0.2396\n",
      "Current price: 26.3317 +/- 0.2360\n",
      "Current price: 26.3392 +/- 0.2325\n",
      "Current price: 26.3130 +/- 0.2289\n",
      "Current price: 26.3176 +/- 0.2258\n",
      "Current price: 26.3192 +/- 0.2228\n",
      "Current price: 26.3187 +/- 0.2200\n",
      "Current price: 26.3226 +/- 0.2171\n",
      "Current price: 26.3168 +/- 0.2142\n",
      "Current price: 26.3302 +/- 0.2117\n",
      "Current price: 26.3287 +/- 0.2092\n",
      "Current price: 26.3339 +/- 0.2068\n",
      "Current price: 26.3293 +/- 0.2044\n"
     ]
    },
    {
     "ename": "KeyboardInterrupt",
     "evalue": "",
     "output_type": "error",
     "traceback": [
      "\u001b[1;31m---------------------------------------------------------------------------\u001b[0m",
      "\u001b[1;31mKeyboardInterrupt\u001b[0m                         Traceback (most recent call last)",
      "\u001b[1;32m~\\AppData\\Local\\Temp\\ipykernel_15760\\1209379771.py\u001b[0m in \u001b[0;36m<module>\u001b[1;34m\u001b[0m\n\u001b[0;32m      1\u001b[0m \u001b[1;31m#np.random.seed(42)\u001b[0m\u001b[1;33m\u001b[0m\u001b[1;33m\u001b[0m\u001b[0m\n\u001b[0;32m      2\u001b[0m \u001b[0mkwargs\u001b[0m \u001b[1;33m=\u001b[0m \u001b[1;33m{\u001b[0m\u001b[1;34m'x_grid'\u001b[0m \u001b[1;33m:\u001b[0m \u001b[0mr_x\u001b[0m\u001b[1;33m,\u001b[0m \u001b[1;34m'f_nu_grid'\u001b[0m \u001b[1;33m:\u001b[0m \u001b[0mf_nu_y\u001b[0m\u001b[1;33m,\u001b[0m \u001b[1;34m'f_sigma_grid'\u001b[0m \u001b[1;33m:\u001b[0m \u001b[0mf_sigma_y\u001b[0m \u001b[1;33m}\u001b[0m\u001b[1;33m\u001b[0m\u001b[1;33m\u001b[0m\u001b[0m\n\u001b[1;32m----> 3\u001b[1;33m \u001b[0mandersen\u001b[0m \u001b[1;33m=\u001b[0m \u001b[0mmc_price\u001b[0m\u001b[1;33m(\u001b[0m\u001b[0mdt\u001b[0m \u001b[1;33m=\u001b[0m \u001b[1;36m1e-2\u001b[0m\u001b[1;33m,\u001b[0m \u001b[0mabsolute_error\u001b[0m\u001b[1;33m=\u001b[0m\u001b[1;36m5e-4\u001b[0m\u001b[1;33m,\u001b[0m \u001b[0mmarket_state\u001b[0m \u001b[1;33m=\u001b[0m \u001b[0mstate\u001b[0m\u001b[1;33m,\u001b[0m \u001b[0mpayoff\u001b[0m \u001b[1;33m=\u001b[0m \u001b[0mpayoff\u001b[0m\u001b[1;33m,\u001b[0m \u001b[0msimulate\u001b[0m \u001b[1;33m=\u001b[0m \u001b[0msimulate_heston_andersen_tg\u001b[0m\u001b[1;33m,\u001b[0m \u001b[0mparams\u001b[0m \u001b[1;33m=\u001b[0m \u001b[0mparams\u001b[0m\u001b[1;33m,\u001b[0m \u001b[0mT\u001b[0m \u001b[1;33m=\u001b[0m \u001b[0mT\u001b[0m\u001b[1;33m,\u001b[0m\u001b[0mdebug\u001b[0m\u001b[1;33m=\u001b[0m\u001b[1;32mTrue\u001b[0m\u001b[1;33m,\u001b[0m \u001b[1;33m**\u001b[0m\u001b[0mkwargs\u001b[0m\u001b[1;33m)\u001b[0m\u001b[1;33m\u001b[0m\u001b[1;33m\u001b[0m\u001b[0m\n\u001b[0m\u001b[0;32m      4\u001b[0m \u001b[0mprint\u001b[0m\u001b[1;33m(\u001b[0m\u001b[0mandersen\u001b[0m\u001b[1;33m)\u001b[0m\u001b[1;33m\u001b[0m\u001b[1;33m\u001b[0m\u001b[0m\n",
      "\u001b[1;32m~\\AppData\\Local\\Temp\\ipykernel_15760\\1862314986.py\u001b[0m in \u001b[0;36mmc_price\u001b[1;34m(payoff, simulate, market_state, params, T, dt, absolute_error, confidence_level, batch_size, MAX_ITER, control_variate_payoff, debug, **kwargs)\u001b[0m\n\u001b[0;32m     61\u001b[0m \u001b[1;33m\u001b[0m\u001b[0m\n\u001b[0;32m     62\u001b[0m     \u001b[1;32mwhile\u001b[0m \u001b[0mlength_conf_interval\u001b[0m \u001b[1;33m>\u001b[0m \u001b[0mabsolute_error\u001b[0m \u001b[1;32mand\u001b[0m \u001b[0miter_count\u001b[0m \u001b[1;33m<\u001b[0m \u001b[0mMAX_ITER\u001b[0m\u001b[1;33m:\u001b[0m\u001b[1;33m\u001b[0m\u001b[1;33m\u001b[0m\u001b[0m\n\u001b[1;32m---> 63\u001b[1;33m         \u001b[0mderivative_price_array\u001b[0m \u001b[1;33m=\u001b[0m \u001b[0mnp\u001b[0m\u001b[1;33m.\u001b[0m\u001b[0mappend\u001b[0m\u001b[1;33m(\u001b[0m\u001b[0mderivative_price_array\u001b[0m\u001b[1;33m,\u001b[0m \u001b[0mpayoff\u001b[0m\u001b[1;33m(\u001b[0m\u001b[0msimulate\u001b[0m\u001b[1;33m(\u001b[0m\u001b[1;33m**\u001b[0m\u001b[0margs\u001b[0m\u001b[1;33m)\u001b[0m\u001b[1;33m[\u001b[0m\u001b[1;34m'price'\u001b[0m\u001b[1;33m]\u001b[0m\u001b[1;33m)\u001b[0m\u001b[1;33m)\u001b[0m\u001b[1;33m\u001b[0m\u001b[1;33m\u001b[0m\u001b[0m\n\u001b[0m\u001b[0;32m     64\u001b[0m         \u001b[0miter_count\u001b[0m\u001b[1;33m+=\u001b[0m\u001b[1;36m1\u001b[0m\u001b[1;33m\u001b[0m\u001b[1;33m\u001b[0m\u001b[0m\n\u001b[0;32m     65\u001b[0m         \u001b[0mn\u001b[0m\u001b[1;33m+=\u001b[0m\u001b[0mbatch_size\u001b[0m\u001b[1;33m\u001b[0m\u001b[1;33m\u001b[0m\u001b[0m\n",
      "\u001b[1;32m~\\AppData\\Local\\Temp\\ipykernel_15760\\4070172752.py\u001b[0m in \u001b[0;36msimulate_heston_andersen_tg\u001b[1;34m(state, heston_params, x_grid, f_nu_grid, f_sigma_grid, time, dt, n_simulations, Psi_c, gamma_1)\u001b[0m\n\u001b[0;32m     60\u001b[0m     \u001b[0mlogS\u001b[0m\u001b[1;33m[\u001b[0m\u001b[1;33m:\u001b[0m\u001b[1;33m,\u001b[0m \u001b[1;36m0\u001b[0m\u001b[1;33m]\u001b[0m \u001b[1;33m=\u001b[0m \u001b[0mlog_st\u001b[0m\u001b[1;33m\u001b[0m\u001b[1;33m\u001b[0m\u001b[0m\n\u001b[0;32m     61\u001b[0m \u001b[1;33m\u001b[0m\u001b[0m\n\u001b[1;32m---> 62\u001b[1;33m     \u001b[0mZ\u001b[0m          \u001b[1;33m=\u001b[0m \u001b[0mnp\u001b[0m\u001b[1;33m.\u001b[0m\u001b[0mrandom\u001b[0m\u001b[1;33m.\u001b[0m\u001b[0mnormal\u001b[0m\u001b[1;33m(\u001b[0m\u001b[0msize\u001b[0m\u001b[1;33m=\u001b[0m\u001b[1;33m(\u001b[0m\u001b[0mn_simulations\u001b[0m\u001b[1;33m,\u001b[0m \u001b[0mN_T\u001b[0m\u001b[1;33m)\u001b[0m\u001b[1;33m)\u001b[0m\u001b[1;33m\u001b[0m\u001b[1;33m\u001b[0m\u001b[0m\n\u001b[0m\u001b[0;32m     63\u001b[0m     \u001b[0mZ_V\u001b[0m        \u001b[1;33m=\u001b[0m \u001b[0mnp\u001b[0m\u001b[1;33m.\u001b[0m\u001b[0mrandom\u001b[0m\u001b[1;33m.\u001b[0m\u001b[0mnormal\u001b[0m\u001b[1;33m(\u001b[0m\u001b[0msize\u001b[0m\u001b[1;33m=\u001b[0m\u001b[1;33m(\u001b[0m\u001b[0mn_simulations\u001b[0m\u001b[1;33m,\u001b[0m \u001b[0mN_T\u001b[0m\u001b[1;33m)\u001b[0m\u001b[1;33m)\u001b[0m\u001b[1;33m\u001b[0m\u001b[1;33m\u001b[0m\u001b[0m\n\u001b[0;32m     64\u001b[0m \u001b[1;33m\u001b[0m\u001b[0m\n",
      "\u001b[1;31mKeyboardInterrupt\u001b[0m: "
     ]
    }
   ],
   "source": [
    "#np.random.seed(42)\n",
    "kwargs = {'x_grid' : r_x, 'f_nu_grid' : f_nu_y, 'f_sigma_grid' : f_sigma_y }\n",
    "andersen = mc_price(dt = 1e-2, absolute_error=5e-4, market_state = state, payoff = payoff, simulate = simulate_heston_andersen_tg, params = params, T = T,debug=True, **kwargs)\n",
    "print(andersen)"
   ]
  },
  {
   "cell_type": "code",
   "execution_count": 35,
   "metadata": {},
   "outputs": [
    {
     "name": "stdout",
     "output_type": "stream",
     "text": [
      "Number of iterations:   499\n",
      "16.141856095186746\n",
      "Number of iterations:   500\n",
      "16.16485690142346\n",
      "Number of iterations:   501\n",
      "16.162006575869245\n",
      "Number of iterations:   501\n",
      "16.172163674801727\n",
      "Number of iterations:   502\n",
      "16.16445622313361\n",
      "\n",
      "\n",
      "\n",
      "Number of iterations:   497\n",
      "16.13599096813387\n",
      "Number of iterations:   495\n",
      "16.138183069198718\n",
      "Number of iterations:   497\n",
      "16.144927377340313\n",
      "Number of iterations:   494\n",
      "16.13851449693267\n",
      "Number of iterations:   497\n",
      "16.14301732726582\n"
     ]
    }
   ],
   "source": [
    "for i in range(5):\n",
    "    euler    = mc_price(dt = 1e-2, absolute_error=5e-2, market_state = state, payoff = payoff, simulate = simulate_heston_euler, params = params, T = T, **kwargs)\n",
    "    print(euler)\n",
    "print(\"\\n\\n\")\n",
    "for i in range(5):\n",
    "    euler    = mc_price(dt = 1e-2, absolute_error=5e-2, market_state = state, payoff = payoff, simulate = simulate_heston_andersen_qe, params = params, T = T, **kwargs)\n",
    "    print(euler)"
   ]
  },
  {
   "cell_type": "markdown",
   "metadata": {},
   "source": [
    "### Out of the money"
   ]
  },
  {
   "cell_type": "code",
   "execution_count": 53,
   "metadata": {},
   "outputs": [],
   "source": [
    "strike = 500.\n",
    "payoff = get_payoff(T, strike, state.interest_rate)"
   ]
  },
  {
   "cell_type": "code",
   "execution_count": 54,
   "metadata": {},
   "outputs": [
    {
     "data": {
      "text/plain": [
       "0.0017623741249792602"
      ]
     },
     "execution_count": 54,
     "metadata": {},
     "output_type": "execute_result"
    }
   ],
   "source": [
    "model.call_price(T, strike)"
   ]
  },
  {
   "cell_type": "code",
   "execution_count": 55,
   "metadata": {},
   "outputs": [
    {
     "name": "stdout",
     "output_type": "stream",
     "text": [
      "Number of iterations:   1\n",
      "Number of simulations:  10000\n",
      "\n",
      "0.0\n"
     ]
    }
   ],
   "source": [
    "np.random.seed(42)\n",
    "euler    = mc_price(dt = 1e-2, market_state = state, payoff = payoff, simulate = simulate_heston_euler, params = params, T = T, **kwargs)\n",
    "print(euler)"
   ]
  },
  {
   "cell_type": "code",
   "execution_count": 56,
   "metadata": {},
   "outputs": [
    {
     "name": "stdout",
     "output_type": "stream",
     "text": [
      "Number of iterations:   1\n",
      "Number of simulations:  10000\n",
      "\n",
      "0.0023274136704930243\n"
     ]
    }
   ],
   "source": [
    "np.random.seed(42)\n",
    "andersen = mc_price(dt = 1e-2, market_state = state, payoff = payoff, simulate = simulate_heston_andersen_qe, params = params, T = T, **kwargs)\n",
    "print(andersen)"
   ]
  },
  {
   "cell_type": "markdown",
   "metadata": {},
   "source": [
    "### Implied volatility"
   ]
  },
  {
   "cell_type": "code",
   "execution_count": null,
   "metadata": {},
   "outputs": [],
   "source": [
    "def d_1(q,T,S,K,r):\n",
    "    denom=1/(q*np.sqrt(T))\n",
    "    log=np.log(S/K)\n",
    "    s2=T*(r+q*q/2)\n",
    "    return denom*(log+s2)\n",
    "\n",
    "def d_2(q,T,S,K,r):\n",
    "    denom=1/(q*np.sqrt(T))\n",
    "    log=np.log(S/K)\n",
    "    s2=T*(r-q*q/2)\n",
    "    \n",
    "    return denom*(log+s2)\n",
    "\n",
    "def calc_iv(option: CallStockOption, state: MarketState, option_price: float):\n",
    "    \n",
    "    T=option.expiration_time\n",
    "    K=option.strike_price\n",
    "    S=state.stock_price\n",
    "    r=state.interest_rate    \n",
    "    N=sps.norm()\n",
    "    \n",
    "    \n",
    "    def f(q):\n",
    "        d1=d_1(q,T,S,K,r)\n",
    "        d2=d_2(q,T,S,K,r)\n",
    "        return S*N.cdf(d1)-K*(np.exp(-r*T))*N.cdf(d2)-option_price\n",
    "    \n",
    "    def fprime(q):\n",
    "        d1=d_1(q,T,S,K,r)\n",
    "        return S*sps.norm().pdf(d1)*np.sqrt(T)\n",
    "    \n",
    "    sol = root_scalar(f, x0=0.5, fprime=fprime, method='newton')\n",
    "    return sol.root\n",
    "\n"
   ]
  },
  {
   "cell_type": "code",
   "execution_count": null,
   "metadata": {},
   "outputs": [],
   "source": [
    "strikes = np.arange(80, 120, 2)\n",
    "strikes"
   ]
  },
  {
   "cell_type": "code",
   "execution_count": null,
   "metadata": {},
   "outputs": [],
   "source": [
    "call_price = np.array([30.096826945107107,\n",
    " 28.86569299569351,\n",
    " 27.627749990421822,\n",
    " 26.468755491540694,\n",
    " 25.31876428557471,\n",
    " 24.24782290614315,\n",
    " 23.16942316862601,\n",
    " 22.12935496069162,\n",
    " 21.079816460198398,\n",
    " 20.20119494244462,\n",
    " 19.288858679686502,\n",
    " 18.392107111749084,\n",
    " 17.50127598061397,\n",
    " 16.701957005015792,\n",
    " 15.90122188123928,\n",
    " 15.14196593075513,\n",
    " 14.43621999411162,\n",
    " 13.722786552930495,\n",
    " 13.069519364876335,\n",
    " 12.47747576375882])"
   ]
  },
  {
   "cell_type": "code",
   "execution_count": null,
   "metadata": {},
   "outputs": [],
   "source": [
    "IV = np.empty_like(call_price)\n",
    "\n",
    "for j in range(len(call_price)):\n",
    "        IV[j] = calc_iv(option=CallStockOption(strikes[j], T), \n",
    "                           state=state, \n",
    "                           option_price=call_price[j])"
   ]
  },
  {
   "cell_type": "code",
   "execution_count": null,
   "metadata": {},
   "outputs": [],
   "source": [
    "_, ax = plt.subplots(figsize=(15, 5))\n",
    "\n",
    "ax.plot(strikes, IV, \"o-\")\n",
    "# ax.legend()\n",
    "ax.set_xlabel(\"Strike, $\")\n",
    "ax.set_ylabel(\"IV\")\n",
    "ax.set_title(\"Implied Volatility\")\n",
    "plt.show()"
   ]
  },
  {
   "cell_type": "code",
   "execution_count": null,
   "metadata": {},
   "outputs": [],
   "source": [
    "model = Heston(state.stock_price, heston_parameters.v0, heston_parameters.kappa, \n",
    "                         heston_parameters.vbar, heston_parameters.gamma, heston_parameters.rho, state.interest_rate)"
   ]
  },
  {
   "cell_type": "code",
   "execution_count": null,
   "metadata": {},
   "outputs": [],
   "source": [
    "call_price = np.zeros(20)\n",
    "\n",
    "for j in range(20):\n",
    "    call_price[j] = model.call_price(2., strikes[j])"
   ]
  },
  {
   "cell_type": "code",
   "execution_count": null,
   "metadata": {},
   "outputs": [],
   "source": [
    "IV = np.empty_like(call_price)\n",
    "\n",
    "for j in range(len(call_price)):\n",
    "        IV[j] = calc_iv(option=CallStockOption(strikes[j], T), \n",
    "                           state=state, \n",
    "                           option_price=call_price[j])"
   ]
  },
  {
   "cell_type": "code",
   "execution_count": null,
   "metadata": {},
   "outputs": [],
   "source": [
    "_, ax = plt.subplots(figsize=(15, 5))\n",
    "\n",
    "ax.plot(strikes, IV, \"o-\")\n",
    "# ax.legend()\n",
    "ax.set_xlabel(\"Strike, $\")\n",
    "ax.set_ylabel(\"IV\")\n",
    "ax.set_title(\"Implied Volatility\")\n",
    "plt.show()"
   ]
  },
  {
   "cell_type": "code",
   "execution_count": null,
   "metadata": {},
   "outputs": [],
   "source": [
    "Z = np.random.normal(size=1000)"
   ]
  }
 ],
 "metadata": {
  "kernelspec": {
   "display_name": "Python 3 (ipykernel)",
   "language": "python",
   "name": "python3"
  },
  "language_info": {
   "codemirror_mode": {
    "name": "ipython",
    "version": 3
   },
   "file_extension": ".py",
   "mimetype": "text/x-python",
   "name": "python",
   "nbconvert_exporter": "python",
   "pygments_lexer": "ipython3",
   "version": "3.9.13"
  },
  "vscode": {
   "interpreter": {
    "hash": "369f2c481f4da34e4445cda3fffd2e751bd1c4d706f27375911949ba6bb62e1c"
   }
  }
 },
 "nbformat": 4,
 "nbformat_minor": 4
}
