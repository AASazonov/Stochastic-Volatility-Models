{
 "cells": [
  {
   "cell_type": "code",
   "execution_count": 1,
   "metadata": {},
   "outputs": [],
   "source": [
    "import numpy as np\n",
    "import cupy as cp\n",
    "import pandas as pd\n",
    "import matplotlib.pyplot as plt\n",
    "\n",
    "from ipywidgets import interact\n",
    "\n",
    "from ipywidgets import widgets\n",
    "from tqdm.auto import tqdm\n",
    "\n",
    "from vol.vol import Heston\n",
    "\n",
    "from hestonmc import MarketState, HestonParameters, mc_price, simulate_heston_euler, simulate_heston_andersen_qe, simulate_heston_andersen_tg, european_call_payoff\n",
    "from hestonmc_cuda import mc_price_cupy, simulate_heston_euler_cupy, simulate_heston_andersen_qe_cupy, simulate_heston_andersen_tg_cupy, european_call_payoff_cupy"
   ]
  },
  {
   "cell_type": "markdown",
   "metadata": {},
   "source": [
    "## Tests"
   ]
  },
  {
   "cell_type": "code",
   "execution_count": 56,
   "metadata": {},
   "outputs": [],
   "source": [
    "#heston_params = HestonParameters(kappa = 1.3125, gamma = 0.5125, rho = -0.3937, vbar = 0.0641, v0 = 0.3) #from stoch vol\n",
    "#heston_params = HestonParameters(kappa = 1, gamma = 0.4, rho = -0.1, vbar = 0.2, v0 = 0.2) # from school\n",
    "heston_params = HestonParameters(kappa = 0.5, gamma = 1, rho = -0.9, vbar = 0.04, v0 = 0.04) #  from andeson paper 1\n",
    "#heston_params = HestonParameters(kappa = 0.3, gamma = 0.9, rho = -0.5, vbar = 0.04, v0 = 0.04) #  from andeson paper 2\n",
    "#heston_params = HestonParameters(kappa = 1, gamma = 1, rho = -0.3, vbar = 0.04, v0 = 0.09) #  from andeson paper 3\n",
    " \n",
    "state         = MarketState(stock_price = 1.*100, interest_rate = 0.)\n",
    "model         = Heston(state.stock_price, heston_params.v0, heston_params.kappa, heston_params.vbar, heston_params.gamma, heston_params.rho, state.interest_rate)\n",
    "\n",
    "r_x           = np.load(r\"Data/anderson tg/r_x start=1e-07 stop=100 N=4999998 dt=2e-05.npy\")\n",
    "f_nu_y        = np.load(r\"Data/anderson tg/f_nu_y start=1e-07 stop=100 N=4999998 dt=2e-05.npy\")\n",
    "f_sigma_y     = np.load(r\"Data/anderson tg/f_sigma_y start=1e-07 stop=100 N=4999998 dt=2e-05.npy\")\n",
    "kwargs        = {'x_grid' : r_x, 'f_nu_grid' : f_nu_y, 'f_sigma_grid' : f_sigma_y }\n",
    "r_x           = cp.load(r\"Data/anderson tg/r_x start=1e-07 stop=100 N=4999998 dt=2e-05.npy\")\n",
    "f_nu_y        = cp.load(r\"Data/anderson tg/f_nu_y start=1e-07 stop=100 N=4999998 dt=2e-05.npy\")\n",
    "f_sigma_y     = cp.load(r\"Data/anderson tg/f_sigma_y start=1e-07 stop=100 N=4999998 dt=2e-05.npy\")\n",
    "kwargs_cupy        = {'x_grid' : r_x, 'f_nu_grid' : f_nu_y, 'f_sigma_grid' : f_sigma_y }"
   ]
  },
  {
   "cell_type": "code",
   "execution_count": 3,
   "metadata": {},
   "outputs": [
    {
     "data": {
      "text/plain": [
       "33.75"
      ]
     },
     "execution_count": 3,
     "metadata": {},
     "output_type": "execute_result"
    }
   ],
   "source": [
    "#measure of bound of psi for tg model\n",
    "\n",
    "heston_params.gamma**2/(2*heston_params.kappa*heston_params.vbar)"
   ]
  },
  {
   "cell_type": "markdown",
   "metadata": {},
   "source": [
    "### At the money"
   ]
  },
  {
   "cell_type": "code",
   "execution_count": 82,
   "metadata": {},
   "outputs": [],
   "source": [
    "strike = 70.\n",
    "T = 10\n",
    "ec_payoff = european_call_payoff_cupy(T, strike, state.interest_rate)\n",
    "1\n",
    "common_mc_params = {\"absolute_error\": 0.99, \"state\": state, \"heston_params\": heston_params, \"payoff\": ec_payoff, \"T\": T, \"verbose\": True}"
   ]
  },
  {
   "cell_type": "code",
   "execution_count": 85,
   "metadata": {},
   "outputs": [],
   "source": [
    "strike = 70.\n",
    "T = 10\n",
    "ec_payoff = european_call_payoff(T, strike, state.interest_rate)\n",
    "1\n",
    "common_mc_params = {\"absolute_error\": 0.99, \"state\": state, \"heston_params\": heston_params, \"payoff\": ec_payoff, \"T\": T, \"verbose\": True}"
   ]
  },
  {
   "cell_type": "code",
   "execution_count": 86,
   "metadata": {},
   "outputs": [
    {
     "data": {
      "text/plain": [
       "35.849769703753964"
      ]
     },
     "execution_count": 86,
     "metadata": {},
     "output_type": "execute_result"
    }
   ],
   "source": [
    "model.call_price(T, strike)"
   ]
  },
  {
   "cell_type": "code",
   "execution_count": 95,
   "metadata": {},
   "outputs": [
    {
     "name": "stdout",
     "output_type": "stream",
     "text": [
      "Number of simulate calls:   1\n",
      "MAX_ITER:                   100000\n",
      "Number of paths:            1000000\n",
      "Absolute error:             0.99\n",
      "Length of the conf intl:    0.10121469145901638\n",
      "Confidence level:           0.05\n",
      "\n"
     ]
    },
    {
     "data": {
      "text/plain": [
       "1.0828000658573416"
      ]
     },
     "execution_count": 95,
     "metadata": {},
     "output_type": "execute_result"
    }
   ],
   "source": [
    "mc_price(N_T = 40, simulate = simulate_heston_euler,batch_size=500_000, **common_mc_params) - model.call_price(T, strike)"
   ]
  },
  {
   "cell_type": "code",
   "execution_count": 16,
   "metadata": {},
   "outputs": [
    {
     "name": "stdout",
     "output_type": "stream",
     "text": [
      "Number of simulate calls:   1\n",
      "MAX_ITER:                   100000\n",
      "Number of paths:            1000000\n",
      "Absolute error:             0.99\n",
      "Length of the conf intl:    0.253156261820319\n",
      "Confidence level:           0.05\n",
      "\n"
     ]
    },
    {
     "data": {
      "text/plain": [
       "array(18.884078)"
      ]
     },
     "execution_count": 16,
     "metadata": {},
     "output_type": "execute_result"
    }
   ],
   "source": [
    "mc_price_cupy(N_T = 60, simulate = simulate_heston_euler_cupy,batch_size=500_000, **common_mc_params)"
   ]
  },
  {
   "cell_type": "code",
   "execution_count": 94,
   "metadata": {},
   "outputs": [
    {
     "name": "stdout",
     "output_type": "stream",
     "text": [
      "Number of simulate calls:   1\n",
      "MAX_ITER:                   100000\n",
      "Number of paths:            1000000\n",
      "Absolute error:             0.99\n",
      "Length of the conf intl:    0.0874130483908439\n",
      "Confidence level:           0.05\n",
      "\n"
     ]
    },
    {
     "data": {
      "text/plain": [
       "0.1992318600557681"
      ]
     },
     "execution_count": 94,
     "metadata": {},
     "output_type": "execute_result"
    }
   ],
   "source": [
    "mc_price(N_T = 40, simulate = simulate_heston_andersen_qe, batch_size=500_000, **common_mc_params) - model.call_price(T, strike)"
   ]
  },
  {
   "cell_type": "code",
   "execution_count": 77,
   "metadata": {},
   "outputs": [
    {
     "name": "stdout",
     "output_type": "stream",
     "text": [
      "Number of simulate calls:   1\n",
      "MAX_ITER:                   100000\n",
      "Number of paths:            1000000\n",
      "Absolute error:             0.99\n",
      "Length of the conf intl:    0.051543620893657674\n",
      "Confidence level:           0.05\n",
      "\n"
     ]
    },
    {
     "name": "stderr",
     "output_type": "stream",
     "text": [
      "/media/kir1200/E4C4BDFBC4BDCFD2/Other/code/jypeter/Stochastic-Volatility-Models/Code/hestonmc.py:24: NumbaWarning: \u001b[1m\n",
      "Compilation is falling back to object mode WITH looplifting enabled because Function \"payoff\" failed type inference due to: \u001b[1m\u001b[1mnon-precise type pyobject\u001b[0m\n",
      "\u001b[0m\u001b[1mDuring: typing of argument at /media/kir1200/E4C4BDFBC4BDCFD2/Other/code/jypeter/Stochastic-Volatility-Models/Code/hestonmc.py (26)\u001b[0m\n",
      "\u001b[1m\n",
      "File \"hestonmc.py\", line 26:\u001b[0m\n",
      "\u001b[1m    def payoff(St: np.ndarray):\n",
      "\u001b[1m        DF = np.exp( - interest_rate * maturity)\n",
      "\u001b[0m        \u001b[1m^\u001b[0m\u001b[0m\n",
      "\u001b[0m\n",
      "  @jit\n",
      "/home/kir1200/anaconda3/lib/python3.9/site-packages/numba/core/object_mode_passes.py:151: NumbaWarning: \u001b[1mFunction \"payoff\" was compiled in object mode without forceobj=True.\n",
      "\u001b[1m\n",
      "File \"hestonmc.py\", line 25:\u001b[0m\n",
      "\u001b[1m    @jit\n",
      "\u001b[1m    def payoff(St: np.ndarray):\n",
      "\u001b[0m    \u001b[1m^\u001b[0m\u001b[0m\n",
      "\u001b[0m\n",
      "  warnings.warn(errors.NumbaWarning(warn_msg,\n",
      "/home/kir1200/anaconda3/lib/python3.9/site-packages/numba/core/object_mode_passes.py:161: NumbaDeprecationWarning: \u001b[1m\n",
      "Fall-back from the nopython compilation path to the object mode compilation path has been detected, this is deprecated behaviour.\n",
      "\n",
      "For more information visit https://numba.readthedocs.io/en/stable/reference/deprecation.html#deprecation-of-object-mode-fall-back-behaviour-when-using-jit\n",
      "\u001b[1m\n",
      "File \"hestonmc.py\", line 25:\u001b[0m\n",
      "\u001b[1m    @jit\n",
      "\u001b[1m    def payoff(St: np.ndarray):\n",
      "\u001b[0m    \u001b[1m^\u001b[0m\u001b[0m\n",
      "\u001b[0m\n",
      "  warnings.warn(errors.NumbaDeprecationWarning(msg,\n"
     ]
    },
    {
     "data": {
      "text/plain": [
       "array(13.120816)"
      ]
     },
     "execution_count": 77,
     "metadata": {},
     "output_type": "execute_result"
    }
   ],
   "source": [
    "mc_price_cupy(N_T = 60, simulate = simulate_heston_andersen_qe_cupy, batch_size=500_000, **common_mc_params)"
   ]
  },
  {
   "cell_type": "code",
   "execution_count": 97,
   "metadata": {},
   "outputs": [
    {
     "name": "stdout",
     "output_type": "stream",
     "text": [
      "Number of simulate calls:   1\n",
      "MAX_ITER:                   100000\n",
      "Number of paths:            1000000\n",
      "Absolute error:             0.99\n",
      "Length of the conf intl:    0.08716469708339186\n",
      "Confidence level:           0.05\n",
      "\n"
     ]
    },
    {
     "data": {
      "text/plain": [
       "0.5707650206403443"
      ]
     },
     "execution_count": 97,
     "metadata": {},
     "output_type": "execute_result"
    }
   ],
   "source": [
    "mc_price(N_T = 40, simulate = simulate_heston_andersen_tg, batch_size=500_000, **common_mc_params, **kwargs) - model.call_price(T, strike)"
   ]
  },
  {
   "cell_type": "code",
   "execution_count": 67,
   "metadata": {},
   "outputs": [
    {
     "name": "stdout",
     "output_type": "stream",
     "text": [
      "Number of simulate calls:   29\n",
      "MAX_ITER:                   100000\n",
      "Number of paths:            11600000\n",
      "Absolute error:             0.05\n",
      "Length of the conf intl:    0.049498563778828227\n",
      "Confidence level:           0.05\n",
      "\n"
     ]
    },
    {
     "data": {
      "text/plain": [
       "array(22.38157793)"
      ]
     },
     "execution_count": 67,
     "metadata": {},
     "output_type": "execute_result"
    }
   ],
   "source": [
    "mc_price_cupy(N_T = 100, simulate = simulate_heston_andersen_tg_cupy, batch_size=200_000, **common_mc_params, **kwargs_cupy)"
   ]
  },
  {
   "cell_type": "code",
   "execution_count": 41,
   "metadata": {},
   "outputs": [
    {
     "name": "stdout",
     "output_type": "stream",
     "text": [
      "788 ms ± 5.26 ms per loop (mean ± std. dev. of 7 runs, 1 loop each)\n"
     ]
    }
   ],
   "source": [
    "%timeit mc_price(N_T = 100, simulate = simulate_heston_andersen_tg_cupy, batch_size=200_000, **common_mc_params, **kwargs_cupy)"
   ]
  },
  {
   "attachments": {},
   "cell_type": "markdown",
   "metadata": {},
   "source": [
    "Optimal batch_size for each scheme"
   ]
  },
  {
   "cell_type": "code",
   "execution_count": 45,
   "metadata": {},
   "outputs": [
    {
     "name": "stdout",
     "output_type": "stream",
     "text": [
      "simulate_heston_euler_cupy\n",
      "Batch size: 100000\n",
      "592 ms ± 5.31 ms per loop (mean ± std. dev. of 7 runs, 1 loop each)\n",
      "Batch size: 150000\n",
      "582 ms ± 3.04 ms per loop (mean ± std. dev. of 7 runs, 1 loop each)\n",
      "Batch size: 200000\n",
      "578 ms ± 8.46 ms per loop (mean ± std. dev. of 7 runs, 1 loop each)\n",
      "Batch size: 250000\n",
      "570 ms ± 6.96 ms per loop (mean ± std. dev. of 7 runs, 1 loop each)\n",
      "Batch size: 300000\n",
      "560 ms ± 4.22 ms per loop (mean ± std. dev. of 7 runs, 1 loop each)\n",
      "Batch size: 350000\n",
      "592 ms ± 13.3 ms per loop (mean ± std. dev. of 7 runs, 1 loop each)\n",
      "Batch size: 400000\n",
      "582 ms ± 9.88 ms per loop (mean ± std. dev. of 7 runs, 1 loop each)\n",
      "Batch size: 450000\n",
      "563 ms ± 2.67 ms per loop (mean ± std. dev. of 7 runs, 1 loop each)\n",
      "Batch size: 500000\n",
      "631 ms ± 2.64 ms per loop (mean ± std. dev. of 7 runs, 1 loop each)\n",
      "Batch size: 550000\n",
      "575 ms ± 2.44 ms per loop (mean ± std. dev. of 7 runs, 1 loop each)\n",
      "Batch size: 600000\n",
      "622 ms ± 2.16 ms per loop (mean ± std. dev. of 7 runs, 1 loop each)\n",
      "Batch size: 650000\n",
      "678 ms ± 2.37 ms per loop (mean ± std. dev. of 7 runs, 1 loop each)\n",
      "Batch size: 700000\n",
      "590 ms ± 3.38 ms per loop (mean ± std. dev. of 7 runs, 1 loop each)\n",
      "Batch size: 750000\n",
      "638 ms ± 3.49 ms per loop (mean ± std. dev. of 7 runs, 1 loop each)\n",
      "Batch size: 800000\n",
      "710 ms ± 7.17 ms per loop (mean ± std. dev. of 7 runs, 1 loop each)\n",
      "Batch size: 850000\n",
      "754 ms ± 6.67 ms per loop (mean ± std. dev. of 7 runs, 1 loop each)\n",
      "Batch size: 900000\n",
      "566 ms ± 1.91 ms per loop (mean ± std. dev. of 7 runs, 1 loop each)\n",
      "Batch size: 950000\n",
      "604 ms ± 2.49 ms per loop (mean ± std. dev. of 7 runs, 1 loop each)\n",
      "\n",
      "\n",
      "\n",
      "simulate_heston_andersen_qe_cupy\n",
      "Batch size: 100000\n",
      "2.55 s ± 41 ms per loop (mean ± std. dev. of 7 runs, 1 loop each)\n",
      "Batch size: 150000\n",
      "1.94 s ± 13.6 ms per loop (mean ± std. dev. of 7 runs, 1 loop each)\n",
      "Batch size: 200000\n",
      "1.72 s ± 11.2 ms per loop (mean ± std. dev. of 7 runs, 1 loop each)\n",
      "Batch size: 250000\n",
      "1.53 s ± 5.34 ms per loop (mean ± std. dev. of 7 runs, 1 loop each)\n",
      "Batch size: 300000\n",
      "1.39 s ± 5.83 ms per loop (mean ± std. dev. of 7 runs, 1 loop each)\n",
      "Batch size: 350000\n",
      "1.37 s ± 5.48 ms per loop (mean ± std. dev. of 7 runs, 1 loop each)\n",
      "Batch size: 400000\n",
      "1.33 s ± 7.11 ms per loop (mean ± std. dev. of 7 runs, 1 loop each)\n",
      "Batch size: 450000\n",
      "1.25 s ± 7.92 ms per loop (mean ± std. dev. of 7 runs, 1 loop each)\n",
      "Batch size: 500000\n",
      "1.36 s ± 7.12 ms per loop (mean ± std. dev. of 7 runs, 1 loop each)\n",
      "Batch size: 550000\n",
      "1.22 s ± 5.5 ms per loop (mean ± std. dev. of 7 runs, 1 loop each)\n",
      "Batch size: 600000\n",
      "1.32 s ± 6.63 ms per loop (mean ± std. dev. of 7 runs, 1 loop each)\n",
      "Batch size: 650000\n",
      "1.41 s ± 11.7 ms per loop (mean ± std. dev. of 7 runs, 1 loop each)\n",
      "Batch size: 700000\n",
      "1.2 s ± 3.25 ms per loop (mean ± std. dev. of 7 runs, 1 loop each)\n",
      "Batch size: 750000\n",
      "1.27 s ± 3.57 ms per loop (mean ± std. dev. of 7 runs, 1 loop each)\n",
      "Batch size: 800000\n",
      "1.34 s ± 3.74 ms per loop (mean ± std. dev. of 7 runs, 1 loop each)\n",
      "Batch size: 850000\n",
      "1.42 s ± 5.91 ms per loop (mean ± std. dev. of 7 runs, 1 loop each)\n",
      "Batch size: 900000\n",
      "1.11 s ± 3.99 ms per loop (mean ± std. dev. of 7 runs, 1 loop each)\n",
      "Batch size: 950000\n",
      "1.17 s ± 4.72 ms per loop (mean ± std. dev. of 7 runs, 1 loop each)\n",
      "\n",
      "\n",
      "\n",
      "simulate_heston_andersen_tg_cupy\n",
      "Batch size: 100000\n",
      "730 ms ± 2.24 ms per loop (mean ± std. dev. of 7 runs, 1 loop each)\n",
      "Batch size: 150000\n",
      "722 ms ± 3.78 ms per loop (mean ± std. dev. of 7 runs, 1 loop each)\n",
      "Batch size: 200000\n",
      "746 ms ± 2.88 ms per loop (mean ± std. dev. of 7 runs, 1 loop each)\n",
      "Batch size: 250000\n",
      "740 ms ± 4.47 ms per loop (mean ± std. dev. of 7 runs, 1 loop each)\n",
      "Batch size: 300000\n",
      "725 ms ± 3.85 ms per loop (mean ± std. dev. of 7 runs, 1 loop each)\n",
      "Batch size: 350000\n",
      "751 ms ± 4.95 ms per loop (mean ± std. dev. of 7 runs, 1 loop each)\n",
      "Batch size: 400000\n",
      "757 ms ± 3.94 ms per loop (mean ± std. dev. of 7 runs, 1 loop each)\n",
      "Batch size: 450000\n",
      "728 ms ± 3.91 ms per loop (mean ± std. dev. of 7 runs, 1 loop each)\n",
      "Batch size: 500000\n",
      "807 ms ± 3.77 ms per loop (mean ± std. dev. of 7 runs, 1 loop each)\n",
      "Batch size: 550000\n",
      "741 ms ± 4.47 ms per loop (mean ± std. dev. of 7 runs, 1 loop each)\n",
      "Batch size: 600000\n",
      "804 ms ± 3.47 ms per loop (mean ± std. dev. of 7 runs, 1 loop each)\n",
      "Batch size: 650000\n",
      "870 ms ± 4.67 ms per loop (mean ± std. dev. of 7 runs, 1 loop each)\n",
      "Batch size: 700000\n",
      "754 ms ± 4.43 ms per loop (mean ± std. dev. of 7 runs, 1 loop each)\n",
      "Batch size: 750000\n",
      "809 ms ± 3.54 ms per loop (mean ± std. dev. of 7 runs, 1 loop each)\n",
      "Batch size: 800000\n",
      "859 ms ± 3.69 ms per loop (mean ± std. dev. of 7 runs, 1 loop each)\n",
      "Batch size: 850000\n",
      "908 ms ± 3.4 ms per loop (mean ± std. dev. of 7 runs, 1 loop each)\n",
      "Batch size: 900000\n",
      "728 ms ± 14 ms per loop (mean ± std. dev. of 7 runs, 1 loop each)\n",
      "Batch size: 950000\n",
      "767 ms ± 3.45 ms per loop (mean ± std. dev. of 7 runs, 1 loop each)\n",
      "\n",
      "\n",
      "\n"
     ]
    }
   ],
   "source": [
    "common_mc_params = {\"absolute_error\": 5e-2,  \"state\": state, \"heston_params\": heston_params, \"payoff\": ec_payoff, \"T\": T, \"random_seed\": 42, \"verbose\": False}\n",
    "for scheme in [[simulate_heston_euler_cupy, 100], [simulate_heston_andersen_qe_cupy, 100], [simulate_heston_andersen_tg_cupy, 100]]:\n",
    "    print(scheme[0].__name__)\n",
    "    for batch_size in range(100_000, 1000_000, 50_000):\n",
    "        print(f\"Batch size: {batch_size}\")\n",
    "        if scheme[0] == simulate_heston_andersen_tg_cupy:\n",
    "            %timeit -r7 mc_price(N_T = scheme[1], simulate = scheme[0], batch_size=batch_size, **common_mc_params, **kwargs_cupy)\n",
    "        else:\n",
    "            %timeit -r7 mc_price(N_T = scheme[1], simulate = scheme[0], batch_size=batch_size, **common_mc_params)\n",
    "\n",
    "    print(\"\\n\\n\")"
   ]
  },
  {
   "cell_type": "code",
   "execution_count": null,
   "metadata": {},
   "outputs": [],
   "source": []
  },
  {
   "cell_type": "code",
   "execution_count": 6,
   "metadata": {},
   "outputs": [],
   "source": [
    "import pandas as pd"
   ]
  },
  {
   "cell_type": "code",
   "execution_count": 19,
   "metadata": {},
   "outputs": [],
   "source": [
    "MC_compare_models = pd.DataFrame(columns=['scheme' , 'N_dt',  'result'])"
   ]
  },
  {
   "cell_type": "code",
   "execution_count": 20,
   "metadata": {},
   "outputs": [],
   "source": [
    "common_mc_params = {\"absolute_error\": 5e-2,  \"state\": state, \"heston_params\": heston_params, \"payoff\": ec_payoff, \"T\": T, \"random_seed\": 42, \"verbose\": False}\n",
    "i = 0\n",
    "for scheme in [simulate_heston_euler_cupy, simulate_heston_andersen_qe_, simulate_heston_andersen_tg]:\n",
    "    for N_dt in range(4, 132, 4):\n",
    "        for _ in range(150):\n",
    "            if scheme == simulate_heston_andersen_tg:\n",
    "                MC_compare_models.loc[i] = (scheme.__name__, N_dt, mc_price(N_T = N_dt, simulate = scheme, batch_size=5000, **common_mc_params, **kwargs))\n",
    "            else:\n",
    "                MC_compare_models.loc[i] = (scheme.__name__, N_dt, mc_price(N_T = N_dt, simulate = scheme, batch_size=5000, **common_mc_params))\n",
    "            i +=1"
   ]
  },
  {
   "cell_type": "code",
   "execution_count": 41,
   "metadata": {},
   "outputs": [],
   "source": [
    "MC_compare_models = pd.read_csv(r\"Data/evaluation/MC_compare_models.csv\")"
   ]
  },
  {
   "cell_type": "code",
   "execution_count": 56,
   "metadata": {},
   "outputs": [],
   "source": [
    "tmp = MC_compare_models.groupby(['scheme', 'N_dt'] ).agg([np.mean, np.std])['result']"
   ]
  },
  {
   "cell_type": "code",
   "execution_count": 57,
   "metadata": {},
   "outputs": [
    {
     "data": {
      "text/plain": [
       "<AxesSubplot:title={'center':'MC_compare_models'}, xlabel='scheme,N_dt'>"
      ]
     },
     "execution_count": 57,
     "metadata": {},
     "output_type": "execute_result"
    },
    {
     "data": {
      "image/png": "[encoded data removed]",
      "text/plain": [
       "<Figure size 2000x1000 with 1 Axes>"
      ]
     },
     "metadata": {},
     "output_type": "display_data"
    }
   ],
   "source": [
    "tmp['mean'] = tmp['mean'] - model.call_price(T, strike)\n",
    "tmp['mean'].plot(kind='bar', yerr=tmp['std'], figsize=(20,10), title='MC_compare_models')"
   ]
  },
  {
   "cell_type": "code",
   "execution_count": 21,
   "metadata": {},
   "outputs": [],
   "source": [
    "MC_compare_models.to_csv('MC_compare_models.csv')"
   ]
  },
  {
   "cell_type": "code",
   "execution_count": 113,
   "metadata": {},
   "outputs": [],
   "source": [
    "MC_compare_models_grid = pd.DataFrame(columns=['scheme' , 'strike', 'T', 'true' ])"
   ]
  },
  {
   "cell_type": "code",
   "execution_count": 115,
   "metadata": {},
   "outputs": [],
   "source": [
    "\n",
    "i = 0\n",
    "for scheme in [simulate_heston_euler, simulate_heston_andersen_qe, simulate_heston_andersen_tg]:\n",
    "    for strike in np.linspace(80, 120, 10):\n",
    "        for T in np.linspace(0.1, 1, 10):\n",
    "            T = float(T/10)\n",
    "            res = []\n",
    "            ec_payoff = european_call_payoff(T, strike, state.interest_rate)\n",
    "            common_mc_params = {\"absolute_error\": 5e-2, \"state\": state, \"heston_params\": heston_params, \"payoff\": ec_payoff, \"T\": T, \"random_seed\": 42, \"verbose\": False}\n",
    "\n",
    "            if scheme == simulate_heston_andersen_tg:\n",
    "                res.append(mc_price(N_T = 50, simulate = scheme, batch_size=5000, **common_mc_params, **kwargs))\n",
    "            elif scheme == simulate_heston_euler:\n",
    "                res.append(mc_price(N_T = 100, simulate = scheme, batch_size=5000, **common_mc_params))\n",
    "            elif scheme == simulate_heston_andersen_qe:\n",
    "                res.append(mc_price(N_T = 50, simulate = scheme, batch_size=5000, **common_mc_params))\n",
    "            MC_compare_models_grid.loc[i] = (scheme.__name__, strike, T, model.call_price(T, strike), np.mean(res), np.std(res))\n",
    "            i +=1"
   ]
  },
  {
   "cell_type": "code",
   "execution_count": 141,
   "metadata": {},
   "outputs": [],
   "source": [
    "MC_compare_models_grid.to_csv('MC_compare_models_grid.csv')"
   ]
  },
  {
   "cell_type": "code",
   "execution_count": 7,
   "metadata": {},
   "outputs": [],
   "source": [
    "MC_compare_models_grid = pd.read_csv('MC_compare_models_grid.csv')"
   ]
  },
  {
   "cell_type": "code",
   "execution_count": 25,
   "metadata": {},
   "outputs": [
    {
     "data": {
      "text/html": [
       "<div>\n",
       "<style scoped>\n",
       "    .dataframe tbody tr th:only-of-type {\n",
       "        vertical-align: middle;\n",
       "    }\n",
       "\n",
       "    .dataframe tbody tr th {\n",
       "        vertical-align: top;\n",
       "    }\n",
       "\n",
       "    .dataframe thead th {\n",
       "        text-align: right;\n",
       "    }\n",
       "</style>\n",
       "<table border=\"1\" class=\"dataframe\">\n",
       "  <thead>\n",
       "    <tr style=\"text-align: right;\">\n",
       "      <th>T</th>\n",
       "      <th>0.1</th>\n",
       "      <th>0.2</th>\n",
       "      <th>0.3</th>\n",
       "      <th>0.4</th>\n",
       "      <th>0.5</th>\n",
       "      <th>0.6</th>\n",
       "      <th>0.7</th>\n",
       "      <th>0.8</th>\n",
       "      <th>0.9</th>\n",
       "      <th>1.0</th>\n",
       "    </tr>\n",
       "    <tr>\n",
       "      <th>strike</th>\n",
       "      <th></th>\n",
       "      <th></th>\n",
       "      <th></th>\n",
       "      <th></th>\n",
       "      <th></th>\n",
       "      <th></th>\n",
       "      <th></th>\n",
       "      <th></th>\n",
       "      <th></th>\n",
       "      <th></th>\n",
       "    </tr>\n",
       "  </thead>\n",
       "  <tbody>\n",
       "    <tr>\n",
       "      <th>85</th>\n",
       "      <td>16.468112</td>\n",
       "      <td>18.174956</td>\n",
       "      <td>19.532771</td>\n",
       "      <td>20.625552</td>\n",
       "      <td>21.550519</td>\n",
       "      <td>22.332203</td>\n",
       "      <td>22.995971</td>\n",
       "      <td>23.566372</td>\n",
       "      <td>24.089111</td>\n",
       "      <td>24.545769</td>\n",
       "    </tr>\n",
       "    <tr>\n",
       "      <th>90</th>\n",
       "      <td>12.650948</td>\n",
       "      <td>14.723351</td>\n",
       "      <td>16.272476</td>\n",
       "      <td>17.479529</td>\n",
       "      <td>18.475317</td>\n",
       "      <td>19.311487</td>\n",
       "      <td>20.019792</td>\n",
       "      <td>20.630731</td>\n",
       "      <td>21.182393</td>\n",
       "      <td>21.658118</td>\n",
       "    </tr>\n",
       "    <tr>\n",
       "      <th>95</th>\n",
       "      <td>9.355494</td>\n",
       "      <td>11.713190</td>\n",
       "      <td>13.389183</td>\n",
       "      <td>14.677016</td>\n",
       "      <td>15.724589</td>\n",
       "      <td>16.607905</td>\n",
       "      <td>17.325401</td>\n",
       "      <td>17.982222</td>\n",
       "      <td>18.551199</td>\n",
       "      <td>19.052880</td>\n",
       "    </tr>\n",
       "    <tr>\n",
       "      <th>100</th>\n",
       "      <td>6.667335</td>\n",
       "      <td>9.134282</td>\n",
       "      <td>10.859212</td>\n",
       "      <td>12.190673</td>\n",
       "      <td>13.268413</td>\n",
       "      <td>14.169324</td>\n",
       "      <td>14.929257</td>\n",
       "      <td>15.581933</td>\n",
       "      <td>16.165246</td>\n",
       "      <td>16.673012</td>\n",
       "    </tr>\n",
       "    <tr>\n",
       "      <th>105</th>\n",
       "      <td>4.549369</td>\n",
       "      <td>7.001336</td>\n",
       "      <td>8.725293</td>\n",
       "      <td>10.045786</td>\n",
       "      <td>11.132874</td>\n",
       "      <td>12.023971</td>\n",
       "      <td>12.775523</td>\n",
       "      <td>13.443150</td>\n",
       "      <td>14.031471</td>\n",
       "      <td>14.530141</td>\n",
       "    </tr>\n",
       "    <tr>\n",
       "      <th>110</th>\n",
       "      <td>2.992315</td>\n",
       "      <td>5.262253</td>\n",
       "      <td>6.916464</td>\n",
       "      <td>8.198667</td>\n",
       "      <td>9.267407</td>\n",
       "      <td>10.141301</td>\n",
       "      <td>10.895954</td>\n",
       "      <td>11.536549</td>\n",
       "      <td>12.127461</td>\n",
       "      <td>12.630638</td>\n",
       "    </tr>\n",
       "    <tr>\n",
       "      <th>115</th>\n",
       "      <td>1.907261</td>\n",
       "      <td>3.882004</td>\n",
       "      <td>5.407551</td>\n",
       "      <td>6.649103</td>\n",
       "      <td>7.644796</td>\n",
       "      <td>8.509682</td>\n",
       "      <td>9.244054</td>\n",
       "      <td>9.884885</td>\n",
       "      <td>10.454079</td>\n",
       "      <td>10.939673</td>\n",
       "    </tr>\n",
       "  </tbody>\n",
       "</table>\n",
       "</div>"
      ],
      "text/plain": [
       "T             0.1        0.2        0.3        0.4        0.5        0.6  \\\n",
       "strike                                                                     \n",
       "85      16.468112  18.174956  19.532771  20.625552  21.550519  22.332203   \n",
       "90      12.650948  14.723351  16.272476  17.479529  18.475317  19.311487   \n",
       "95       9.355494  11.713190  13.389183  14.677016  15.724589  16.607905   \n",
       "100      6.667335   9.134282  10.859212  12.190673  13.268413  14.169324   \n",
       "105      4.549369   7.001336   8.725293  10.045786  11.132874  12.023971   \n",
       "110      2.992315   5.262253   6.916464   8.198667   9.267407  10.141301   \n",
       "115      1.907261   3.882004   5.407551   6.649103   7.644796   8.509682   \n",
       "\n",
       "T             0.7        0.8        0.9        1.0  \n",
       "strike                                              \n",
       "85      22.995971  23.566372  24.089111  24.545769  \n",
       "90      20.019792  20.630731  21.182393  21.658118  \n",
       "95      17.325401  17.982222  18.551199  19.052880  \n",
       "100     14.929257  15.581933  16.165246  16.673012  \n",
       "105     12.775523  13.443150  14.031471  14.530141  \n",
       "110     10.895954  11.536549  12.127461  12.630638  \n",
       "115      9.244054   9.884885  10.454079  10.939673  "
      ]
     },
     "execution_count": 25,
     "metadata": {},
     "output_type": "execute_result"
    }
   ],
   "source": [
    "MC_compare_models_grid[MC_compare_models_grid['scheme'] == 'simulate_heston_euler'][['strike', 'T', 'mean']].pivot(index='strike', columns='T', values='mean')"
   ]
  },
  {
   "cell_type": "code",
   "execution_count": 27,
   "metadata": {},
   "outputs": [
    {
     "data": {
      "application/vnd.plotly.v1+json": {
       "config": {
        "plotlyServerURL": "https://plot.ly"
       },
       "data": [
        {
         "type": "surface",
         "z": [
          [
           16.468112499833538,
           18.174955758679573,
           19.532771456875786,
           20.62555205333311,
           21.550518724605872,
           22.332203311875077,
           22.995971304041472,
           23.566371834572596,
           24.089111173398194,
           24.545769200509195
          ],
          [
           12.650947614146526,
           14.723351164996227,
           16.272476470614805,
           17.479528788042856,
           18.475316796848187,
           19.31148678823339,
           20.01979157454625,
           20.630731348496973,
           21.182392968176984,
           21.658118023462897
          ],
          [
           9.355493651182572,
           11.713189615321474,
           13.389182857808752,
           14.677015508962658,
           15.724589071737636,
           16.6079050462989,
           17.325401389002153,
           17.98222234569029,
           18.551198605360057,
           19.052880124654923
          ],
          [
           6.667335214304272,
           9.134282398182576,
           10.859211824001637,
           12.1906730664765,
           13.268413104947154,
           14.169324329374437,
           14.92925696139332,
           15.58193250997913,
           16.165246362998552,
           16.673011979647782
          ],
          [
           4.549368545965599,
           7.001336393526547,
           8.725292967483822,
           10.045785899426068,
           11.132873659885584,
           12.023971164383465,
           12.775523425154184,
           13.44315041550144,
           14.031470858148776,
           14.530140532884186
          ],
          [
           2.9923150121579027,
           5.26225292412561,
           6.916464127854468,
           8.198667254077398,
           9.267406925210796,
           10.141301180558328,
           10.895953593183847,
           11.536549242017552,
           12.12746116868048,
           12.630637715117434
          ],
          [
           1.9072605119725463,
           3.8820041090169695,
           5.407551369903071,
           6.6491030030063945,
           7.644796364860908,
           8.509681686832806,
           9.244054172537975,
           9.884884850400764,
           10.454079374101134,
           10.939673226819504
          ]
         ]
        }
       ],
       "layout": {
        "template": {
         "data": {
          "bar": [
           {
            "error_x": {
             "color": "#2a3f5f"
            },
            "error_y": {
             "color": "#2a3f5f"
            },
            "marker": {
             "line": {
              "color": "#E5ECF6",
              "width": 0.5
             },
             "pattern": {
              "fillmode": "overlay",
              "size": 10,
              "solidity": 0.2
             }
            },
            "type": "bar"
           }
          ],
          "barpolar": [
           {
            "marker": {
             "line": {
              "color": "#E5ECF6",
              "width": 0.5
             },
             "pattern": {
              "fillmode": "overlay",
              "size": 10,
              "solidity": 0.2
             }
            },
            "type": "barpolar"
           }
          ],
          "carpet": [
           {
            "aaxis": {
             "endlinecolor": "#2a3f5f",
             "gridcolor": "white",
             "linecolor": "white",
             "minorgridcolor": "white",
             "startlinecolor": "#2a3f5f"
            },
            "baxis": {
             "endlinecolor": "#2a3f5f",
             "gridcolor": "white",
             "linecolor": "white",
             "minorgridcolor": "white",
             "startlinecolor": "#2a3f5f"
            },
            "type": "carpet"
           }
          ],
          "choropleth": [
           {
            "colorbar": {
             "outlinewidth": 0,
             "ticks": ""
            },
            "type": "choropleth"
           }
          ],
          "contour": [
           {
            "colorbar": {
             "outlinewidth": 0,
             "ticks": ""
            },
            "colorscale": [
             [
              0,
              "#0d0887"
             ],
             [
              0.1111111111111111,
              "#46039f"
             ],
             [
              0.2222222222222222,
              "#7201a8"
             ],
             [
              0.3333333333333333,
              "#9c179e"
             ],
             [
              0.4444444444444444,
              "#bd3786"
             ],
             [
              0.5555555555555556,
              "#d8576b"
             ],
             [
              0.6666666666666666,
              "#ed7953"
             ],
             [
              0.7777777777777778,
              "#fb9f3a"
             ],
             [
              0.8888888888888888,
              "#fdca26"
             ],
             [
              1,
              "#f0f921"
             ]
            ],
            "type": "contour"
           }
          ],
          "contourcarpet": [
           {
            "colorbar": {
             "outlinewidth": 0,
             "ticks": ""
            },
            "type": "contourcarpet"
           }
          ],
          "heatmap": [
           {
            "colorbar": {
             "outlinewidth": 0,
             "ticks": ""
            },
            "colorscale": [
             [
              0,
              "#0d0887"
             ],
             [
              0.1111111111111111,
              "#46039f"
             ],
             [
              0.2222222222222222,
              "#7201a8"
             ],
             [
              0.3333333333333333,
              "#9c179e"
             ],
             [
              0.4444444444444444,
              "#bd3786"
             ],
             [
              0.5555555555555556,
              "#d8576b"
             ],
             [
              0.6666666666666666,
              "#ed7953"
             ],
             [
              0.7777777777777778,
              "#fb9f3a"
             ],
             [
              0.8888888888888888,
              "#fdca26"
             ],
             [
              1,
              "#f0f921"
             ]
            ],
            "type": "heatmap"
           }
          ],
          "heatmapgl": [
           {
            "colorbar": {
             "outlinewidth": 0,
             "ticks": ""
            },
            "colorscale": [
             [
              0,
              "#0d0887"
             ],
             [
              0.1111111111111111,
              "#46039f"
             ],
             [
              0.2222222222222222,
              "#7201a8"
             ],
             [
              0.3333333333333333,
              "#9c179e"
             ],
             [
              0.4444444444444444,
              "#bd3786"
             ],
             [
              0.5555555555555556,
              "#d8576b"
             ],
             [
              0.6666666666666666,
              "#ed7953"
             ],
             [
              0.7777777777777778,
              "#fb9f3a"
             ],
             [
              0.8888888888888888,
              "#fdca26"
             ],
             [
              1,
              "#f0f921"
             ]
            ],
            "type": "heatmapgl"
           }
          ],
          "histogram": [
           {
            "marker": {
             "pattern": {
              "fillmode": "overlay",
              "size": 10,
              "solidity": 0.2
             }
            },
            "type": "histogram"
           }
          ],
          "histogram2d": [
           {
            "colorbar": {
             "outlinewidth": 0,
             "ticks": ""
            },
            "colorscale": [
             [
              0,
              "#0d0887"
             ],
             [
              0.1111111111111111,
              "#46039f"
             ],
             [
              0.2222222222222222,
              "#7201a8"
             ],
             [
              0.3333333333333333,
              "#9c179e"
             ],
             [
              0.4444444444444444,
              "#bd3786"
             ],
             [
              0.5555555555555556,
              "#d8576b"
             ],
             [
              0.6666666666666666,
              "#ed7953"
             ],
             [
              0.7777777777777778,
              "#fb9f3a"
             ],
             [
              0.8888888888888888,
              "#fdca26"
             ],
             [
              1,
              "#f0f921"
             ]
            ],
            "type": "histogram2d"
           }
          ],
          "histogram2dcontour": [
           {
            "colorbar": {
             "outlinewidth": 0,
             "ticks": ""
            },
            "colorscale": [
             [
              0,
              "#0d0887"
             ],
             [
              0.1111111111111111,
              "#46039f"
             ],
             [
              0.2222222222222222,
              "#7201a8"
             ],
             [
              0.3333333333333333,
              "#9c179e"
             ],
             [
              0.4444444444444444,
              "#bd3786"
             ],
             [
              0.5555555555555556,
              "#d8576b"
             ],
             [
              0.6666666666666666,
              "#ed7953"
             ],
             [
              0.7777777777777778,
              "#fb9f3a"
             ],
             [
              0.8888888888888888,
              "#fdca26"
             ],
             [
              1,
              "#f0f921"
             ]
            ],
            "type": "histogram2dcontour"
           }
          ],
          "mesh3d": [
           {
            "colorbar": {
             "outlinewidth": 0,
             "ticks": ""
            },
            "type": "mesh3d"
           }
          ],
          "parcoords": [
           {
            "line": {
             "colorbar": {
              "outlinewidth": 0,
              "ticks": ""
             }
            },
            "type": "parcoords"
           }
          ],
          "pie": [
           {
            "automargin": true,
            "type": "pie"
           }
          ],
          "scatter": [
           {
            "fillpattern": {
             "fillmode": "overlay",
             "size": 10,
             "solidity": 0.2
            },
            "type": "scatter"
           }
          ],
          "scatter3d": [
           {
            "line": {
             "colorbar": {
              "outlinewidth": 0,
              "ticks": ""
             }
            },
            "marker": {
             "colorbar": {
              "outlinewidth": 0,
              "ticks": ""
             }
            },
            "type": "scatter3d"
           }
          ],
          "scattercarpet": [
           {
            "marker": {
             "colorbar": {
              "outlinewidth": 0,
              "ticks": ""
             }
            },
            "type": "scattercarpet"
           }
          ],
          "scattergeo": [
           {
            "marker": {
             "colorbar": {
              "outlinewidth": 0,
              "ticks": ""
             }
            },
            "type": "scattergeo"
           }
          ],
          "scattergl": [
           {
            "marker": {
             "colorbar": {
              "outlinewidth": 0,
              "ticks": ""
             }
            },
            "type": "scattergl"
           }
          ],
          "scattermapbox": [
           {
            "marker": {
             "colorbar": {
              "outlinewidth": 0,
              "ticks": ""
             }
            },
            "type": "scattermapbox"
           }
          ],
          "scatterpolar": [
           {
            "marker": {
             "colorbar": {
              "outlinewidth": 0,
              "ticks": ""
             }
            },
            "type": "scatterpolar"
           }
          ],
          "scatterpolargl": [
           {
            "marker": {
             "colorbar": {
              "outlinewidth": 0,
              "ticks": ""
             }
            },
            "type": "scatterpolargl"
           }
          ],
          "scatterternary": [
           {
            "marker": {
             "colorbar": {
              "outlinewidth": 0,
              "ticks": ""
             }
            },
            "type": "scatterternary"
           }
          ],
          "surface": [
           {
            "colorbar": {
             "outlinewidth": 0,
             "ticks": ""
            },
            "colorscale": [
             [
              0,
              "#0d0887"
             ],
             [
              0.1111111111111111,
              "#46039f"
             ],
             [
              0.2222222222222222,
              "#7201a8"
             ],
             [
              0.3333333333333333,
              "#9c179e"
             ],
             [
              0.4444444444444444,
              "#bd3786"
             ],
             [
              0.5555555555555556,
              "#d8576b"
             ],
             [
              0.6666666666666666,
              "#ed7953"
             ],
             [
              0.7777777777777778,
              "#fb9f3a"
             ],
             [
              0.8888888888888888,
              "#fdca26"
             ],
             [
              1,
              "#f0f921"
             ]
            ],
            "type": "surface"
           }
          ],
          "table": [
           {
            "cells": {
             "fill": {
              "color": "#EBF0F8"
             },
             "line": {
              "color": "white"
             }
            },
            "header": {
             "fill": {
              "color": "#C8D4E3"
             },
             "line": {
              "color": "white"
             }
            },
            "type": "table"
           }
          ]
         },
         "layout": {
          "annotationdefaults": {
           "arrowcolor": "#2a3f5f",
           "arrowhead": 0,
           "arrowwidth": 1
          },
          "autotypenumbers": "strict",
          "coloraxis": {
           "colorbar": {
            "outlinewidth": 0,
            "ticks": ""
           }
          },
          "colorscale": {
           "diverging": [
            [
             0,
             "#8e0152"
            ],
            [
             0.1,
             "#c51b7d"
            ],
            [
             0.2,
             "#de77ae"
            ],
            [
             0.3,
             "#f1b6da"
            ],
            [
             0.4,
             "#fde0ef"
            ],
            [
             0.5,
             "#f7f7f7"
            ],
            [
             0.6,
             "#e6f5d0"
            ],
            [
             0.7,
             "#b8e186"
            ],
            [
             0.8,
             "#7fbc41"
            ],
            [
             0.9,
             "#4d9221"
            ],
            [
             1,
             "#276419"
            ]
           ],
           "sequential": [
            [
             0,
             "#0d0887"
            ],
            [
             0.1111111111111111,
             "#46039f"
            ],
            [
             0.2222222222222222,
             "#7201a8"
            ],
            [
             0.3333333333333333,
             "#9c179e"
            ],
            [
             0.4444444444444444,
             "#bd3786"
            ],
            [
             0.5555555555555556,
             "#d8576b"
            ],
            [
             0.6666666666666666,
             "#ed7953"
            ],
            [
             0.7777777777777778,
             "#fb9f3a"
            ],
            [
             0.8888888888888888,
             "#fdca26"
            ],
            [
             1,
             "#f0f921"
            ]
           ],
           "sequentialminus": [
            [
             0,
             "#0d0887"
            ],
            [
             0.1111111111111111,
             "#46039f"
            ],
            [
             0.2222222222222222,
             "#7201a8"
            ],
            [
             0.3333333333333333,
             "#9c179e"
            ],
            [
             0.4444444444444444,
             "#bd3786"
            ],
            [
             0.5555555555555556,
             "#d8576b"
            ],
            [
             0.6666666666666666,
             "#ed7953"
            ],
            [
             0.7777777777777778,
             "#fb9f3a"
            ],
            [
             0.8888888888888888,
             "#fdca26"
            ],
            [
             1,
             "#f0f921"
            ]
           ]
          },
          "colorway": [
           "#636efa",
           "#EF553B",
           "#00cc96",
           "#ab63fa",
           "#FFA15A",
           "#19d3f3",
           "#FF6692",
           "#B6E880",
           "#FF97FF",
           "#FECB52"
          ],
          "font": {
           "color": "#2a3f5f"
          },
          "geo": {
           "bgcolor": "white",
           "lakecolor": "white",
           "landcolor": "#E5ECF6",
           "showlakes": true,
           "showland": true,
           "subunitcolor": "white"
          },
          "hoverlabel": {
           "align": "left"
          },
          "hovermode": "closest",
          "mapbox": {
           "style": "light"
          },
          "paper_bgcolor": "white",
          "plot_bgcolor": "#E5ECF6",
          "polar": {
           "angularaxis": {
            "gridcolor": "white",
            "linecolor": "white",
            "ticks": ""
           },
           "bgcolor": "#E5ECF6",
           "radialaxis": {
            "gridcolor": "white",
            "linecolor": "white",
            "ticks": ""
           }
          },
          "scene": {
           "xaxis": {
            "backgroundcolor": "#E5ECF6",
            "gridcolor": "white",
            "gridwidth": 2,
            "linecolor": "white",
            "showbackground": true,
            "ticks": "",
            "zerolinecolor": "white"
           },
           "yaxis": {
            "backgroundcolor": "#E5ECF6",
            "gridcolor": "white",
            "gridwidth": 2,
            "linecolor": "white",
            "showbackground": true,
            "ticks": "",
            "zerolinecolor": "white"
           },
           "zaxis": {
            "backgroundcolor": "#E5ECF6",
            "gridcolor": "white",
            "gridwidth": 2,
            "linecolor": "white",
            "showbackground": true,
            "ticks": "",
            "zerolinecolor": "white"
           }
          },
          "shapedefaults": {
           "line": {
            "color": "#2a3f5f"
           }
          },
          "ternary": {
           "aaxis": {
            "gridcolor": "white",
            "linecolor": "white",
            "ticks": ""
           },
           "baxis": {
            "gridcolor": "white",
            "linecolor": "white",
            "ticks": ""
           },
           "bgcolor": "#E5ECF6",
           "caxis": {
            "gridcolor": "white",
            "linecolor": "white",
            "ticks": ""
           }
          },
          "title": {
           "x": 0.05
          },
          "xaxis": {
           "automargin": true,
           "gridcolor": "white",
           "linecolor": "white",
           "ticks": "",
           "title": {
            "standoff": 15
           },
           "zerolinecolor": "white",
           "zerolinewidth": 2
          },
          "yaxis": {
           "automargin": true,
           "gridcolor": "white",
           "linecolor": "white",
           "ticks": "",
           "title": {
            "standoff": 15
           },
           "zerolinecolor": "white",
           "zerolinewidth": 2
          }
         }
        }
       }
      }
     },
     "metadata": {},
     "output_type": "display_data"
    }
   ],
   "source": [
    "#3d plot the results for the euler scheme\n",
    "import plotly.graph_objects as go\n",
    "import plotly.express as px\n",
    "\n",
    "\"\"\"x= np.linspace(0.1, 1.1, 0.1)\n",
    "y= np.linspace(85, 120, 5)\"\"\"\n",
    "fig = go.Figure(data=[go.Surface(z=MC_compare_models_grid[MC_compare_models_grid['scheme'] == 'simulate_heston_euler'][['strike', 'T', 'mean']].pivot(index='strike', columns='T', values='mean'))])\n",
    "fig.show()"
   ]
  },
  {
   "attachments": {},
   "cell_type": "markdown",
   "metadata": {},
   "source": [
    "Time for each scheme"
   ]
  },
  {
   "cell_type": "code",
   "execution_count": 10,
   "metadata": {},
   "outputs": [
    {
     "name": "stdout",
     "output_type": "stream",
     "text": [
      "simulate_heston_euler\n",
      "2.58 s ± 40.8 ms per loop (mean ± std. dev. of 10 runs, 1 loop each)\n",
      "\n",
      "\n",
      "\n",
      "simulate_heston_andersen_qe\n",
      "1.61 s ± 19.8 ms per loop (mean ± std. dev. of 10 runs, 1 loop each)\n",
      "\n",
      "\n",
      "\n",
      "simulate_heston_andersen_tg\n",
      "1.54 s ± 23.5 ms per loop (mean ± std. dev. of 10 runs, 1 loop each)\n",
      "\n",
      "\n",
      "\n"
     ]
    }
   ],
   "source": [
    "common_mc_params = {\"absolute_error\": 5e-2, \"batch_size\": 100_000, \"state\": state, \"heston_params\": heston_params, \"payoff\": ec_payoff, \"T\": T, \"random_seed\": 42, \"verbose\": False}\n",
    "for scheme in [[simulate_heston_euler, 100], [simulate_heston_andersen_qe, 50], [simulate_heston_andersen_tg, 50]]:\n",
    "    print(scheme[0].__name__)\n",
    "    if scheme[0] == simulate_heston_andersen_tg:\n",
    "        %timeit -r10 mc_price(N_T = scheme[1], simulate = scheme[0], **common_mc_params, **kwargs)\n",
    "    else:\n",
    "        %timeit -r10 mc_price(N_T = scheme[1], simulate = scheme[0], **common_mc_params)\n",
    "\n",
    "    print(\"\\n\\n\")"
   ]
  },
  {
   "attachments": {},
   "cell_type": "markdown",
   "metadata": {},
   "source": [
    "### Out of the money"
   ]
  },
  {
   "cell_type": "code",
   "execution_count": 101,
   "metadata": {},
   "outputs": [],
   "source": [
    "strike = 150.\n",
    "T = 1.\n",
    "ec_payoff = european_call_payoff(T, strike, state.interest_rate)\n",
    "\n",
    "common_mc_params = {\"absolute_error\": 5e-2, \"batch_size\": 100_000, \"state\": state, \"heston_params\": heston_params, \"payoff\": ec_payoff, \"T\": T, \"random_seed\": 42, \"verbose\": True}"
   ]
  },
  {
   "cell_type": "code",
   "execution_count": 102,
   "metadata": {},
   "outputs": [
    {
     "data": {
      "text/plain": [
       "4.40338420430231"
      ]
     },
     "execution_count": 102,
     "metadata": {},
     "output_type": "execute_result"
    }
   ],
   "source": [
    "model.call_price(T, strike)"
   ]
  },
  {
   "cell_type": "code",
   "execution_count": 104,
   "metadata": {},
   "outputs": [
    {
     "name": "stdout",
     "output_type": "stream",
     "text": [
      "Random seed:                42\n",
      "Number of simulate calls:   1\n",
      "MAX_ITER:                   100000\n",
      "Number of paths:            200000\n",
      "Absolute error:             0.05\n",
      "Length of the conf intl:    0.03722537091824368\n",
      "Confidence level:           0.05\n",
      "\n"
     ]
    },
    {
     "data": {
      "text/plain": [
       "4.532980906297427"
      ]
     },
     "execution_count": 104,
     "metadata": {},
     "output_type": "execute_result"
    }
   ],
   "source": [
    "mc_price(N_T = 100, simulate = simulate_heston_euler, **common_mc_params)"
   ]
  },
  {
   "cell_type": "code",
   "execution_count": 105,
   "metadata": {},
   "outputs": [
    {
     "name": "stdout",
     "output_type": "stream",
     "text": [
      "Random seed:                42\n",
      "Number of simulate calls:   1\n",
      "MAX_ITER:                   100000\n",
      "Number of paths:            200000\n",
      "Absolute error:             0.05\n",
      "Length of the conf intl:    0.035479385422419435\n",
      "Confidence level:           0.05\n",
      "\n"
     ]
    },
    {
     "data": {
      "text/plain": [
       "4.391502273180451"
      ]
     },
     "execution_count": 105,
     "metadata": {},
     "output_type": "execute_result"
    }
   ],
   "source": [
    "mc_price(N_T = 50, simulate = simulate_heston_andersen_qe, **common_mc_params)"
   ]
  },
  {
   "cell_type": "code",
   "execution_count": 106,
   "metadata": {},
   "outputs": [
    {
     "name": "stdout",
     "output_type": "stream",
     "text": [
      "Random seed:                42\n",
      "Number of simulate calls:   1\n",
      "MAX_ITER:                   100000\n",
      "Number of paths:            200000\n",
      "Absolute error:             0.05\n",
      "Length of the conf intl:    0.03513980639277515\n",
      "Confidence level:           0.05\n",
      "\n"
     ]
    },
    {
     "data": {
      "text/plain": [
       "4.411496646066571"
      ]
     },
     "execution_count": 106,
     "metadata": {},
     "output_type": "execute_result"
    }
   ],
   "source": [
    "mc_price(N_T = 50, simulate = simulate_heston_andersen_tg, **common_mc_params, **kwargs)"
   ]
  },
  {
   "cell_type": "code",
   "execution_count": 27,
   "metadata": {},
   "outputs": [],
   "source": [
    "import pandas as pd\n",
    "MC_compare_models_Out_of_the_money = pd.DataFrame(columns=['scheme' , 'N_dt',  'result'])"
   ]
  },
  {
   "cell_type": "code",
   "execution_count": 28,
   "metadata": {},
   "outputs": [
    {
     "ename": "SystemError",
     "evalue": "CPUDispatcher(<function simulate_heston_euler at 0x000001FF6AAFF550>) returned a result with an error set",
     "output_type": "error",
     "traceback": [
      "\u001b[1;31m---------------------------------------------------------------------------\u001b[0m",
      "\u001b[1;31mKeyboardInterrupt\u001b[0m                         Traceback (most recent call last)",
      "\u001b[1;32mc:\\ProgramData\\Anaconda3\\lib\\site-packages\\numba\\core\\serialize.py\u001b[0m in \u001b[0;36m_numba_unpickle\u001b[1;34m(address, bytedata, hashed)\u001b[0m\n\u001b[0;32m     28\u001b[0m \u001b[1;33m\u001b[0m\u001b[0m\n\u001b[1;32m---> 29\u001b[1;33m \u001b[1;32mdef\u001b[0m \u001b[0m_numba_unpickle\u001b[0m\u001b[1;33m(\u001b[0m\u001b[0maddress\u001b[0m\u001b[1;33m,\u001b[0m \u001b[0mbytedata\u001b[0m\u001b[1;33m,\u001b[0m \u001b[0mhashed\u001b[0m\u001b[1;33m)\u001b[0m\u001b[1;33m:\u001b[0m\u001b[1;33m\u001b[0m\u001b[1;33m\u001b[0m\u001b[0m\n\u001b[0m\u001b[0;32m     30\u001b[0m     \"\"\"Used by `numba_unpickle` from _helperlib.c\n",
      "\u001b[1;31mKeyboardInterrupt\u001b[0m: ",
      "\nThe above exception was the direct cause of the following exception:\n",
      "\u001b[1;31mSystemError\u001b[0m                               Traceback (most recent call last)",
      "\u001b[1;31mSystemError\u001b[0m: _PyEval_EvalFrameDefault returned a result with an error set",
      "\nThe above exception was the direct cause of the following exception:\n",
      "\u001b[1;31mSystemError\u001b[0m                               Traceback (most recent call last)",
      "\u001b[1;32m~\\AppData\\Local\\Temp\\ipykernel_16092\\624717916.py\u001b[0m in \u001b[0;36m<module>\u001b[1;34m\u001b[0m\n\u001b[0;32m      7\u001b[0m                 \u001b[0mMC_compare_models_Out_of_the_money\u001b[0m\u001b[1;33m.\u001b[0m\u001b[0mloc\u001b[0m\u001b[1;33m[\u001b[0m\u001b[0mi\u001b[0m\u001b[1;33m]\u001b[0m \u001b[1;33m=\u001b[0m \u001b[1;33m(\u001b[0m\u001b[0mscheme\u001b[0m\u001b[1;33m.\u001b[0m\u001b[0m__name__\u001b[0m\u001b[1;33m,\u001b[0m \u001b[0mN_dt\u001b[0m\u001b[1;33m,\u001b[0m \u001b[0mmc_price\u001b[0m\u001b[1;33m(\u001b[0m\u001b[0mN_T\u001b[0m \u001b[1;33m=\u001b[0m \u001b[0mN_dt\u001b[0m\u001b[1;33m,\u001b[0m \u001b[0msimulate\u001b[0m \u001b[1;33m=\u001b[0m \u001b[0mscheme\u001b[0m\u001b[1;33m,\u001b[0m \u001b[0mbatch_size\u001b[0m\u001b[1;33m=\u001b[0m\u001b[1;36m5000\u001b[0m\u001b[1;33m,\u001b[0m \u001b[1;33m**\u001b[0m\u001b[0mcommon_mc_params\u001b[0m\u001b[1;33m,\u001b[0m \u001b[1;33m**\u001b[0m\u001b[0mkwargs\u001b[0m\u001b[1;33m)\u001b[0m\u001b[1;33m)\u001b[0m\u001b[1;33m\u001b[0m\u001b[1;33m\u001b[0m\u001b[0m\n\u001b[0;32m      8\u001b[0m             \u001b[1;32melse\u001b[0m\u001b[1;33m:\u001b[0m\u001b[1;33m\u001b[0m\u001b[1;33m\u001b[0m\u001b[0m\n\u001b[1;32m----> 9\u001b[1;33m                 \u001b[0mMC_compare_models_Out_of_the_money\u001b[0m\u001b[1;33m.\u001b[0m\u001b[0mloc\u001b[0m\u001b[1;33m[\u001b[0m\u001b[0mi\u001b[0m\u001b[1;33m]\u001b[0m \u001b[1;33m=\u001b[0m \u001b[1;33m(\u001b[0m\u001b[0mscheme\u001b[0m\u001b[1;33m.\u001b[0m\u001b[0m__name__\u001b[0m\u001b[1;33m,\u001b[0m \u001b[0mN_dt\u001b[0m\u001b[1;33m,\u001b[0m \u001b[0mmc_price\u001b[0m\u001b[1;33m(\u001b[0m\u001b[0mN_T\u001b[0m \u001b[1;33m=\u001b[0m \u001b[0mN_dt\u001b[0m\u001b[1;33m,\u001b[0m \u001b[0msimulate\u001b[0m \u001b[1;33m=\u001b[0m \u001b[0mscheme\u001b[0m\u001b[1;33m,\u001b[0m \u001b[0mbatch_size\u001b[0m\u001b[1;33m=\u001b[0m\u001b[1;36m5000\u001b[0m\u001b[1;33m,\u001b[0m \u001b[1;33m**\u001b[0m\u001b[0mcommon_mc_params\u001b[0m\u001b[1;33m)\u001b[0m\u001b[1;33m)\u001b[0m\u001b[1;33m\u001b[0m\u001b[1;33m\u001b[0m\u001b[0m\n\u001b[0m\u001b[0;32m     10\u001b[0m             \u001b[0mi\u001b[0m \u001b[1;33m+=\u001b[0m\u001b[1;36m1\u001b[0m\u001b[1;33m\u001b[0m\u001b[1;33m\u001b[0m\u001b[0m\n",
      "\u001b[1;32md:\\Other\\code\\jypeter\\Stochastic-Volatility-Models\\Code\\hestonmc.py\u001b[0m in \u001b[0;36mmc_price\u001b[1;34m(payoff, simulate, state, heston_params, T, N_T, absolute_error, confidence_level, batch_size, MAX_ITER, control_variate_payoff, control_variate_iter, verbose, random_seed, **kwargs)\u001b[0m\n\u001b[0;32m    122\u001b[0m     \u001b[1;32mif\u001b[0m \u001b[0mcontrol_variate_payoff\u001b[0m \u001b[1;32mis\u001b[0m \u001b[1;32mNone\u001b[0m\u001b[1;33m:\u001b[0m\u001b[1;33m\u001b[0m\u001b[1;33m\u001b[0m\u001b[0m\n\u001b[0;32m    123\u001b[0m         \u001b[1;32mwhile\u001b[0m \u001b[0mlength_conf_interval\u001b[0m \u001b[1;33m>\u001b[0m \u001b[0mabsolute_error\u001b[0m \u001b[1;32mand\u001b[0m \u001b[0miter_count\u001b[0m \u001b[1;33m<\u001b[0m \u001b[0mMAX_ITER\u001b[0m\u001b[1;33m:\u001b[0m\u001b[1;33m\u001b[0m\u001b[1;33m\u001b[0m\u001b[0m\n\u001b[1;32m--> 124\u001b[1;33m             \u001b[0mbatch_new\u001b[0m \u001b[1;33m=\u001b[0m \u001b[0mpayoff\u001b[0m\u001b[1;33m(\u001b[0m\u001b[0msimulate\u001b[0m\u001b[1;33m(\u001b[0m\u001b[1;33m**\u001b[0m\u001b[0margs\u001b[0m\u001b[1;33m)\u001b[0m\u001b[1;33m[\u001b[0m\u001b[1;36m0\u001b[0m\u001b[1;33m]\u001b[0m\u001b[1;33m)\u001b[0m\u001b[1;33m\u001b[0m\u001b[1;33m\u001b[0m\u001b[0m\n\u001b[0m\u001b[0;32m    125\u001b[0m             \u001b[0miter_count\u001b[0m\u001b[1;33m+=\u001b[0m\u001b[1;36m1\u001b[0m\u001b[1;33m\u001b[0m\u001b[1;33m\u001b[0m\u001b[0m\n\u001b[0;32m    126\u001b[0m \u001b[1;33m\u001b[0m\u001b[0m\n",
      "\u001b[1;31mSystemError\u001b[0m: CPUDispatcher(<function simulate_heston_euler at 0x000001FF6AAFF550>) returned a result with an error set"
     ]
    }
   ],
   "source": [
    "common_mc_params = {\"absolute_error\": 5e-2,  \"state\": state, \"heston_params\": heston_params, \"payoff\": ec_payoff, \"T\": T, \"random_seed\": 42, \"verbose\": False}\n",
    "i = MC_compare_models_Out_of_the_money.shape[0]\n",
    "for scheme in [simulate_heston_euler, simulate_heston_andersen_qe, simulate_heston_andersen_tg]:\n",
    "    for N_dt in range(4, 132, 4):\n",
    "        for _ in range(5):\n",
    "            if scheme == simulate_heston_andersen_tg:\n",
    "                MC_compare_models_Out_of_the_money.loc[i] = (scheme.__name__, N_dt, mc_price(N_T = N_dt, simulate = scheme, batch_size=5000, **common_mc_params, **kwargs))\n",
    "            else:\n",
    "                MC_compare_models_Out_of_the_money.loc[i] = (scheme.__name__, N_dt, mc_price(N_T = N_dt, simulate = scheme, batch_size=5000, **common_mc_params))\n",
    "            i +=1"
   ]
  },
  {
   "attachments": {},
   "cell_type": "markdown",
   "metadata": {},
   "source": [
    "Calculation of r for anderson tg model"
   ]
  },
  {
   "cell_type": "code",
   "execution_count": 4,
   "metadata": {},
   "outputs": [],
   "source": [
    "from hestonmc import calculate_r_for_andersen_tg\n",
    "from tqdm.notebook import tqdm\n",
    "\n",
    "dt = 2e-05\n",
    "\n",
    "h = int(np.array(np.arange(1e-7, 100, dt)).shape[0]/6)\n",
    "\n",
    "i = 0\n",
    "\n",
    "#r_x = np.linspace(1e-7, 100, 1000)\n",
    "\n",
    "r_x = np.array(np.arange(1e-7, 100, dt))[i*h:(i+1)*h]"
   ]
  },
  {
   "cell_type": "code",
   "execution_count": 8,
   "metadata": {},
   "outputs": [
    {
     "data": {
      "application/vnd.jupyter.widget-view+json": {
       "model_id": "0603dfa7450c4805988db0b7998f91e5",
       "version_major": 2,
       "version_minor": 0
      },
      "text/plain": [
       "  0%|          | 0/833333 [00:00<?, ?it/s]"
      ]
     },
     "metadata": {},
     "output_type": "display_data"
    }
   ],
   "source": [
    "\n",
    "r_y = np.zeros(r_x.shape)\n",
    "\n",
    "for j in tqdm(range(r_x.shape[0])):\n",
    "    r_y[j] = calculate_r_for_andersen_tg(r_x[j], tol = 1e-7)"
   ]
  },
  {
   "cell_type": "code",
   "execution_count": 15,
   "metadata": {},
   "outputs": [],
   "source": [
    "np.save(\"r_x {0} {1} {2}.npy\".format(i*h*dt, (i+1)*h*dt, r_x.shape[0]), r_x)\n",
    "np.save(\"r_y {0} {1} {2}.npy\".format(i*h*dt, (i+1)*h*dt, r_x.shape[0]), r_y)"
   ]
  },
  {
   "cell_type": "code",
   "execution_count": 111,
   "metadata": {},
   "outputs": [
    {
     "name": "stdout",
     "output_type": "stream",
     "text": [
      "1e-07 16.666640100000002\n",
      "16.6666601 33.3333001\n",
      "33.3333201 49.9999601\n",
      "49.9999801 66.6666201\n",
      "66.6666401 83.3332801\n",
      "83.3333001 99.9999401\n"
     ]
    }
   ],
   "source": [
    "r_x_all = np.empty(0)\n",
    "r_y_all = np.empty(0)\n",
    "\n",
    "for j in range(0, 6):\n",
    "    i = j\n",
    "    r_x = np.load(\"r_x {0} {1} {2}.npy\".format(i*h*dt, (i+1)*h*dt, h))\n",
    "    print(r_x[0], r_x[-1])\n",
    "    r_y = np.load(\"r_y {0} {1} {2}.npy\".format(i*h*dt, (i+1)*h*dt, h))\n",
    "\n",
    "    r_x_all = np.concatenate((r_x_all, r_x))\n",
    "    r_y_all = np.concatenate((r_y_all, r_y))\n",
    "    #plt.plot(r_x, r_y, label = \"{0} to {1}\".format(i*h*dt, (i+1)*h*dt))"
   ]
  },
  {
   "cell_type": "code",
   "execution_count": 119,
   "metadata": {},
   "outputs": [
    {
     "data": {
      "text/plain": [
       "99.99996010000001"
      ]
     },
     "execution_count": 119,
     "metadata": {},
     "output_type": "execute_result"
    }
   ],
   "source": [
    "r_x_all[-1] + dt"
   ]
  },
  {
   "cell_type": "code",
   "execution_count": 134,
   "metadata": {},
   "outputs": [
    {
     "data": {
      "image/png": "[encoded data removed]",
      "text/plain": [
       "<Figure size 640x480 with 1 Axes>"
      ]
     },
     "metadata": {},
     "output_type": "display_data"
    }
   ],
   "source": [
    "#plot r_x and r_y with plt\n",
    "import matplotlib.pyplot as plt\n",
    "plt.plot(r_x_all, r_y_all)\n",
    "plt.show()\n"
   ]
  },
  {
   "cell_type": "code",
   "execution_count": 115,
   "metadata": {},
   "outputs": [
    {
     "data": {
      "text/plain": [
       "2e-05"
      ]
     },
     "execution_count": 115,
     "metadata": {},
     "output_type": "execute_result"
    }
   ],
   "source": [
    "dt"
   ]
  },
  {
   "cell_type": "code",
   "execution_count": 117,
   "metadata": {},
   "outputs": [],
   "source": [
    "np.save(\"r_x start={0} stop={1} N={2} dt={3}.npy\".format(1e-7, 100, r_x_all.shape[0], dt), r_x_all)\n",
    "np.save(\"r_y start={0} stop={1} N={2} dt={3}.npy\".format(1e-7, 100, r_x_all.shape[0], dt), r_y_all)"
   ]
  },
  {
   "cell_type": "code",
   "execution_count": 120,
   "metadata": {},
   "outputs": [],
   "source": [
    "from scipy.stats import norm\n",
    "\n",
    "f_nu_y = r_y_all/(norm.pdf(r_y_all) + r_y_all*norm.cdf(r_y_all))\n",
    "f_sigma_y = 1/((norm.pdf(r_y_all) + r_y_all*norm.cdf(r_y_all))*np.sqrt(r_x_all))"
   ]
  },
  {
   "cell_type": "code",
   "execution_count": 136,
   "metadata": {},
   "outputs": [
    {
     "data": {
      "image/png": "[encoded data removed]",
      "text/plain": [
       "<Figure size 640x480 with 1 Axes>"
      ]
     },
     "metadata": {},
     "output_type": "display_data"
    }
   ],
   "source": [
    "#plot f_nu_y and f_sigma_y\n",
    "plt.plot(r_x_all[-1000000:], f_nu_y[-1000000:], label = \"f_nu_y\")\n",
    "plt.plot(r_x_all[-1000000:], f_sigma_y[-1000000:], label = \"f_sigma_y\")\n",
    "plt.legend()\n",
    "plt.show()\n"
   ]
  },
  {
   "cell_type": "code",
   "execution_count": 122,
   "metadata": {},
   "outputs": [],
   "source": [
    "np.save(\"f_nu_y start={0} stop={1} N={2} dt={3}.npy\".format(1e-7, 100, r_x_all.shape[0], dt), f_nu_y)\n",
    "np.save(\"f_sigma_y start={0} stop={1} N={2} dt={3}.npy\".format(1e-7, 100, r_x_all.shape[0], dt), f_sigma_y)"
   ]
  }
 ],
 "metadata": {
  "kernelspec": {
   "display_name": "base",
   "language": "python",
   "name": "python3"
  },
  "language_info": {
   "codemirror_mode": {
    "name": "ipython",
    "version": 3
   },
   "file_extension": ".py",
   "mimetype": "text/x-python",
   "name": "python",
   "nbconvert_exporter": "python",
   "pygments_lexer": "ipython3",
   "version": "3.9.13"
  },
  "vscode": {
   "interpreter": {
    "hash": "e6fb2ef27fee963ceed30e3e64cbae56428a1a32b16762da4b3bdfa5ed010894"
   }
  }
 },
 "nbformat": 4,
 "nbformat_minor": 4
}
