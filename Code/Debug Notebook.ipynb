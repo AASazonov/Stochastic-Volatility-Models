{
 "cells": [
  {
   "cell_type": "code",
   "execution_count": 2,
   "metadata": {},
   "outputs": [],
   "source": [
    "import numpy as np\n",
    "import pandas as pd\n",
    "import matplotlib.pyplot as plt\n",
    "import scipy.stats as sps\n",
    "import math\n",
    "\n",
    "from ipywidgets import interact\n",
    "\n",
    "from ipywidgets import widgets\n",
    "from tqdm.auto import tqdm\n",
    "\n",
    "from dataclasses import dataclass\n",
    "from typing import Union, Callable, Optional\n",
    "from copy import deepcopy\n",
    "from copy import error\n",
    "from scipy.optimize import root_scalar, brentq\n",
    "from dataclasses import dataclass\n",
    "from scipy.special import iv\n",
    "from scipy.stats import bernoulli\n",
    "from scipy.interpolate import RectBivariateSpline\n",
    "from scipy.optimize import newton\n",
    "from scipy.stats import norm\n",
    "\n",
    "import warnings\n",
    "from scipy.stats import norm\n",
    "warnings.filterwarnings(\"ignore\")\n",
    "\n",
    "from vol.vol import Heston\n",
    "\n",
    "import hestonmc\n",
    "from importlib import reload\n",
    "reload(hestonmc)\n",
    "\n",
    "from hestonmc import MarketState, HestonParameters, mc_price, simulate_heston_euler, simulate_heston_andersen_qe, simulate_heston_andersen_tg"
   ]
  },
  {
   "cell_type": "markdown",
   "metadata": {},
   "source": [
    "## Broadie - Kaya scheme"
   ]
  },
  {
   "cell_type": "code",
   "execution_count": 8,
   "metadata": {},
   "outputs": [],
   "source": [
    "def cir_chi_sq_sample(heston_params: HestonParameters,\n",
    "                      dt:            float,\n",
    "                      v_i:           np.array,\n",
    "                      n_simulations: int):\n",
    "    \"\"\"Samples chi_squared statistics for v_{i+1} conditional on \n",
    "       v_i and parameters of Hestom model. \n",
    "        \n",
    "    Args:\n",
    "        heston_params (HestonParameters): parameters of Heston model\n",
    "        dt (float): time step \n",
    "        v_i: current volatility value\n",
    "        n_simulations (int): number of simulations.\n",
    "        \n",
    "    Returns:\n",
    "        np.array: sampled chi_squared statistics \n",
    "    \"\"\"\n",
    "    kappa, vbar, gamma = heston_params.kappa, heston_params.vbar, heston_params.gamma\n",
    "    \n",
    "    barkappa=v_i*(4*kappa*np.exp(-kappa*dt))/(gamma**2 * (1 - np.exp(-kappa*dt)))\n",
    "    d=(4*kappa*vbar)/(gamma**2)\n",
    "    c=((gamma**2)/(4*kappa))*(1-np.exp(-kappa*dt))\n",
    "    \n",
    "    return  c*np.random.noncentral_chisquare(size = n_simulations, df   = d, nonc = barkappa)\n",
    "\n",
    "\n",
    "def Phi(a:             Union[float, np.ndarray], \n",
    "        V:             Union[float, np.ndarray],\n",
    "        time:          Union[float, np.ndarray],\n",
    "        heston_params: HestonParameters\n",
    "        ) -> np.ndarray:\n",
    "    \n",
    "    \n",
    "    v0, rho, kappa, vbar, gamma = heston_params.v0, heston_params.rho, heston_params.kappa, \\\n",
    "                                        heston_params.vbar, heston_params.gamma\n",
    "    dt = time[1::]-time[:-1:]\n",
    "    \n",
    "    A=np.array(a)\n",
    "    gamma_a = np.sqrt(kappa**2 - 2*gamma**2*1j*A).reshape(1,1,len(A)).T\n",
    "    \n",
    "    E1 = np.exp(-kappa*dt)\n",
    "    E2 = np.exp(-gamma_a * dt)\n",
    "        \n",
    "    P1 = ((1.0-E1)*gamma_a/(kappa*(1.0-E2)))*np.exp(-0.5*(gamma_a - kappa)*dt)\n",
    "    \n",
    "    P2_2 = kappa * (1.0 + E1)/(1.0 - E1) - gamma_a*(1.0+E2)/(1-E2)\n",
    "    P2 = np.exp( (V[:,1::]+V[:,:-1:])/(gamma_a**2) * P2_2 )\n",
    "    \n",
    "    P3_1 = np.sqrt(V[:,1::]*V[:,:-1:])*4*gamma_a * np.exp(-0.5*gamma_a*dt) /(gamma**2 * (1.0 - E2))\n",
    "    P3_2 = np.sqrt(V[:,1::]*V[:,:-1:])*4*kappa*np.exp(-0.5*kappa*dt)/(gamma**2 * (1 - E1))\n",
    "    d=(4*kappa*vbar)/(gamma**2)\n",
    "    P3 = iv(0.5*d - 1, P3_1)/iv(0.5*d - 1, P3_2)\n",
    "    \n",
    "    return P1*P2*P3\n",
    "\n",
    "def Pr(V:             np.ndarray, \n",
    "       time:          np.ndarray,\n",
    "       X:             Union[np.ndarray, float],\n",
    "       heston_params: HestonParameters,\n",
    "       h:             float=1e-2, \n",
    "       eps:           float=1e-2\n",
    "       ) -> np.ndarray:\n",
    "    \n",
    "    x=np.array(X)\n",
    "    P=h*x/np.pi\n",
    "    S = 0.0\n",
    "    j = 1\n",
    "    while(True):\n",
    "        Sin=np.sin(h*j*x)/j\n",
    "        Phi_hj=Phi(h*j, V, time, heston_params)\n",
    "        S+=Sin.reshape(1,1,len(x)).T * Phi_hj[0]\n",
    "        if np.all(Phi_hj[0]<np.pi*eps*j/2.0):\n",
    "            break\n",
    "        j=j+1\n",
    "    \n",
    "    S=S*2.0/np.pi\n",
    "    return P+S\n",
    "\n",
    "def IV(V:             np.ndarray, \n",
    "       time:          np.ndarray,\n",
    "       heston_params: HestonParameters,\n",
    "       h:             float=1e-2, \n",
    "       eps:           float=1e-2\n",
    "       ) -> np.ndarray:\n",
    "    \n",
    "    U=np.random.uniform(size=(V.shape[0], V.shape[1] - 1))\n",
    "    \n",
    "    def f(x,i,j):\n",
    "        P=Pr(V, time, x, heston_params, h, eps)\n",
    "        return (P-U)[0][i,j]\n",
    "    \n",
    "    IVar = np.zeros((V.shape[0], V.shape[1] - 1))\n",
    "    \n",
    "    for i in range(IVar.shape[0]):\n",
    "        for j in range(IVar.shape[1]):     \n",
    "            IVar[i,j]=root_scalar(f, args=(i,j), x0=0.5, method='newton')\n",
    "    return IVar"
   ]
  },
  {
   "cell_type": "markdown",
   "metadata": {},
   "source": [
    "## Tests"
   ]
  },
  {
   "cell_type": "code",
   "execution_count": 3,
   "metadata": {},
   "outputs": [],
   "source": [
    "heston_parameters = HestonParameters(kappa = 1.3125, gamma = 0.5125, rho = -0.3937, vbar = 0.0641, v0 = 0.3)\n",
    "# kappa = 1.3125, gamma = 0.7125, rho = -0.3937, vbar = 0.0641, v0 = 0.3\n",
    "state = MarketState(stock_price = 100., interest_rate = 0.2)\n",
    "\n",
    "params = heston_parameters\n",
    "model = Heston(state.stock_price, heston_parameters.v0, heston_parameters.kappa, heston_parameters.vbar, heston_parameters.gamma, heston_parameters.rho, state.interest_rate)\n",
    "kwargs = {}"
   ]
  },
  {
   "cell_type": "code",
   "execution_count": 4,
   "metadata": {},
   "outputs": [],
   "source": [
    "def get_payoff(maturity: float,\n",
    "               strike: float,\n",
    "               interest_rate: float = 0.):\n",
    "    def payoff(St: np.ndarray):\n",
    "        DF = np.exp( - interest_rate * maturity)\n",
    "        return np.maximum(St - strike, 0.)*DF\n",
    "\n",
    "    return payoff"
   ]
  },
  {
   "cell_type": "markdown",
   "metadata": {},
   "source": [
    "### At the money"
   ]
  },
  {
   "cell_type": "code",
   "execution_count": 5,
   "metadata": {},
   "outputs": [],
   "source": [
    "strike = 100.\n",
    "T = 1.\n",
    "payoff = get_payoff(T, strike, state.interest_rate)"
   ]
  },
  {
   "cell_type": "code",
   "execution_count": 6,
   "metadata": {},
   "outputs": [
    {
     "name": "stdout",
     "output_type": "stream",
     "text": [
      "22.735939055676866\n"
     ]
    }
   ],
   "source": [
    "theory = model.call_price(T, strike)\n",
    "print(theory)"
   ]
  },
  {
   "cell_type": "code",
   "execution_count": 7,
   "metadata": {},
   "outputs": [
    {
     "name": "stdout",
     "output_type": "stream",
     "text": [
      "26.29926158466383\n"
     ]
    }
   ],
   "source": [
    "np.random.seed(42)\n",
    "euler    = mc_price(dt = 1e-2, absolute_error=5e-2, market_state = state, payoff = payoff, simulate = simulate_heston_euler,\n",
    "                    debug = False, params = params, T = T, **kwargs)\n",
    "print(euler)"
   ]
  },
  {
   "cell_type": "code",
   "execution_count": 8,
   "metadata": {},
   "outputs": [
    {
     "name": "stdout",
     "output_type": "stream",
     "text": [
      "26.34789538007491\n"
     ]
    }
   ],
   "source": [
    "np.random.seed(42)\n",
    "andersen = mc_price(dt = 1e-2, absolute_error=5e-2, market_state = state, payoff = payoff, simulate = simulate_heston_andersen_qe, params = params, T = T, **kwargs)\n",
    "print(andersen)"
   ]
  },
  {
   "cell_type": "code",
   "execution_count": 9,
   "metadata": {},
   "outputs": [],
   "source": [
    "r_x = np.load(r\"Data/anderson tg/r_x.npy\")\n",
    "f_nu_y = np.load(r\"Data/anderson tg/f_nu_y.npy\")\n",
    "f_sigma_y = np.load(r\"Data/anderson tg/f_sigma_y.npy\")"
   ]
  },
  {
   "cell_type": "code",
   "execution_count": 10,
   "metadata": {},
   "outputs": [
    {
     "name": "stdout",
     "output_type": "stream",
     "text": [
      "26.352168069332777\n"
     ]
    }
   ],
   "source": [
    "np.random.seed(42)\n",
    "kwargs = {'x_grid' : r_x, 'f_nu_grid' : f_nu_y, 'f_sigma_grid' : f_sigma_y }\n",
    "andersen = mc_price(dt = 1e-2, absolute_error=5e-2, market_state = state, payoff = payoff, simulate = simulate_heston_andersen_tg, params = params, T = T,debug=False, **kwargs)\n",
    "kwargs = {}\n",
    "print(andersen)"
   ]
  },
  {
   "cell_type": "markdown",
   "metadata": {},
   "source": [
    "### Out of the money"
   ]
  },
  {
   "cell_type": "code",
   "execution_count": 106,
   "metadata": {},
   "outputs": [],
   "source": [
    "strike = 0.01\n",
    "payoff = get_payoff(T, strike, state.interest_rate)"
   ]
  },
  {
   "cell_type": "code",
   "execution_count": 107,
   "metadata": {},
   "outputs": [
    {
     "data": {
      "text/plain": [
       "90.92835034857754"
      ]
     },
     "execution_count": 107,
     "metadata": {},
     "output_type": "execute_result"
    }
   ],
   "source": [
    "model.call_price(T, strike)"
   ]
  },
  {
   "cell_type": "code",
   "execution_count": null,
   "metadata": {},
   "outputs": [],
   "source": [
    "np.random.seed(42)\n",
    "euler    = mc_price(dt = 1e-2, market_state = state, payoff = payoff, simulate = simulate_heston_euler, params = params, T = T, **kwargs)\n",
    "print(euler)"
   ]
  },
  {
   "cell_type": "code",
   "execution_count": null,
   "metadata": {},
   "outputs": [
    {
     "name": "stdout",
     "output_type": "stream",
     "text": [
      "Number of iterations:   9\n",
      "Number of simulations:  90000\n",
      "\n",
      "0.006692973223684244\n"
     ]
    }
   ],
   "source": [
    "np.random.seed(42)\n",
    "andersen = mc_price(dt = 1e-2, market_state = state, payoff = payoff, simulate = simulate_heston_andersen_qe, params = params, T = T, **kwargs)\n",
    "print(andersen)"
   ]
  },
  {
   "cell_type": "code",
   "execution_count": null,
   "metadata": {},
   "outputs": [
    {
     "name": "stdout",
     "output_type": "stream",
     "text": [
      "Number of iterations:   2\n",
      "Number of simulations:  20000\n",
      "\n",
      "0.01130322217400889\n"
     ]
    }
   ],
   "source": [
    "np.random.seed(42)\n",
    "kwargs = {'x_grid' : r_x, 'f_nu_grid' : f_nu_y, 'f_sigma_grid' : f_sigma_y }\n",
    "andersen = mc_price(dt = 1e-2, absolute_error=5e-2, market_state = state, payoff = payoff, simulate = simulate_heston_andersen_tg, params = params, T = T,debug=False, **kwargs)\n",
    "kwargs = {}\n",
    "print(andersen)"
   ]
  },
  {
   "cell_type": "markdown",
   "metadata": {},
   "source": [
    "### Implied volatility"
   ]
  },
  {
   "cell_type": "code",
   "execution_count": null,
   "metadata": {},
   "outputs": [],
   "source": [
    "def d_1(q,T,S,K,r):\n",
    "    denom=1/(q*np.sqrt(T))\n",
    "    log=np.log(S/K)\n",
    "    s2=T*(r+q*q/2)\n",
    "    return denom*(log+s2)\n",
    "\n",
    "def d_2(q,T,S,K,r):\n",
    "    denom=1/(q*np.sqrt(T))\n",
    "    log=np.log(S/K)\n",
    "    s2=T*(r-q*q/2)\n",
    "    \n",
    "    return denom*(log+s2)\n",
    "\n",
    "def calc_iv(option: CallStockOption, state: MarketState, option_price: float):\n",
    "    \n",
    "    T=option.expiration_time\n",
    "    K=option.strike_price\n",
    "    S=state.stock_price\n",
    "    r=state.interest_rate    \n",
    "    N=sps.norm()\n",
    "    \n",
    "    \n",
    "    def f(q):\n",
    "        d1=d_1(q,T,S,K,r)\n",
    "        d2=d_2(q,T,S,K,r)\n",
    "        return S*N.cdf(d1)-K*(np.exp(-r*T))*N.cdf(d2)-option_price\n",
    "    \n",
    "    def fprime(q):\n",
    "        d1=d_1(q,T,S,K,r)\n",
    "        return S*sps.norm().pdf(d1)*np.sqrt(T)\n",
    "    \n",
    "    sol = root_scalar(f, x0=0.5, fprime=fprime, method='newton')\n",
    "    return sol.root\n",
    "\n"
   ]
  },
  {
   "cell_type": "code",
   "execution_count": null,
   "metadata": {},
   "outputs": [],
   "source": [
    "strikes = np.arange(80, 120, 2)\n",
    "strikes"
   ]
  },
  {
   "cell_type": "code",
   "execution_count": null,
   "metadata": {},
   "outputs": [],
   "source": [
    "call_price = np.array([30.096826945107107,\n",
    " 28.86569299569351,\n",
    " 27.627749990421822,\n",
    " 26.468755491540694,\n",
    " 25.31876428557471,\n",
    " 24.24782290614315,\n",
    " 23.16942316862601,\n",
    " 22.12935496069162,\n",
    " 21.079816460198398,\n",
    " 20.20119494244462,\n",
    " 19.288858679686502,\n",
    " 18.392107111749084,\n",
    " 17.50127598061397,\n",
    " 16.701957005015792,\n",
    " 15.90122188123928,\n",
    " 15.14196593075513,\n",
    " 14.43621999411162,\n",
    " 13.722786552930495,\n",
    " 13.069519364876335,\n",
    " 12.47747576375882])"
   ]
  },
  {
   "cell_type": "code",
   "execution_count": null,
   "metadata": {},
   "outputs": [],
   "source": [
    "IV = np.empty_like(call_price)\n",
    "\n",
    "for j in range(len(call_price)):\n",
    "        IV[j] = calc_iv(option=CallStockOption(strikes[j], T), \n",
    "                           state=state, \n",
    "                           option_price=call_price[j])"
   ]
  },
  {
   "cell_type": "code",
   "execution_count": null,
   "metadata": {},
   "outputs": [],
   "source": [
    "_, ax = plt.subplots(figsize=(15, 5))\n",
    "\n",
    "ax.plot(strikes, IV, \"o-\")\n",
    "# ax.legend()\n",
    "ax.set_xlabel(\"Strike, $\")\n",
    "ax.set_ylabel(\"IV\")\n",
    "ax.set_title(\"Implied Volatility\")\n",
    "plt.show()"
   ]
  },
  {
   "cell_type": "code",
   "execution_count": null,
   "metadata": {},
   "outputs": [],
   "source": [
    "model = Heston(state.stock_price, heston_parameters.v0, heston_parameters.kappa, \n",
    "                         heston_parameters.vbar, heston_parameters.gamma, heston_parameters.rho, state.interest_rate)"
   ]
  },
  {
   "cell_type": "code",
   "execution_count": null,
   "metadata": {},
   "outputs": [],
   "source": [
    "call_price = np.zeros(20)\n",
    "\n",
    "for j in range(20):\n",
    "    call_price[j] = model.call_price(2., strikes[j])"
   ]
  },
  {
   "cell_type": "code",
   "execution_count": null,
   "metadata": {},
   "outputs": [],
   "source": [
    "IV = np.empty_like(call_price)\n",
    "\n",
    "for j in range(len(call_price)):\n",
    "        IV[j] = calc_iv(option=CallStockOption(strikes[j], T), \n",
    "                           state=state, \n",
    "                           option_price=call_price[j])"
   ]
  },
  {
   "cell_type": "code",
   "execution_count": null,
   "metadata": {},
   "outputs": [],
   "source": [
    "_, ax = plt.subplots(figsize=(15, 5))\n",
    "\n",
    "ax.plot(strikes, IV, \"o-\")\n",
    "# ax.legend()\n",
    "ax.set_xlabel(\"Strike, $\")\n",
    "ax.set_ylabel(\"IV\")\n",
    "ax.set_title(\"Implied Volatility\")\n",
    "plt.show()"
   ]
  },
  {
   "cell_type": "code",
   "execution_count": null,
   "metadata": {},
   "outputs": [],
   "source": [
    "Z = np.random.normal(size=1000)"
   ]
  }
 ],
 "metadata": {
  "kernelspec": {
   "display_name": "Python 3",
   "language": "python",
   "name": "python3"
  },
  "language_info": {
   "codemirror_mode": {
    "name": "ipython",
    "version": 3
   },
   "file_extension": ".py",
   "mimetype": "text/x-python",
   "name": "python",
   "nbconvert_exporter": "python",
   "pygments_lexer": "ipython3",
   "version": "3.10.9"
  },
  "vscode": {
   "interpreter": {
    "hash": "b0fa6594d8f4cbf19f97940f81e996739fb7646882a419484c72d19e05852a7e"
   }
  }
 },
 "nbformat": 4,
 "nbformat_minor": 4
}
