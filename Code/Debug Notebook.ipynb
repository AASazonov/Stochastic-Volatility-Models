{
 "cells": [
  {
   "cell_type": "code",
   "execution_count": 34,
   "metadata": {},
   "outputs": [],
   "source": [
    "import numpy as np\n",
    "import pandas as pd\n",
    "import matplotlib.pyplot as plt\n",
    "\n",
    "from ipywidgets import interact\n",
    "\n",
    "from ipywidgets import widgets\n",
    "from tqdm.auto import tqdm\n",
    "\n",
    "from vol.vol import Heston\n",
    "\n",
    "from hestonmc import MarketState, HestonParameters, mc_price, simulate_heston_euler, simulate_heston_andersen_qe, simulate_heston_andersen_tg, european_call_payoff"
   ]
  },
  {
   "cell_type": "markdown",
   "metadata": {},
   "source": [
    "## Tests"
   ]
  },
  {
   "cell_type": "code",
   "execution_count": 60,
   "metadata": {},
   "outputs": [],
   "source": [
    "heston_params = HestonParameters(kappa = 1.3125, gamma = 0.5125, rho = -0.3937, vbar = 0.0641, v0 = 0.3) #from stoch vol\n",
    "#heston_params = HestonParameters(kappa = 1, gamma = 0.4, rho = -0.1, vbar = 0.2, v0 = 0.2) # from school\n",
    "#heston_params = HestonParameters(kappa = 0.5, gamma = 1, rho = -0.9, vbar = 0.04, v0 = 0.04) #  from andeson paper 1\n",
    "#heston_params = HestonParameters(kappa = 0.3, gamma = 0.9, rho = -0.5, vbar = 0.04, v0 = 0.04) #  from andeson paper 2\n",
    "#heston_params = HestonParameters(kappa = 1, gamma = 1, rho = -0.3, vbar = 0.04, v0 = 0.09) #  from andeson paper 3\n",
    " \n",
    "state         = MarketState(stock_price = 100., interest_rate = 0.)\n",
    "model         = Heston(state.stock_price, heston_params.v0, heston_params.kappa, heston_params.vbar, heston_params.gamma, heston_params.rho, state.interest_rate)\n",
    "\n",
    "r_x           = np.load(r\"Data/anderson tg/r_x 0 66 3333332.npy\")\n",
    "f_nu_y        = np.load(r\"Data/anderson tg/f_nu_y 0 66 3333332.npy\")\n",
    "f_sigma_y     = np.load(r\"Data/anderson tg/f_sigma_y 0 66 3333332.npy\")\n",
    "kwargs        = {'x_grid' : r_x, 'f_nu_grid' : f_nu_y, 'f_sigma_grid' : f_sigma_y }"
   ]
  },
  {
   "cell_type": "code",
   "execution_count": 38,
   "metadata": {},
   "outputs": [
    {
     "data": {
      "text/plain": [
       "33.75"
      ]
     },
     "execution_count": 38,
     "metadata": {},
     "output_type": "execute_result"
    }
   ],
   "source": [
    "heston_params.gamma**2/(2*heston_params.kappa*heston_params.vbar)"
   ]
  },
  {
   "cell_type": "markdown",
   "metadata": {},
   "source": [
    "### At the money"
   ]
  },
  {
   "cell_type": "code",
   "execution_count": 61,
   "metadata": {},
   "outputs": [],
   "source": [
    "strike = 100.\n",
    "T = 1\n",
    "ec_payoff = european_call_payoff(T, strike, state.interest_rate)\n",
    "\n",
    "common_mc_params = {\"absolute_error\": 5e-2, \"state\": state, \"heston_params\": heston_params, \"payoff\": ec_payoff, \"T\": T, \"random_seed\": 42, \"verbose\": True}"
   ]
  },
  {
   "cell_type": "code",
   "execution_count": 62,
   "metadata": {},
   "outputs": [
    {
     "data": {
      "text/plain": [
       "16.69960076395676"
      ]
     },
     "execution_count": 62,
     "metadata": {},
     "output_type": "execute_result"
    }
   ],
   "source": [
    "model.call_price(T, strike)"
   ]
  },
  {
   "cell_type": "code",
   "execution_count": 66,
   "metadata": {},
   "outputs": [
    {
     "name": "stdout",
     "output_type": "stream",
     "text": [
      "Random seed:                42\n",
      "Number of simulate calls:   534\n",
      "MAX_ITER:                   100000\n",
      "Number of paths:            5340000\n",
      "Absolute error:             0.05\n",
      "Length of the conf intl:    0.04999157514911727\n",
      "Confidence level:           0.05\n",
      "\n"
     ]
    },
    {
     "data": {
      "text/plain": [
       "16.66920035640339"
      ]
     },
     "execution_count": 66,
     "metadata": {},
     "output_type": "execute_result"
    }
   ],
   "source": [
    "mc_price(N_T = 100, simulate = simulate_heston_euler,batch_size=5_000, **common_mc_params)"
   ]
  },
  {
   "cell_type": "code",
   "execution_count": 67,
   "metadata": {},
   "outputs": [
    {
     "name": "stdout",
     "output_type": "stream",
     "text": [
      "Random seed:                42\n",
      "Number of simulate calls:   525\n",
      "MAX_ITER:                   100000\n",
      "Number of paths:            5250000\n",
      "Absolute error:             0.05\n",
      "Length of the conf intl:    0.049959737958217156\n",
      "Confidence level:           0.05\n",
      "\n"
     ]
    },
    {
     "data": {
      "text/plain": [
       "16.663420389386275"
      ]
     },
     "execution_count": 67,
     "metadata": {},
     "output_type": "execute_result"
    }
   ],
   "source": [
    "mc_price(N_T = 50, simulate = simulate_heston_andersen_qe, batch_size=5_000, **common_mc_params)"
   ]
  },
  {
   "cell_type": "code",
   "execution_count": 68,
   "metadata": {},
   "outputs": [
    {
     "name": "stdout",
     "output_type": "stream",
     "text": [
      "Random seed:                42\n",
      "Number of simulate calls:   525\n",
      "MAX_ITER:                   100000\n",
      "Number of paths:            5250000\n",
      "Absolute error:             0.05\n",
      "Length of the conf intl:    0.04997464496673394\n",
      "Confidence level:           0.05\n",
      "\n"
     ]
    },
    {
     "data": {
      "text/plain": [
       "16.674255735911515"
      ]
     },
     "execution_count": 68,
     "metadata": {},
     "output_type": "execute_result"
    }
   ],
   "source": [
    "mc_price(N_T = 50, simulate = simulate_heston_andersen_tg, batch_size=5_000, **common_mc_params, **kwargs)"
   ]
  },
  {
   "attachments": {},
   "cell_type": "markdown",
   "metadata": {},
   "source": [
    "Optimal batch_size for each scheme"
   ]
  },
  {
   "cell_type": "code",
   "execution_count": 17,
   "metadata": {},
   "outputs": [
    {
     "name": "stdout",
     "output_type": "stream",
     "text": [
      "simulate_heston_euler\n",
      "Batch size: 1000\n",
      "2.29 s ± 20 ms per loop (mean ± std. dev. of 10 runs, 1 loop each)\n",
      "Batch size: 2000\n",
      "1.96 s ± 20.9 ms per loop (mean ± std. dev. of 10 runs, 1 loop each)\n",
      "Batch size: 3000\n",
      "1.86 s ± 14.1 ms per loop (mean ± std. dev. of 10 runs, 1 loop each)\n",
      "Batch size: 4000\n",
      "1.83 s ± 38.1 ms per loop (mean ± std. dev. of 10 runs, 1 loop each)\n",
      "Batch size: 5000\n",
      "1.85 s ± 40.2 ms per loop (mean ± std. dev. of 10 runs, 1 loop each)\n",
      "Batch size: 6000\n",
      "1.85 s ± 31.3 ms per loop (mean ± std. dev. of 10 runs, 1 loop each)\n",
      "Batch size: 7000\n",
      "2 s ± 22.3 ms per loop (mean ± std. dev. of 10 runs, 1 loop each)\n",
      "Batch size: 8000\n",
      "2.15 s ± 26.4 ms per loop (mean ± std. dev. of 10 runs, 1 loop each)\n",
      "Batch size: 9000\n",
      "2.25 s ± 30.7 ms per loop (mean ± std. dev. of 10 runs, 1 loop each)\n",
      "Batch size: 10000\n",
      "2.36 s ± 28.8 ms per loop (mean ± std. dev. of 10 runs, 1 loop each)\n",
      "Batch size: 11000\n",
      "2.5 s ± 68.4 ms per loop (mean ± std. dev. of 10 runs, 1 loop each)\n",
      "Batch size: 12000\n",
      "2.5 s ± 18.2 ms per loop (mean ± std. dev. of 10 runs, 1 loop each)\n",
      "Batch size: 13000\n",
      "2.54 s ± 29.6 ms per loop (mean ± std. dev. of 10 runs, 1 loop each)\n",
      "Batch size: 14000\n",
      "2.57 s ± 18 ms per loop (mean ± std. dev. of 10 runs, 1 loop each)\n",
      "Batch size: 15000\n",
      "3.22 s ± 28.9 ms per loop (mean ± std. dev. of 10 runs, 1 loop each)\n",
      "\n",
      "\n",
      "\n",
      "simulate_heston_andersen_qe\n",
      "Batch size: 1000\n",
      "1.97 s ± 10 ms per loop (mean ± std. dev. of 10 runs, 1 loop each)\n",
      "Batch size: 2000\n",
      "1.6 s ± 9.15 ms per loop (mean ± std. dev. of 10 runs, 1 loop each)\n",
      "Batch size: 3000\n",
      "1.49 s ± 21.7 ms per loop (mean ± std. dev. of 10 runs, 1 loop each)\n",
      "Batch size: 4000\n",
      "1.42 s ± 23.9 ms per loop (mean ± std. dev. of 10 runs, 1 loop each)\n",
      "Batch size: 5000\n",
      "1.41 s ± 19.2 ms per loop (mean ± std. dev. of 10 runs, 1 loop each)\n",
      "Batch size: 6000\n",
      "1.39 s ± 13.9 ms per loop (mean ± std. dev. of 10 runs, 1 loop each)\n",
      "Batch size: 7000\n",
      "1.38 s ± 23.5 ms per loop (mean ± std. dev. of 10 runs, 1 loop each)\n",
      "Batch size: 8000\n",
      "1.39 s ± 22.5 ms per loop (mean ± std. dev. of 10 runs, 1 loop each)\n",
      "Batch size: 9000\n",
      "1.39 s ± 18.4 ms per loop (mean ± std. dev. of 10 runs, 1 loop each)\n",
      "Batch size: 10000\n",
      "1.39 s ± 19.8 ms per loop (mean ± std. dev. of 10 runs, 1 loop each)\n",
      "Batch size: 11000\n",
      "1.4 s ± 23.9 ms per loop (mean ± std. dev. of 10 runs, 1 loop each)\n",
      "Batch size: 12000\n",
      "1.41 s ± 17.5 ms per loop (mean ± std. dev. of 10 runs, 1 loop each)\n",
      "Batch size: 13000\n",
      "1.42 s ± 20.2 ms per loop (mean ± std. dev. of 10 runs, 1 loop each)\n",
      "Batch size: 14000\n",
      "1.4 s ± 24.8 ms per loop (mean ± std. dev. of 10 runs, 1 loop each)\n",
      "Batch size: 15000\n",
      "1.41 s ± 29.6 ms per loop (mean ± std. dev. of 10 runs, 1 loop each)\n",
      "\n",
      "\n",
      "\n",
      "simulate_heston_andersen_tg\n",
      "Batch size: 1000\n",
      "1.64 s ± 14.4 ms per loop (mean ± std. dev. of 10 runs, 1 loop each)\n",
      "Batch size: 2000\n",
      "1.35 s ± 7.27 ms per loop (mean ± std. dev. of 10 runs, 1 loop each)\n",
      "Batch size: 3000\n",
      "1.25 s ± 10 ms per loop (mean ± std. dev. of 10 runs, 1 loop each)\n",
      "Batch size: 4000\n",
      "1.2 s ± 9.22 ms per loop (mean ± std. dev. of 10 runs, 1 loop each)\n",
      "Batch size: 5000\n",
      "1.17 s ± 17.3 ms per loop (mean ± std. dev. of 10 runs, 1 loop each)\n",
      "Batch size: 6000\n",
      "1.16 s ± 16.3 ms per loop (mean ± std. dev. of 10 runs, 1 loop each)\n",
      "Batch size: 7000\n",
      "1.15 s ± 13.9 ms per loop (mean ± std. dev. of 10 runs, 1 loop each)\n",
      "Batch size: 8000\n",
      "1.16 s ± 21.8 ms per loop (mean ± std. dev. of 10 runs, 1 loop each)\n",
      "Batch size: 9000\n",
      "1.17 s ± 21.5 ms per loop (mean ± std. dev. of 10 runs, 1 loop each)\n",
      "Batch size: 10000\n",
      "1.17 s ± 22.3 ms per loop (mean ± std. dev. of 10 runs, 1 loop each)\n",
      "Batch size: 11000\n",
      "1.18 s ± 31 ms per loop (mean ± std. dev. of 10 runs, 1 loop each)\n",
      "Batch size: 12000\n",
      "1.19 s ± 24.6 ms per loop (mean ± std. dev. of 10 runs, 1 loop each)\n",
      "Batch size: 13000\n",
      "1.21 s ± 20.3 ms per loop (mean ± std. dev. of 10 runs, 1 loop each)\n",
      "Batch size: 14000\n",
      "1.21 s ± 21.5 ms per loop (mean ± std. dev. of 10 runs, 1 loop each)\n",
      "Batch size: 15000\n",
      "1.23 s ± 12.2 ms per loop (mean ± std. dev. of 10 runs, 1 loop each)\n",
      "\n",
      "\n",
      "\n"
     ]
    }
   ],
   "source": [
    "common_mc_params = {\"absolute_error\": 5e-2,  \"state\": state, \"heston_params\": heston_params, \"payoff\": ec_payoff, \"T\": T, \"random_seed\": 42, \"verbose\": False}\n",
    "for scheme in [[simulate_heston_euler, 100], [simulate_heston_andersen_qe, 50], [simulate_heston_andersen_tg, 50]]:\n",
    "    print(scheme[0].__name__)\n",
    "    for batch_size in range(1_000, 16_000, 1_000):\n",
    "        print(f\"Batch size: {batch_size}\")\n",
    "        if scheme[0] == simulate_heston_andersen_tg:\n",
    "            %timeit -r10 mc_price(N_T = scheme[1], simulate = scheme[0], batch_size=batch_size, **common_mc_params, **kwargs)\n",
    "        else:\n",
    "            %timeit -r10 mc_price(N_T = scheme[1], simulate = scheme[0], batch_size=batch_size, **common_mc_params)\n",
    "\n",
    "    print(\"\\n\\n\")"
   ]
  },
  {
   "cell_type": "code",
   "execution_count": 6,
   "metadata": {},
   "outputs": [],
   "source": [
    "import pandas as pd"
   ]
  },
  {
   "cell_type": "code",
   "execution_count": 19,
   "metadata": {},
   "outputs": [],
   "source": [
    "MC_compare_models = pd.DataFrame(columns=['scheme' , 'N_dt',  'result'])"
   ]
  },
  {
   "cell_type": "code",
   "execution_count": 20,
   "metadata": {},
   "outputs": [],
   "source": [
    "common_mc_params = {\"absolute_error\": 5e-2,  \"state\": state, \"heston_params\": heston_params, \"payoff\": ec_payoff, \"T\": T, \"random_seed\": 42, \"verbose\": False}\n",
    "i = 0\n",
    "for scheme in [simulate_heston_euler, simulate_heston_andersen_qe, simulate_heston_andersen_tg]:\n",
    "    for N_dt in range(4, 132, 4):\n",
    "        for _ in range(150):\n",
    "            if scheme == simulate_heston_andersen_tg:\n",
    "                MC_compare_models.loc[i] = (scheme.__name__, N_dt, mc_price(N_T = N_dt, simulate = scheme, batch_size=5000, **common_mc_params, **kwargs))\n",
    "            else:\n",
    "                MC_compare_models.loc[i] = (scheme.__name__, N_dt, mc_price(N_T = N_dt, simulate = scheme, batch_size=5000, **common_mc_params))\n",
    "            i +=1"
   ]
  },
  {
   "cell_type": "code",
   "execution_count": 41,
   "metadata": {},
   "outputs": [],
   "source": [
    "MC_compare_models = pd.read_csv(r\"Data/evaluation/MC_compare_models.csv\")"
   ]
  },
  {
   "cell_type": "code",
   "execution_count": 56,
   "metadata": {},
   "outputs": [],
   "source": [
    "tmp = MC_compare_models.groupby(['scheme', 'N_dt'] ).agg([np.mean, np.std])['result']"
   ]
  },
  {
   "cell_type": "code",
   "execution_count": 57,
   "metadata": {},
   "outputs": [
    {
     "data": {
      "text/plain": [
       "<AxesSubplot:title={'center':'MC_compare_models'}, xlabel='scheme,N_dt'>"
      ]
     },
     "execution_count": 57,
     "metadata": {},
     "output_type": "execute_result"
    },
    {
     "data": {
      "image/png": "[encoded data removed]",
      "text/plain": [
       "<Figure size 2000x1000 with 1 Axes>"
      ]
     },
     "metadata": {},
     "output_type": "display_data"
    }
   ],
   "source": [
    "tmp['mean'] = tmp['mean'] - model.call_price(T, strike)\n",
    "tmp['mean'].plot(kind='bar', yerr=tmp['std'], figsize=(20,10), title='MC_compare_models')"
   ]
  },
  {
   "cell_type": "code",
   "execution_count": 21,
   "metadata": {},
   "outputs": [],
   "source": [
    "MC_compare_models.to_csv('MC_compare_models.csv')"
   ]
  },
  {
   "cell_type": "code",
   "execution_count": 113,
   "metadata": {},
   "outputs": [],
   "source": [
    "MC_compare_models_grid = pd.DataFrame(columns=['scheme' , 'strike', 'T', 'true' ,   'mean', 'std'])"
   ]
  },
  {
   "cell_type": "code",
   "execution_count": 115,
   "metadata": {},
   "outputs": [],
   "source": [
    "\n",
    "num_per_point = 2\n",
    "i = 0\n",
    "for scheme in [simulate_heston_euler, simulate_heston_andersen_qe, simulate_heston_andersen_tg]:\n",
    "    for strike in np.linspace(80, 120, 10):\n",
    "        for T in np.linspace(0.1, 1, 10):\n",
    "            T = float(T/10)\n",
    "            res = []\n",
    "            ec_payoff = european_call_payoff(T, strike, state.interest_rate)\n",
    "            common_mc_params = {\"absolute_error\": 5e-2, \"state\": state, \"heston_params\": heston_params, \"payoff\": ec_payoff, \"T\": T, \"random_seed\": 42, \"verbose\": False}\n",
    "            for _ in range(num_per_point):\n",
    "\n",
    "                if scheme == simulate_heston_andersen_tg:\n",
    "                    res.append(mc_price(N_T = 50, simulate = scheme, batch_size=5000, **common_mc_params, **kwargs))\n",
    "                elif scheme == simulate_heston_euler:\n",
    "                    res.append(mc_price(N_T = 100, simulate = scheme, batch_size=5000, **common_mc_params))\n",
    "                elif scheme == simulate_heston_andersen_qe:\n",
    "                    res.append(mc_price(N_T = 50, simulate = scheme, batch_size=5000, **common_mc_params))\n",
    "            MC_compare_models_grid.loc[i] = (scheme.__name__, strike, T, model.call_price(T, strike), np.mean(res), np.std(res))\n",
    "            i +=1"
   ]
  },
  {
   "cell_type": "code",
   "execution_count": 141,
   "metadata": {},
   "outputs": [],
   "source": [
    "MC_compare_models_grid.to_csv('MC_compare_models_grid.csv')"
   ]
  },
  {
   "cell_type": "code",
   "execution_count": 7,
   "metadata": {},
   "outputs": [],
   "source": [
    "MC_compare_models_grid = pd.read_csv('MC_compare_models_grid.csv')"
   ]
  },
  {
   "cell_type": "code",
   "execution_count": 25,
   "metadata": {},
   "outputs": [
    {
     "data": {
      "text/html": [
       "<div>\n",
       "<style scoped>\n",
       "    .dataframe tbody tr th:only-of-type {\n",
       "        vertical-align: middle;\n",
       "    }\n",
       "\n",
       "    .dataframe tbody tr th {\n",
       "        vertical-align: top;\n",
       "    }\n",
       "\n",
       "    .dataframe thead th {\n",
       "        text-align: right;\n",
       "    }\n",
       "</style>\n",
       "<table border=\"1\" class=\"dataframe\">\n",
       "  <thead>\n",
       "    <tr style=\"text-align: right;\">\n",
       "      <th>T</th>\n",
       "      <th>0.1</th>\n",
       "      <th>0.2</th>\n",
       "      <th>0.3</th>\n",
       "      <th>0.4</th>\n",
       "      <th>0.5</th>\n",
       "      <th>0.6</th>\n",
       "      <th>0.7</th>\n",
       "      <th>0.8</th>\n",
       "      <th>0.9</th>\n",
       "      <th>1.0</th>\n",
       "    </tr>\n",
       "    <tr>\n",
       "      <th>strike</th>\n",
       "      <th></th>\n",
       "      <th></th>\n",
       "      <th></th>\n",
       "      <th></th>\n",
       "      <th></th>\n",
       "      <th></th>\n",
       "      <th></th>\n",
       "      <th></th>\n",
       "      <th></th>\n",
       "      <th></th>\n",
       "    </tr>\n",
       "  </thead>\n",
       "  <tbody>\n",
       "    <tr>\n",
       "      <th>85</th>\n",
       "      <td>16.468112</td>\n",
       "      <td>18.174956</td>\n",
       "      <td>19.532771</td>\n",
       "      <td>20.625552</td>\n",
       "      <td>21.550519</td>\n",
       "      <td>22.332203</td>\n",
       "      <td>22.995971</td>\n",
       "      <td>23.566372</td>\n",
       "      <td>24.089111</td>\n",
       "      <td>24.545769</td>\n",
       "    </tr>\n",
       "    <tr>\n",
       "      <th>90</th>\n",
       "      <td>12.650948</td>\n",
       "      <td>14.723351</td>\n",
       "      <td>16.272476</td>\n",
       "      <td>17.479529</td>\n",
       "      <td>18.475317</td>\n",
       "      <td>19.311487</td>\n",
       "      <td>20.019792</td>\n",
       "      <td>20.630731</td>\n",
       "      <td>21.182393</td>\n",
       "      <td>21.658118</td>\n",
       "    </tr>\n",
       "    <tr>\n",
       "      <th>95</th>\n",
       "      <td>9.355494</td>\n",
       "      <td>11.713190</td>\n",
       "      <td>13.389183</td>\n",
       "      <td>14.677016</td>\n",
       "      <td>15.724589</td>\n",
       "      <td>16.607905</td>\n",
       "      <td>17.325401</td>\n",
       "      <td>17.982222</td>\n",
       "      <td>18.551199</td>\n",
       "      <td>19.052880</td>\n",
       "    </tr>\n",
       "    <tr>\n",
       "      <th>100</th>\n",
       "      <td>6.667335</td>\n",
       "      <td>9.134282</td>\n",
       "      <td>10.859212</td>\n",
       "      <td>12.190673</td>\n",
       "      <td>13.268413</td>\n",
       "      <td>14.169324</td>\n",
       "      <td>14.929257</td>\n",
       "      <td>15.581933</td>\n",
       "      <td>16.165246</td>\n",
       "      <td>16.673012</td>\n",
       "    </tr>\n",
       "    <tr>\n",
       "      <th>105</th>\n",
       "      <td>4.549369</td>\n",
       "      <td>7.001336</td>\n",
       "      <td>8.725293</td>\n",
       "      <td>10.045786</td>\n",
       "      <td>11.132874</td>\n",
       "      <td>12.023971</td>\n",
       "      <td>12.775523</td>\n",
       "      <td>13.443150</td>\n",
       "      <td>14.031471</td>\n",
       "      <td>14.530141</td>\n",
       "    </tr>\n",
       "    <tr>\n",
       "      <th>110</th>\n",
       "      <td>2.992315</td>\n",
       "      <td>5.262253</td>\n",
       "      <td>6.916464</td>\n",
       "      <td>8.198667</td>\n",
       "      <td>9.267407</td>\n",
       "      <td>10.141301</td>\n",
       "      <td>10.895954</td>\n",
       "      <td>11.536549</td>\n",
       "      <td>12.127461</td>\n",
       "      <td>12.630638</td>\n",
       "    </tr>\n",
       "    <tr>\n",
       "      <th>115</th>\n",
       "      <td>1.907261</td>\n",
       "      <td>3.882004</td>\n",
       "      <td>5.407551</td>\n",
       "      <td>6.649103</td>\n",
       "      <td>7.644796</td>\n",
       "      <td>8.509682</td>\n",
       "      <td>9.244054</td>\n",
       "      <td>9.884885</td>\n",
       "      <td>10.454079</td>\n",
       "      <td>10.939673</td>\n",
       "    </tr>\n",
       "  </tbody>\n",
       "</table>\n",
       "</div>"
      ],
      "text/plain": [
       "T             0.1        0.2        0.3        0.4        0.5        0.6  \\\n",
       "strike                                                                     \n",
       "85      16.468112  18.174956  19.532771  20.625552  21.550519  22.332203   \n",
       "90      12.650948  14.723351  16.272476  17.479529  18.475317  19.311487   \n",
       "95       9.355494  11.713190  13.389183  14.677016  15.724589  16.607905   \n",
       "100      6.667335   9.134282  10.859212  12.190673  13.268413  14.169324   \n",
       "105      4.549369   7.001336   8.725293  10.045786  11.132874  12.023971   \n",
       "110      2.992315   5.262253   6.916464   8.198667   9.267407  10.141301   \n",
       "115      1.907261   3.882004   5.407551   6.649103   7.644796   8.509682   \n",
       "\n",
       "T             0.7        0.8        0.9        1.0  \n",
       "strike                                              \n",
       "85      22.995971  23.566372  24.089111  24.545769  \n",
       "90      20.019792  20.630731  21.182393  21.658118  \n",
       "95      17.325401  17.982222  18.551199  19.052880  \n",
       "100     14.929257  15.581933  16.165246  16.673012  \n",
       "105     12.775523  13.443150  14.031471  14.530141  \n",
       "110     10.895954  11.536549  12.127461  12.630638  \n",
       "115      9.244054   9.884885  10.454079  10.939673  "
      ]
     },
     "execution_count": 25,
     "metadata": {},
     "output_type": "execute_result"
    }
   ],
   "source": [
    "MC_compare_models_grid[MC_compare_models_grid['scheme'] == 'simulate_heston_euler'][['strike', 'T', 'mean']].pivot(index='strike', columns='T', values='mean')"
   ]
  },
  {
   "cell_type": "code",
   "execution_count": 27,
   "metadata": {},
   "outputs": [
    {
     "data": {
      "application/vnd.plotly.v1+json": {
       "config": {
        "plotlyServerURL": "https://plot.ly"
       },
       "data": [
        {
         "type": "surface",
         "z": [
          [
           16.468112499833538,
           18.174955758679573,
           19.532771456875786,
           20.62555205333311,
           21.550518724605872,
           22.332203311875077,
           22.995971304041472,
           23.566371834572596,
           24.089111173398194,
           24.545769200509195
          ],
          [
           12.650947614146526,
           14.723351164996227,
           16.272476470614805,
           17.479528788042856,
           18.475316796848187,
           19.31148678823339,
           20.01979157454625,
           20.630731348496973,
           21.182392968176984,
           21.658118023462897
          ],
          [
           9.355493651182572,
           11.713189615321474,
           13.389182857808752,
           14.677015508962658,
           15.724589071737636,
           16.6079050462989,
           17.325401389002153,
           17.98222234569029,
           18.551198605360057,
           19.052880124654923
          ],
          [
           6.667335214304272,
           9.134282398182576,
           10.859211824001637,
           12.1906730664765,
           13.268413104947154,
           14.169324329374437,
           14.92925696139332,
           15.58193250997913,
           16.165246362998552,
           16.673011979647782
          ],
          [
           4.549368545965599,
           7.001336393526547,
           8.725292967483822,
           10.045785899426068,
           11.132873659885584,
           12.023971164383465,
           12.775523425154184,
           13.44315041550144,
           14.031470858148776,
           14.530140532884186
          ],
          [
           2.9923150121579027,
           5.26225292412561,
           6.916464127854468,
           8.198667254077398,
           9.267406925210796,
           10.141301180558328,
           10.895953593183847,
           11.536549242017552,
           12.12746116868048,
           12.630637715117434
          ],
          [
           1.9072605119725463,
           3.8820041090169695,
           5.407551369903071,
           6.6491030030063945,
           7.644796364860908,
           8.509681686832806,
           9.244054172537975,
           9.884884850400764,
           10.454079374101134,
           10.939673226819504
          ]
         ]
        }
       ],
       "layout": {
        "template": {
         "data": {
          "bar": [
           {
            "error_x": {
             "color": "#2a3f5f"
            },
            "error_y": {
             "color": "#2a3f5f"
            },
            "marker": {
             "line": {
              "color": "#E5ECF6",
              "width": 0.5
             },
             "pattern": {
              "fillmode": "overlay",
              "size": 10,
              "solidity": 0.2
             }
            },
            "type": "bar"
           }
          ],
          "barpolar": [
           {
            "marker": {
             "line": {
              "color": "#E5ECF6",
              "width": 0.5
             },
             "pattern": {
              "fillmode": "overlay",
              "size": 10,
              "solidity": 0.2
             }
            },
            "type": "barpolar"
           }
          ],
          "carpet": [
           {
            "aaxis": {
             "endlinecolor": "#2a3f5f",
             "gridcolor": "white",
             "linecolor": "white",
             "minorgridcolor": "white",
             "startlinecolor": "#2a3f5f"
            },
            "baxis": {
             "endlinecolor": "#2a3f5f",
             "gridcolor": "white",
             "linecolor": "white",
             "minorgridcolor": "white",
             "startlinecolor": "#2a3f5f"
            },
            "type": "carpet"
           }
          ],
          "choropleth": [
           {
            "colorbar": {
             "outlinewidth": 0,
             "ticks": ""
            },
            "type": "choropleth"
           }
          ],
          "contour": [
           {
            "colorbar": {
             "outlinewidth": 0,
             "ticks": ""
            },
            "colorscale": [
             [
              0,
              "#0d0887"
             ],
             [
              0.1111111111111111,
              "#46039f"
             ],
             [
              0.2222222222222222,
              "#7201a8"
             ],
             [
              0.3333333333333333,
              "#9c179e"
             ],
             [
              0.4444444444444444,
              "#bd3786"
             ],
             [
              0.5555555555555556,
              "#d8576b"
             ],
             [
              0.6666666666666666,
              "#ed7953"
             ],
             [
              0.7777777777777778,
              "#fb9f3a"
             ],
             [
              0.8888888888888888,
              "#fdca26"
             ],
             [
              1,
              "#f0f921"
             ]
            ],
            "type": "contour"
           }
          ],
          "contourcarpet": [
           {
            "colorbar": {
             "outlinewidth": 0,
             "ticks": ""
            },
            "type": "contourcarpet"
           }
          ],
          "heatmap": [
           {
            "colorbar": {
             "outlinewidth": 0,
             "ticks": ""
            },
            "colorscale": [
             [
              0,
              "#0d0887"
             ],
             [
              0.1111111111111111,
              "#46039f"
             ],
             [
              0.2222222222222222,
              "#7201a8"
             ],
             [
              0.3333333333333333,
              "#9c179e"
             ],
             [
              0.4444444444444444,
              "#bd3786"
             ],
             [
              0.5555555555555556,
              "#d8576b"
             ],
             [
              0.6666666666666666,
              "#ed7953"
             ],
             [
              0.7777777777777778,
              "#fb9f3a"
             ],
             [
              0.8888888888888888,
              "#fdca26"
             ],
             [
              1,
              "#f0f921"
             ]
            ],
            "type": "heatmap"
           }
          ],
          "heatmapgl": [
           {
            "colorbar": {
             "outlinewidth": 0,
             "ticks": ""
            },
            "colorscale": [
             [
              0,
              "#0d0887"
             ],
             [
              0.1111111111111111,
              "#46039f"
             ],
             [
              0.2222222222222222,
              "#7201a8"
             ],
             [
              0.3333333333333333,
              "#9c179e"
             ],
             [
              0.4444444444444444,
              "#bd3786"
             ],
             [
              0.5555555555555556,
              "#d8576b"
             ],
             [
              0.6666666666666666,
              "#ed7953"
             ],
             [
              0.7777777777777778,
              "#fb9f3a"
             ],
             [
              0.8888888888888888,
              "#fdca26"
             ],
             [
              1,
              "#f0f921"
             ]
            ],
            "type": "heatmapgl"
           }
          ],
          "histogram": [
           {
            "marker": {
             "pattern": {
              "fillmode": "overlay",
              "size": 10,
              "solidity": 0.2
             }
            },
            "type": "histogram"
           }
          ],
          "histogram2d": [
           {
            "colorbar": {
             "outlinewidth": 0,
             "ticks": ""
            },
            "colorscale": [
             [
              0,
              "#0d0887"
             ],
             [
              0.1111111111111111,
              "#46039f"
             ],
             [
              0.2222222222222222,
              "#7201a8"
             ],
             [
              0.3333333333333333,
              "#9c179e"
             ],
             [
              0.4444444444444444,
              "#bd3786"
             ],
             [
              0.5555555555555556,
              "#d8576b"
             ],
             [
              0.6666666666666666,
              "#ed7953"
             ],
             [
              0.7777777777777778,
              "#fb9f3a"
             ],
             [
              0.8888888888888888,
              "#fdca26"
             ],
             [
              1,
              "#f0f921"
             ]
            ],
            "type": "histogram2d"
           }
          ],
          "histogram2dcontour": [
           {
            "colorbar": {
             "outlinewidth": 0,
             "ticks": ""
            },
            "colorscale": [
             [
              0,
              "#0d0887"
             ],
             [
              0.1111111111111111,
              "#46039f"
             ],
             [
              0.2222222222222222,
              "#7201a8"
             ],
             [
              0.3333333333333333,
              "#9c179e"
             ],
             [
              0.4444444444444444,
              "#bd3786"
             ],
             [
              0.5555555555555556,
              "#d8576b"
             ],
             [
              0.6666666666666666,
              "#ed7953"
             ],
             [
              0.7777777777777778,
              "#fb9f3a"
             ],
             [
              0.8888888888888888,
              "#fdca26"
             ],
             [
              1,
              "#f0f921"
             ]
            ],
            "type": "histogram2dcontour"
           }
          ],
          "mesh3d": [
           {
            "colorbar": {
             "outlinewidth": 0,
             "ticks": ""
            },
            "type": "mesh3d"
           }
          ],
          "parcoords": [
           {
            "line": {
             "colorbar": {
              "outlinewidth": 0,
              "ticks": ""
             }
            },
            "type": "parcoords"
           }
          ],
          "pie": [
           {
            "automargin": true,
            "type": "pie"
           }
          ],
          "scatter": [
           {
            "fillpattern": {
             "fillmode": "overlay",
             "size": 10,
             "solidity": 0.2
            },
            "type": "scatter"
           }
          ],
          "scatter3d": [
           {
            "line": {
             "colorbar": {
              "outlinewidth": 0,
              "ticks": ""
             }
            },
            "marker": {
             "colorbar": {
              "outlinewidth": 0,
              "ticks": ""
             }
            },
            "type": "scatter3d"
           }
          ],
          "scattercarpet": [
           {
            "marker": {
             "colorbar": {
              "outlinewidth": 0,
              "ticks": ""
             }
            },
            "type": "scattercarpet"
           }
          ],
          "scattergeo": [
           {
            "marker": {
             "colorbar": {
              "outlinewidth": 0,
              "ticks": ""
             }
            },
            "type": "scattergeo"
           }
          ],
          "scattergl": [
           {
            "marker": {
             "colorbar": {
              "outlinewidth": 0,
              "ticks": ""
             }
            },
            "type": "scattergl"
           }
          ],
          "scattermapbox": [
           {
            "marker": {
             "colorbar": {
              "outlinewidth": 0,
              "ticks": ""
             }
            },
            "type": "scattermapbox"
           }
          ],
          "scatterpolar": [
           {
            "marker": {
             "colorbar": {
              "outlinewidth": 0,
              "ticks": ""
             }
            },
            "type": "scatterpolar"
           }
          ],
          "scatterpolargl": [
           {
            "marker": {
             "colorbar": {
              "outlinewidth": 0,
              "ticks": ""
             }
            },
            "type": "scatterpolargl"
           }
          ],
          "scatterternary": [
           {
            "marker": {
             "colorbar": {
              "outlinewidth": 0,
              "ticks": ""
             }
            },
            "type": "scatterternary"
           }
          ],
          "surface": [
           {
            "colorbar": {
             "outlinewidth": 0,
             "ticks": ""
            },
            "colorscale": [
             [
              0,
              "#0d0887"
             ],
             [
              0.1111111111111111,
              "#46039f"
             ],
             [
              0.2222222222222222,
              "#7201a8"
             ],
             [
              0.3333333333333333,
              "#9c179e"
             ],
             [
              0.4444444444444444,
              "#bd3786"
             ],
             [
              0.5555555555555556,
              "#d8576b"
             ],
             [
              0.6666666666666666,
              "#ed7953"
             ],
             [
              0.7777777777777778,
              "#fb9f3a"
             ],
             [
              0.8888888888888888,
              "#fdca26"
             ],
             [
              1,
              "#f0f921"
             ]
            ],
            "type": "surface"
           }
          ],
          "table": [
           {
            "cells": {
             "fill": {
              "color": "#EBF0F8"
             },
             "line": {
              "color": "white"
             }
            },
            "header": {
             "fill": {
              "color": "#C8D4E3"
             },
             "line": {
              "color": "white"
             }
            },
            "type": "table"
           }
          ]
         },
         "layout": {
          "annotationdefaults": {
           "arrowcolor": "#2a3f5f",
           "arrowhead": 0,
           "arrowwidth": 1
          },
          "autotypenumbers": "strict",
          "coloraxis": {
           "colorbar": {
            "outlinewidth": 0,
            "ticks": ""
           }
          },
          "colorscale": {
           "diverging": [
            [
             0,
             "#8e0152"
            ],
            [
             0.1,
             "#c51b7d"
            ],
            [
             0.2,
             "#de77ae"
            ],
            [
             0.3,
             "#f1b6da"
            ],
            [
             0.4,
             "#fde0ef"
            ],
            [
             0.5,
             "#f7f7f7"
            ],
            [
             0.6,
             "#e6f5d0"
            ],
            [
             0.7,
             "#b8e186"
            ],
            [
             0.8,
             "#7fbc41"
            ],
            [
             0.9,
             "#4d9221"
            ],
            [
             1,
             "#276419"
            ]
           ],
           "sequential": [
            [
             0,
             "#0d0887"
            ],
            [
             0.1111111111111111,
             "#46039f"
            ],
            [
             0.2222222222222222,
             "#7201a8"
            ],
            [
             0.3333333333333333,
             "#9c179e"
            ],
            [
             0.4444444444444444,
             "#bd3786"
            ],
            [
             0.5555555555555556,
             "#d8576b"
            ],
            [
             0.6666666666666666,
             "#ed7953"
            ],
            [
             0.7777777777777778,
             "#fb9f3a"
            ],
            [
             0.8888888888888888,
             "#fdca26"
            ],
            [
             1,
             "#f0f921"
            ]
           ],
           "sequentialminus": [
            [
             0,
             "#0d0887"
            ],
            [
             0.1111111111111111,
             "#46039f"
            ],
            [
             0.2222222222222222,
             "#7201a8"
            ],
            [
             0.3333333333333333,
             "#9c179e"
            ],
            [
             0.4444444444444444,
             "#bd3786"
            ],
            [
             0.5555555555555556,
             "#d8576b"
            ],
            [
             0.6666666666666666,
             "#ed7953"
            ],
            [
             0.7777777777777778,
             "#fb9f3a"
            ],
            [
             0.8888888888888888,
             "#fdca26"
            ],
            [
             1,
             "#f0f921"
            ]
           ]
          },
          "colorway": [
           "#636efa",
           "#EF553B",
           "#00cc96",
           "#ab63fa",
           "#FFA15A",
           "#19d3f3",
           "#FF6692",
           "#B6E880",
           "#FF97FF",
           "#FECB52"
          ],
          "font": {
           "color": "#2a3f5f"
          },
          "geo": {
           "bgcolor": "white",
           "lakecolor": "white",
           "landcolor": "#E5ECF6",
           "showlakes": true,
           "showland": true,
           "subunitcolor": "white"
          },
          "hoverlabel": {
           "align": "left"
          },
          "hovermode": "closest",
          "mapbox": {
           "style": "light"
          },
          "paper_bgcolor": "white",
          "plot_bgcolor": "#E5ECF6",
          "polar": {
           "angularaxis": {
            "gridcolor": "white",
            "linecolor": "white",
            "ticks": ""
           },
           "bgcolor": "#E5ECF6",
           "radialaxis": {
            "gridcolor": "white",
            "linecolor": "white",
            "ticks": ""
           }
          },
          "scene": {
           "xaxis": {
            "backgroundcolor": "#E5ECF6",
            "gridcolor": "white",
            "gridwidth": 2,
            "linecolor": "white",
            "showbackground": true,
            "ticks": "",
            "zerolinecolor": "white"
           },
           "yaxis": {
            "backgroundcolor": "#E5ECF6",
            "gridcolor": "white",
            "gridwidth": 2,
            "linecolor": "white",
            "showbackground": true,
            "ticks": "",
            "zerolinecolor": "white"
           },
           "zaxis": {
            "backgroundcolor": "#E5ECF6",
            "gridcolor": "white",
            "gridwidth": 2,
            "linecolor": "white",
            "showbackground": true,
            "ticks": "",
            "zerolinecolor": "white"
           }
          },
          "shapedefaults": {
           "line": {
            "color": "#2a3f5f"
           }
          },
          "ternary": {
           "aaxis": {
            "gridcolor": "white",
            "linecolor": "white",
            "ticks": ""
           },
           "baxis": {
            "gridcolor": "white",
            "linecolor": "white",
            "ticks": ""
           },
           "bgcolor": "#E5ECF6",
           "caxis": {
            "gridcolor": "white",
            "linecolor": "white",
            "ticks": ""
           }
          },
          "title": {
           "x": 0.05
          },
          "xaxis": {
           "automargin": true,
           "gridcolor": "white",
           "linecolor": "white",
           "ticks": "",
           "title": {
            "standoff": 15
           },
           "zerolinecolor": "white",
           "zerolinewidth": 2
          },
          "yaxis": {
           "automargin": true,
           "gridcolor": "white",
           "linecolor": "white",
           "ticks": "",
           "title": {
            "standoff": 15
           },
           "zerolinecolor": "white",
           "zerolinewidth": 2
          }
         }
        }
       }
      }
     },
     "metadata": {},
     "output_type": "display_data"
    }
   ],
   "source": [
    "#3d plot the results for the euler scheme\n",
    "import plotly.graph_objects as go\n",
    "import plotly.express as px\n",
    "\n",
    "\"\"\"x= np.linspace(0.1, 1.1, 0.1)\n",
    "y= np.linspace(85, 120, 5)\"\"\"\n",
    "fig = go.Figure(data=[go.Surface(z=MC_compare_models_grid[MC_compare_models_grid['scheme'] == 'simulate_heston_euler'][['strike', 'T', 'mean']].pivot(index='strike', columns='T', values='mean'))])\n",
    "fig.show()"
   ]
  },
  {
   "attachments": {},
   "cell_type": "markdown",
   "metadata": {},
   "source": [
    "Time for each scheme"
   ]
  },
  {
   "cell_type": "code",
   "execution_count": 10,
   "metadata": {},
   "outputs": [
    {
     "name": "stdout",
     "output_type": "stream",
     "text": [
      "simulate_heston_euler\n",
      "2.58 s ± 40.8 ms per loop (mean ± std. dev. of 10 runs, 1 loop each)\n",
      "\n",
      "\n",
      "\n",
      "simulate_heston_andersen_qe\n",
      "1.61 s ± 19.8 ms per loop (mean ± std. dev. of 10 runs, 1 loop each)\n",
      "\n",
      "\n",
      "\n",
      "simulate_heston_andersen_tg\n",
      "1.54 s ± 23.5 ms per loop (mean ± std. dev. of 10 runs, 1 loop each)\n",
      "\n",
      "\n",
      "\n"
     ]
    }
   ],
   "source": [
    "common_mc_params = {\"absolute_error\": 5e-2, \"batch_size\": 100_000, \"state\": state, \"heston_params\": heston_params, \"payoff\": ec_payoff, \"T\": T, \"random_seed\": 42, \"verbose\": False}\n",
    "for scheme in [[simulate_heston_euler, 100], [simulate_heston_andersen_qe, 50], [simulate_heston_andersen_tg, 50]]:\n",
    "    print(scheme[0].__name__)\n",
    "    if scheme[0] == simulate_heston_andersen_tg:\n",
    "        %timeit -r10 mc_price(N_T = scheme[1], simulate = scheme[0], **common_mc_params, **kwargs)\n",
    "    else:\n",
    "        %timeit -r10 mc_price(N_T = scheme[1], simulate = scheme[0], **common_mc_params)\n",
    "\n",
    "    print(\"\\n\\n\")"
   ]
  },
  {
   "attachments": {},
   "cell_type": "markdown",
   "metadata": {},
   "source": [
    "### Out of the money"
   ]
  },
  {
   "cell_type": "code",
   "execution_count": 16,
   "metadata": {},
   "outputs": [],
   "source": [
    "strike = 150.\n",
    "T = 1.\n",
    "ec_payoff = european_call_payoff(T, strike, state.interest_rate)\n",
    "\n",
    "common_mc_params = {\"absolute_error\": 5e-2, \"batch_size\": 100_000, \"state\": state, \"heston_params\": heston_params, \"payoff\": ec_payoff, \"T\": T, \"random_seed\": 42, \"verbose\": True}"
   ]
  },
  {
   "cell_type": "code",
   "execution_count": 17,
   "metadata": {},
   "outputs": [
    {
     "data": {
      "text/plain": [
       "3.8269329620593098"
      ]
     },
     "execution_count": 17,
     "metadata": {},
     "output_type": "execute_result"
    }
   ],
   "source": [
    "model.call_price(T, strike)"
   ]
  },
  {
   "cell_type": "code",
   "execution_count": 21,
   "metadata": {},
   "outputs": [
    {
     "name": "stdout",
     "output_type": "stream",
     "text": [
      "Random seed:                42\n",
      "Number of simulate calls:   8\n",
      "MAX_ITER:                   100000\n",
      "Number of paths:            1600000\n",
      "Absolute error:             0.05\n",
      "Length of the conf intl:    0.048713328793415354\n",
      "Confidence level:           0.05\n",
      "\n"
     ]
    },
    {
     "data": {
      "text/plain": [
       "3.808440229304017"
      ]
     },
     "execution_count": 21,
     "metadata": {},
     "output_type": "execute_result"
    }
   ],
   "source": [
    "mc_price(N_T = 100, simulate = simulate_heston_euler, **common_mc_params)"
   ]
  },
  {
   "cell_type": "code",
   "execution_count": 22,
   "metadata": {},
   "outputs": [
    {
     "name": "stdout",
     "output_type": "stream",
     "text": [
      "Random seed:                42\n",
      "Number of simulate calls:   8\n",
      "MAX_ITER:                   100000\n",
      "Number of paths:            1600000\n",
      "Absolute error:             0.05\n",
      "Length of the conf intl:    0.04786871825864369\n",
      "Confidence level:           0.05\n",
      "\n"
     ]
    },
    {
     "data": {
      "text/plain": [
       "3.7360704907842637"
      ]
     },
     "execution_count": 22,
     "metadata": {},
     "output_type": "execute_result"
    }
   ],
   "source": [
    "mc_price(N_T = 50, simulate = simulate_heston_andersen_qe, **common_mc_params)"
   ]
  },
  {
   "cell_type": "code",
   "execution_count": 23,
   "metadata": {},
   "outputs": [
    {
     "name": "stdout",
     "output_type": "stream",
     "text": [
      "Random seed:                42\n",
      "Number of simulate calls:   8\n",
      "MAX_ITER:                   100000\n",
      "Number of paths:            1600000\n",
      "Absolute error:             0.05\n",
      "Length of the conf intl:    0.04763448353439617\n",
      "Confidence level:           0.05\n",
      "\n"
     ]
    },
    {
     "data": {
      "text/plain": [
       "3.7084234167949424"
      ]
     },
     "execution_count": 23,
     "metadata": {},
     "output_type": "execute_result"
    }
   ],
   "source": [
    "mc_price(N_T = 50, simulate = simulate_heston_andersen_tg, **common_mc_params, **kwargs)"
   ]
  },
  {
   "cell_type": "code",
   "execution_count": 27,
   "metadata": {},
   "outputs": [],
   "source": [
    "import pandas as pd\n",
    "MC_compare_models_Out_of_the_money = pd.DataFrame(columns=['scheme' , 'N_dt',  'result'])"
   ]
  },
  {
   "cell_type": "code",
   "execution_count": 28,
   "metadata": {},
   "outputs": [
    {
     "ename": "SystemError",
     "evalue": "CPUDispatcher(<function simulate_heston_euler at 0x000001FF6AAFF550>) returned a result with an error set",
     "output_type": "error",
     "traceback": [
      "\u001b[1;31m---------------------------------------------------------------------------\u001b[0m",
      "\u001b[1;31mKeyboardInterrupt\u001b[0m                         Traceback (most recent call last)",
      "\u001b[1;32mc:\\ProgramData\\Anaconda3\\lib\\site-packages\\numba\\core\\serialize.py\u001b[0m in \u001b[0;36m_numba_unpickle\u001b[1;34m(address, bytedata, hashed)\u001b[0m\n\u001b[0;32m     28\u001b[0m \u001b[1;33m\u001b[0m\u001b[0m\n\u001b[1;32m---> 29\u001b[1;33m \u001b[1;32mdef\u001b[0m \u001b[0m_numba_unpickle\u001b[0m\u001b[1;33m(\u001b[0m\u001b[0maddress\u001b[0m\u001b[1;33m,\u001b[0m \u001b[0mbytedata\u001b[0m\u001b[1;33m,\u001b[0m \u001b[0mhashed\u001b[0m\u001b[1;33m)\u001b[0m\u001b[1;33m:\u001b[0m\u001b[1;33m\u001b[0m\u001b[1;33m\u001b[0m\u001b[0m\n\u001b[0m\u001b[0;32m     30\u001b[0m     \"\"\"Used by `numba_unpickle` from _helperlib.c\n",
      "\u001b[1;31mKeyboardInterrupt\u001b[0m: ",
      "\nThe above exception was the direct cause of the following exception:\n",
      "\u001b[1;31mSystemError\u001b[0m                               Traceback (most recent call last)",
      "\u001b[1;31mSystemError\u001b[0m: _PyEval_EvalFrameDefault returned a result with an error set",
      "\nThe above exception was the direct cause of the following exception:\n",
      "\u001b[1;31mSystemError\u001b[0m                               Traceback (most recent call last)",
      "\u001b[1;32m~\\AppData\\Local\\Temp\\ipykernel_16092\\624717916.py\u001b[0m in \u001b[0;36m<module>\u001b[1;34m\u001b[0m\n\u001b[0;32m      7\u001b[0m                 \u001b[0mMC_compare_models_Out_of_the_money\u001b[0m\u001b[1;33m.\u001b[0m\u001b[0mloc\u001b[0m\u001b[1;33m[\u001b[0m\u001b[0mi\u001b[0m\u001b[1;33m]\u001b[0m \u001b[1;33m=\u001b[0m \u001b[1;33m(\u001b[0m\u001b[0mscheme\u001b[0m\u001b[1;33m.\u001b[0m\u001b[0m__name__\u001b[0m\u001b[1;33m,\u001b[0m \u001b[0mN_dt\u001b[0m\u001b[1;33m,\u001b[0m \u001b[0mmc_price\u001b[0m\u001b[1;33m(\u001b[0m\u001b[0mN_T\u001b[0m \u001b[1;33m=\u001b[0m \u001b[0mN_dt\u001b[0m\u001b[1;33m,\u001b[0m \u001b[0msimulate\u001b[0m \u001b[1;33m=\u001b[0m \u001b[0mscheme\u001b[0m\u001b[1;33m,\u001b[0m \u001b[0mbatch_size\u001b[0m\u001b[1;33m=\u001b[0m\u001b[1;36m5000\u001b[0m\u001b[1;33m,\u001b[0m \u001b[1;33m**\u001b[0m\u001b[0mcommon_mc_params\u001b[0m\u001b[1;33m,\u001b[0m \u001b[1;33m**\u001b[0m\u001b[0mkwargs\u001b[0m\u001b[1;33m)\u001b[0m\u001b[1;33m)\u001b[0m\u001b[1;33m\u001b[0m\u001b[1;33m\u001b[0m\u001b[0m\n\u001b[0;32m      8\u001b[0m             \u001b[1;32melse\u001b[0m\u001b[1;33m:\u001b[0m\u001b[1;33m\u001b[0m\u001b[1;33m\u001b[0m\u001b[0m\n\u001b[1;32m----> 9\u001b[1;33m                 \u001b[0mMC_compare_models_Out_of_the_money\u001b[0m\u001b[1;33m.\u001b[0m\u001b[0mloc\u001b[0m\u001b[1;33m[\u001b[0m\u001b[0mi\u001b[0m\u001b[1;33m]\u001b[0m \u001b[1;33m=\u001b[0m \u001b[1;33m(\u001b[0m\u001b[0mscheme\u001b[0m\u001b[1;33m.\u001b[0m\u001b[0m__name__\u001b[0m\u001b[1;33m,\u001b[0m \u001b[0mN_dt\u001b[0m\u001b[1;33m,\u001b[0m \u001b[0mmc_price\u001b[0m\u001b[1;33m(\u001b[0m\u001b[0mN_T\u001b[0m \u001b[1;33m=\u001b[0m \u001b[0mN_dt\u001b[0m\u001b[1;33m,\u001b[0m \u001b[0msimulate\u001b[0m \u001b[1;33m=\u001b[0m \u001b[0mscheme\u001b[0m\u001b[1;33m,\u001b[0m \u001b[0mbatch_size\u001b[0m\u001b[1;33m=\u001b[0m\u001b[1;36m5000\u001b[0m\u001b[1;33m,\u001b[0m \u001b[1;33m**\u001b[0m\u001b[0mcommon_mc_params\u001b[0m\u001b[1;33m)\u001b[0m\u001b[1;33m)\u001b[0m\u001b[1;33m\u001b[0m\u001b[1;33m\u001b[0m\u001b[0m\n\u001b[0m\u001b[0;32m     10\u001b[0m             \u001b[0mi\u001b[0m \u001b[1;33m+=\u001b[0m\u001b[1;36m1\u001b[0m\u001b[1;33m\u001b[0m\u001b[1;33m\u001b[0m\u001b[0m\n",
      "\u001b[1;32md:\\Other\\code\\jypeter\\Stochastic-Volatility-Models\\Code\\hestonmc.py\u001b[0m in \u001b[0;36mmc_price\u001b[1;34m(payoff, simulate, state, heston_params, T, N_T, absolute_error, confidence_level, batch_size, MAX_ITER, control_variate_payoff, control_variate_iter, verbose, random_seed, **kwargs)\u001b[0m\n\u001b[0;32m    122\u001b[0m     \u001b[1;32mif\u001b[0m \u001b[0mcontrol_variate_payoff\u001b[0m \u001b[1;32mis\u001b[0m \u001b[1;32mNone\u001b[0m\u001b[1;33m:\u001b[0m\u001b[1;33m\u001b[0m\u001b[1;33m\u001b[0m\u001b[0m\n\u001b[0;32m    123\u001b[0m         \u001b[1;32mwhile\u001b[0m \u001b[0mlength_conf_interval\u001b[0m \u001b[1;33m>\u001b[0m \u001b[0mabsolute_error\u001b[0m \u001b[1;32mand\u001b[0m \u001b[0miter_count\u001b[0m \u001b[1;33m<\u001b[0m \u001b[0mMAX_ITER\u001b[0m\u001b[1;33m:\u001b[0m\u001b[1;33m\u001b[0m\u001b[1;33m\u001b[0m\u001b[0m\n\u001b[1;32m--> 124\u001b[1;33m             \u001b[0mbatch_new\u001b[0m \u001b[1;33m=\u001b[0m \u001b[0mpayoff\u001b[0m\u001b[1;33m(\u001b[0m\u001b[0msimulate\u001b[0m\u001b[1;33m(\u001b[0m\u001b[1;33m**\u001b[0m\u001b[0margs\u001b[0m\u001b[1;33m)\u001b[0m\u001b[1;33m[\u001b[0m\u001b[1;36m0\u001b[0m\u001b[1;33m]\u001b[0m\u001b[1;33m)\u001b[0m\u001b[1;33m\u001b[0m\u001b[1;33m\u001b[0m\u001b[0m\n\u001b[0m\u001b[0;32m    125\u001b[0m             \u001b[0miter_count\u001b[0m\u001b[1;33m+=\u001b[0m\u001b[1;36m1\u001b[0m\u001b[1;33m\u001b[0m\u001b[1;33m\u001b[0m\u001b[0m\n\u001b[0;32m    126\u001b[0m \u001b[1;33m\u001b[0m\u001b[0m\n",
      "\u001b[1;31mSystemError\u001b[0m: CPUDispatcher(<function simulate_heston_euler at 0x000001FF6AAFF550>) returned a result with an error set"
     ]
    }
   ],
   "source": [
    "common_mc_params = {\"absolute_error\": 5e-2,  \"state\": state, \"heston_params\": heston_params, \"payoff\": ec_payoff, \"T\": T, \"random_seed\": 42, \"verbose\": False}\n",
    "i = MC_compare_models_Out_of_the_money.shape[0]\n",
    "for scheme in [simulate_heston_euler, simulate_heston_andersen_qe, simulate_heston_andersen_tg]:\n",
    "    for N_dt in range(4, 132, 4):\n",
    "        for _ in range(5):\n",
    "            if scheme == simulate_heston_andersen_tg:\n",
    "                MC_compare_models_Out_of_the_money.loc[i] = (scheme.__name__, N_dt, mc_price(N_T = N_dt, simulate = scheme, batch_size=5000, **common_mc_params, **kwargs))\n",
    "            else:\n",
    "                MC_compare_models_Out_of_the_money.loc[i] = (scheme.__name__, N_dt, mc_price(N_T = N_dt, simulate = scheme, batch_size=5000, **common_mc_params))\n",
    "            i +=1"
   ]
  },
  {
   "attachments": {},
   "cell_type": "markdown",
   "metadata": {},
   "source": [
    "Calculation of r for anderson tg model"
   ]
  },
  {
   "cell_type": "code",
   "execution_count": 4,
   "metadata": {},
   "outputs": [],
   "source": [
    "from hestonmc import calculate_r_for_andersen_tg\n",
    "from tqdm.notebook import tqdm\n",
    "\n",
    "dt = 2e-05\n",
    "\n",
    "h = int(np.array(np.arange(1e-7, 100, dt)).shape[0]/6)\n",
    "\n",
    "i = 0\n",
    "\n",
    "#r_x = np.linspace(1e-7, 100, 1000)\n",
    "\n",
    "r_x = np.array(np.arange(1e-7, 100, dt))[i*h:(i+1)*h]"
   ]
  },
  {
   "cell_type": "code",
   "execution_count": 8,
   "metadata": {},
   "outputs": [
    {
     "data": {
      "application/vnd.jupyter.widget-view+json": {
       "model_id": "0603dfa7450c4805988db0b7998f91e5",
       "version_major": 2,
       "version_minor": 0
      },
      "text/plain": [
       "  0%|          | 0/833333 [00:00<?, ?it/s]"
      ]
     },
     "metadata": {},
     "output_type": "display_data"
    }
   ],
   "source": [
    "\n",
    "r_y = np.zeros(r_x.shape)\n",
    "\n",
    "for j in tqdm(range(r_x.shape[0])):\n",
    "    r_y[j] = calculate_r_for_andersen_tg(r_x[j], tol = 1e-7)"
   ]
  },
  {
   "cell_type": "code",
   "execution_count": 15,
   "metadata": {},
   "outputs": [],
   "source": [
    "np.save(\"r_x {0} {1} {2}.npy\".format(i*h*dt, (i+1)*h*dt, r_x.shape[0]), r_x)\n",
    "np.save(\"r_y {0} {1} {2}.npy\".format(i*h*dt, (i+1)*h*dt, r_x.shape[0]), r_y)"
   ]
  },
  {
   "cell_type": "code",
   "execution_count": 22,
   "metadata": {},
   "outputs": [
    {
     "name": "stdout",
     "output_type": "stream",
     "text": [
      "1e-07 16.666640100000002\n",
      "16.6666601 33.3333001\n",
      "33.3333201 49.9999601\n",
      "49.9999801 66.6666201\n"
     ]
    }
   ],
   "source": [
    "r_x_all = np.empty(0)\n",
    "r_y_all = np.empty(0)\n",
    "\n",
    "for j in range(0, 4):\n",
    "    i = j\n",
    "    r_x = np.load(\"r_x {0} {1} {2}.npy\".format(i*h*dt, (i+1)*h*dt, r_x.shape[0]))\n",
    "    print(r_x[0], r_x[-1])\n",
    "    r_y = np.load(\"r_y {0} {1} {2}.npy\".format(i*h*dt, (i+1)*h*dt, r_x.shape[0]))\n",
    "\n",
    "    r_x_all = np.concatenate((r_x_all, r_x))\n",
    "    r_y_all = np.concatenate((r_y_all, r_y))\n",
    "    #plt.plot(r_x, r_y, label = \"{0} to {1}\".format(i*h*dt, (i+1)*h*dt))"
   ]
  },
  {
   "cell_type": "code",
   "execution_count": 32,
   "metadata": {},
   "outputs": [],
   "source": [
    "np.save(\"r_x {0} {1} {2}.npy\".format(0, 66, r_x_all.shape[0]), r_x_all)\n",
    "np.save(\"r_y {0} {1} {2}.npy\".format(0, 66, r_x_all.shape[0]), r_y_all)"
   ]
  },
  {
   "cell_type": "code",
   "execution_count": 28,
   "metadata": {},
   "outputs": [],
   "source": [
    "from scipy.stats import norm\n",
    "\n",
    "f_nu_y = r_y_all/(norm.pdf(r_y_all) + r_y_all*norm.cdf(r_y_all))\n",
    "f_sigma_y = 1/((norm.pdf(r_y_all) + r_y_all*norm.cdf(r_y_all))*np.sqrt(r_x_all))"
   ]
  },
  {
   "cell_type": "code",
   "execution_count": 30,
   "metadata": {},
   "outputs": [
    {
     "data": {
      "image/png": "[encoded data removed]",
      "text/plain": [
       "<Figure size 640x480 with 1 Axes>"
      ]
     },
     "metadata": {},
     "output_type": "display_data"
    }
   ],
   "source": [
    "#plot f_nu_y and f_sigma_y\n",
    "plt.plot(r_x_all, f_nu_y, label = \"f_nu_y\")\n",
    "plt.plot(r_x_all, f_sigma_y, label = \"f_sigma_y\")\n",
    "plt.legend()\n",
    "plt.show()\n"
   ]
  },
  {
   "cell_type": "code",
   "execution_count": 33,
   "metadata": {},
   "outputs": [],
   "source": [
    "np.save(\"f_nu_y {0} {1} {2}.npy\".format(0, 66, r_x_all.shape[0]), f_nu_y)\n",
    "np.save(\"f_sigma_y {0} {1} {2}.npy\".format(0, 66, r_x_all.shape[0]), f_sigma_y)"
   ]
  }
 ],
 "metadata": {
  "kernelspec": {
   "display_name": "base",
   "language": "python",
   "name": "python3"
  },
  "language_info": {
   "codemirror_mode": {
    "name": "ipython",
    "version": 3
   },
   "file_extension": ".py",
   "mimetype": "text/x-python",
   "name": "python",
   "nbconvert_exporter": "python",
   "pygments_lexer": "ipython3",
   "version": "3.9.13"
  },
  "vscode": {
   "interpreter": {
    "hash": "e6fb2ef27fee963ceed30e3e64cbae56428a1a32b16762da4b3bdfa5ed010894"
   }
  }
 },
 "nbformat": 4,
 "nbformat_minor": 4
}
