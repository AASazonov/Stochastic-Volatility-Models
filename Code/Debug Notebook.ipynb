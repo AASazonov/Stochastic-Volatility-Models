{
 "cells": [
  {
   "cell_type": "code",
   "execution_count": 2,
   "metadata": {},
   "outputs": [],
   "source": [
    "import numpy as np\n",
    "import pandas as pd\n",
    "import matplotlib.pyplot as plt\n",
    "\n",
    "from ipywidgets import interact\n",
    "\n",
    "from ipywidgets import widgets\n",
    "from tqdm.auto import tqdm\n",
    "\n",
    "from vol.vol import Heston\n",
    "\n",
    "from hestonmc import MarketState, HestonParameters, mc_price, simulate_heston_euler, simulate_heston_andersen_qe, simulate_heston_andersen_tg, european_call_payoff"
   ]
  },
  {
   "cell_type": "markdown",
   "metadata": {},
   "source": [
    "## Tests"
   ]
  },
  {
   "cell_type": "code",
   "execution_count": 3,
   "metadata": {},
   "outputs": [],
   "source": [
    "heston_params = HestonParameters(kappa = 1.3125, gamma = 0.5125, rho = -0.3937, vbar = 0.0641, v0 = 0.3)\n",
    "state         = MarketState(stock_price = 100., interest_rate = 0.)\n",
    "model         = Heston(state.stock_price, heston_params.v0, heston_params.kappa, heston_params.vbar, heston_params.gamma, heston_params.rho, state.interest_rate)\n",
    "\n",
    "r_x           = np.load(r\"Data/anderson tg/r_x.npy\")\n",
    "f_nu_y        = np.load(r\"Data/anderson tg/f_nu_y.npy\")\n",
    "f_sigma_y     = np.load(r\"Data/anderson tg/f_sigma_y.npy\")\n",
    "kwargs        = {'x_grid' : r_x, 'f_nu_grid' : f_nu_y, 'f_sigma_grid' : f_sigma_y }"
   ]
  },
  {
   "cell_type": "markdown",
   "metadata": {},
   "source": [
    "### At the money"
   ]
  },
  {
   "cell_type": "code",
   "execution_count": 4,
   "metadata": {},
   "outputs": [],
   "source": [
    "strike = 100.\n",
    "T = 1.\n",
    "ec_payoff = european_call_payoff(T, strike, state.interest_rate)\n",
    "\n",
    "common_mc_params = {\"absolute_error\": 5e-2, \"batch_size\": 100_000, \"state\": state, \"heston_params\": heston_params, \"payoff\": ec_payoff, \"T\": T, \"random_seed\": 42, \"verbose\": True}"
   ]
  },
  {
   "cell_type": "code",
   "execution_count": 5,
   "metadata": {},
   "outputs": [
    {
     "data": {
      "text/plain": [
       "16.69960076395676"
      ]
     },
     "execution_count": 5,
     "metadata": {},
     "output_type": "execute_result"
    }
   ],
   "source": [
    "model.call_price(T, strike)"
   ]
  },
  {
   "cell_type": "code",
   "execution_count": 6,
   "metadata": {},
   "outputs": [
    {
     "name": "stdout",
     "output_type": "stream",
     "text": [
      "Random seed:                42\n",
      "Number of simulate calls:   27\n",
      "MAX_ITER:                   100000\n",
      "Number of paths:            5400000\n",
      "Absolute error:             0.05\n",
      "Length of the conf intl:    0.04972436095557877\n",
      "Confidence level:           0.05\n",
      "\n"
     ]
    },
    {
     "data": {
      "text/plain": [
       "16.682382637374957"
      ]
     },
     "execution_count": 6,
     "metadata": {},
     "output_type": "execute_result"
    }
   ],
   "source": [
    "mc_price(N_T = 100, simulate = simulate_heston_euler, **common_mc_params)"
   ]
  },
  {
   "cell_type": "code",
   "execution_count": 33,
   "metadata": {},
   "outputs": [
    {
     "name": "stdout",
     "output_type": "stream",
     "text": [
      "Random seed:                42\n",
      "Number of simulate calls:   27\n",
      "MAX_ITER:                   100000\n",
      "Number of paths:            5400000\n",
      "Absolute error:             0.05\n",
      "Length of the conf intl:    0.049270442041208576\n",
      "Confidence level:           0.05\n",
      "\n"
     ]
    },
    {
     "data": {
      "text/plain": [
       "16.651123434244116"
      ]
     },
     "execution_count": 33,
     "metadata": {},
     "output_type": "execute_result"
    }
   ],
   "source": [
    "mc_price(N_T = 50, simulate = simulate_heston_andersen_qe, **common_mc_params)"
   ]
  },
  {
   "cell_type": "code",
   "execution_count": 34,
   "metadata": {},
   "outputs": [
    {
     "name": "stdout",
     "output_type": "stream",
     "text": [
      "Random seed:                42\n",
      "Number of simulate calls:   27\n",
      "MAX_ITER:                   100000\n",
      "Number of paths:            5400000\n",
      "Absolute error:             0.05\n",
      "Length of the conf intl:    0.04923889213364643\n",
      "Confidence level:           0.05\n",
      "\n"
     ]
    },
    {
     "data": {
      "text/plain": [
       "16.664548151711145"
      ]
     },
     "execution_count": 34,
     "metadata": {},
     "output_type": "execute_result"
    }
   ],
   "source": [
    "mc_price(N_T = 50, simulate = simulate_heston_andersen_tg, **common_mc_params, **kwargs)"
   ]
  },
  {
   "attachments": {},
   "cell_type": "markdown",
   "metadata": {},
   "source": [
    "Optimal batch_size for each scheme"
   ]
  },
  {
   "cell_type": "code",
   "execution_count": null,
   "metadata": {},
   "outputs": [],
   "source": [
    "common_mc_params = {\"absolute_error\": 5e-2,  \"state\": state, \"heston_params\": heston_params, \"payoff\": ec_payoff, \"T\": T, \"random_seed\": 42, \"verbose\": False}\n",
    "for scheme in [[simulate_heston_euler, 100], [simulate_heston_andersen_qe, 50], [simulate_heston_andersen_tg, 50]]:\n",
    "    print(scheme[0].__name__)\n",
    "    for batch_size in [50_000, 150_000, 10_000]:\n",
    "        print(f\"Batch size: {batch_size}\")\n",
    "        if scheme[0] == simulate_heston_andersen_tg:\n",
    "            %timeit -r100 mc_price(N_T = scheme[1], simulate = scheme[0], batch_size=batch_size, **common_mc_params, **kwargs)\n",
    "        else:\n",
    "            %timeit -r100 mc_price(N_T = scheme[1], simulate = scheme[0], batch_size=batch_size, **common_mc_params)\n",
    "\n",
    "    print(\"\\n\\n\")"
   ]
  },
  {
   "attachments": {},
   "cell_type": "markdown",
   "metadata": {},
   "source": [
    "Time for each scheme"
   ]
  },
  {
   "cell_type": "code",
   "execution_count": 10,
   "metadata": {},
   "outputs": [
    {
     "name": "stdout",
     "output_type": "stream",
     "text": [
      "simulate_heston_euler\n",
      "2.58 s ± 40.8 ms per loop (mean ± std. dev. of 10 runs, 1 loop each)\n",
      "\n",
      "\n",
      "\n",
      "simulate_heston_andersen_qe\n",
      "1.61 s ± 19.8 ms per loop (mean ± std. dev. of 10 runs, 1 loop each)\n",
      "\n",
      "\n",
      "\n",
      "simulate_heston_andersen_tg\n",
      "1.54 s ± 23.5 ms per loop (mean ± std. dev. of 10 runs, 1 loop each)\n",
      "\n",
      "\n",
      "\n"
     ]
    }
   ],
   "source": [
    "common_mc_params = {\"absolute_error\": 5e-2, \"batch_size\": 100_000, \"state\": state, \"heston_params\": heston_params, \"payoff\": ec_payoff, \"T\": T, \"random_seed\": 42, \"verbose\": False}\n",
    "for scheme in [[simulate_heston_euler, 100], [simulate_heston_andersen_qe, 50], [simulate_heston_andersen_tg, 50]]:\n",
    "    print(scheme[0].__name__)\n",
    "    if scheme[0] == simulate_heston_andersen_tg:\n",
    "        %timeit -r10 mc_price(N_T = scheme[1], simulate = scheme[0], **common_mc_params, **kwargs)\n",
    "    else:\n",
    "        %timeit -r10 mc_price(N_T = scheme[1], simulate = scheme[0], **common_mc_params)\n",
    "\n",
    "    print(\"\\n\\n\")"
   ]
  },
  {
   "attachments": {},
   "cell_type": "markdown",
   "metadata": {},
   "source": [
    "### Out of the money"
   ]
  },
  {
   "cell_type": "code",
   "execution_count": 8,
   "metadata": {},
   "outputs": [],
   "source": [
    "strike = 10.\n",
    "T = 1.\n",
    "ec_payoff = european_call_payoff(T, strike, state.interest_rate)\n",
    "\n",
    "common_mc_params = {\"absolute_error\": 5e-2, \"batch_size\": 100_000, \"state\": state, \"heston_params\": heston_params, \"payoff\": ec_payoff, \"T\": T, \"random_seed\": 42, \"verbose\": True}"
   ]
  },
  {
   "cell_type": "code",
   "execution_count": 9,
   "metadata": {},
   "outputs": [
    {
     "data": {
      "text/plain": [
       "90.00070826494877"
      ]
     },
     "execution_count": 9,
     "metadata": {},
     "output_type": "execute_result"
    }
   ],
   "source": [
    "model.call_price(T, strike)"
   ]
  },
  {
   "cell_type": "code",
   "execution_count": 10,
   "metadata": {},
   "outputs": [
    {
     "name": "stdout",
     "output_type": "stream",
     "text": [
      "Random seed:                42\n",
      "Number of simulate calls:   58\n",
      "MAX_ITER:                   100000\n",
      "Number of paths:            11600000\n",
      "Absolute error:             0.05\n",
      "Length of the conf intl:    0.049793188506487104\n",
      "Confidence level:           0.05\n",
      "\n"
     ]
    },
    {
     "data": {
      "text/plain": [
       "90.0043906779468"
      ]
     },
     "execution_count": 10,
     "metadata": {},
     "output_type": "execute_result"
    }
   ],
   "source": [
    "mc_price(N_T = 100, simulate = simulate_heston_euler, **common_mc_params)"
   ]
  },
  {
   "cell_type": "code",
   "execution_count": 11,
   "metadata": {},
   "outputs": [
    {
     "name": "stdout",
     "output_type": "stream",
     "text": [
      "Random seed:                42\n",
      "Number of simulate calls:   57\n",
      "MAX_ITER:                   100000\n",
      "Number of paths:            11400000\n",
      "Absolute error:             0.05\n",
      "Length of the conf intl:    0.04984236677321091\n",
      "Confidence level:           0.05\n",
      "\n"
     ]
    },
    {
     "data": {
      "text/plain": [
       "90.19859406126821"
      ]
     },
     "execution_count": 11,
     "metadata": {},
     "output_type": "execute_result"
    }
   ],
   "source": [
    "mc_price(N_T = 50, simulate = simulate_heston_andersen_qe, **common_mc_params)"
   ]
  },
  {
   "cell_type": "code",
   "execution_count": 12,
   "metadata": {},
   "outputs": [
    {
     "name": "stdout",
     "output_type": "stream",
     "text": [
      "Random seed:                42\n",
      "Number of simulate calls:   57\n",
      "MAX_ITER:                   100000\n",
      "Number of paths:            11400000\n",
      "Absolute error:             0.05\n",
      "Length of the conf intl:    0.04987432685300773\n",
      "Confidence level:           0.05\n",
      "\n"
     ]
    },
    {
     "data": {
      "text/plain": [
       "90.20163788565202"
      ]
     },
     "execution_count": 12,
     "metadata": {},
     "output_type": "execute_result"
    }
   ],
   "source": [
    "mc_price(N_T = 50, simulate = simulate_heston_andersen_tg, **common_mc_params, **kwargs)"
   ]
  }
 ],
 "metadata": {
  "kernelspec": {
   "display_name": "Python 3",
   "language": "python",
   "name": "python3"
  },
  "language_info": {
   "codemirror_mode": {
    "name": "ipython",
    "version": 3
   },
   "file_extension": ".py",
   "mimetype": "text/x-python",
   "name": "python",
   "nbconvert_exporter": "python",
   "pygments_lexer": "ipython3",
   "version": "3.10.9"
  },
  "vscode": {
   "interpreter": {
    "hash": "b0fa6594d8f4cbf19f97940f81e996739fb7646882a419484c72d19e05852a7e"
   }
  }
 },
 "nbformat": 4,
 "nbformat_minor": 4
}
