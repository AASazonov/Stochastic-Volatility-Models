{
 "cells": [
  {
   "cell_type": "code",
   "execution_count": 1,
   "metadata": {},
   "outputs": [],
   "source": [
    "import numpy as np\n",
    "import pandas as pd\n",
    "import matplotlib.pyplot as plt\n",
    "\n",
    "from ipywidgets import interact\n",
    "\n",
    "from ipywidgets import widgets\n",
    "from tqdm.auto import tqdm\n",
    "\n",
    "from vol.vol import Heston\n",
    "\n",
    "from hestonmc import MarketState, HestonParameters, mc_price, simulate_heston_euler, simulate_heston_andersen_qe, simulate_heston_andersen_tg, european_call_payoff"
   ]
  },
  {
   "cell_type": "markdown",
   "metadata": {},
   "source": [
    "## Tests"
   ]
  },
  {
   "cell_type": "code",
   "execution_count": 2,
   "metadata": {},
   "outputs": [],
   "source": [
    "heston_params = HestonParameters(kappa = 1.3125, gamma = 0.5125, rho = -0.3937, vbar = 0.0641, v0 = 0.3)\n",
    "state         = MarketState(stock_price = 100., interest_rate = 0.)\n",
    "model         = Heston(state.stock_price, heston_params.v0, heston_params.kappa, heston_params.vbar, heston_params.gamma, heston_params.rho, state.interest_rate)\n",
    "\n",
    "r_x           = np.load(r\"Data/anderson tg/r_x.npy\")\n",
    "f_nu_y        = np.load(r\"Data/anderson tg/f_nu_y.npy\")\n",
    "f_sigma_y     = np.load(r\"Data/anderson tg/f_sigma_y.npy\")\n",
    "kwargs        = {'x_grid' : r_x, 'f_nu_grid' : f_nu_y, 'f_sigma_grid' : f_sigma_y }"
   ]
  },
  {
   "cell_type": "markdown",
   "metadata": {},
   "source": [
    "### At the money"
   ]
  },
  {
   "cell_type": "code",
   "execution_count": 25,
   "metadata": {},
   "outputs": [],
   "source": [
    "strike = 100.\n",
    "T = 1.\n",
    "ec_payoff = european_call_payoff(T, strike, state.interest_rate)\n",
    "\n",
    "common_mc_params = {\"absolute_error\": 5e-2, \"state\": state, \"heston_params\": heston_params, \"payoff\": ec_payoff, \"T\": T, \"random_seed\": 42, \"verbose\": True}"
   ]
  },
  {
   "cell_type": "code",
   "execution_count": 22,
   "metadata": {},
   "outputs": [
    {
     "data": {
      "text/plain": [
       "{'absolute_error': 0.05,\n",
       " 'state': <numba.experimental.jitclass.boxing.MarketState at 0x7fd953571220>,\n",
       " 'heston_params': <numba.experimental.jitclass.boxing.HestonParameters at 0x7fd95049aa00>,\n",
       " 'payoff': CPUDispatcher(<function european_call_payoff.<locals>.payoff at 0x7fd8fa2eea60>),\n",
       " 'T': 1.0,\n",
       " 'random_seed': 42,\n",
       " 'verbose': True}"
      ]
     },
     "execution_count": 22,
     "metadata": {},
     "output_type": "execute_result"
    }
   ],
   "source": [
    "common_mc_params"
   ]
  },
  {
   "cell_type": "code",
   "execution_count": 4,
   "metadata": {},
   "outputs": [
    {
     "data": {
      "text/plain": [
       "16.69960076395676"
      ]
     },
     "execution_count": 4,
     "metadata": {},
     "output_type": "execute_result"
    }
   ],
   "source": [
    "model.call_price(T, strike)"
   ]
  },
  {
   "cell_type": "code",
   "execution_count": 36,
   "metadata": {},
   "outputs": [
    {
     "name": "stdout",
     "output_type": "stream",
     "text": [
      "Random seed:                42\n",
      "Number of simulate calls:   535\n",
      "MAX_ITER:                   100000\n",
      "Number of paths:            5350000\n",
      "Absolute error:             0.05\n",
      "Length of the conf intl:    0.04995457606733071\n",
      "Confidence level:           0.05\n",
      "\n"
     ]
    },
    {
     "data": {
      "text/plain": [
       "16.6676184907059"
      ]
     },
     "execution_count": 36,
     "metadata": {},
     "output_type": "execute_result"
    }
   ],
   "source": [
    "mc_price(N_T = 100, simulate = simulate_heston_euler,batch_size=5_000, **common_mc_params)"
   ]
  },
  {
   "cell_type": "code",
   "execution_count": 37,
   "metadata": {},
   "outputs": [
    {
     "name": "stdout",
     "output_type": "stream",
     "text": [
      "Random seed:                42\n",
      "Number of simulate calls:   525\n",
      "MAX_ITER:                   100000\n",
      "Number of paths:            5250000\n",
      "Absolute error:             0.05\n",
      "Length of the conf intl:    0.049991159439541015\n",
      "Confidence level:           0.05\n",
      "\n"
     ]
    },
    {
     "data": {
      "text/plain": [
       "16.65391040142695"
      ]
     },
     "execution_count": 37,
     "metadata": {},
     "output_type": "execute_result"
    }
   ],
   "source": [
    "mc_price(N_T = 50, simulate = simulate_heston_andersen_qe, batch_size=5_000, **common_mc_params)"
   ]
  },
  {
   "cell_type": "code",
   "execution_count": 41,
   "metadata": {},
   "outputs": [
    {
     "name": "stdout",
     "output_type": "stream",
     "text": [
      "Random seed:                42\n",
      "Number of simulate calls:   525\n",
      "MAX_ITER:                   100000\n",
      "Number of paths:            5250000\n",
      "Absolute error:             0.05\n",
      "Length of the conf intl:    0.0499762216206253\n",
      "Confidence level:           0.05\n",
      "\n"
     ]
    },
    {
     "data": {
      "text/plain": [
       "16.679612434153587"
      ]
     },
     "execution_count": 41,
     "metadata": {},
     "output_type": "execute_result"
    }
   ],
   "source": [
    "mc_price(N_T = 50, simulate = simulate_heston_andersen_tg, batch_size=5_000, **common_mc_params, **kwargs)"
   ]
  },
  {
   "attachments": {},
   "cell_type": "markdown",
   "metadata": {},
   "source": [
    "Optimal batch_size for each scheme"
   ]
  },
  {
   "cell_type": "code",
   "execution_count": 17,
   "metadata": {},
   "outputs": [
    {
     "name": "stdout",
     "output_type": "stream",
     "text": [
      "simulate_heston_euler\n",
      "Batch size: 1000\n",
      "2.29 s ± 20 ms per loop (mean ± std. dev. of 10 runs, 1 loop each)\n",
      "Batch size: 2000\n",
      "1.96 s ± 20.9 ms per loop (mean ± std. dev. of 10 runs, 1 loop each)\n",
      "Batch size: 3000\n",
      "1.86 s ± 14.1 ms per loop (mean ± std. dev. of 10 runs, 1 loop each)\n",
      "Batch size: 4000\n",
      "1.83 s ± 38.1 ms per loop (mean ± std. dev. of 10 runs, 1 loop each)\n",
      "Batch size: 5000\n",
      "1.85 s ± 40.2 ms per loop (mean ± std. dev. of 10 runs, 1 loop each)\n",
      "Batch size: 6000\n",
      "1.85 s ± 31.3 ms per loop (mean ± std. dev. of 10 runs, 1 loop each)\n",
      "Batch size: 7000\n",
      "2 s ± 22.3 ms per loop (mean ± std. dev. of 10 runs, 1 loop each)\n",
      "Batch size: 8000\n",
      "2.15 s ± 26.4 ms per loop (mean ± std. dev. of 10 runs, 1 loop each)\n",
      "Batch size: 9000\n",
      "2.25 s ± 30.7 ms per loop (mean ± std. dev. of 10 runs, 1 loop each)\n",
      "Batch size: 10000\n",
      "2.36 s ± 28.8 ms per loop (mean ± std. dev. of 10 runs, 1 loop each)\n",
      "Batch size: 11000\n",
      "2.5 s ± 68.4 ms per loop (mean ± std. dev. of 10 runs, 1 loop each)\n",
      "Batch size: 12000\n",
      "2.5 s ± 18.2 ms per loop (mean ± std. dev. of 10 runs, 1 loop each)\n",
      "Batch size: 13000\n",
      "2.54 s ± 29.6 ms per loop (mean ± std. dev. of 10 runs, 1 loop each)\n",
      "Batch size: 14000\n",
      "2.57 s ± 18 ms per loop (mean ± std. dev. of 10 runs, 1 loop each)\n",
      "Batch size: 15000\n",
      "3.22 s ± 28.9 ms per loop (mean ± std. dev. of 10 runs, 1 loop each)\n",
      "\n",
      "\n",
      "\n",
      "simulate_heston_andersen_qe\n",
      "Batch size: 1000\n",
      "1.97 s ± 10 ms per loop (mean ± std. dev. of 10 runs, 1 loop each)\n",
      "Batch size: 2000\n",
      "1.6 s ± 9.15 ms per loop (mean ± std. dev. of 10 runs, 1 loop each)\n",
      "Batch size: 3000\n",
      "1.49 s ± 21.7 ms per loop (mean ± std. dev. of 10 runs, 1 loop each)\n",
      "Batch size: 4000\n",
      "1.42 s ± 23.9 ms per loop (mean ± std. dev. of 10 runs, 1 loop each)\n",
      "Batch size: 5000\n",
      "1.41 s ± 19.2 ms per loop (mean ± std. dev. of 10 runs, 1 loop each)\n",
      "Batch size: 6000\n",
      "1.39 s ± 13.9 ms per loop (mean ± std. dev. of 10 runs, 1 loop each)\n",
      "Batch size: 7000\n",
      "1.38 s ± 23.5 ms per loop (mean ± std. dev. of 10 runs, 1 loop each)\n",
      "Batch size: 8000\n",
      "1.39 s ± 22.5 ms per loop (mean ± std. dev. of 10 runs, 1 loop each)\n",
      "Batch size: 9000\n",
      "1.39 s ± 18.4 ms per loop (mean ± std. dev. of 10 runs, 1 loop each)\n",
      "Batch size: 10000\n",
      "1.39 s ± 19.8 ms per loop (mean ± std. dev. of 10 runs, 1 loop each)\n",
      "Batch size: 11000\n",
      "1.4 s ± 23.9 ms per loop (mean ± std. dev. of 10 runs, 1 loop each)\n",
      "Batch size: 12000\n",
      "1.41 s ± 17.5 ms per loop (mean ± std. dev. of 10 runs, 1 loop each)\n",
      "Batch size: 13000\n",
      "1.42 s ± 20.2 ms per loop (mean ± std. dev. of 10 runs, 1 loop each)\n",
      "Batch size: 14000\n",
      "1.4 s ± 24.8 ms per loop (mean ± std. dev. of 10 runs, 1 loop each)\n",
      "Batch size: 15000\n",
      "1.41 s ± 29.6 ms per loop (mean ± std. dev. of 10 runs, 1 loop each)\n",
      "\n",
      "\n",
      "\n",
      "simulate_heston_andersen_tg\n",
      "Batch size: 1000\n",
      "1.64 s ± 14.4 ms per loop (mean ± std. dev. of 10 runs, 1 loop each)\n",
      "Batch size: 2000\n",
      "1.35 s ± 7.27 ms per loop (mean ± std. dev. of 10 runs, 1 loop each)\n",
      "Batch size: 3000\n",
      "1.25 s ± 10 ms per loop (mean ± std. dev. of 10 runs, 1 loop each)\n",
      "Batch size: 4000\n",
      "1.2 s ± 9.22 ms per loop (mean ± std. dev. of 10 runs, 1 loop each)\n",
      "Batch size: 5000\n",
      "1.17 s ± 17.3 ms per loop (mean ± std. dev. of 10 runs, 1 loop each)\n",
      "Batch size: 6000\n",
      "1.16 s ± 16.3 ms per loop (mean ± std. dev. of 10 runs, 1 loop each)\n",
      "Batch size: 7000\n",
      "1.15 s ± 13.9 ms per loop (mean ± std. dev. of 10 runs, 1 loop each)\n",
      "Batch size: 8000\n",
      "1.16 s ± 21.8 ms per loop (mean ± std. dev. of 10 runs, 1 loop each)\n",
      "Batch size: 9000\n",
      "1.17 s ± 21.5 ms per loop (mean ± std. dev. of 10 runs, 1 loop each)\n",
      "Batch size: 10000\n",
      "1.17 s ± 22.3 ms per loop (mean ± std. dev. of 10 runs, 1 loop each)\n",
      "Batch size: 11000\n",
      "1.18 s ± 31 ms per loop (mean ± std. dev. of 10 runs, 1 loop each)\n",
      "Batch size: 12000\n",
      "1.19 s ± 24.6 ms per loop (mean ± std. dev. of 10 runs, 1 loop each)\n",
      "Batch size: 13000\n",
      "1.21 s ± 20.3 ms per loop (mean ± std. dev. of 10 runs, 1 loop each)\n",
      "Batch size: 14000\n",
      "1.21 s ± 21.5 ms per loop (mean ± std. dev. of 10 runs, 1 loop each)\n",
      "Batch size: 15000\n",
      "1.23 s ± 12.2 ms per loop (mean ± std. dev. of 10 runs, 1 loop each)\n",
      "\n",
      "\n",
      "\n"
     ]
    }
   ],
   "source": [
    "common_mc_params = {\"absolute_error\": 5e-2,  \"state\": state, \"heston_params\": heston_params, \"payoff\": ec_payoff, \"T\": T, \"random_seed\": 42, \"verbose\": False}\n",
    "for scheme in [[simulate_heston_euler, 100], [simulate_heston_andersen_qe, 50], [simulate_heston_andersen_tg, 50]]:\n",
    "    print(scheme[0].__name__)\n",
    "    for batch_size in range(1_000, 16_000, 1_000):\n",
    "        print(f\"Batch size: {batch_size}\")\n",
    "        if scheme[0] == simulate_heston_andersen_tg:\n",
    "            %timeit -r10 mc_price(N_T = scheme[1], simulate = scheme[0], batch_size=batch_size, **common_mc_params, **kwargs)\n",
    "        else:\n",
    "            %timeit -r10 mc_price(N_T = scheme[1], simulate = scheme[0], batch_size=batch_size, **common_mc_params)\n",
    "\n",
    "    print(\"\\n\\n\")"
   ]
  },
  {
   "attachments": {},
   "cell_type": "markdown",
   "metadata": {},
   "source": [
    "Time for each scheme"
   ]
  },
  {
   "cell_type": "code",
   "execution_count": 10,
   "metadata": {},
   "outputs": [
    {
     "name": "stdout",
     "output_type": "stream",
     "text": [
      "simulate_heston_euler\n",
      "2.58 s ± 40.8 ms per loop (mean ± std. dev. of 10 runs, 1 loop each)\n",
      "\n",
      "\n",
      "\n",
      "simulate_heston_andersen_qe\n",
      "1.61 s ± 19.8 ms per loop (mean ± std. dev. of 10 runs, 1 loop each)\n",
      "\n",
      "\n",
      "\n",
      "simulate_heston_andersen_tg\n",
      "1.54 s ± 23.5 ms per loop (mean ± std. dev. of 10 runs, 1 loop each)\n",
      "\n",
      "\n",
      "\n"
     ]
    }
   ],
   "source": [
    "common_mc_params = {\"absolute_error\": 5e-2, \"batch_size\": 100_000, \"state\": state, \"heston_params\": heston_params, \"payoff\": ec_payoff, \"T\": T, \"random_seed\": 42, \"verbose\": False}\n",
    "for scheme in [[simulate_heston_euler, 100], [simulate_heston_andersen_qe, 50], [simulate_heston_andersen_tg, 50]]:\n",
    "    print(scheme[0].__name__)\n",
    "    if scheme[0] == simulate_heston_andersen_tg:\n",
    "        %timeit -r10 mc_price(N_T = scheme[1], simulate = scheme[0], **common_mc_params, **kwargs)\n",
    "    else:\n",
    "        %timeit -r10 mc_price(N_T = scheme[1], simulate = scheme[0], **common_mc_params)\n",
    "\n",
    "    print(\"\\n\\n\")"
   ]
  },
  {
   "attachments": {},
   "cell_type": "markdown",
   "metadata": {},
   "source": [
    "### Out of the money"
   ]
  },
  {
   "cell_type": "code",
   "execution_count": 8,
   "metadata": {},
   "outputs": [],
   "source": [
    "strike = 10.\n",
    "T = 1.\n",
    "ec_payoff = european_call_payoff(T, strike, state.interest_rate)\n",
    "\n",
    "common_mc_params = {\"absolute_error\": 5e-2, \"batch_size\": 100_000, \"state\": state, \"heston_params\": heston_params, \"payoff\": ec_payoff, \"T\": T, \"random_seed\": 42, \"verbose\": True}"
   ]
  },
  {
   "cell_type": "code",
   "execution_count": 9,
   "metadata": {},
   "outputs": [
    {
     "data": {
      "text/plain": [
       "90.00070826494877"
      ]
     },
     "execution_count": 9,
     "metadata": {},
     "output_type": "execute_result"
    }
   ],
   "source": [
    "model.call_price(T, strike)"
   ]
  },
  {
   "cell_type": "code",
   "execution_count": 10,
   "metadata": {},
   "outputs": [
    {
     "name": "stdout",
     "output_type": "stream",
     "text": [
      "Random seed:                42\n",
      "Number of simulate calls:   58\n",
      "MAX_ITER:                   100000\n",
      "Number of paths:            11600000\n",
      "Absolute error:             0.05\n",
      "Length of the conf intl:    0.049793188506487104\n",
      "Confidence level:           0.05\n",
      "\n"
     ]
    },
    {
     "data": {
      "text/plain": [
       "90.0043906779468"
      ]
     },
     "execution_count": 10,
     "metadata": {},
     "output_type": "execute_result"
    }
   ],
   "source": [
    "mc_price(N_T = 100, simulate = simulate_heston_euler, **common_mc_params)"
   ]
  },
  {
   "cell_type": "code",
   "execution_count": 11,
   "metadata": {},
   "outputs": [
    {
     "name": "stdout",
     "output_type": "stream",
     "text": [
      "Random seed:                42\n",
      "Number of simulate calls:   57\n",
      "MAX_ITER:                   100000\n",
      "Number of paths:            11400000\n",
      "Absolute error:             0.05\n",
      "Length of the conf intl:    0.04984236677321091\n",
      "Confidence level:           0.05\n",
      "\n"
     ]
    },
    {
     "data": {
      "text/plain": [
       "90.19859406126821"
      ]
     },
     "execution_count": 11,
     "metadata": {},
     "output_type": "execute_result"
    }
   ],
   "source": [
    "mc_price(N_T = 50, simulate = simulate_heston_andersen_qe, **common_mc_params)"
   ]
  },
  {
   "cell_type": "code",
   "execution_count": 12,
   "metadata": {},
   "outputs": [
    {
     "name": "stdout",
     "output_type": "stream",
     "text": [
      "Random seed:                42\n",
      "Number of simulate calls:   57\n",
      "MAX_ITER:                   100000\n",
      "Number of paths:            11400000\n",
      "Absolute error:             0.05\n",
      "Length of the conf intl:    0.04987432685300773\n",
      "Confidence level:           0.05\n",
      "\n"
     ]
    },
    {
     "data": {
      "text/plain": [
       "90.20163788565202"
      ]
     },
     "execution_count": 12,
     "metadata": {},
     "output_type": "execute_result"
    }
   ],
   "source": [
    "mc_price(N_T = 50, simulate = simulate_heston_andersen_tg, **common_mc_params, **kwargs)"
   ]
  }
 ],
 "metadata": {
  "kernelspec": {
   "display_name": "base",
   "language": "python",
   "name": "python3"
  },
  "language_info": {
   "codemirror_mode": {
    "name": "ipython",
    "version": 3
   },
   "file_extension": ".py",
   "mimetype": "text/x-python",
   "name": "python",
   "nbconvert_exporter": "python",
   "pygments_lexer": "ipython3",
   "version": "3.9.13"
  },
  "vscode": {
   "interpreter": {
    "hash": "e6fb2ef27fee963ceed30e3e64cbae56428a1a32b16762da4b3bdfa5ed010894"
   }
  }
 },
 "nbformat": 4,
 "nbformat_minor": 4
}
