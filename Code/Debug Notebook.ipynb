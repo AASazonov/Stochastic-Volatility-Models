{
 "cells": [
  {
   "cell_type": "code",
   "execution_count": 1,
   "metadata": {},
   "outputs": [],
   "source": [
    "import numpy as np\n",
    "import pandas as pd\n",
    "import matplotlib.pyplot as plt\n",
    "import math\n",
    "\n",
    "from ipywidgets import interact\n",
    "\n",
    "from ipywidgets import widgets\n",
    "from tqdm.auto import tqdm\n",
    "\n",
    "from dataclasses import dataclass\n",
    "from typing import Union, Callable, Optional\n",
    "from copy import deepcopy\n",
    "from copy import error\n",
    "from scipy.optimize import root_scalar, brentq\n",
    "from dataclasses import dataclass\n",
    "from scipy.special import iv\n",
    "from scipy.stats import bernoulli\n",
    "from scipy.interpolate import RectBivariateSpline\n",
    "from scipy.optimize import newton\n",
    "from scipy.stats import norm\n",
    "\n",
    "import warnings\n",
    "from scipy.stats import norm\n",
    "warnings.filterwarnings(\"ignore\")\n",
    "\n",
    "from vol.vol import Heston\n",
    "\n",
    "from hestonmc import MarketState, HestonParameters, mc_price, simulate_heston_euler, simulate_heston_andersen_qe, simulate_heston_andersen_tg, european_call_payoff"
   ]
  },
  {
   "cell_type": "markdown",
   "metadata": {},
   "source": [
    "## Tests"
   ]
  },
  {
   "cell_type": "code",
   "execution_count": 2,
   "metadata": {},
   "outputs": [],
   "source": [
    "heston_params = HestonParameters(kappa = 1.3125, gamma = 0.5125, rho = -0.3937, vbar = 0.0641, v0 = 0.3)\n",
    "# kappa = 1.3125, gamma = 0.7125, rho = -0.3937, vbar = 0.0641, v0 = 0.3\n",
    "state = MarketState(stock_price = 100., interest_rate = 0.)\n",
    "\n",
    "model = Heston(state.stock_price, heston_params.v0, heston_params.kappa, heston_params.vbar, heston_params.gamma, heston_params.rho, state.interest_rate)\n",
    "kwargs = {}"
   ]
  },
  {
   "cell_type": "markdown",
   "metadata": {},
   "source": [
    "### At the money"
   ]
  },
  {
   "cell_type": "code",
   "execution_count": 3,
   "metadata": {},
   "outputs": [],
   "source": [
    "strike = 100.\n",
    "T = 1.\n",
    "payoff = european_call_payoff(T, strike, state.interest_rate)\n",
    "\n",
    "common_mc_params = {\"absolute_error\": 5e-2, \"batch_size\": 100_000, \"state\": state, \"heston_params\": heston_params, \"payoff\": payoff, \"T\": T, \"random_seed\": 42, \"verbose\": True}"
   ]
  },
  {
   "cell_type": "code",
   "execution_count": 4,
   "metadata": {},
   "outputs": [
    {
     "data": {
      "text/plain": [
       "16.69960076395676"
      ]
     },
     "execution_count": 4,
     "metadata": {},
     "output_type": "execute_result"
    }
   ],
   "source": [
    "model.call_price(T, strike)"
   ]
  },
  {
   "cell_type": "code",
   "execution_count": 5,
   "metadata": {},
   "outputs": [
    {
     "name": "stdout",
     "output_type": "stream",
     "text": [
      "Random seed:            42\n",
      "Number of simulate calls: 27\n",
      "MAX_ITER:                 100000\n",
      "Number of paths:          5400000\n",
      "Absolute error:           0.05\n",
      "Length of the conf intl:  0.04966579290387745\n",
      "Confidence level:         0.05\n",
      "\n"
     ]
    },
    {
     "data": {
      "text/plain": [
       "16.66115162389018"
      ]
     },
     "execution_count": 5,
     "metadata": {},
     "output_type": "execute_result"
    }
   ],
   "source": [
    "mc_price(N_T = 100, simulate = simulate_heston_euler, **common_mc_params)"
   ]
  },
  {
   "cell_type": "code",
   "execution_count": 6,
   "metadata": {},
   "outputs": [
    {
     "name": "stdout",
     "output_type": "stream",
     "text": [
      "Random seed:            42\n",
      "Number of simulate calls: 27\n",
      "MAX_ITER:                 100000\n",
      "Number of paths:          5400000\n",
      "Absolute error:           0.05\n",
      "Length of the conf intl:  0.04928612712733215\n",
      "Confidence level:         0.05\n",
      "\n"
     ]
    },
    {
     "data": {
      "text/plain": [
       "16.66528936231248"
      ]
     },
     "execution_count": 6,
     "metadata": {},
     "output_type": "execute_result"
    }
   ],
   "source": [
    "mc_price(N_T = 50, simulate = simulate_heston_andersen_qe, **common_mc_params)"
   ]
  },
  {
   "cell_type": "code",
   "execution_count": 7,
   "metadata": {},
   "outputs": [],
   "source": [
    "r_x = np.load(r\"Data/anderson tg/r_x.npy\")\n",
    "f_nu_y = np.load(r\"Data/anderson tg/f_nu_y.npy\")\n",
    "f_sigma_y = np.load(r\"Data/anderson tg/f_sigma_y.npy\")\n",
    "kwargs = {'x_grid' : r_x, 'f_nu_grid' : f_nu_y, 'f_sigma_grid' : f_sigma_y }"
   ]
  },
  {
   "cell_type": "code",
   "execution_count": 8,
   "metadata": {},
   "outputs": [
    {
     "name": "stdout",
     "output_type": "stream",
     "text": [
      "Random seed:            42\n",
      "Number of simulate calls: 27\n",
      "MAX_ITER:                 100000\n",
      "Number of paths:          5400000\n",
      "Absolute error:           0.05\n",
      "Length of the conf intl:  0.04915945814918822\n",
      "Confidence level:         0.05\n",
      "\n"
     ]
    },
    {
     "data": {
      "text/plain": [
       "16.65018792660546"
      ]
     },
     "execution_count": 8,
     "metadata": {},
     "output_type": "execute_result"
    }
   ],
   "source": [
    "mc_price(N_T = 50, simulate = simulate_heston_andersen_tg, **common_mc_params, **kwargs)"
   ]
  },
  {
   "cell_type": "code",
   "execution_count": null,
   "metadata": {},
   "outputs": [],
   "source": [
    "for scheme in [simulate_heston_euler, simulate_heston_andersen_qe, simulate_heston_andersen_tg]:\n",
    "    print(scheme.__name__, \"\\n\")\n",
    "    for bs in range(50_000, 150_000, 10_000):\n",
    "        print(bs)\n",
    "        %timeit -r1 mc_price(N_T = 50, absolute_error=5e-2, verbose = False, state = state, payoff = payoff, simulate = scheme, batch_size=bs, heston_params = heston_params, T = T)\n",
    "\n",
    "    print(\"\\n\\n\\n\\n\")"
   ]
  }
 ],
 "metadata": {
  "kernelspec": {
   "display_name": "base",
   "language": "python",
   "name": "python3"
  },
  "language_info": {
   "codemirror_mode": {
    "name": "ipython",
    "version": 3
   },
   "file_extension": ".py",
   "mimetype": "text/x-python",
   "name": "python",
   "nbconvert_exporter": "python",
   "pygments_lexer": "ipython3",
   "version": "3.9.13"
  },
  "vscode": {
   "interpreter": {
    "hash": "ad2bdc8ecc057115af97d19610ffacc2b4e99fae6737bb82f5d7fb13d2f2c186"
   }
  }
 },
 "nbformat": 4,
 "nbformat_minor": 4
}
