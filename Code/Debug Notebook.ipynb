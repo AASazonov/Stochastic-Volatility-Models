{
 "cells": [
  {
   "cell_type": "code",
   "execution_count": 23,
   "metadata": {},
   "outputs": [],
   "source": [
    "import numpy as np\n",
    "import pandas as pd\n",
    "import matplotlib.pyplot as plt\n",
    "import scipy.stats as sps\n",
    "import math\n",
    "\n",
    "from ipywidgets import interact\n",
    "\n",
    "from ipywidgets import widgets\n",
    "from tqdm.auto import tqdm\n",
    "\n",
    "from dataclasses import dataclass\n",
    "from typing import Union, Callable, Optional\n",
    "from copy import deepcopy\n",
    "from copy import error\n",
    "from scipy.optimize import root_scalar, brentq\n",
    "from dataclasses import dataclass\n",
    "from scipy.special import iv\n",
    "from scipy.stats import bernoulli\n",
    "from scipy.interpolate import RectBivariateSpline\n",
    "from scipy.optimize import newton\n",
    "from scipy.stats import norm\n",
    "\n",
    "import warnings\n",
    "from scipy.stats import norm\n",
    "warnings.filterwarnings(\"ignore\")\n",
    "\n",
    "from vol.vol import Heston\n",
    "\n",
    "import hestonmc\n",
    "from importlib import reload\n",
    "reload(hestonmc)\n",
    "\n",
    "from hestonmc import MarketState, HestonParameters, mc_price, simulate_heston_euler, simulate_heston_andersen_qe, simulate_heston_andersen_tg"
   ]
  },
  {
   "cell_type": "markdown",
   "metadata": {},
   "source": [
    "## Tests"
   ]
  },
  {
   "cell_type": "code",
   "execution_count": 24,
   "metadata": {},
   "outputs": [],
   "source": [
    "heston_parameters = HestonParameters(kappa = 1.3125, gamma = 0.5125, rho = -0.3937, vbar = 0.0641, v0 = 0.3)\n",
    "# kappa = 1.3125, gamma = 0.7125, rho = -0.3937, vbar = 0.0641, v0 = 0.3\n",
    "state = MarketState(stock_price = 100., interest_rate = 0.2)\n",
    "\n",
    "params = heston_parameters\n",
    "model = Heston(state.stock_price, heston_parameters.v0, heston_parameters.kappa, heston_parameters.vbar, heston_parameters.gamma, heston_parameters.rho, state.interest_rate)\n",
    "kwargs = {}"
   ]
  },
  {
   "cell_type": "code",
   "execution_count": 25,
   "metadata": {},
   "outputs": [],
   "source": [
    "def get_payoff(maturity: float,\n",
    "               strike: float,\n",
    "               interest_rate: float = 0.):\n",
    "    def payoff(St: np.ndarray):\n",
    "        DF = np.exp( - interest_rate * maturity)\n",
    "        return np.maximum(St - strike, 0.)*DF\n",
    "\n",
    "    return payoff"
   ]
  },
  {
   "cell_type": "markdown",
   "metadata": {},
   "source": [
    "### At the money"
   ]
  },
  {
   "cell_type": "code",
   "execution_count": 26,
   "metadata": {},
   "outputs": [],
   "source": [
    "strike = 100.\n",
    "T = 1.\n",
    "payoff = get_payoff(T, strike, state.interest_rate)"
   ]
  },
  {
   "cell_type": "code",
   "execution_count": 27,
   "metadata": {},
   "outputs": [
    {
     "name": "stdout",
     "output_type": "stream",
     "text": [
      "22.735939055676866\n"
     ]
    }
   ],
   "source": [
    "theory = model.call_price(T, strike)\n",
    "print(theory)"
   ]
  },
  {
   "cell_type": "code",
   "execution_count": 28,
   "metadata": {},
   "outputs": [
    {
     "name": "stdout",
     "output_type": "stream",
     "text": [
      "Number of iterations:   744\n",
      "Number of simulations:  7440000\n",
      "Absolute error:         0.04999268822764575\n",
      "Confidence level:       0.05\n",
      "\n",
      "26.29926158466383\n"
     ]
    }
   ],
   "source": [
    "np.random.seed(42)\n",
    "euler    = mc_price(N_T = 100, absolute_error=5e-2, market_state = state, payoff = payoff, simulate = simulate_heston_euler,\n",
    "                    debug = True, params = params, T = T, **kwargs)\n",
    "print(euler)"
   ]
  },
  {
   "cell_type": "code",
   "execution_count": 29,
   "metadata": {},
   "outputs": [
    {
     "name": "stdout",
     "output_type": "stream",
     "text": [
      "Number of iterations:   739\n",
      "Number of simulations:  7390000\n",
      "Absolute error:         0.049995412365741544\n",
      "Confidence level:       0.05\n",
      "\n",
      "26.34789538008171\n"
     ]
    }
   ],
   "source": [
    "np.random.seed(42)\n",
    "andersen = mc_price(N_T = 100, absolute_error=5e-2, market_state = state, payoff = payoff, simulate = simulate_heston_andersen_qe, \n",
    "                    debug = True, params = params, T = T, **kwargs)\n",
    "print(andersen)"
   ]
  },
  {
   "cell_type": "code",
   "execution_count": 30,
   "metadata": {},
   "outputs": [],
   "source": [
    "r_x = np.load(r\"Data/anderson tg/r_x.npy\")\n",
    "f_nu_y = np.load(r\"Data/anderson tg/f_nu_y.npy\")\n",
    "f_sigma_y = np.load(r\"Data/anderson tg/f_sigma_y.npy\")"
   ]
  },
  {
   "cell_type": "code",
   "execution_count": 31,
   "metadata": {},
   "outputs": [
    {
     "name": "stdout",
     "output_type": "stream",
     "text": [
      "Number of iterations:   740\n",
      "Number of simulations:  7400000\n",
      "Absolute error:         0.0499969627312308\n",
      "Confidence level:       0.05\n",
      "\n",
      "26.35216806933968\n"
     ]
    }
   ],
   "source": [
    "np.random.seed(42)\n",
    "kwargs = {'x_grid' : r_x, 'f_nu_grid' : f_nu_y, 'f_sigma_grid' : f_sigma_y }\n",
    "andersen = mc_price(N_T = 100, absolute_error=5e-2, market_state = state, payoff = payoff, simulate = simulate_heston_andersen_tg, \n",
    "                    debug = True,  params = params, T = T, **kwargs)\n",
    "kwargs = {}\n",
    "print(andersen)"
   ]
  },
  {
   "cell_type": "markdown",
   "metadata": {},
   "source": [
    "### Out of the money"
   ]
  },
  {
   "cell_type": "code",
   "execution_count": null,
   "metadata": {},
   "outputs": [],
   "source": [
    "strike = 0.01\n",
    "payoff = get_payoff(T, strike, state.interest_rate)"
   ]
  },
  {
   "cell_type": "markdown",
   "metadata": {},
   "source": [
    "### Implied volatility"
   ]
  },
  {
   "cell_type": "code",
   "execution_count": null,
   "metadata": {},
   "outputs": [],
   "source": [
    "def d_1(q,T,S,K,r):\n",
    "    denom=1/(q*np.sqrt(T))\n",
    "    log=np.log(S/K)\n",
    "    s2=T*(r+q*q/2)\n",
    "    return denom*(log+s2)\n",
    "\n",
    "def d_2(q,T,S,K,r):\n",
    "    denom=1/(q*np.sqrt(T))\n",
    "    log=np.log(S/K)\n",
    "    s2=T*(r-q*q/2)\n",
    "    \n",
    "    return denom*(log+s2)\n",
    "\n",
    "def calc_iv(option: CallStockOption, state: MarketState, option_price: float):\n",
    "    \n",
    "    T=option.expiration_time\n",
    "    K=option.strike_price\n",
    "    S=state.stock_price\n",
    "    r=state.interest_rate    \n",
    "    N=sps.norm()\n",
    "    \n",
    "    \n",
    "    def f(q):\n",
    "        d1=d_1(q,T,S,K,r)\n",
    "        d2=d_2(q,T,S,K,r)\n",
    "        return S*N.cdf(d1)-K*(np.exp(-r*T))*N.cdf(d2)-option_price\n",
    "    \n",
    "    def fprime(q):\n",
    "        d1=d_1(q,T,S,K,r)\n",
    "        return S*sps.norm().pdf(d1)*np.sqrt(T)\n",
    "    \n",
    "    sol = root_scalar(f, x0=0.5, fprime=fprime, method='newton')\n",
    "    return sol.root\n",
    "\n"
   ]
  },
  {
   "cell_type": "code",
   "execution_count": null,
   "metadata": {},
   "outputs": [],
   "source": [
    "strikes = np.arange(80, 120, 2)\n",
    "strikes"
   ]
  },
  {
   "cell_type": "code",
   "execution_count": null,
   "metadata": {},
   "outputs": [],
   "source": [
    "call_price = np.array([30.096826945107107,\n",
    " 28.86569299569351,\n",
    " 27.627749990421822,\n",
    " 26.468755491540694,\n",
    " 25.31876428557471,\n",
    " 24.24782290614315,\n",
    " 23.16942316862601,\n",
    " 22.12935496069162,\n",
    " 21.079816460198398,\n",
    " 20.20119494244462,\n",
    " 19.288858679686502,\n",
    " 18.392107111749084,\n",
    " 17.50127598061397,\n",
    " 16.701957005015792,\n",
    " 15.90122188123928,\n",
    " 15.14196593075513,\n",
    " 14.43621999411162,\n",
    " 13.722786552930495,\n",
    " 13.069519364876335,\n",
    " 12.47747576375882])"
   ]
  },
  {
   "cell_type": "code",
   "execution_count": null,
   "metadata": {},
   "outputs": [],
   "source": [
    "IV = np.empty_like(call_price)\n",
    "\n",
    "for j in range(len(call_price)):\n",
    "        IV[j] = calc_iv(option=CallStockOption(strikes[j], T), \n",
    "                           state=state, \n",
    "                           option_price=call_price[j])"
   ]
  },
  {
   "cell_type": "code",
   "execution_count": null,
   "metadata": {},
   "outputs": [],
   "source": [
    "_, ax = plt.subplots(figsize=(15, 5))\n",
    "\n",
    "ax.plot(strikes, IV, \"o-\")\n",
    "# ax.legend()\n",
    "ax.set_xlabel(\"Strike, $\")\n",
    "ax.set_ylabel(\"IV\")\n",
    "ax.set_title(\"Implied Volatility\")\n",
    "plt.show()"
   ]
  },
  {
   "cell_type": "code",
   "execution_count": null,
   "metadata": {},
   "outputs": [],
   "source": [
    "model = Heston(state.stock_price, heston_parameters.v0, heston_parameters.kappa, \n",
    "                         heston_parameters.vbar, heston_parameters.gamma, heston_parameters.rho, state.interest_rate)"
   ]
  },
  {
   "cell_type": "code",
   "execution_count": null,
   "metadata": {},
   "outputs": [],
   "source": [
    "call_price = np.zeros(20)\n",
    "\n",
    "for j in range(20):\n",
    "    call_price[j] = model.call_price(2., strikes[j])"
   ]
  },
  {
   "cell_type": "code",
   "execution_count": null,
   "metadata": {},
   "outputs": [],
   "source": [
    "IV = np.empty_like(call_price)\n",
    "\n",
    "for j in range(len(call_price)):\n",
    "        IV[j] = calc_iv(option=CallStockOption(strikes[j], T), \n",
    "                           state=state, \n",
    "                           option_price=call_price[j])"
   ]
  },
  {
   "cell_type": "code",
   "execution_count": null,
   "metadata": {},
   "outputs": [],
   "source": [
    "_, ax = plt.subplots(figsize=(15, 5))\n",
    "\n",
    "ax.plot(strikes, IV, \"o-\")\n",
    "# ax.legend()\n",
    "ax.set_xlabel(\"Strike, $\")\n",
    "ax.set_ylabel(\"IV\")\n",
    "ax.set_title(\"Implied Volatility\")\n",
    "plt.show()"
   ]
  },
  {
   "cell_type": "code",
   "execution_count": null,
   "metadata": {},
   "outputs": [],
   "source": [
    "Z = np.random.normal(size=1000)"
   ]
  }
 ],
 "metadata": {
  "kernelspec": {
   "display_name": "Python 3",
   "language": "python",
   "name": "python3"
  },
  "language_info": {
   "codemirror_mode": {
    "name": "ipython",
    "version": 3
   },
   "file_extension": ".py",
   "mimetype": "text/x-python",
   "name": "python",
   "nbconvert_exporter": "python",
   "pygments_lexer": "ipython3",
   "version": "3.10.9"
  },
  "vscode": {
   "interpreter": {
    "hash": "b0fa6594d8f4cbf19f97940f81e996739fb7646882a419484c72d19e05852a7e"
   }
  }
 },
 "nbformat": 4,
 "nbformat_minor": 4
}
