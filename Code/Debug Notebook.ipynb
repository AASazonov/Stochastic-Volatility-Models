{
 "cells": [
  {
   "cell_type": "code",
   "execution_count": 2,
   "metadata": {},
   "outputs": [],
   "source": [
    "import numpy as np\n",
    "import pandas as pd\n",
    "import matplotlib.pyplot as plt\n",
    "import scipy.stats as sps\n",
    "import math\n",
    "\n",
    "from ipywidgets import interact\n",
    "\n",
    "from ipywidgets import widgets\n",
    "from tqdm.auto import tqdm\n",
    "\n",
    "from dataclasses import dataclass\n",
    "from typing import Union, Callable, Optional\n",
    "from copy import deepcopy\n",
    "from copy import error\n",
    "from scipy.optimize import root_scalar, brentq\n",
    "from dataclasses import dataclass\n",
    "from scipy.special import iv\n",
    "from scipy.stats import bernoulli\n",
    "from scipy.interpolate import RectBivariateSpline\n",
    "\n",
    "from vol.vol import Heston\n",
    "\n",
    "import warnings\n",
    "from scipy.stats import norm\n",
    "warnings.filterwarnings(\"ignore\")\n",
    "\n",
    "@dataclass\n",
    "class StockOption:\n",
    "    strike_price:    Union[float, np.ndarray]\n",
    "    expiration_time: Union[float, np.ndarray]  # in years\n",
    "    is_call:         bool\n",
    "\n",
    "@dataclass\n",
    "class CallStockOption(StockOption):\n",
    "    def __init__(self, strike_price, expiration_time):\n",
    "        super().__init__(strike_price, expiration_time, True)\n",
    "\n",
    "@dataclass\n",
    "class PutStockOption(StockOption):\n",
    "    def __init__(self, strike_price, expiration_time):\n",
    "        super().__init__(strike_price, expiration_time, False)\n",
    "\n",
    "@dataclass\n",
    "class HestonParameters:\n",
    "    kappa:  Union[float, np.ndarray]\n",
    "    gamma:  Union[float, np.ndarray]\n",
    "    rho:    Union[float, np.ndarray]\n",
    "    vbar:   Union[float, np.ndarray]\n",
    "    v0:     Union[float, np.ndarray]\n",
    "        \n",
    "@dataclass\n",
    "class MarketState:\n",
    "    stock_price:   Union[float, np.ndarray]\n",
    "    interest_rate: Union[float, np.ndarray]"
   ]
  },
  {
   "attachments": {},
   "cell_type": "markdown",
   "metadata": {},
   "source": [
    "# Control Interface"
   ]
  },
  {
   "cell_type": "code",
   "execution_count": 21,
   "metadata": {},
   "outputs": [],
   "source": [
    "def get_len_conf_interval(data:             np.ndarray, \n",
    "                          confidence_level: float = 0.05):\n",
    "    \"\"\"Get the confidence interval length for a given confidence level.\n",
    "    Args:\n",
    "        data:             The data to compute the confidence interval for.\n",
    "        confidence_level: The confidence level to use.\n",
    "    \n",
    "    Returns:\n",
    "        The confidence interval.\n",
    "    \"\"\"\n",
    "    return -2*sps.norm.ppf(confidence_level*0.5) * np.sqrt(np.var(data) / len(data))\n",
    "\n",
    "def mc_price(payoff:                 Callable,\n",
    "             simulate:               Callable,\n",
    "             market_state:           MarketState,\n",
    "             params:                 HestonParameters,\n",
    "             T:                      float    = 1.,\n",
    "             dt:                     float    = 1e-2,\n",
    "             absolute_error:         float    = 0.01,\n",
    "             confidence_level:       float    = 0.05,\n",
    "             batch_size:             int      = 10_000,\n",
    "             MAX_ITER:               int      = 100_000,\n",
    "             control_variate_payoff: Callable = None,\n",
    "             debug:                  bool     = False,\n",
    "             **kwargs):\n",
    "    \"\"\"A function that performs a Monte-Carlo based pricing of a \n",
    "       derivative with a given payoff (possibly path-dependent)\n",
    "       under the Heston model.\n",
    "\n",
    "    Args:\n",
    "        payoff (Callable):                  payoff function\n",
    "        simulate (Callable):                simulation engine\n",
    "        market_state (MarketState):         market state\n",
    "        params (HestonParameters):          Heston parameters\n",
    "        T (float, optional):                Contract expiration time. Defaults to 1.. \n",
    "        absolute_error (float, optional):   absolute error of the price. Defaults to 0.01 (corresponds to 1 cent). \n",
    "        confidence_level (float, optional): confidence level for the price. Defaults to 0.05.\n",
    "        batch_size (int, optional):         path-batch size. Defaults to 10_000.\n",
    "        MAX_ITER (int, optional):           maximum number of iterations. Defaults to 100_000.  \n",
    "\n",
    "    Returns:    \n",
    "        The price of the derivative.\n",
    "              \n",
    "\"\"\"\n",
    "\n",
    "    arg = {'state':           market_state, #renamed to market_state from state\n",
    "           'heston_params':   params, \n",
    "           'time':            T , \n",
    "           'dt':              dt, \n",
    "           'n_simulations':   batch_size}\n",
    "\n",
    "    args       = {**arg, **kwargs}\n",
    "    iter_count = 0   \n",
    "\n",
    "    length_conf_interval   = 1.\n",
    "    n                      = 0\n",
    "    C                      = -2*sps.norm.ppf(confidence_level*0.5)\n",
    "    derivative_price_array = np.array([], dtype=np.float64)\n",
    "\n",
    "    # np.sqrt(np.var(data) / len(data))\n",
    "\n",
    "    while length_conf_interval > absolute_error and iter_count < MAX_ITER:\n",
    "        derivative_price_array = np.append(derivative_price_array, payoff(simulate(**args)['price']))\n",
    "        iter_count+=1\n",
    "        n+=batch_size\n",
    "        length_conf_interval = C * np.sqrt(np.var(derivative_price_array) / derivative_price_array.size)\n",
    "\n",
    "        if debug:\n",
    "            print(f\"Current price: {np.mean(derivative_price_array):.4f} +/- {get_len_conf_interval(derivative_price_array):.4f}\")\n",
    "\n",
    "    print(f\"Number of iterations:   {iter_count}\\nNumber of simulations:  {n}\\n\")\n",
    "\n",
    "    return np.mean(derivative_price_array)"
   ]
  },
  {
   "cell_type": "markdown",
   "metadata": {},
   "source": [
    "## Euler scheme"
   ]
  },
  {
   "cell_type": "markdown",
   "metadata": {},
   "source": [
    "It can be simulated in discrete time using Euler scheme by selecting a time step $∆t$ starting at $S_0, V_0$:\n",
    "\n",
    "$$\\log s_{i} = \\log s_{i-1} + (r - v_{i-1}^+/2)\\Delta t+ \\sqrt{v_{i-1}^+ \\Delta t}(  ρε^1_{i} + \\sqrt{1- ρ^2} ε^2_{i})],$$\n",
    "\n",
    "$$v_{i} =  v_{i-1} + \\kappa (\\bar V-v_{i-1}^+)\\Delta t + \\gamma \\sqrt{ v_{i-1}^+ \\Delta t}ε^1_{i}$$\n",
    "\n",
    "(section 2.3 eq. 6-7 Andersen (2006) )"
   ]
  },
  {
   "cell_type": "code",
   "execution_count": 4,
   "metadata": {},
   "outputs": [],
   "source": [
    "def simulate_heston_euler(state:           MarketState,\n",
    "                          heston_params:   HestonParameters,\n",
    "                          time:            float = 1.,\n",
    "                          dt:              float = 1e-2,\n",
    "                          n_simulations:   int = 10_000\n",
    "                          ) -> dict:\n",
    "    \"\"\"Simulation engine for the Heston model using the Euler scheme.\n",
    "\n",
    "    Args:\n",
    "        state (MarketState): _description_\n",
    "        heston_params (HestonParameters): _description_\n",
    "        time (float, optional): _description_. Defaults to 1..\n",
    "        dt (float, optional): _description_. Defaults to 1e-2.\n",
    "        time_batch_size (int, optional): _description_. Defaults to 10_000.\n",
    "        n_simulations (int, optional): _description_. Defaults to 10_000.\n",
    "\n",
    "    Raises:\n",
    "        Error: _description_\n",
    "\n",
    "    Returns:\n",
    "        dict: _description_\n",
    "    \"\"\"    \n",
    "    if time<=0:\n",
    "        raise error(\"Time must be bigger than 0\")\n",
    "    \n",
    "    # initialize market and model parameters\n",
    "    r, s0 = state.interest_rate, state.stock_price\n",
    "    \n",
    "    v0, rho, kappa, vbar, gamma = heston_params.v0, heston_params.rho, heston_params.kappa, \\\n",
    "                                  heston_params.vbar, heston_params.gamma\n",
    "    \n",
    "    vt         = np.zeros(n_simulations)\n",
    "    vt[:]      = v0\n",
    "    log_st     = np.zeros(n_simulations)\n",
    "    log_st[:]  = np.log(s0)\n",
    "    N_T        = int(time / dt)\n",
    "    \n",
    "    Z1         = np.random.normal(size=(n_simulations, N_T))\n",
    "    Z2         = np.random.normal(size=(n_simulations, N_T))\n",
    "    V          = np.zeros([n_simulations, N_T])\n",
    "    V[:, 0]    = vt\n",
    "    \n",
    "    logS       = np.zeros([n_simulations, N_T])\n",
    "    logS[:, 0] = log_st\n",
    "\n",
    "    for i in range(0,  N_T-1):\n",
    "        vmax         = np.maximum(V[:, i],0)\n",
    "        S1           = (r - 0.5 * vmax) * (dt)\n",
    "        S2           = np.sqrt(vmax*(dt)) * Z1[:, i]\n",
    "        logS[:, i+1] = logS[:, i] + S1 + S2\n",
    "        V1           = kappa*(vbar - vmax)*(dt)\n",
    "        V2           = gamma*np.sqrt(vmax*(dt))*(rho*Z1[:, i]+np.sqrt(1-rho**2)*Z2[:, i])\n",
    "        V[:, i+1]    = V[:, i] + V1 + V2\n",
    "\n",
    "    vt     = V[:, N_T-1]\n",
    "    log_st = logS[:, N_T-1]\n",
    "        \n",
    "    return {\"price\": np.exp(log_st), \"volatility\": vt}"
   ]
  },
  {
   "attachments": {},
   "cell_type": "markdown",
   "metadata": {},
   "source": [
    "## Andersen scheme"
   ]
  },
  {
   "cell_type": "code",
   "execution_count": 5,
   "metadata": {},
   "outputs": [],
   "source": [
    "def simulate_heston_andersen_qe(state:        MarketState,\n",
    "                               heston_params: HestonParameters,\n",
    "                               time:          float = 1.,\n",
    "                               dt:            float = 1e-2,\n",
    "                               n_simulations: int = 10_000,\n",
    "                               Psi_c:         float=1.5,\n",
    "                               gamma_1:       float=0.0\n",
    "\n",
    "                               \n",
    "                               ) -> dict: \n",
    "    \"\"\"Simulation engine for the Heston model using the Quadratic-Exponential Andersen scheme.\n",
    "\n",
    "    Args:\n",
    "        state (MarketState): _description_\n",
    "        heston_params (HestonParameters): _description_\n",
    "        time (float, optional): _description_. Defaults to 1..\n",
    "        dt (float, optional): _description_. Defaults to 1e-2.\n",
    "        n_simulations (int, optional): _description_. Defaults to 10_000.\n",
    "        Psi_c (float, optional): _description_. Defaults to 1.5.\n",
    "        gamma_1 (float, optional): _description_. Defaults to 0.5.\n",
    "\n",
    "    Raises:\n",
    "        Error: _description_\n",
    "        Error: _description_\n",
    "\n",
    "    Returns:\n",
    "        dict: _description_\n",
    "    \"\"\"    \n",
    "    \n",
    "    if Psi_c>2 or Psi_c<1:\n",
    "        raise error('1<=Psi_c<=2 ')\n",
    "    if gamma_1 >1 or gamma_1<0:\n",
    "        raise error('0<=gamma_1<=1')\n",
    "        \n",
    "    gamma_2 = 1.0 - gamma_1\n",
    "    \n",
    "    r, s0 = state.interest_rate, state.stock_price\n",
    "    v0, rho, kappa, vbar, gamma = heston_params.v0, heston_params.rho, heston_params.kappa, heston_params.vbar, heston_params.gamma\n",
    "    \n",
    "    \n",
    "    E          = np.exp(-kappa*dt)\n",
    "    K_0        = -(rho*kappa*vbar/gamma)*dt\n",
    "    K_1        = gamma_1*dt*(rho*kappa/gamma - 0.5) - rho/gamma\n",
    "    K_2        = gamma_2*dt*(rho*kappa/gamma - 0.5) + rho/gamma\n",
    "    K_3        = gamma_1*dt*(1.0 - rho**2)\n",
    "    K_4        = gamma_2*dt*(1.0 - rho**2)\n",
    "    N_T        = int(time / dt)\n",
    "    \n",
    "    vt         = np.zeros(n_simulations)\n",
    "    vt[:]      = v0\n",
    "    log_st     = np.zeros(n_simulations)\n",
    "    log_st[:]  = np.log(s0)\n",
    "    \n",
    "    mean_St    = 0.\n",
    "    mean_vt    = 0.\n",
    "        \n",
    "    vt[:]      = v0\n",
    "    log_st[:]  = np.log(s0)\n",
    "        \n",
    "    V          = np.zeros([n_simulations, N_T])\n",
    "    V[:, 0]    = vt\n",
    "\n",
    "    logS       = np.zeros([n_simulations, N_T])\n",
    "    logS[:, 0] = log_st\n",
    "\n",
    "    Z          = np.random.normal(size=(n_simulations, N_T))\n",
    "\n",
    "\n",
    "    for i in range(N_T - 1):\n",
    "        m            = vbar+(V[:, i] - vbar)*E\n",
    "        s_2          = (V[:, i]*(gamma**2)*E/kappa)*(1.0 - E) + (vbar*gamma**2)/(2.0*kappa)*((1-E)**2)\n",
    "        Psi          = s_2/(m**2) # np.power\n",
    "\n",
    "        cond         = np.where(Psi<=Psi_c)\n",
    "        c            = 2 / Psi[cond]\n",
    "        b            = c - 1 + np.sqrt(c*(c - 1.))\n",
    "        a            = m[cond]/(1+b)\n",
    "        b            = np.sqrt(b)\n",
    "        Z_V          = np.random.normal(size=cond[0].shape[0])\n",
    "        V[cond, i+1] = a*((b+Z_V)**2)\n",
    "\n",
    "        cond         = np.where(Psi>Psi_c)\n",
    "        p            = (Psi[cond] - 1)/(Psi[cond] + 1)\n",
    "        beta         = (1.0 - p)/m[cond]\n",
    "\n",
    "        # ksi = np.random.binomial(1, 1.0-p, size=cond[0].shape[0])\n",
    "        # eta = np.random.exponential(scale = 1/beta, size=cond[0].shape[0])\n",
    "        U           = np.random.uniform(0., 1. , size=cond[0].shape[0])\n",
    "\n",
    "        V[cond,i+1] = np.where(U < p, 0., np.log((1-p)/(1-U))/beta)\n",
    "\n",
    "\n",
    "        logS[:,i+1] = logS[:,i] + r*dt+K_0 + K_1*V[:,i] + K_2*V[:,i+1] \\\n",
    "                        + np.sqrt(K_3*V[:,i]+K_4*V[:,i+1]) * Z[:,i]\n",
    "\n",
    "    vt     = V[:, N_T-1]\n",
    "    log_st = logS[:, N_T-1]\n",
    "            \n",
    "    return {\"price\": np.exp(log_st), \"volatility\": vt}"
   ]
  },
  {
   "cell_type": "markdown",
   "metadata": {},
   "source": [
    "## Broadie - Kaya scheme"
   ]
  },
  {
   "cell_type": "code",
   "execution_count": 20,
   "metadata": {},
   "outputs": [],
   "source": [
    "def cir_chi_sq_sample(heston_params: HestonParameters,\n",
    "                      dt:            float,\n",
    "                      v_i:           np.array,\n",
    "                      n_simulations: int):\n",
    "    \"\"\"Samples chi_squared statistics for v_{i+1} conditional on \n",
    "       v_i and parameters of Hestom model. \n",
    "        \n",
    "    Args:\n",
    "        heston_params (HestonParameters): parameters of Heston model\n",
    "        dt (float): time step \n",
    "        v_i: current volatility value\n",
    "        n_simulations (int): number of simulations.\n",
    "        \n",
    "    Returns:\n",
    "        np.array: sampled chi_squared statistics \n",
    "    \"\"\"\n",
    "    kappa, vbar, gamma = heston_params.kappa, heston_params.vbar, heston_params.gamma\n",
    "    \n",
    "    barkappa=v_i*(4*kappa*np.exp(-kappa*dt))/(gamma**2 * (1 - np.exp(-kappa*dt)))\n",
    "    d=(4*kappa*vbar)/(gamma**2)\n",
    "    c=((gamma**2)/(4*kappa))*(1-np.exp(-kappa*dt))\n",
    "    \n",
    "    return  c*np.random.noncentral_chisquare(size = n_simulations, df   = d, nonc = barkappa)\n",
    "\n",
    "\n",
    "def Phi(a:             Union[float, np.ndarray], \n",
    "        V:             Union[float, np.ndarray],\n",
    "        time:          Union[float, np.ndarray],\n",
    "        heston_params: HestonParameters\n",
    "        ) -> np.ndarray:\n",
    "    \n",
    "    \n",
    "    v0, rho, kappa, vbar, gamma = heston_params.v0, heston_params.rho, heston_params.kappa, \\\n",
    "                                        heston_params.vbar, heston_params.gamma\n",
    "    dt = time[1::]-time[:-1:]\n",
    "    \n",
    "    A=np.array(a)\n",
    "    gamma_a = np.sqrt(kappa**2 - 2*gamma**2*1j*A).reshape(1,1,len(A)).T\n",
    "    \n",
    "    E1 = np.exp(-kappa*dt)\n",
    "    E2 = np.exp(-gamma_a * dt)\n",
    "        \n",
    "    P1 = ((1.0-E1)*gamma_a/(kappa*(1.0-E2)))*np.exp(-0.5*(gamma_a - kappa)*dt)\n",
    "    \n",
    "    P2_2 = kappa * (1.0 + E1)/(1.0 - E1) - gamma_a*(1.0+E2)/(1-E2)\n",
    "    P2 = np.exp( (V[:,1::]+V[:,:-1:])/(gamma_a**2) * P2_2 )\n",
    "    \n",
    "    P3_1 = np.sqrt(V[:,1::]*V[:,:-1:])*4*gamma_a * np.exp(-0.5*gamma_a*dt) /(gamma**2 * (1.0 - E2))\n",
    "    P3_2 = np.sqrt(V[:,1::]*V[:,:-1:])*4*kappa*np.exp(-0.5*kappa*dt)/(gamma**2 * (1 - E1))\n",
    "    d=(4*kappa*vbar)/(gamma**2)\n",
    "    P3 = iv(0.5*d - 1, P3_1)/iv(0.5*d - 1, P3_2)\n",
    "    \n",
    "    return P1*P2*P3\n",
    "\n",
    "def Pr(V:             np.ndarray, \n",
    "       time:          np.ndarray,\n",
    "       X:             Union[np.ndarray, float],\n",
    "       heston_params: HestonParameters,\n",
    "       h:             float=1e-2, \n",
    "       eps:           float=1e-2\n",
    "       ) -> np.ndarray:\n",
    "    \n",
    "    x=np.array(X)\n",
    "    P=h*x/np.pi\n",
    "    S = 0.0\n",
    "    j = 1\n",
    "    while(True):\n",
    "        Sin=np.sin(h*j*x)/j\n",
    "        Phi_hj=Phi(h*j, V, time, heston_params)\n",
    "        S+=Sin.reshape(1,1,len(x)).T * Phi_hj[0]\n",
    "        if np.all(Phi_hj[0]<np.pi*eps*j/2.0):\n",
    "            break\n",
    "        j=j+1\n",
    "    \n",
    "    S=S*2.0/np.pi\n",
    "    return P+S\n",
    "\n",
    "def IV(V:             np.ndarray, \n",
    "       time:          np.ndarray,\n",
    "       heston_params: HestonParameters,\n",
    "       h:             float=1e-2, \n",
    "       eps:           float=1e-2\n",
    "       ) -> np.ndarray:\n",
    "    \n",
    "    U=np.random.uniform(size=(V.shape[0], V.shape[1] - 1))\n",
    "    \n",
    "    def f(x,i,j):\n",
    "        P=Pr(V, time, x, heston_params, h, eps)\n",
    "        return (P-U)[0][i,j]\n",
    "    \n",
    "    IVar = np.zeros((V.shape[0], V.shape[1] - 1))\n",
    "    \n",
    "    for i in range(IVar.shape[0]):\n",
    "        for j in range(IVar.shape[1]):     \n",
    "            IVar[i,j]=root_scalar(f, args=(i,j), x0=0.5, method='newton')\n",
    "    return IVar"
   ]
  },
  {
   "attachments": {},
   "cell_type": "markdown",
   "metadata": {},
   "source": [
    "## Tests"
   ]
  },
  {
   "cell_type": "code",
   "execution_count": 16,
   "metadata": {},
   "outputs": [],
   "source": [
    "heston_parameters = HestonParameters(kappa = 1.3125, gamma = 0.7125, rho = -0.3937, vbar = 0.0641, v0 = 0.3)\n",
    "\n",
    "state = MarketState(stock_price = 100., interest_rate = 0.)\n",
    "\n",
    "params = heston_parameters\n",
    "model = Heston(state.stock_price, heston_parameters.v0, heston_parameters.kappa, heston_parameters.vbar, heston_parameters.gamma, heston_parameters.rho, state.interest_rate)\n",
    "kwargs = {}"
   ]
  },
  {
   "cell_type": "code",
   "execution_count": 17,
   "metadata": {},
   "outputs": [],
   "source": [
    "def get_payoff(maturity: float,\n",
    "               strike: float,\n",
    "               interest_rate: float = 0.):\n",
    "    def payoff(St: np.ndarray):\n",
    "        DF = np.exp(-interest_rate * maturity)\n",
    "        return np.maximum(St - strike, 0)*DF\n",
    "\n",
    "    return payoff"
   ]
  },
  {
   "cell_type": "markdown",
   "metadata": {},
   "source": [
    "### At the money"
   ]
  },
  {
   "cell_type": "code",
   "execution_count": 18,
   "metadata": {},
   "outputs": [],
   "source": [
    "strike = 100.\n",
    "T = 1.\n",
    "payoff = get_payoff(T, strike, state.interest_rate)"
   ]
  },
  {
   "cell_type": "code",
   "execution_count": 19,
   "metadata": {},
   "outputs": [
    {
     "name": "stdout",
     "output_type": "stream",
     "text": [
      "16.173896895486777\n"
     ]
    }
   ],
   "source": [
    "theory = model.call_price(T, strike)\n",
    "print(theory)"
   ]
  },
  {
   "cell_type": "code",
   "execution_count": 24,
   "metadata": {},
   "outputs": [
    {
     "name": "stdout",
     "output_type": "stream",
     "text": [
      "Number of iterations:   500\n",
      "Number of simulations:  5000000\n",
      "\n",
      "16.14557202882823\n"
     ]
    }
   ],
   "source": [
    "np.random.seed(42)\n",
    "euler    = mc_price(dt = 1e-2, absolute_error=5e-2, market_state = state, payoff = payoff, simulate = simulate_heston_euler, params = params, T = T, **kwargs)\n",
    "print(euler)"
   ]
  },
  {
   "cell_type": "code",
   "execution_count": 25,
   "metadata": {},
   "outputs": [
    {
     "name": "stdout",
     "output_type": "stream",
     "text": [
      "Number of iterations:   496\n",
      "Number of simulations:  4960000\n",
      "\n",
      "16.144198186289234\n"
     ]
    }
   ],
   "source": [
    "np.random.seed(42)\n",
    "andersen = mc_price(dt = 1e-2, absolute_error=5e-2, market_state = state, payoff = payoff, simulate = simulate_heston_andersen_qe, params = params, T = T, **kwargs)\n",
    "print(andersen)"
   ]
  },
  {
   "cell_type": "code",
   "execution_count": 35,
   "metadata": {},
   "outputs": [
    {
     "name": "stdout",
     "output_type": "stream",
     "text": [
      "Number of iterations:   499\n",
      "16.141856095186746\n",
      "Number of iterations:   500\n",
      "16.16485690142346\n",
      "Number of iterations:   501\n",
      "16.162006575869245\n",
      "Number of iterations:   501\n",
      "16.172163674801727\n",
      "Number of iterations:   502\n",
      "16.16445622313361\n",
      "\n",
      "\n",
      "\n",
      "Number of iterations:   497\n",
      "16.13599096813387\n",
      "Number of iterations:   495\n",
      "16.138183069198718\n",
      "Number of iterations:   497\n",
      "16.144927377340313\n",
      "Number of iterations:   494\n",
      "16.13851449693267\n",
      "Number of iterations:   497\n",
      "16.14301732726582\n"
     ]
    }
   ],
   "source": [
    "for i in range(5):\n",
    "    euler    = mc_price(dt = 1e-2, absolute_error=5e-2, market_state = state, payoff = payoff, simulate = simulate_heston_euler, params = params, T = T, **kwargs)\n",
    "    print(euler)\n",
    "print(\"\\n\\n\")\n",
    "for i in range(5):\n",
    "    euler    = mc_price(dt = 1e-2, absolute_error=5e-2, market_state = state, payoff = payoff, simulate = simulate_heston_andersen_qe, params = params, T = T, **kwargs)\n",
    "    print(euler)"
   ]
  },
  {
   "cell_type": "markdown",
   "metadata": {},
   "source": [
    "### Out of the money"
   ]
  },
  {
   "cell_type": "code",
   "execution_count": 11,
   "metadata": {},
   "outputs": [],
   "source": [
    "strike = 500.\n",
    "payoff = get_payoff(T, strike, state.interest_rate)"
   ]
  },
  {
   "cell_type": "code",
   "execution_count": 12,
   "metadata": {},
   "outputs": [
    {
     "data": {
      "text/plain": [
       "0.004306995667860747"
      ]
     },
     "execution_count": 12,
     "metadata": {},
     "output_type": "execute_result"
    }
   ],
   "source": [
    "model.call_price(T, strike)"
   ]
  },
  {
   "cell_type": "code",
   "execution_count": 13,
   "metadata": {},
   "outputs": [
    {
     "name": "stdout",
     "output_type": "stream",
     "text": [
      "Number of iterations:   1\n",
      "0.0\n"
     ]
    }
   ],
   "source": [
    "np.random.seed(42)\n",
    "euler    = mc_price(dt = 1e-2, market_state = state, payoff = payoff, simulate = simulate_heston_euler, params = params, T = T, **kwargs)\n",
    "print(euler)"
   ]
  },
  {
   "cell_type": "code",
   "execution_count": 14,
   "metadata": {},
   "outputs": [
    {
     "name": "stdout",
     "output_type": "stream",
     "text": [
      "Number of iterations:   1\n",
      "0.0\n"
     ]
    }
   ],
   "source": [
    "np.random.seed(42)\n",
    "andersen = mc_price(dt = 1e-2, market_state = state, payoff = payoff, simulate = simulate_heston_andersen_qe, params = params, T = T, **kwargs)\n",
    "print(andersen)"
   ]
  },
  {
   "attachments": {},
   "cell_type": "markdown",
   "metadata": {},
   "source": [
    "### Implied volatility"
   ]
  },
  {
   "cell_type": "code",
   "execution_count": null,
   "metadata": {},
   "outputs": [],
   "source": [
    "def d_1(q,T,S,K,r):\n",
    "    denom=1/(q*np.sqrt(T))\n",
    "    log=np.log(S/K)\n",
    "    s2=T*(r+q*q/2)\n",
    "    return denom*(log+s2)\n",
    "\n",
    "def d_2(q,T,S,K,r):\n",
    "    denom=1/(q*np.sqrt(T))\n",
    "    log=np.log(S/K)\n",
    "    s2=T*(r-q*q/2)\n",
    "    \n",
    "    return denom*(log+s2)\n",
    "\n",
    "def calc_iv(option: CallStockOption, state: MarketState, option_price: float):\n",
    "    \n",
    "    T=option.expiration_time\n",
    "    K=option.strike_price\n",
    "    S=state.stock_price\n",
    "    r=state.interest_rate    \n",
    "    N=sps.norm()\n",
    "    \n",
    "    \n",
    "    def f(q):\n",
    "        d1=d_1(q,T,S,K,r)\n",
    "        d2=d_2(q,T,S,K,r)\n",
    "        return S*N.cdf(d1)-K*(np.exp(-r*T))*N.cdf(d2)-option_price\n",
    "    \n",
    "    def fprime(q):\n",
    "        d1=d_1(q,T,S,K,r)\n",
    "        return S*sps.norm().pdf(d1)*np.sqrt(T)\n",
    "    \n",
    "    sol = root_scalar(f, x0=0.5, fprime=fprime, method='newton')\n",
    "    return sol.root\n",
    "\n"
   ]
  },
  {
   "cell_type": "code",
   "execution_count": null,
   "metadata": {},
   "outputs": [],
   "source": [
    "strikes = np.arange(80, 120, 2)\n",
    "strikes"
   ]
  },
  {
   "cell_type": "code",
   "execution_count": null,
   "metadata": {},
   "outputs": [],
   "source": [
    "call_price = np.array([30.096826945107107,\n",
    " 28.86569299569351,\n",
    " 27.627749990421822,\n",
    " 26.468755491540694,\n",
    " 25.31876428557471,\n",
    " 24.24782290614315,\n",
    " 23.16942316862601,\n",
    " 22.12935496069162,\n",
    " 21.079816460198398,\n",
    " 20.20119494244462,\n",
    " 19.288858679686502,\n",
    " 18.392107111749084,\n",
    " 17.50127598061397,\n",
    " 16.701957005015792,\n",
    " 15.90122188123928,\n",
    " 15.14196593075513,\n",
    " 14.43621999411162,\n",
    " 13.722786552930495,\n",
    " 13.069519364876335,\n",
    " 12.47747576375882])"
   ]
  },
  {
   "cell_type": "code",
   "execution_count": null,
   "metadata": {},
   "outputs": [],
   "source": [
    "IV = np.empty_like(call_price)\n",
    "\n",
    "for j in range(len(call_price)):\n",
    "        IV[j] = calc_iv(option=CallStockOption(strikes[j], T), \n",
    "                           state=state, \n",
    "                           option_price=call_price[j])"
   ]
  },
  {
   "cell_type": "code",
   "execution_count": null,
   "metadata": {},
   "outputs": [],
   "source": [
    "_, ax = plt.subplots(figsize=(15, 5))\n",
    "\n",
    "ax.plot(strikes, IV, \"o-\")\n",
    "# ax.legend()\n",
    "ax.set_xlabel(\"Strike, $\")\n",
    "ax.set_ylabel(\"IV\")\n",
    "ax.set_title(\"Implied Volatility\")\n",
    "plt.show()"
   ]
  },
  {
   "cell_type": "code",
   "execution_count": null,
   "metadata": {},
   "outputs": [],
   "source": [
    "model = Heston(state.stock_price, heston_parameters.v0, heston_parameters.kappa, \n",
    "                         heston_parameters.vbar, heston_parameters.gamma, heston_parameters.rho, state.interest_rate)"
   ]
  },
  {
   "cell_type": "code",
   "execution_count": null,
   "metadata": {},
   "outputs": [],
   "source": [
    "call_price = np.zeros(20)\n",
    "\n",
    "for j in range(20):\n",
    "    call_price[j] = model.call_price(2., strikes[j])"
   ]
  },
  {
   "cell_type": "code",
   "execution_count": null,
   "metadata": {},
   "outputs": [],
   "source": [
    "IV = np.empty_like(call_price)\n",
    "\n",
    "for j in range(len(call_price)):\n",
    "        IV[j] = calc_iv(option=CallStockOption(strikes[j], T), \n",
    "                           state=state, \n",
    "                           option_price=call_price[j])"
   ]
  },
  {
   "cell_type": "code",
   "execution_count": null,
   "metadata": {},
   "outputs": [],
   "source": [
    "_, ax = plt.subplots(figsize=(15, 5))\n",
    "\n",
    "ax.plot(strikes, IV, \"o-\")\n",
    "# ax.legend()\n",
    "ax.set_xlabel(\"Strike, $\")\n",
    "ax.set_ylabel(\"IV\")\n",
    "ax.set_title(\"Implied Volatility\")\n",
    "plt.show()"
   ]
  },
  {
   "cell_type": "code",
   "execution_count": null,
   "metadata": {},
   "outputs": [],
   "source": [
    "Z = np.random.normal(size=1000)"
   ]
  }
 ],
 "metadata": {
  "kernelspec": {
   "display_name": "Python 3",
   "language": "python",
   "name": "python3"
  },
  "language_info": {
   "codemirror_mode": {
    "name": "ipython",
    "version": 3
   },
   "file_extension": ".py",
   "mimetype": "text/x-python",
   "name": "python",
   "nbconvert_exporter": "python",
   "pygments_lexer": "ipython3",
   "version": "3.10.9 (main, Dec 15 2022, 17:11:09) [Clang 14.0.0 (clang-1400.0.29.202)]"
  },
  "vscode": {
   "interpreter": {
    "hash": "b0fa6594d8f4cbf19f97940f81e996739fb7646882a419484c72d19e05852a7e"
   }
  }
 },
 "nbformat": 4,
 "nbformat_minor": 4
}
